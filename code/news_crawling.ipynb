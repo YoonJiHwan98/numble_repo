{
 "cells": [
  {
   "cell_type": "code",
   "execution_count": 22,
   "outputs": [],
   "source": [
    "from bs4 import BeautifulSoup as bs\n",
    "from selenium import webdriver\n",
    "from selenium.webdriver.common.keys import Keys\n",
    "import pandas as pd\n",
    "import requests\n",
    "import re\n",
    "import time\n",
    "import random\n",
    "from selenium.common.exceptions import NoSuchElementException"
   ],
   "metadata": {
    "collapsed": false,
    "pycharm": {
     "name": "#%%\n"
    }
   }
  },
  {
   "cell_type": "code",
   "execution_count": 23,
   "outputs": [
    {
     "data": {
      "text/plain": "          사업자등록번호              기업명  공기업구분  개인법인구분  본점지점구분  국외투자법인여부  벤처기업여부  \\\n0      1138111739           한일가스산업      2       1       1         0       0   \n1      2078132193             엠피아이      2       1       1         0       0   \n2      1318167565             도영운수      2       1       1         0       0   \n3      5048128251             중원산업      2       1       1         0       0   \n4      1098164260            카타나골프      2       1       1         0       0   \n...           ...              ...    ...     ...     ...       ...     ...   \n35716  4808501629          게방식당팩토리      2       1       2         0       0   \n35717  8018501578         우진푸드중부지점      2       1       2         0       0   \n35718  4118523419  윤월드푸드코리아다크써클브로스      2       1       2         0       0   \n35719  1738102533             기린테크      2       1       1         0       0   \n35720  3138135248             우리로봇      2       1       1         0       1   \n\n       상장코드  산업코드1  공공기관유형  중견기업보호여부  본점기업코드        설립일자  설립구분  국가명    직원수  \\\n0         0     47       0         0       0  1966-04-19     1    0   43.0   \n1         0     15       0         0       0  1991-08-06     1    0   35.0   \n2         0     49       0         0       0  2001-10-30     1    0  149.0   \n3         0     30       0         0       0  1999-01-12     1    0   75.0   \n4         0     46       0         0       0  2000-05-31     1    0    3.0   \n...     ...    ...     ...       ...     ...         ...   ...  ...    ...   \n35716     0     10       0         0       1  2018-01-26     1    0    0.0   \n35717     0     10       0         0       1  2020-07-27     1    0   22.0   \n35718     0     56       0         0       1  2019-09-26     1    0    0.0   \n35719     0     58       0         0       0  2021-10-25     1    0    0.0   \n35720     0     29       0         0       0  2020-06-29     1    0    0.0   \n\n       폐업여부   산업코드 대분류  \n0         0   도매 및 소매업  \n1         0        제조업  \n2         0   운수 및 창고업  \n3         0        제조업  \n4         0   도매 및 소매업  \n...     ...        ...  \n35716     1        제조업  \n35717     1        제조업  \n35718     1  숙박 및 음식점업  \n35719     1      정보통신업  \n35720     1        제조업  \n\n[35721 rows x 18 columns]",
      "text/html": "<div>\n<style scoped>\n    .dataframe tbody tr th:only-of-type {\n        vertical-align: middle;\n    }\n\n    .dataframe tbody tr th {\n        vertical-align: top;\n    }\n\n    .dataframe thead th {\n        text-align: right;\n    }\n</style>\n<table border=\"1\" class=\"dataframe\">\n  <thead>\n    <tr style=\"text-align: right;\">\n      <th></th>\n      <th>사업자등록번호</th>\n      <th>기업명</th>\n      <th>공기업구분</th>\n      <th>개인법인구분</th>\n      <th>본점지점구분</th>\n      <th>국외투자법인여부</th>\n      <th>벤처기업여부</th>\n      <th>상장코드</th>\n      <th>산업코드1</th>\n      <th>공공기관유형</th>\n      <th>중견기업보호여부</th>\n      <th>본점기업코드</th>\n      <th>설립일자</th>\n      <th>설립구분</th>\n      <th>국가명</th>\n      <th>직원수</th>\n      <th>폐업여부</th>\n      <th>산업코드 대분류</th>\n    </tr>\n  </thead>\n  <tbody>\n    <tr>\n      <th>0</th>\n      <td>1138111739</td>\n      <td>한일가스산업</td>\n      <td>2</td>\n      <td>1</td>\n      <td>1</td>\n      <td>0</td>\n      <td>0</td>\n      <td>0</td>\n      <td>47</td>\n      <td>0</td>\n      <td>0</td>\n      <td>0</td>\n      <td>1966-04-19</td>\n      <td>1</td>\n      <td>0</td>\n      <td>43.0</td>\n      <td>0</td>\n      <td>도매 및 소매업</td>\n    </tr>\n    <tr>\n      <th>1</th>\n      <td>2078132193</td>\n      <td>엠피아이</td>\n      <td>2</td>\n      <td>1</td>\n      <td>1</td>\n      <td>0</td>\n      <td>0</td>\n      <td>0</td>\n      <td>15</td>\n      <td>0</td>\n      <td>0</td>\n      <td>0</td>\n      <td>1991-08-06</td>\n      <td>1</td>\n      <td>0</td>\n      <td>35.0</td>\n      <td>0</td>\n      <td>제조업</td>\n    </tr>\n    <tr>\n      <th>2</th>\n      <td>1318167565</td>\n      <td>도영운수</td>\n      <td>2</td>\n      <td>1</td>\n      <td>1</td>\n      <td>0</td>\n      <td>0</td>\n      <td>0</td>\n      <td>49</td>\n      <td>0</td>\n      <td>0</td>\n      <td>0</td>\n      <td>2001-10-30</td>\n      <td>1</td>\n      <td>0</td>\n      <td>149.0</td>\n      <td>0</td>\n      <td>운수 및 창고업</td>\n    </tr>\n    <tr>\n      <th>3</th>\n      <td>5048128251</td>\n      <td>중원산업</td>\n      <td>2</td>\n      <td>1</td>\n      <td>1</td>\n      <td>0</td>\n      <td>0</td>\n      <td>0</td>\n      <td>30</td>\n      <td>0</td>\n      <td>0</td>\n      <td>0</td>\n      <td>1999-01-12</td>\n      <td>1</td>\n      <td>0</td>\n      <td>75.0</td>\n      <td>0</td>\n      <td>제조업</td>\n    </tr>\n    <tr>\n      <th>4</th>\n      <td>1098164260</td>\n      <td>카타나골프</td>\n      <td>2</td>\n      <td>1</td>\n      <td>1</td>\n      <td>0</td>\n      <td>0</td>\n      <td>0</td>\n      <td>46</td>\n      <td>0</td>\n      <td>0</td>\n      <td>0</td>\n      <td>2000-05-31</td>\n      <td>1</td>\n      <td>0</td>\n      <td>3.0</td>\n      <td>0</td>\n      <td>도매 및 소매업</td>\n    </tr>\n    <tr>\n      <th>...</th>\n      <td>...</td>\n      <td>...</td>\n      <td>...</td>\n      <td>...</td>\n      <td>...</td>\n      <td>...</td>\n      <td>...</td>\n      <td>...</td>\n      <td>...</td>\n      <td>...</td>\n      <td>...</td>\n      <td>...</td>\n      <td>...</td>\n      <td>...</td>\n      <td>...</td>\n      <td>...</td>\n      <td>...</td>\n      <td>...</td>\n    </tr>\n    <tr>\n      <th>35716</th>\n      <td>4808501629</td>\n      <td>게방식당팩토리</td>\n      <td>2</td>\n      <td>1</td>\n      <td>2</td>\n      <td>0</td>\n      <td>0</td>\n      <td>0</td>\n      <td>10</td>\n      <td>0</td>\n      <td>0</td>\n      <td>1</td>\n      <td>2018-01-26</td>\n      <td>1</td>\n      <td>0</td>\n      <td>0.0</td>\n      <td>1</td>\n      <td>제조업</td>\n    </tr>\n    <tr>\n      <th>35717</th>\n      <td>8018501578</td>\n      <td>우진푸드중부지점</td>\n      <td>2</td>\n      <td>1</td>\n      <td>2</td>\n      <td>0</td>\n      <td>0</td>\n      <td>0</td>\n      <td>10</td>\n      <td>0</td>\n      <td>0</td>\n      <td>1</td>\n      <td>2020-07-27</td>\n      <td>1</td>\n      <td>0</td>\n      <td>22.0</td>\n      <td>1</td>\n      <td>제조업</td>\n    </tr>\n    <tr>\n      <th>35718</th>\n      <td>4118523419</td>\n      <td>윤월드푸드코리아다크써클브로스</td>\n      <td>2</td>\n      <td>1</td>\n      <td>2</td>\n      <td>0</td>\n      <td>0</td>\n      <td>0</td>\n      <td>56</td>\n      <td>0</td>\n      <td>0</td>\n      <td>1</td>\n      <td>2019-09-26</td>\n      <td>1</td>\n      <td>0</td>\n      <td>0.0</td>\n      <td>1</td>\n      <td>숙박 및 음식점업</td>\n    </tr>\n    <tr>\n      <th>35719</th>\n      <td>1738102533</td>\n      <td>기린테크</td>\n      <td>2</td>\n      <td>1</td>\n      <td>1</td>\n      <td>0</td>\n      <td>0</td>\n      <td>0</td>\n      <td>58</td>\n      <td>0</td>\n      <td>0</td>\n      <td>0</td>\n      <td>2021-10-25</td>\n      <td>1</td>\n      <td>0</td>\n      <td>0.0</td>\n      <td>1</td>\n      <td>정보통신업</td>\n    </tr>\n    <tr>\n      <th>35720</th>\n      <td>3138135248</td>\n      <td>우리로봇</td>\n      <td>2</td>\n      <td>1</td>\n      <td>1</td>\n      <td>0</td>\n      <td>1</td>\n      <td>0</td>\n      <td>29</td>\n      <td>0</td>\n      <td>0</td>\n      <td>0</td>\n      <td>2020-06-29</td>\n      <td>1</td>\n      <td>0</td>\n      <td>0.0</td>\n      <td>1</td>\n      <td>제조업</td>\n    </tr>\n  </tbody>\n</table>\n<p>35721 rows × 18 columns</p>\n</div>"
     },
     "execution_count": 23,
     "metadata": {},
     "output_type": "execute_result"
    }
   ],
   "source": [
    "df = pd.read_csv(r'C:\\Users\\yoon9\\Documents\\GitHub\\numble_repo\\data\\company_info(전체).csv',encoding='cp949')\n",
    "df"
   ],
   "metadata": {
    "collapsed": false,
    "pycharm": {
     "name": "#%%\n"
    }
   }
  },
  {
   "cell_type": "code",
   "execution_count": 24,
   "outputs": [],
   "source": [
    "from selenium import webdriver\n",
    "from selenium.webdriver.chrome.options import Options\n",
    "import chromedriver_autoinstaller\n",
    "import subprocess\n",
    "import shutil\n",
    "\n",
    "try:\n",
    "    shutil.rmtree(r\"c:\\chrometemp\")  #쿠키 / 캐쉬파일 삭제\n",
    "except FileNotFoundError:\n",
    "    pass\n",
    "\n",
    "subprocess.Popen(r'C:\\Program Files\\Google\\Chrome\\Application\\chrome.exe --remote-debugging-port=9222 --user-data-dir=\"C:\\chrometemp\"') # 디버거 크롬 구동\n",
    "\n",
    "\n",
    "option = Options()\n",
    "option.add_experimental_option(\"debuggerAddress\", \"127.0.0.1:9222\")\n",
    "\n",
    "chrome_ver = chromedriver_autoinstaller.get_chrome_version().split('.')[0]\n",
    "try:\n",
    "    driver = webdriver.Chrome(f'./{chrome_ver}/chromedriver.exe', options=option)\n",
    "except:\n",
    "    chromedriver_autoinstaller.install(True)\n",
    "    driver = webdriver.Chrome(f'./{chrome_ver}/chromedriver.exe', options=option)\n",
    "driver.implicitly_wait(10)"
   ],
   "metadata": {
    "collapsed": false,
    "pycharm": {
     "name": "#%%\n"
    }
   }
  },
  {
   "cell_type": "code",
   "execution_count": 25,
   "outputs": [],
   "source": [
    "#driver = webdriver.Chrome(r'C:\\Users\\yoon9\\PycharmProjects\\Sejong_Project\\chromedriver.exe')\n",
    "url = 'https://www.google.com/search?q={}&sxsrf=ALiCzsYLUeUj4Npiy4aINsN_aA1TcJ0Agw:1668943469183&source=lnms&tbm=nws&sa=X&ved=2ahUKEwiGzoX10rz7AhXIa94KHftJCfgQ_AUoAXoECAIQAw&cshid=1668943497259892&biw=1920&bih=937&dpr=1'"
   ],
   "metadata": {
    "collapsed": false,
    "pycharm": {
     "name": "#%%\n"
    }
   }
  },
  {
   "cell_type": "code",
   "execution_count": 26,
   "outputs": [],
   "source": [
    "def news_crawling(keywords):\n",
    "    global news_cnt\n",
    "    try:\n",
    "        driver.get(url.format(keywords))\n",
    "        time.sleep(random.uniform(1, 2))\n",
    "        search = driver.find_element_by_xpath('//*[@id=\"slim_appbar\"]/div')\n",
    "        texts = search.text\n",
    "\n",
    "        if len(texts) > 0:\n",
    "            news_cnt = int(re.sub(r'[^0-9]','',texts)) // 1000\n",
    "        else :\n",
    "            news_cnt = 0\n",
    "    except NoSuchElementException as e:\n",
    "    \tprint('no')\n",
    "\n",
    "    return news_cnt"
   ],
   "metadata": {
    "collapsed": false,
    "pycharm": {
     "name": "#%%\n"
    }
   }
  },
  {
   "cell_type": "code",
   "execution_count": 27,
   "outputs": [],
   "source": [
    "df_1 = df[:50]\n",
    "df_2 = df[5000:10000]\n",
    "df_3 = df[10000:15000]\n",
    "df_4 = df[15000:20000]\n",
    "df_5 = df[20000:25000]\n",
    "df_6 = df[25000:30000]\n",
    "df_7 = df[30000:]\n"
   ],
   "metadata": {
    "collapsed": false,
    "pycharm": {
     "name": "#%%\n"
    }
   }
  },
  {
   "cell_type": "code",
   "execution_count": 28,
   "outputs": [
    {
     "data": {
      "text/plain": "          사업자등록번호                  기업명  공기업구분  개인법인구분  본점지점구분  국외투자법인여부  \\\n25000  6998800448               다다디에이티      2       1       1         0   \n25001  3728800368  서울개봉뉴스테이위탁관리부동산투자회사      2       1       1         0   \n25002  5708600518                   엠렉      2       1       1         0   \n25003  6538600545              씨스타마리타임      2       1       1         0   \n25004  5478100487                  홍장성      2       1       1         1   \n...           ...                  ...    ...     ...     ...       ...   \n29995  1298525857                 현대통신      2       1       2         0   \n29996  1318503929         성보공업(주)도화동공장      2       1       2         0   \n29997  1338509462               세다시화공장      2       1       2         0   \n29998  1348501459          일정실업(주)제일공장      2       1       2         0   \n29999  1348621239               회계법인두레      2       1       1         0   \n\n       벤처기업여부  상장코드  산업코드1  공공기관유형  중견기업보호여부  본점기업코드        설립일자  설립구분  국가명  \\\n25000       0     0     68       0         0       0  2016-10-17     1    0   \n25001       0     0     68       0         0       0  2016-10-20     1    0   \n25002       0     0     46       0         0       0  2016-10-20     1    0   \n25003       0     0     52       0         0       0  2016-10-21     1    0   \n25004       0     0     46       0         0       0  2016-10-19     1    1   \n...       ...   ...    ...     ...       ...     ...         ...   ...  ...   \n29995       0     0     26       0         0       1  2002-04-01     1    0   \n29996       0     0     30       0         0       1  1975-10-01     1    0   \n29997       0     0     29       0         0       1  1996-08-01     1    0   \n29998       0     0     13       0         0       1  1973-02-26     1    0   \n29999       0     0     71       0         0       0  2005-03-03    99    0   \n\n         직원수  폐업여부          산업코드 대분류  \n25000    1.0     0              부동산업  \n25001    3.0     0              부동산업  \n25002   20.0     0          도매 및 소매업  \n25003   12.0     0          운수 및 창고업  \n25004    2.0     0          도매 및 소매업  \n...      ...   ...               ...  \n29995   93.0     1               제조업  \n29996   91.0     1               제조업  \n29997    0.0     1               제조업  \n29998  124.0     1               제조업  \n29999   38.0     1  전문, 과학 및 기술 서비스업  \n\n[5000 rows x 18 columns]",
      "text/html": "<div>\n<style scoped>\n    .dataframe tbody tr th:only-of-type {\n        vertical-align: middle;\n    }\n\n    .dataframe tbody tr th {\n        vertical-align: top;\n    }\n\n    .dataframe thead th {\n        text-align: right;\n    }\n</style>\n<table border=\"1\" class=\"dataframe\">\n  <thead>\n    <tr style=\"text-align: right;\">\n      <th></th>\n      <th>사업자등록번호</th>\n      <th>기업명</th>\n      <th>공기업구분</th>\n      <th>개인법인구분</th>\n      <th>본점지점구분</th>\n      <th>국외투자법인여부</th>\n      <th>벤처기업여부</th>\n      <th>상장코드</th>\n      <th>산업코드1</th>\n      <th>공공기관유형</th>\n      <th>중견기업보호여부</th>\n      <th>본점기업코드</th>\n      <th>설립일자</th>\n      <th>설립구분</th>\n      <th>국가명</th>\n      <th>직원수</th>\n      <th>폐업여부</th>\n      <th>산업코드 대분류</th>\n    </tr>\n  </thead>\n  <tbody>\n    <tr>\n      <th>25000</th>\n      <td>6998800448</td>\n      <td>다다디에이티</td>\n      <td>2</td>\n      <td>1</td>\n      <td>1</td>\n      <td>0</td>\n      <td>0</td>\n      <td>0</td>\n      <td>68</td>\n      <td>0</td>\n      <td>0</td>\n      <td>0</td>\n      <td>2016-10-17</td>\n      <td>1</td>\n      <td>0</td>\n      <td>1.0</td>\n      <td>0</td>\n      <td>부동산업</td>\n    </tr>\n    <tr>\n      <th>25001</th>\n      <td>3728800368</td>\n      <td>서울개봉뉴스테이위탁관리부동산투자회사</td>\n      <td>2</td>\n      <td>1</td>\n      <td>1</td>\n      <td>0</td>\n      <td>0</td>\n      <td>0</td>\n      <td>68</td>\n      <td>0</td>\n      <td>0</td>\n      <td>0</td>\n      <td>2016-10-20</td>\n      <td>1</td>\n      <td>0</td>\n      <td>3.0</td>\n      <td>0</td>\n      <td>부동산업</td>\n    </tr>\n    <tr>\n      <th>25002</th>\n      <td>5708600518</td>\n      <td>엠렉</td>\n      <td>2</td>\n      <td>1</td>\n      <td>1</td>\n      <td>0</td>\n      <td>0</td>\n      <td>0</td>\n      <td>46</td>\n      <td>0</td>\n      <td>0</td>\n      <td>0</td>\n      <td>2016-10-20</td>\n      <td>1</td>\n      <td>0</td>\n      <td>20.0</td>\n      <td>0</td>\n      <td>도매 및 소매업</td>\n    </tr>\n    <tr>\n      <th>25003</th>\n      <td>6538600545</td>\n      <td>씨스타마리타임</td>\n      <td>2</td>\n      <td>1</td>\n      <td>1</td>\n      <td>0</td>\n      <td>0</td>\n      <td>0</td>\n      <td>52</td>\n      <td>0</td>\n      <td>0</td>\n      <td>0</td>\n      <td>2016-10-21</td>\n      <td>1</td>\n      <td>0</td>\n      <td>12.0</td>\n      <td>0</td>\n      <td>운수 및 창고업</td>\n    </tr>\n    <tr>\n      <th>25004</th>\n      <td>5478100487</td>\n      <td>홍장성</td>\n      <td>2</td>\n      <td>1</td>\n      <td>1</td>\n      <td>1</td>\n      <td>0</td>\n      <td>0</td>\n      <td>46</td>\n      <td>0</td>\n      <td>0</td>\n      <td>0</td>\n      <td>2016-10-19</td>\n      <td>1</td>\n      <td>1</td>\n      <td>2.0</td>\n      <td>0</td>\n      <td>도매 및 소매업</td>\n    </tr>\n    <tr>\n      <th>...</th>\n      <td>...</td>\n      <td>...</td>\n      <td>...</td>\n      <td>...</td>\n      <td>...</td>\n      <td>...</td>\n      <td>...</td>\n      <td>...</td>\n      <td>...</td>\n      <td>...</td>\n      <td>...</td>\n      <td>...</td>\n      <td>...</td>\n      <td>...</td>\n      <td>...</td>\n      <td>...</td>\n      <td>...</td>\n      <td>...</td>\n    </tr>\n    <tr>\n      <th>29995</th>\n      <td>1298525857</td>\n      <td>현대통신</td>\n      <td>2</td>\n      <td>1</td>\n      <td>2</td>\n      <td>0</td>\n      <td>0</td>\n      <td>0</td>\n      <td>26</td>\n      <td>0</td>\n      <td>0</td>\n      <td>1</td>\n      <td>2002-04-01</td>\n      <td>1</td>\n      <td>0</td>\n      <td>93.0</td>\n      <td>1</td>\n      <td>제조업</td>\n    </tr>\n    <tr>\n      <th>29996</th>\n      <td>1318503929</td>\n      <td>성보공업(주)도화동공장</td>\n      <td>2</td>\n      <td>1</td>\n      <td>2</td>\n      <td>0</td>\n      <td>0</td>\n      <td>0</td>\n      <td>30</td>\n      <td>0</td>\n      <td>0</td>\n      <td>1</td>\n      <td>1975-10-01</td>\n      <td>1</td>\n      <td>0</td>\n      <td>91.0</td>\n      <td>1</td>\n      <td>제조업</td>\n    </tr>\n    <tr>\n      <th>29997</th>\n      <td>1338509462</td>\n      <td>세다시화공장</td>\n      <td>2</td>\n      <td>1</td>\n      <td>2</td>\n      <td>0</td>\n      <td>0</td>\n      <td>0</td>\n      <td>29</td>\n      <td>0</td>\n      <td>0</td>\n      <td>1</td>\n      <td>1996-08-01</td>\n      <td>1</td>\n      <td>0</td>\n      <td>0.0</td>\n      <td>1</td>\n      <td>제조업</td>\n    </tr>\n    <tr>\n      <th>29998</th>\n      <td>1348501459</td>\n      <td>일정실업(주)제일공장</td>\n      <td>2</td>\n      <td>1</td>\n      <td>2</td>\n      <td>0</td>\n      <td>0</td>\n      <td>0</td>\n      <td>13</td>\n      <td>0</td>\n      <td>0</td>\n      <td>1</td>\n      <td>1973-02-26</td>\n      <td>1</td>\n      <td>0</td>\n      <td>124.0</td>\n      <td>1</td>\n      <td>제조업</td>\n    </tr>\n    <tr>\n      <th>29999</th>\n      <td>1348621239</td>\n      <td>회계법인두레</td>\n      <td>2</td>\n      <td>1</td>\n      <td>1</td>\n      <td>0</td>\n      <td>0</td>\n      <td>0</td>\n      <td>71</td>\n      <td>0</td>\n      <td>0</td>\n      <td>0</td>\n      <td>2005-03-03</td>\n      <td>99</td>\n      <td>0</td>\n      <td>38.0</td>\n      <td>1</td>\n      <td>전문, 과학 및 기술 서비스업</td>\n    </tr>\n  </tbody>\n</table>\n<p>5000 rows × 18 columns</p>\n</div>"
     },
     "execution_count": 28,
     "metadata": {},
     "output_type": "execute_result"
    }
   ],
   "source": [
    "df_6"
   ],
   "metadata": {
    "collapsed": false,
    "pycharm": {
     "name": "#%%\n"
    }
   }
  },
  {
   "cell_type": "code",
   "execution_count": null,
   "outputs": [
    {
     "name": "stderr",
     "output_type": "stream",
     "text": [
      "Exception ignored in: <function Service.__del__ at 0x0000018A1832FD90>\n",
      "Traceback (most recent call last):\n",
      "  File \"C:\\Users\\yoon9\\anaconda3\\envs\\numble_repo\\lib\\site-packages\\selenium\\webdriver\\common\\service.py\", line 176, in __del__\n",
      "    self.stop()\n",
      "  File \"C:\\Users\\yoon9\\anaconda3\\envs\\numble_repo\\lib\\site-packages\\selenium\\webdriver\\common\\service.py\", line 151, in stop\n",
      "    self.send_remote_shutdown_command()\n",
      "  File \"C:\\Users\\yoon9\\anaconda3\\envs\\numble_repo\\lib\\site-packages\\selenium\\webdriver\\common\\service.py\", line 127, in send_remote_shutdown_command\n",
      "    url_request.urlopen(\"%s/shutdown\" % self.service_url)\n",
      "  File \"C:\\Users\\yoon9\\anaconda3\\envs\\numble_repo\\lib\\urllib\\request.py\", line 216, in urlopen\n",
      "    return opener.open(url, data, timeout)\n",
      "  File \"C:\\Users\\yoon9\\anaconda3\\envs\\numble_repo\\lib\\urllib\\request.py\", line 519, in open\n",
      "    response = self._open(req, data)\n",
      "  File \"C:\\Users\\yoon9\\anaconda3\\envs\\numble_repo\\lib\\urllib\\request.py\", line 536, in _open\n",
      "    result = self._call_chain(self.handle_open, protocol, protocol +\n",
      "  File \"C:\\Users\\yoon9\\anaconda3\\envs\\numble_repo\\lib\\urllib\\request.py\", line 496, in _call_chain\n",
      "    result = func(*args)\n",
      "  File \"C:\\Users\\yoon9\\anaconda3\\envs\\numble_repo\\lib\\urllib\\request.py\", line 1377, in http_open\n",
      "    return self.do_open(http.client.HTTPConnection, req)\n",
      "  File \"C:\\Users\\yoon9\\anaconda3\\envs\\numble_repo\\lib\\urllib\\request.py\", line 1348, in do_open\n",
      "    h.request(req.get_method(), req.selector, req.data, headers,\n",
      "  File \"C:\\Users\\yoon9\\anaconda3\\envs\\numble_repo\\lib\\http\\client.py\", line 1282, in request\n",
      "    self._send_request(method, url, body, headers, encode_chunked)\n",
      "  File \"C:\\Users\\yoon9\\anaconda3\\envs\\numble_repo\\lib\\http\\client.py\", line 1328, in _send_request\n",
      "    self.endheaders(body, encode_chunked=encode_chunked)\n",
      "  File \"C:\\Users\\yoon9\\anaconda3\\envs\\numble_repo\\lib\\http\\client.py\", line 1277, in endheaders\n",
      "    self._send_output(message_body, encode_chunked=encode_chunked)\n",
      "  File \"C:\\Users\\yoon9\\anaconda3\\envs\\numble_repo\\lib\\http\\client.py\", line 1037, in _send_output\n",
      "    self.send(msg)\n",
      "  File \"C:\\Users\\yoon9\\anaconda3\\envs\\numble_repo\\lib\\http\\client.py\", line 975, in send\n",
      "    self.connect()\n",
      "  File \"C:\\Users\\yoon9\\anaconda3\\envs\\numble_repo\\lib\\http\\client.py\", line 941, in connect\n",
      "    self.sock = self._create_connection(\n",
      "  File \"C:\\Users\\yoon9\\anaconda3\\envs\\numble_repo\\lib\\socket.py\", line 833, in create_connection\n",
      "    sock.connect(sa)\n",
      "KeyboardInterrupt: \n"
     ]
    }
   ],
   "source": [
    "df_3['구글 검색량'] = df_3['기업명'].apply(lambda x : news_crawling(x))"
   ],
   "metadata": {
    "collapsed": false,
    "pycharm": {
     "name": "#%%\n",
     "is_executing": true
    }
   }
  },
  {
   "cell_type": "code",
   "execution_count": 19,
   "outputs": [
    {
     "data": {
      "text/plain": "       사업자등록번호           기업명  공기업구분  개인법인구분  본점지점구분  국외투자법인여부  벤처기업여부  상장코드  \\\n0   1138111739        한일가스산업      2       1       1         0       0     0   \n1   2078132193          엠피아이      2       1       1         0       0     0   \n2   1318167565          도영운수      2       1       1         0       0     0   \n3   5048128251          중원산업      2       1       1         0       0     0   \n4   1098164260         카타나골프      2       1       1         0       0     0   \n5   2148612093           센트로      2       1       1         0       0     0   \n6   2068148256  엄앤드이종합건축사사무소      2       1       1         0       0     0   \n7   1078156099         세풍폴리머      2       1       1         0       0     0   \n8   6218111642          제일산업      2       1       1         0       0     0   \n9   5148140835          한국대풍      2       1       1         1       0     0   \n10  1218138743          만복철강      2       1       1         0       0     0   \n11  1058168570  유피에스에스씨에스코리아      2       1       1         1       0     0   \n12  6018127311    제이에스엠인터내셔날      2       1       1         0       0     0   \n13  1248174864         코팅코리아      2       1       1         0       0     0   \n14  6088102330          대중교통      2       1       1         0       0     0   \n15  2108101852          대갑산업      2       1       1         0       0     0   \n16  1138131623  티센크루프머티리얼코리아      2       1       1         1       0     0   \n17  1268108962          동양이화      2       1       1         0       0     0   \n18  2188110812            아방      2       1       1         0       0     0   \n19  6098119101           아메코      2       1       1         0       0     0   \n20  1068169683         아성테크노      2       1       1         0       0     0   \n21  6168100459          세기건설      2       1       1         0       0     0   \n22  1348183899       아이.씨.씨.      2       1       1         0       0     0   \n23  6088126220        산호목재상사      2       1       1         0       0     0   \n24  3078107276         에이앤씨엠      2       1       1         0       0     0   \n25  2018132031          고려통상      2       1       1         0       0     0   \n26  1348103880           바이켐      2       1       1         0       1     0   \n27  6178134781           다은비      2       1       1         0       0     0   \n28  2148737602           엘브스      2       1       1         0       0     0   \n29  2128125054        서경산업개발      2       1       1         0       0     0   \n30  1098129813        전방텍스타일      2       1       1         1       0     0   \n31  6168110879          청룡수산      2       1       1         0       0     0   \n32  1218144395          기경산업      2       1       1         0       0     0   \n33  6208110636         스마트전자      2       1       1         0       0     0   \n34  1178102514          신길운수      2       1       1         0       0     0   \n35  6058109450            보광      2       1       1         0       0     0   \n36  4128117284        대양산업개발      2       1       1         0       0     0   \n37  1268146326         서경에너지      2       1       1         0       0     0   \n38  1308168260          태정기공      2       1       1         0       1     0   \n39  2208131391        호진산업기연      2       1       1         0       0     0   \n40  1318160276         재영아이텍      2       1       1         0       0     0   \n41  4098167906         현대로오텍      2       1       1         0       1     0   \n42  1298107322           파마킹      2       1       1         0       0     0   \n43  1248122065          윤지양행      2       1       1         0       0     0   \n44  5028163816         동우당제약      2       1       1         0       1     0   \n45  1348120822            선영      2       1       1         0       0     0   \n46  1378115269          태정산업      2       1       1         0       0     0   \n47  1108118320        동원아이엔씨      2       1       1         1       0     0   \n48  1018157125       단암엔지니어링      2       1       1         0       0     0   \n49  1198118308          마하니트      2       1       1         0       0     0   \n\n    산업코드1  공공기관유형  중견기업보호여부  본점기업코드        설립일자  설립구분  국가명    직원수  폐업여부  \\\n0      47       0         0       0  1966-04-19     1    0   43.0     0   \n1      15       0         0       0  1991-08-06     1    0   35.0     0   \n2      49       0         0       0  2001-10-30     1    0  149.0     0   \n3      30       0         0       0  1999-01-12     1    0   75.0     0   \n4      46       0         0       0  2000-05-31     1    0    3.0     0   \n5      55       0         0       0  1988-08-10     1    0    2.0     0   \n6      72       0         0       0  1994-01-20     1    0  200.0     0   \n7      46       0         0       0  1996-07-01     1    0   36.0     0   \n8      13       0         0       0  1993-10-21     1    0   17.0     0   \n9      30       0         0       0  2001-06-21     1    2   94.0     0   \n10     46       0         0       0  2000-07-28     1    0   18.0     0   \n11     52       0         0       0  1990-09-11     1    1   83.0     0   \n12     75       0         0       0  1995-08-20     1    0   24.0     0   \n13     25       0         0       0  2000-07-13     1    0   57.0     0   \n14     49       0         0       0  1980-03-11     1    0  159.0     0   \n15     68       0         0       0  1963-07-20     1    0   12.0     0   \n16     25       0         0       0  1991-10-25     1    2   34.0     0   \n17     22       0         0       0  1990-12-01     1    0   54.0     0   \n18     14       0         0       0  1991-10-24     1    0   51.0     0   \n19     29       0         0       0  1980-10-01     1    0   23.0     0   \n20     46       0         0       0  1997-10-01     1    0   51.0     0   \n21     41       0         0       0  1969-02-20     1    0   32.0     0   \n22     17       0         0       0  2002-05-09     1    0   43.0     0   \n23     16       0         0       0  1996-08-29     1    0   17.0     0   \n24     10       0         0       0  1995-04-20     1    0   34.0     0   \n25     68       0         0       0  1969-09-11     1    0   68.0     0   \n26     20       0         0       0  1986-09-01     1    0   56.0     0   \n27     68       0         0       0  2001-08-01     1    0    4.0     0   \n28     27       0         0       0  2003-07-01     1    0    4.0     0   \n29     68       0         0       0  1993-04-30     1    0    4.0     0   \n30     14       0         0       0  1971-12-24     1    2   18.0     0   \n31     10       0         0       0  1993-05-31     1    0   30.0     0   \n32     46       0         0       0  2001-04-28     1    0   18.0     0   \n33     26       0         0       0  1995-04-19     1    0  101.0     0   \n34     49       0         0       0  1970-08-11     1    0  344.0     0   \n35     20       0         0       0  1974-04-27     1    0  161.0     0   \n36     68       0         0       0  1999-08-24     1    0   10.0     0   \n37     46       0         0       0  1999-07-08     1    0   22.0     0   \n38     25       0         0       0  1997-01-01     1    0   44.0     0   \n39     27       0         0       0  1987-01-01     1    0  105.0     0   \n40     22       0         0       0  2020-02-24     1    0   22.0     0   \n41     28       0         0       0  2002-04-11     1    0   36.0     0   \n42     21       0         0       0  1988-02-01     1    0   64.0     0   \n43     20       0         0       0  1993-12-01     1    0   48.0     0   \n44     21       0         0       0  2002-03-06     1    0   41.0     0   \n45     22       0         0       0  1985-06-25     1    0  158.0     0   \n46     22       0         0       0  1996-06-20     1    0   49.0     0   \n47     55       0         1       0  1985-02-04     4    2  158.0     0   \n48     75       0         0       0  2000-06-01     1    0   12.0     0   \n49     14       0         0       0  1995-05-15     1    0   46.0     0   \n\n                    산업코드 대분류   구글 검색량  \n0                   도매 및 소매업    68400  \n1                        제조업  2970000  \n2                   운수 및 창고업      492  \n3                        제조업    85100  \n4                   도매 및 소매업      311  \n5                  숙박 및 음식점업    19100  \n6           전문, 과학 및 기술 서비스업       85  \n7                   도매 및 소매업       59  \n8                        제조업  2160000  \n9                        제조업     8040  \n10                  도매 및 소매업      299  \n11                  운수 및 창고업     9040  \n12  사업시설 관리, 사업 지원 및 임대 서비스업      885  \n13                       제조업    48500  \n14                  운수 및 창고업  2100000  \n15                      부동산업      401  \n16                       제조업    11600  \n17                       제조업     9340  \n18                       제조업     3060  \n19                       제조업     2090  \n20                  도매 및 소매업     1450  \n21                       건설업   332000  \n22                       제조업  6650000  \n23                       제조업       66  \n24                       제조업  4220000  \n25                      부동산업   150000  \n26                       제조업     5630  \n27                      부동산업   122000  \n28                       제조업     2190  \n29                      부동산업   125000  \n30                       제조업      151  \n31                       제조업     1980  \n32                  도매 및 소매업      352  \n33                       제조업  7190000  \n34                  운수 및 창고업     1470  \n35                       제조업    20300  \n36                      부동산업    61400  \n37                  도매 및 소매업   127000  \n38                       제조업      297  \n39                       제조업        9  \n40                       제조업      435  \n41                       제조업     1800  \n42                       제조업     1450  \n43                       제조업      198  \n44                       제조업      336  \n45                       제조업    48600  \n46                       제조업    12000  \n47                 숙박 및 음식점업     8820  \n48  사업시설 관리, 사업 지원 및 임대 서비스업     8820  \n49                       제조업     8820  ",
      "text/html": "<div>\n<style scoped>\n    .dataframe tbody tr th:only-of-type {\n        vertical-align: middle;\n    }\n\n    .dataframe tbody tr th {\n        vertical-align: top;\n    }\n\n    .dataframe thead th {\n        text-align: right;\n    }\n</style>\n<table border=\"1\" class=\"dataframe\">\n  <thead>\n    <tr style=\"text-align: right;\">\n      <th></th>\n      <th>사업자등록번호</th>\n      <th>기업명</th>\n      <th>공기업구분</th>\n      <th>개인법인구분</th>\n      <th>본점지점구분</th>\n      <th>국외투자법인여부</th>\n      <th>벤처기업여부</th>\n      <th>상장코드</th>\n      <th>산업코드1</th>\n      <th>공공기관유형</th>\n      <th>중견기업보호여부</th>\n      <th>본점기업코드</th>\n      <th>설립일자</th>\n      <th>설립구분</th>\n      <th>국가명</th>\n      <th>직원수</th>\n      <th>폐업여부</th>\n      <th>산업코드 대분류</th>\n      <th>구글 검색량</th>\n    </tr>\n  </thead>\n  <tbody>\n    <tr>\n      <th>0</th>\n      <td>1138111739</td>\n      <td>한일가스산업</td>\n      <td>2</td>\n      <td>1</td>\n      <td>1</td>\n      <td>0</td>\n      <td>0</td>\n      <td>0</td>\n      <td>47</td>\n      <td>0</td>\n      <td>0</td>\n      <td>0</td>\n      <td>1966-04-19</td>\n      <td>1</td>\n      <td>0</td>\n      <td>43.0</td>\n      <td>0</td>\n      <td>도매 및 소매업</td>\n      <td>68400</td>\n    </tr>\n    <tr>\n      <th>1</th>\n      <td>2078132193</td>\n      <td>엠피아이</td>\n      <td>2</td>\n      <td>1</td>\n      <td>1</td>\n      <td>0</td>\n      <td>0</td>\n      <td>0</td>\n      <td>15</td>\n      <td>0</td>\n      <td>0</td>\n      <td>0</td>\n      <td>1991-08-06</td>\n      <td>1</td>\n      <td>0</td>\n      <td>35.0</td>\n      <td>0</td>\n      <td>제조업</td>\n      <td>2970000</td>\n    </tr>\n    <tr>\n      <th>2</th>\n      <td>1318167565</td>\n      <td>도영운수</td>\n      <td>2</td>\n      <td>1</td>\n      <td>1</td>\n      <td>0</td>\n      <td>0</td>\n      <td>0</td>\n      <td>49</td>\n      <td>0</td>\n      <td>0</td>\n      <td>0</td>\n      <td>2001-10-30</td>\n      <td>1</td>\n      <td>0</td>\n      <td>149.0</td>\n      <td>0</td>\n      <td>운수 및 창고업</td>\n      <td>492</td>\n    </tr>\n    <tr>\n      <th>3</th>\n      <td>5048128251</td>\n      <td>중원산업</td>\n      <td>2</td>\n      <td>1</td>\n      <td>1</td>\n      <td>0</td>\n      <td>0</td>\n      <td>0</td>\n      <td>30</td>\n      <td>0</td>\n      <td>0</td>\n      <td>0</td>\n      <td>1999-01-12</td>\n      <td>1</td>\n      <td>0</td>\n      <td>75.0</td>\n      <td>0</td>\n      <td>제조업</td>\n      <td>85100</td>\n    </tr>\n    <tr>\n      <th>4</th>\n      <td>1098164260</td>\n      <td>카타나골프</td>\n      <td>2</td>\n      <td>1</td>\n      <td>1</td>\n      <td>0</td>\n      <td>0</td>\n      <td>0</td>\n      <td>46</td>\n      <td>0</td>\n      <td>0</td>\n      <td>0</td>\n      <td>2000-05-31</td>\n      <td>1</td>\n      <td>0</td>\n      <td>3.0</td>\n      <td>0</td>\n      <td>도매 및 소매업</td>\n      <td>311</td>\n    </tr>\n    <tr>\n      <th>5</th>\n      <td>2148612093</td>\n      <td>센트로</td>\n      <td>2</td>\n      <td>1</td>\n      <td>1</td>\n      <td>0</td>\n      <td>0</td>\n      <td>0</td>\n      <td>55</td>\n      <td>0</td>\n      <td>0</td>\n      <td>0</td>\n      <td>1988-08-10</td>\n      <td>1</td>\n      <td>0</td>\n      <td>2.0</td>\n      <td>0</td>\n      <td>숙박 및 음식점업</td>\n      <td>19100</td>\n    </tr>\n    <tr>\n      <th>6</th>\n      <td>2068148256</td>\n      <td>엄앤드이종합건축사사무소</td>\n      <td>2</td>\n      <td>1</td>\n      <td>1</td>\n      <td>0</td>\n      <td>0</td>\n      <td>0</td>\n      <td>72</td>\n      <td>0</td>\n      <td>0</td>\n      <td>0</td>\n      <td>1994-01-20</td>\n      <td>1</td>\n      <td>0</td>\n      <td>200.0</td>\n      <td>0</td>\n      <td>전문, 과학 및 기술 서비스업</td>\n      <td>85</td>\n    </tr>\n    <tr>\n      <th>7</th>\n      <td>1078156099</td>\n      <td>세풍폴리머</td>\n      <td>2</td>\n      <td>1</td>\n      <td>1</td>\n      <td>0</td>\n      <td>0</td>\n      <td>0</td>\n      <td>46</td>\n      <td>0</td>\n      <td>0</td>\n      <td>0</td>\n      <td>1996-07-01</td>\n      <td>1</td>\n      <td>0</td>\n      <td>36.0</td>\n      <td>0</td>\n      <td>도매 및 소매업</td>\n      <td>59</td>\n    </tr>\n    <tr>\n      <th>8</th>\n      <td>6218111642</td>\n      <td>제일산업</td>\n      <td>2</td>\n      <td>1</td>\n      <td>1</td>\n      <td>0</td>\n      <td>0</td>\n      <td>0</td>\n      <td>13</td>\n      <td>0</td>\n      <td>0</td>\n      <td>0</td>\n      <td>1993-10-21</td>\n      <td>1</td>\n      <td>0</td>\n      <td>17.0</td>\n      <td>0</td>\n      <td>제조업</td>\n      <td>2160000</td>\n    </tr>\n    <tr>\n      <th>9</th>\n      <td>5148140835</td>\n      <td>한국대풍</td>\n      <td>2</td>\n      <td>1</td>\n      <td>1</td>\n      <td>1</td>\n      <td>0</td>\n      <td>0</td>\n      <td>30</td>\n      <td>0</td>\n      <td>0</td>\n      <td>0</td>\n      <td>2001-06-21</td>\n      <td>1</td>\n      <td>2</td>\n      <td>94.0</td>\n      <td>0</td>\n      <td>제조업</td>\n      <td>8040</td>\n    </tr>\n    <tr>\n      <th>10</th>\n      <td>1218138743</td>\n      <td>만복철강</td>\n      <td>2</td>\n      <td>1</td>\n      <td>1</td>\n      <td>0</td>\n      <td>0</td>\n      <td>0</td>\n      <td>46</td>\n      <td>0</td>\n      <td>0</td>\n      <td>0</td>\n      <td>2000-07-28</td>\n      <td>1</td>\n      <td>0</td>\n      <td>18.0</td>\n      <td>0</td>\n      <td>도매 및 소매업</td>\n      <td>299</td>\n    </tr>\n    <tr>\n      <th>11</th>\n      <td>1058168570</td>\n      <td>유피에스에스씨에스코리아</td>\n      <td>2</td>\n      <td>1</td>\n      <td>1</td>\n      <td>1</td>\n      <td>0</td>\n      <td>0</td>\n      <td>52</td>\n      <td>0</td>\n      <td>0</td>\n      <td>0</td>\n      <td>1990-09-11</td>\n      <td>1</td>\n      <td>1</td>\n      <td>83.0</td>\n      <td>0</td>\n      <td>운수 및 창고업</td>\n      <td>9040</td>\n    </tr>\n    <tr>\n      <th>12</th>\n      <td>6018127311</td>\n      <td>제이에스엠인터내셔날</td>\n      <td>2</td>\n      <td>1</td>\n      <td>1</td>\n      <td>0</td>\n      <td>0</td>\n      <td>0</td>\n      <td>75</td>\n      <td>0</td>\n      <td>0</td>\n      <td>0</td>\n      <td>1995-08-20</td>\n      <td>1</td>\n      <td>0</td>\n      <td>24.0</td>\n      <td>0</td>\n      <td>사업시설 관리, 사업 지원 및 임대 서비스업</td>\n      <td>885</td>\n    </tr>\n    <tr>\n      <th>13</th>\n      <td>1248174864</td>\n      <td>코팅코리아</td>\n      <td>2</td>\n      <td>1</td>\n      <td>1</td>\n      <td>0</td>\n      <td>0</td>\n      <td>0</td>\n      <td>25</td>\n      <td>0</td>\n      <td>0</td>\n      <td>0</td>\n      <td>2000-07-13</td>\n      <td>1</td>\n      <td>0</td>\n      <td>57.0</td>\n      <td>0</td>\n      <td>제조업</td>\n      <td>48500</td>\n    </tr>\n    <tr>\n      <th>14</th>\n      <td>6088102330</td>\n      <td>대중교통</td>\n      <td>2</td>\n      <td>1</td>\n      <td>1</td>\n      <td>0</td>\n      <td>0</td>\n      <td>0</td>\n      <td>49</td>\n      <td>0</td>\n      <td>0</td>\n      <td>0</td>\n      <td>1980-03-11</td>\n      <td>1</td>\n      <td>0</td>\n      <td>159.0</td>\n      <td>0</td>\n      <td>운수 및 창고업</td>\n      <td>2100000</td>\n    </tr>\n    <tr>\n      <th>15</th>\n      <td>2108101852</td>\n      <td>대갑산업</td>\n      <td>2</td>\n      <td>1</td>\n      <td>1</td>\n      <td>0</td>\n      <td>0</td>\n      <td>0</td>\n      <td>68</td>\n      <td>0</td>\n      <td>0</td>\n      <td>0</td>\n      <td>1963-07-20</td>\n      <td>1</td>\n      <td>0</td>\n      <td>12.0</td>\n      <td>0</td>\n      <td>부동산업</td>\n      <td>401</td>\n    </tr>\n    <tr>\n      <th>16</th>\n      <td>1138131623</td>\n      <td>티센크루프머티리얼코리아</td>\n      <td>2</td>\n      <td>1</td>\n      <td>1</td>\n      <td>1</td>\n      <td>0</td>\n      <td>0</td>\n      <td>25</td>\n      <td>0</td>\n      <td>0</td>\n      <td>0</td>\n      <td>1991-10-25</td>\n      <td>1</td>\n      <td>2</td>\n      <td>34.0</td>\n      <td>0</td>\n      <td>제조업</td>\n      <td>11600</td>\n    </tr>\n    <tr>\n      <th>17</th>\n      <td>1268108962</td>\n      <td>동양이화</td>\n      <td>2</td>\n      <td>1</td>\n      <td>1</td>\n      <td>0</td>\n      <td>0</td>\n      <td>0</td>\n      <td>22</td>\n      <td>0</td>\n      <td>0</td>\n      <td>0</td>\n      <td>1990-12-01</td>\n      <td>1</td>\n      <td>0</td>\n      <td>54.0</td>\n      <td>0</td>\n      <td>제조업</td>\n      <td>9340</td>\n    </tr>\n    <tr>\n      <th>18</th>\n      <td>2188110812</td>\n      <td>아방</td>\n      <td>2</td>\n      <td>1</td>\n      <td>1</td>\n      <td>0</td>\n      <td>0</td>\n      <td>0</td>\n      <td>14</td>\n      <td>0</td>\n      <td>0</td>\n      <td>0</td>\n      <td>1991-10-24</td>\n      <td>1</td>\n      <td>0</td>\n      <td>51.0</td>\n      <td>0</td>\n      <td>제조업</td>\n      <td>3060</td>\n    </tr>\n    <tr>\n      <th>19</th>\n      <td>6098119101</td>\n      <td>아메코</td>\n      <td>2</td>\n      <td>1</td>\n      <td>1</td>\n      <td>0</td>\n      <td>0</td>\n      <td>0</td>\n      <td>29</td>\n      <td>0</td>\n      <td>0</td>\n      <td>0</td>\n      <td>1980-10-01</td>\n      <td>1</td>\n      <td>0</td>\n      <td>23.0</td>\n      <td>0</td>\n      <td>제조업</td>\n      <td>2090</td>\n    </tr>\n    <tr>\n      <th>20</th>\n      <td>1068169683</td>\n      <td>아성테크노</td>\n      <td>2</td>\n      <td>1</td>\n      <td>1</td>\n      <td>0</td>\n      <td>0</td>\n      <td>0</td>\n      <td>46</td>\n      <td>0</td>\n      <td>0</td>\n      <td>0</td>\n      <td>1997-10-01</td>\n      <td>1</td>\n      <td>0</td>\n      <td>51.0</td>\n      <td>0</td>\n      <td>도매 및 소매업</td>\n      <td>1450</td>\n    </tr>\n    <tr>\n      <th>21</th>\n      <td>6168100459</td>\n      <td>세기건설</td>\n      <td>2</td>\n      <td>1</td>\n      <td>1</td>\n      <td>0</td>\n      <td>0</td>\n      <td>0</td>\n      <td>41</td>\n      <td>0</td>\n      <td>0</td>\n      <td>0</td>\n      <td>1969-02-20</td>\n      <td>1</td>\n      <td>0</td>\n      <td>32.0</td>\n      <td>0</td>\n      <td>건설업</td>\n      <td>332000</td>\n    </tr>\n    <tr>\n      <th>22</th>\n      <td>1348183899</td>\n      <td>아이.씨.씨.</td>\n      <td>2</td>\n      <td>1</td>\n      <td>1</td>\n      <td>0</td>\n      <td>0</td>\n      <td>0</td>\n      <td>17</td>\n      <td>0</td>\n      <td>0</td>\n      <td>0</td>\n      <td>2002-05-09</td>\n      <td>1</td>\n      <td>0</td>\n      <td>43.0</td>\n      <td>0</td>\n      <td>제조업</td>\n      <td>6650000</td>\n    </tr>\n    <tr>\n      <th>23</th>\n      <td>6088126220</td>\n      <td>산호목재상사</td>\n      <td>2</td>\n      <td>1</td>\n      <td>1</td>\n      <td>0</td>\n      <td>0</td>\n      <td>0</td>\n      <td>16</td>\n      <td>0</td>\n      <td>0</td>\n      <td>0</td>\n      <td>1996-08-29</td>\n      <td>1</td>\n      <td>0</td>\n      <td>17.0</td>\n      <td>0</td>\n      <td>제조업</td>\n      <td>66</td>\n    </tr>\n    <tr>\n      <th>24</th>\n      <td>3078107276</td>\n      <td>에이앤씨엠</td>\n      <td>2</td>\n      <td>1</td>\n      <td>1</td>\n      <td>0</td>\n      <td>0</td>\n      <td>0</td>\n      <td>10</td>\n      <td>0</td>\n      <td>0</td>\n      <td>0</td>\n      <td>1995-04-20</td>\n      <td>1</td>\n      <td>0</td>\n      <td>34.0</td>\n      <td>0</td>\n      <td>제조업</td>\n      <td>4220000</td>\n    </tr>\n    <tr>\n      <th>25</th>\n      <td>2018132031</td>\n      <td>고려통상</td>\n      <td>2</td>\n      <td>1</td>\n      <td>1</td>\n      <td>0</td>\n      <td>0</td>\n      <td>0</td>\n      <td>68</td>\n      <td>0</td>\n      <td>0</td>\n      <td>0</td>\n      <td>1969-09-11</td>\n      <td>1</td>\n      <td>0</td>\n      <td>68.0</td>\n      <td>0</td>\n      <td>부동산업</td>\n      <td>150000</td>\n    </tr>\n    <tr>\n      <th>26</th>\n      <td>1348103880</td>\n      <td>바이켐</td>\n      <td>2</td>\n      <td>1</td>\n      <td>1</td>\n      <td>0</td>\n      <td>1</td>\n      <td>0</td>\n      <td>20</td>\n      <td>0</td>\n      <td>0</td>\n      <td>0</td>\n      <td>1986-09-01</td>\n      <td>1</td>\n      <td>0</td>\n      <td>56.0</td>\n      <td>0</td>\n      <td>제조업</td>\n      <td>5630</td>\n    </tr>\n    <tr>\n      <th>27</th>\n      <td>6178134781</td>\n      <td>다은비</td>\n      <td>2</td>\n      <td>1</td>\n      <td>1</td>\n      <td>0</td>\n      <td>0</td>\n      <td>0</td>\n      <td>68</td>\n      <td>0</td>\n      <td>0</td>\n      <td>0</td>\n      <td>2001-08-01</td>\n      <td>1</td>\n      <td>0</td>\n      <td>4.0</td>\n      <td>0</td>\n      <td>부동산업</td>\n      <td>122000</td>\n    </tr>\n    <tr>\n      <th>28</th>\n      <td>2148737602</td>\n      <td>엘브스</td>\n      <td>2</td>\n      <td>1</td>\n      <td>1</td>\n      <td>0</td>\n      <td>0</td>\n      <td>0</td>\n      <td>27</td>\n      <td>0</td>\n      <td>0</td>\n      <td>0</td>\n      <td>2003-07-01</td>\n      <td>1</td>\n      <td>0</td>\n      <td>4.0</td>\n      <td>0</td>\n      <td>제조업</td>\n      <td>2190</td>\n    </tr>\n    <tr>\n      <th>29</th>\n      <td>2128125054</td>\n      <td>서경산업개발</td>\n      <td>2</td>\n      <td>1</td>\n      <td>1</td>\n      <td>0</td>\n      <td>0</td>\n      <td>0</td>\n      <td>68</td>\n      <td>0</td>\n      <td>0</td>\n      <td>0</td>\n      <td>1993-04-30</td>\n      <td>1</td>\n      <td>0</td>\n      <td>4.0</td>\n      <td>0</td>\n      <td>부동산업</td>\n      <td>125000</td>\n    </tr>\n    <tr>\n      <th>30</th>\n      <td>1098129813</td>\n      <td>전방텍스타일</td>\n      <td>2</td>\n      <td>1</td>\n      <td>1</td>\n      <td>1</td>\n      <td>0</td>\n      <td>0</td>\n      <td>14</td>\n      <td>0</td>\n      <td>0</td>\n      <td>0</td>\n      <td>1971-12-24</td>\n      <td>1</td>\n      <td>2</td>\n      <td>18.0</td>\n      <td>0</td>\n      <td>제조업</td>\n      <td>151</td>\n    </tr>\n    <tr>\n      <th>31</th>\n      <td>6168110879</td>\n      <td>청룡수산</td>\n      <td>2</td>\n      <td>1</td>\n      <td>1</td>\n      <td>0</td>\n      <td>0</td>\n      <td>0</td>\n      <td>10</td>\n      <td>0</td>\n      <td>0</td>\n      <td>0</td>\n      <td>1993-05-31</td>\n      <td>1</td>\n      <td>0</td>\n      <td>30.0</td>\n      <td>0</td>\n      <td>제조업</td>\n      <td>1980</td>\n    </tr>\n    <tr>\n      <th>32</th>\n      <td>1218144395</td>\n      <td>기경산업</td>\n      <td>2</td>\n      <td>1</td>\n      <td>1</td>\n      <td>0</td>\n      <td>0</td>\n      <td>0</td>\n      <td>46</td>\n      <td>0</td>\n      <td>0</td>\n      <td>0</td>\n      <td>2001-04-28</td>\n      <td>1</td>\n      <td>0</td>\n      <td>18.0</td>\n      <td>0</td>\n      <td>도매 및 소매업</td>\n      <td>352</td>\n    </tr>\n    <tr>\n      <th>33</th>\n      <td>6208110636</td>\n      <td>스마트전자</td>\n      <td>2</td>\n      <td>1</td>\n      <td>1</td>\n      <td>0</td>\n      <td>0</td>\n      <td>0</td>\n      <td>26</td>\n      <td>0</td>\n      <td>0</td>\n      <td>0</td>\n      <td>1995-04-19</td>\n      <td>1</td>\n      <td>0</td>\n      <td>101.0</td>\n      <td>0</td>\n      <td>제조업</td>\n      <td>7190000</td>\n    </tr>\n    <tr>\n      <th>34</th>\n      <td>1178102514</td>\n      <td>신길운수</td>\n      <td>2</td>\n      <td>1</td>\n      <td>1</td>\n      <td>0</td>\n      <td>0</td>\n      <td>0</td>\n      <td>49</td>\n      <td>0</td>\n      <td>0</td>\n      <td>0</td>\n      <td>1970-08-11</td>\n      <td>1</td>\n      <td>0</td>\n      <td>344.0</td>\n      <td>0</td>\n      <td>운수 및 창고업</td>\n      <td>1470</td>\n    </tr>\n    <tr>\n      <th>35</th>\n      <td>6058109450</td>\n      <td>보광</td>\n      <td>2</td>\n      <td>1</td>\n      <td>1</td>\n      <td>0</td>\n      <td>0</td>\n      <td>0</td>\n      <td>20</td>\n      <td>0</td>\n      <td>0</td>\n      <td>0</td>\n      <td>1974-04-27</td>\n      <td>1</td>\n      <td>0</td>\n      <td>161.0</td>\n      <td>0</td>\n      <td>제조업</td>\n      <td>20300</td>\n    </tr>\n    <tr>\n      <th>36</th>\n      <td>4128117284</td>\n      <td>대양산업개발</td>\n      <td>2</td>\n      <td>1</td>\n      <td>1</td>\n      <td>0</td>\n      <td>0</td>\n      <td>0</td>\n      <td>68</td>\n      <td>0</td>\n      <td>0</td>\n      <td>0</td>\n      <td>1999-08-24</td>\n      <td>1</td>\n      <td>0</td>\n      <td>10.0</td>\n      <td>0</td>\n      <td>부동산업</td>\n      <td>61400</td>\n    </tr>\n    <tr>\n      <th>37</th>\n      <td>1268146326</td>\n      <td>서경에너지</td>\n      <td>2</td>\n      <td>1</td>\n      <td>1</td>\n      <td>0</td>\n      <td>0</td>\n      <td>0</td>\n      <td>46</td>\n      <td>0</td>\n      <td>0</td>\n      <td>0</td>\n      <td>1999-07-08</td>\n      <td>1</td>\n      <td>0</td>\n      <td>22.0</td>\n      <td>0</td>\n      <td>도매 및 소매업</td>\n      <td>127000</td>\n    </tr>\n    <tr>\n      <th>38</th>\n      <td>1308168260</td>\n      <td>태정기공</td>\n      <td>2</td>\n      <td>1</td>\n      <td>1</td>\n      <td>0</td>\n      <td>1</td>\n      <td>0</td>\n      <td>25</td>\n      <td>0</td>\n      <td>0</td>\n      <td>0</td>\n      <td>1997-01-01</td>\n      <td>1</td>\n      <td>0</td>\n      <td>44.0</td>\n      <td>0</td>\n      <td>제조업</td>\n      <td>297</td>\n    </tr>\n    <tr>\n      <th>39</th>\n      <td>2208131391</td>\n      <td>호진산업기연</td>\n      <td>2</td>\n      <td>1</td>\n      <td>1</td>\n      <td>0</td>\n      <td>0</td>\n      <td>0</td>\n      <td>27</td>\n      <td>0</td>\n      <td>0</td>\n      <td>0</td>\n      <td>1987-01-01</td>\n      <td>1</td>\n      <td>0</td>\n      <td>105.0</td>\n      <td>0</td>\n      <td>제조업</td>\n      <td>9</td>\n    </tr>\n    <tr>\n      <th>40</th>\n      <td>1318160276</td>\n      <td>재영아이텍</td>\n      <td>2</td>\n      <td>1</td>\n      <td>1</td>\n      <td>0</td>\n      <td>0</td>\n      <td>0</td>\n      <td>22</td>\n      <td>0</td>\n      <td>0</td>\n      <td>0</td>\n      <td>2020-02-24</td>\n      <td>1</td>\n      <td>0</td>\n      <td>22.0</td>\n      <td>0</td>\n      <td>제조업</td>\n      <td>435</td>\n    </tr>\n    <tr>\n      <th>41</th>\n      <td>4098167906</td>\n      <td>현대로오텍</td>\n      <td>2</td>\n      <td>1</td>\n      <td>1</td>\n      <td>0</td>\n      <td>1</td>\n      <td>0</td>\n      <td>28</td>\n      <td>0</td>\n      <td>0</td>\n      <td>0</td>\n      <td>2002-04-11</td>\n      <td>1</td>\n      <td>0</td>\n      <td>36.0</td>\n      <td>0</td>\n      <td>제조업</td>\n      <td>1800</td>\n    </tr>\n    <tr>\n      <th>42</th>\n      <td>1298107322</td>\n      <td>파마킹</td>\n      <td>2</td>\n      <td>1</td>\n      <td>1</td>\n      <td>0</td>\n      <td>0</td>\n      <td>0</td>\n      <td>21</td>\n      <td>0</td>\n      <td>0</td>\n      <td>0</td>\n      <td>1988-02-01</td>\n      <td>1</td>\n      <td>0</td>\n      <td>64.0</td>\n      <td>0</td>\n      <td>제조업</td>\n      <td>1450</td>\n    </tr>\n    <tr>\n      <th>43</th>\n      <td>1248122065</td>\n      <td>윤지양행</td>\n      <td>2</td>\n      <td>1</td>\n      <td>1</td>\n      <td>0</td>\n      <td>0</td>\n      <td>0</td>\n      <td>20</td>\n      <td>0</td>\n      <td>0</td>\n      <td>0</td>\n      <td>1993-12-01</td>\n      <td>1</td>\n      <td>0</td>\n      <td>48.0</td>\n      <td>0</td>\n      <td>제조업</td>\n      <td>198</td>\n    </tr>\n    <tr>\n      <th>44</th>\n      <td>5028163816</td>\n      <td>동우당제약</td>\n      <td>2</td>\n      <td>1</td>\n      <td>1</td>\n      <td>0</td>\n      <td>1</td>\n      <td>0</td>\n      <td>21</td>\n      <td>0</td>\n      <td>0</td>\n      <td>0</td>\n      <td>2002-03-06</td>\n      <td>1</td>\n      <td>0</td>\n      <td>41.0</td>\n      <td>0</td>\n      <td>제조업</td>\n      <td>336</td>\n    </tr>\n    <tr>\n      <th>45</th>\n      <td>1348120822</td>\n      <td>선영</td>\n      <td>2</td>\n      <td>1</td>\n      <td>1</td>\n      <td>0</td>\n      <td>0</td>\n      <td>0</td>\n      <td>22</td>\n      <td>0</td>\n      <td>0</td>\n      <td>0</td>\n      <td>1985-06-25</td>\n      <td>1</td>\n      <td>0</td>\n      <td>158.0</td>\n      <td>0</td>\n      <td>제조업</td>\n      <td>48600</td>\n    </tr>\n    <tr>\n      <th>46</th>\n      <td>1378115269</td>\n      <td>태정산업</td>\n      <td>2</td>\n      <td>1</td>\n      <td>1</td>\n      <td>0</td>\n      <td>0</td>\n      <td>0</td>\n      <td>22</td>\n      <td>0</td>\n      <td>0</td>\n      <td>0</td>\n      <td>1996-06-20</td>\n      <td>1</td>\n      <td>0</td>\n      <td>49.0</td>\n      <td>0</td>\n      <td>제조업</td>\n      <td>12000</td>\n    </tr>\n    <tr>\n      <th>47</th>\n      <td>1108118320</td>\n      <td>동원아이엔씨</td>\n      <td>2</td>\n      <td>1</td>\n      <td>1</td>\n      <td>1</td>\n      <td>0</td>\n      <td>0</td>\n      <td>55</td>\n      <td>0</td>\n      <td>1</td>\n      <td>0</td>\n      <td>1985-02-04</td>\n      <td>4</td>\n      <td>2</td>\n      <td>158.0</td>\n      <td>0</td>\n      <td>숙박 및 음식점업</td>\n      <td>8820</td>\n    </tr>\n    <tr>\n      <th>48</th>\n      <td>1018157125</td>\n      <td>단암엔지니어링</td>\n      <td>2</td>\n      <td>1</td>\n      <td>1</td>\n      <td>0</td>\n      <td>0</td>\n      <td>0</td>\n      <td>75</td>\n      <td>0</td>\n      <td>0</td>\n      <td>0</td>\n      <td>2000-06-01</td>\n      <td>1</td>\n      <td>0</td>\n      <td>12.0</td>\n      <td>0</td>\n      <td>사업시설 관리, 사업 지원 및 임대 서비스업</td>\n      <td>8820</td>\n    </tr>\n    <tr>\n      <th>49</th>\n      <td>1198118308</td>\n      <td>마하니트</td>\n      <td>2</td>\n      <td>1</td>\n      <td>1</td>\n      <td>0</td>\n      <td>0</td>\n      <td>0</td>\n      <td>14</td>\n      <td>0</td>\n      <td>0</td>\n      <td>0</td>\n      <td>1995-05-15</td>\n      <td>1</td>\n      <td>0</td>\n      <td>46.0</td>\n      <td>0</td>\n      <td>제조업</td>\n      <td>8820</td>\n    </tr>\n  </tbody>\n</table>\n</div>"
     },
     "execution_count": 19,
     "metadata": {},
     "output_type": "execute_result"
    }
   ],
   "source": [
    "df_1"
   ],
   "metadata": {
    "collapsed": false,
    "pycharm": {
     "name": "#%%\n"
    }
   }
  },
  {
   "cell_type": "code",
   "execution_count": null,
   "outputs": [],
   "source": [
    "#df.to_csv(r'C:\\Users\\yoon9\\Documents\\GitHub\\numble_repo\\data\\넘블 챌린지 데이터 (1)\\company_info_news.csv',index=False,encoding='cp949')"
   ],
   "metadata": {
    "collapsed": false,
    "pycharm": {
     "name": "#%%\n"
    }
   }
  },
  {
   "cell_type": "code",
   "execution_count": 16,
   "outputs": [
    {
     "data": {
      "text/plain": "        사업자등록번호        기업명  공기업구분  개인법인구분  본점지점구분  국외투자법인여부  벤처기업여부  상장코드  \\\n116  1048150626  아이디헬스케어그룹      2       1       1         1       0     0   \n\n     산업코드1  공공기관유형  중견기업보호여부  본점기업코드        설립일자  설립구분  국가명   직원수  폐업여부  \\\n116     71       0         0       0  2000-02-23     1    1  35.0     0   \n\n             산업코드 대분류  \n116  전문, 과학 및 기술 서비스업  ",
      "text/html": "<div>\n<style scoped>\n    .dataframe tbody tr th:only-of-type {\n        vertical-align: middle;\n    }\n\n    .dataframe tbody tr th {\n        vertical-align: top;\n    }\n\n    .dataframe thead th {\n        text-align: right;\n    }\n</style>\n<table border=\"1\" class=\"dataframe\">\n  <thead>\n    <tr style=\"text-align: right;\">\n      <th></th>\n      <th>사업자등록번호</th>\n      <th>기업명</th>\n      <th>공기업구분</th>\n      <th>개인법인구분</th>\n      <th>본점지점구분</th>\n      <th>국외투자법인여부</th>\n      <th>벤처기업여부</th>\n      <th>상장코드</th>\n      <th>산업코드1</th>\n      <th>공공기관유형</th>\n      <th>중견기업보호여부</th>\n      <th>본점기업코드</th>\n      <th>설립일자</th>\n      <th>설립구분</th>\n      <th>국가명</th>\n      <th>직원수</th>\n      <th>폐업여부</th>\n      <th>산업코드 대분류</th>\n    </tr>\n  </thead>\n  <tbody>\n    <tr>\n      <th>116</th>\n      <td>1048150626</td>\n      <td>아이디헬스케어그룹</td>\n      <td>2</td>\n      <td>1</td>\n      <td>1</td>\n      <td>1</td>\n      <td>0</td>\n      <td>0</td>\n      <td>71</td>\n      <td>0</td>\n      <td>0</td>\n      <td>0</td>\n      <td>2000-02-23</td>\n      <td>1</td>\n      <td>1</td>\n      <td>35.0</td>\n      <td>0</td>\n      <td>전문, 과학 및 기술 서비스업</td>\n    </tr>\n  </tbody>\n</table>\n</div>"
     },
     "execution_count": 16,
     "metadata": {},
     "output_type": "execute_result"
    }
   ],
   "source": [
    "df[df['기업명'] == '아이디헬스케어그룹']"
   ],
   "metadata": {
    "collapsed": false,
    "pycharm": {
     "name": "#%%\n"
    }
   }
  },
  {
   "cell_type": "code",
   "execution_count": null,
   "outputs": [],
   "source": [],
   "metadata": {
    "collapsed": false,
    "pycharm": {
     "name": "#%%\n"
    }
   }
  }
 ],
 "metadata": {
  "kernelspec": {
   "display_name": "Python 3",
   "language": "python",
   "name": "python3"
  },
  "language_info": {
   "codemirror_mode": {
    "name": "ipython",
    "version": 2
   },
   "file_extension": ".py",
   "mimetype": "text/x-python",
   "name": "python",
   "nbconvert_exporter": "python",
   "pygments_lexer": "ipython2",
   "version": "2.7.6"
  }
 },
 "nbformat": 4,
 "nbformat_minor": 0
}