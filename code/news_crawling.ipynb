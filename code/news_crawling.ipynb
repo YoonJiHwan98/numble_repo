{
 "cells": [
  {
   "cell_type": "code",
   "execution_count": 138,
   "outputs": [],
   "source": [
    "from bs4 import BeautifulSoup as bs\n",
    "from selenium import webdriver\n",
    "from selenium.webdriver.common.keys import Keys\n",
    "import pandas as pd\n",
    "import requests\n",
    "import re\n",
    "import time\n",
    "import random\n",
    "from selenium.common.exceptions import NoSuchElementException"
   ],
   "metadata": {
    "collapsed": false,
    "pycharm": {
     "name": "#%%\n"
    }
   }
  },
  {
   "cell_type": "code",
   "execution_count": 120,
   "outputs": [
    {
     "data": {
      "text/plain": "          사업자등록번호              기업명  공기업구분  개인법인구분  본점지점구분  국외투자법인여부  벤처기업여부  \\\n0      1138111739           한일가스산업      2       1       1         0       0   \n1      2078132193             엠피아이      2       1       1         0       0   \n2      1318167565             도영운수      2       1       1         0       0   \n3      5048128251             중원산업      2       1       1         0       0   \n4      1098164260            카타나골프      2       1       1         0       0   \n...           ...              ...    ...     ...     ...       ...     ...   \n35716  4808501629          게방식당팩토리      2       1       2         0       0   \n35717  8018501578         우진푸드중부지점      2       1       2         0       0   \n35718  4118523419  윤월드푸드코리아다크써클브로스      2       1       2         0       0   \n35719  1738102533             기린테크      2       1       1         0       0   \n35720  3138135248             우리로봇      2       1       1         0       1   \n\n       상장코드  산업코드1  공공기관유형  중견기업보호여부  본점기업코드        설립일자  설립구분  국가명    직원수  \\\n0         0     47       0         0       0  1966-04-19     1    0   43.0   \n1         0     15       0         0       0  1991-08-06     1    0   35.0   \n2         0     49       0         0       0  2001-10-30     1    0  149.0   \n3         0     30       0         0       0  1999-01-12     1    0   75.0   \n4         0     46       0         0       0  2000-05-31     1    0    3.0   \n...     ...    ...     ...       ...     ...         ...   ...  ...    ...   \n35716     0     10       0         0       1  2018-01-26     1    0    0.0   \n35717     0     10       0         0       1  2020-07-27     1    0   22.0   \n35718     0     56       0         0       1  2019-09-26     1    0    0.0   \n35719     0     58       0         0       0  2021-10-25     1    0    0.0   \n35720     0     29       0         0       0  2020-06-29     1    0    0.0   \n\n       폐업여부   산업코드 대분류  \n0         0   도매 및 소매업  \n1         0        제조업  \n2         0   운수 및 창고업  \n3         0        제조업  \n4         0   도매 및 소매업  \n...     ...        ...  \n35716     1        제조업  \n35717     1        제조업  \n35718     1  숙박 및 음식점업  \n35719     1      정보통신업  \n35720     1        제조업  \n\n[35721 rows x 18 columns]",
      "text/html": "<div>\n<style scoped>\n    .dataframe tbody tr th:only-of-type {\n        vertical-align: middle;\n    }\n\n    .dataframe tbody tr th {\n        vertical-align: top;\n    }\n\n    .dataframe thead th {\n        text-align: right;\n    }\n</style>\n<table border=\"1\" class=\"dataframe\">\n  <thead>\n    <tr style=\"text-align: right;\">\n      <th></th>\n      <th>사업자등록번호</th>\n      <th>기업명</th>\n      <th>공기업구분</th>\n      <th>개인법인구분</th>\n      <th>본점지점구분</th>\n      <th>국외투자법인여부</th>\n      <th>벤처기업여부</th>\n      <th>상장코드</th>\n      <th>산업코드1</th>\n      <th>공공기관유형</th>\n      <th>중견기업보호여부</th>\n      <th>본점기업코드</th>\n      <th>설립일자</th>\n      <th>설립구분</th>\n      <th>국가명</th>\n      <th>직원수</th>\n      <th>폐업여부</th>\n      <th>산업코드 대분류</th>\n    </tr>\n  </thead>\n  <tbody>\n    <tr>\n      <th>0</th>\n      <td>1138111739</td>\n      <td>한일가스산업</td>\n      <td>2</td>\n      <td>1</td>\n      <td>1</td>\n      <td>0</td>\n      <td>0</td>\n      <td>0</td>\n      <td>47</td>\n      <td>0</td>\n      <td>0</td>\n      <td>0</td>\n      <td>1966-04-19</td>\n      <td>1</td>\n      <td>0</td>\n      <td>43.0</td>\n      <td>0</td>\n      <td>도매 및 소매업</td>\n    </tr>\n    <tr>\n      <th>1</th>\n      <td>2078132193</td>\n      <td>엠피아이</td>\n      <td>2</td>\n      <td>1</td>\n      <td>1</td>\n      <td>0</td>\n      <td>0</td>\n      <td>0</td>\n      <td>15</td>\n      <td>0</td>\n      <td>0</td>\n      <td>0</td>\n      <td>1991-08-06</td>\n      <td>1</td>\n      <td>0</td>\n      <td>35.0</td>\n      <td>0</td>\n      <td>제조업</td>\n    </tr>\n    <tr>\n      <th>2</th>\n      <td>1318167565</td>\n      <td>도영운수</td>\n      <td>2</td>\n      <td>1</td>\n      <td>1</td>\n      <td>0</td>\n      <td>0</td>\n      <td>0</td>\n      <td>49</td>\n      <td>0</td>\n      <td>0</td>\n      <td>0</td>\n      <td>2001-10-30</td>\n      <td>1</td>\n      <td>0</td>\n      <td>149.0</td>\n      <td>0</td>\n      <td>운수 및 창고업</td>\n    </tr>\n    <tr>\n      <th>3</th>\n      <td>5048128251</td>\n      <td>중원산업</td>\n      <td>2</td>\n      <td>1</td>\n      <td>1</td>\n      <td>0</td>\n      <td>0</td>\n      <td>0</td>\n      <td>30</td>\n      <td>0</td>\n      <td>0</td>\n      <td>0</td>\n      <td>1999-01-12</td>\n      <td>1</td>\n      <td>0</td>\n      <td>75.0</td>\n      <td>0</td>\n      <td>제조업</td>\n    </tr>\n    <tr>\n      <th>4</th>\n      <td>1098164260</td>\n      <td>카타나골프</td>\n      <td>2</td>\n      <td>1</td>\n      <td>1</td>\n      <td>0</td>\n      <td>0</td>\n      <td>0</td>\n      <td>46</td>\n      <td>0</td>\n      <td>0</td>\n      <td>0</td>\n      <td>2000-05-31</td>\n      <td>1</td>\n      <td>0</td>\n      <td>3.0</td>\n      <td>0</td>\n      <td>도매 및 소매업</td>\n    </tr>\n    <tr>\n      <th>...</th>\n      <td>...</td>\n      <td>...</td>\n      <td>...</td>\n      <td>...</td>\n      <td>...</td>\n      <td>...</td>\n      <td>...</td>\n      <td>...</td>\n      <td>...</td>\n      <td>...</td>\n      <td>...</td>\n      <td>...</td>\n      <td>...</td>\n      <td>...</td>\n      <td>...</td>\n      <td>...</td>\n      <td>...</td>\n      <td>...</td>\n    </tr>\n    <tr>\n      <th>35716</th>\n      <td>4808501629</td>\n      <td>게방식당팩토리</td>\n      <td>2</td>\n      <td>1</td>\n      <td>2</td>\n      <td>0</td>\n      <td>0</td>\n      <td>0</td>\n      <td>10</td>\n      <td>0</td>\n      <td>0</td>\n      <td>1</td>\n      <td>2018-01-26</td>\n      <td>1</td>\n      <td>0</td>\n      <td>0.0</td>\n      <td>1</td>\n      <td>제조업</td>\n    </tr>\n    <tr>\n      <th>35717</th>\n      <td>8018501578</td>\n      <td>우진푸드중부지점</td>\n      <td>2</td>\n      <td>1</td>\n      <td>2</td>\n      <td>0</td>\n      <td>0</td>\n      <td>0</td>\n      <td>10</td>\n      <td>0</td>\n      <td>0</td>\n      <td>1</td>\n      <td>2020-07-27</td>\n      <td>1</td>\n      <td>0</td>\n      <td>22.0</td>\n      <td>1</td>\n      <td>제조업</td>\n    </tr>\n    <tr>\n      <th>35718</th>\n      <td>4118523419</td>\n      <td>윤월드푸드코리아다크써클브로스</td>\n      <td>2</td>\n      <td>1</td>\n      <td>2</td>\n      <td>0</td>\n      <td>0</td>\n      <td>0</td>\n      <td>56</td>\n      <td>0</td>\n      <td>0</td>\n      <td>1</td>\n      <td>2019-09-26</td>\n      <td>1</td>\n      <td>0</td>\n      <td>0.0</td>\n      <td>1</td>\n      <td>숙박 및 음식점업</td>\n    </tr>\n    <tr>\n      <th>35719</th>\n      <td>1738102533</td>\n      <td>기린테크</td>\n      <td>2</td>\n      <td>1</td>\n      <td>1</td>\n      <td>0</td>\n      <td>0</td>\n      <td>0</td>\n      <td>58</td>\n      <td>0</td>\n      <td>0</td>\n      <td>0</td>\n      <td>2021-10-25</td>\n      <td>1</td>\n      <td>0</td>\n      <td>0.0</td>\n      <td>1</td>\n      <td>정보통신업</td>\n    </tr>\n    <tr>\n      <th>35720</th>\n      <td>3138135248</td>\n      <td>우리로봇</td>\n      <td>2</td>\n      <td>1</td>\n      <td>1</td>\n      <td>0</td>\n      <td>1</td>\n      <td>0</td>\n      <td>29</td>\n      <td>0</td>\n      <td>0</td>\n      <td>0</td>\n      <td>2020-06-29</td>\n      <td>1</td>\n      <td>0</td>\n      <td>0.0</td>\n      <td>1</td>\n      <td>제조업</td>\n    </tr>\n  </tbody>\n</table>\n<p>35721 rows × 18 columns</p>\n</div>"
     },
     "execution_count": 120,
     "metadata": {},
     "output_type": "execute_result"
    }
   ],
   "source": [
    "df = pd.read_csv(r'C:\\Users\\yoon9\\Documents\\GitHub\\numble_repo\\data\\company_info(전체).csv',encoding='cp949')\n",
    "df"
   ],
   "metadata": {
    "collapsed": false,
    "pycharm": {
     "name": "#%%\n"
    }
   }
  },
  {
   "cell_type": "code",
   "execution_count": 121,
   "outputs": [],
   "source": [
    "driver = webdriver.Chrome(r'C:\\Users\\yoon9\\PycharmProjects\\Sejong_Project\\chromedriver.exe')\n",
    "url = 'https://www.google.com/search?q={}&sxsrf=ALiCzsYLUeUj4Npiy4aINsN_aA1TcJ0Agw:1668943469183&source=lnms&tbm=nws&sa=X&ved=2ahUKEwiGzoX10rz7AhXIa94KHftJCfgQ_AUoAXoECAIQAw&cshid=1668943497259892&biw=1920&bih=937&dpr=1'"
   ],
   "metadata": {
    "collapsed": false,
    "pycharm": {
     "name": "#%%\n"
    }
   }
  },
  {
   "cell_type": "code",
   "execution_count": 145,
   "outputs": [],
   "source": [
    "def news_crawling(keywords):\n",
    "    global news_cnt\n",
    "    try:\n",
    "        driver.get(url.format(keywords))\n",
    "        time.sleep(random.randrange(1, 5))\n",
    "        search = driver.find_element_by_xpath('//*[@id=\"slim_appbar\"]/div')\n",
    "        texts = search.text\n",
    "\n",
    "        if len(texts) > 0:\n",
    "            news_cnt = int(re.sub(r'[^0-9]','',texts)) // 1000\n",
    "        else :\n",
    "            news_cnt = 0\n",
    "    except NoSuchElementException as e:\n",
    "    \tprint('no')\n",
    "\n",
    "    return news_cnt"
   ],
   "metadata": {
    "collapsed": false,
    "pycharm": {
     "name": "#%%\n"
    }
   }
  },
  {
   "cell_type": "code",
   "execution_count": null,
   "outputs": [],
   "source": [
    "df['구글 검색량'] = df['기업명'].apply(lambda x : news_crawling(x))"
   ],
   "metadata": {
    "collapsed": false,
    "pycharm": {
     "name": "#%%\n",
     "is_executing": true
    }
   }
  },
  {
   "cell_type": "code",
   "execution_count": 146,
   "outputs": [
    {
     "data": {
      "text/plain": "0"
     },
     "execution_count": 146,
     "metadata": {},
     "output_type": "execute_result"
    }
   ],
   "source": [],
   "metadata": {
    "collapsed": false,
    "pycharm": {
     "name": "#%%\n"
    }
   }
  },
  {
   "cell_type": "code",
   "execution_count": null,
   "outputs": [],
   "source": [],
   "metadata": {
    "collapsed": false,
    "pycharm": {
     "name": "#%%\n"
    }
   }
  }
 ],
 "metadata": {
  "kernelspec": {
   "display_name": "Python 3",
   "language": "python",
   "name": "python3"
  },
  "language_info": {
   "codemirror_mode": {
    "name": "ipython",
    "version": 2
   },
   "file_extension": ".py",
   "mimetype": "text/x-python",
   "name": "python",
   "nbconvert_exporter": "python",
   "pygments_lexer": "ipython2",
   "version": "2.7.6"
  }
 },
 "nbformat": 4,
 "nbformat_minor": 0
}