{
 "cells": [
  {
   "cell_type": "code",
   "execution_count": null,
   "metadata": {
    "collapsed": true
   },
   "outputs": [],
   "source": []
  },
  {
   "cell_type": "code",
   "execution_count": 3,
   "outputs": [],
   "source": [
    "#step1.selenium 패키지와 time 모듈 import\n",
    "from selenium import webdriver\n",
    "from selenium.webdriver.common.keys import Keys\n",
    "import time\n",
    "\n",
    "#step2.검색할 키워드 입력\n",
    "query = input('검색할 키워드를 입력하세요: ')\n",
    "\n",
    "#step3.크롬드라이버로 원하는 url로 접속\n",
    "url = 'https://www.naver.com/'\n",
    "driver = webdriver.Chrome(r'C:\\Users\\yoon9\\PycharmProjects\\Sejong_Project\\Numble\\chromedriver.exe')\n",
    "driver.get(url)\n",
    "time.sleep(3)\n",
    "\n",
    "#step4.검색창에 키워드 입력 후 엔터\n",
    "search_box = driver.find_element_by_css_selector(\"input#query\")\n",
    "search_box.send_keys(query)\n",
    "search_box.send_keys(Keys.RETURN)\n",
    "time.sleep(2)\n",
    "\n",
    "#step5.뉴스 탭 클릭\n",
    "driver.find_element_by_xpath('//*[@id=\"lnb\"]/div[1]/div/ul/li[2]/a').click()\n",
    "time.sleep(2)"
   ],
   "metadata": {
    "collapsed": false,
    "pycharm": {
     "name": "#%%\n"
    }
   }
  },
  {
   "cell_type": "code",
   "execution_count": null,
   "outputs": [],
   "source": [],
   "metadata": {
    "collapsed": false,
    "pycharm": {
     "name": "#%%\n"
    }
   }
  }
 ],
 "metadata": {
  "kernelspec": {
   "display_name": "Python 3",
   "language": "python",
   "name": "python3"
  },
  "language_info": {
   "codemirror_mode": {
    "name": "ipython",
    "version": 2
   },
   "file_extension": ".py",
   "mimetype": "text/x-python",
   "name": "python",
   "nbconvert_exporter": "python",
   "pygments_lexer": "ipython2",
   "version": "2.7.6"
  }
 },
 "nbformat": 4,
 "nbformat_minor": 0
}