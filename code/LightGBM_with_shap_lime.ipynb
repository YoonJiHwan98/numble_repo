{
 "cells": [
  {
   "cell_type": "code",
   "execution_count": 1,
   "outputs": [],
   "source": [
    "import pandas as pd\n",
    "import numpy as np\n",
    "import seaborn as sns\n",
    "import matplotlib.pyplot as plt\n",
    "from sklearn.model_selection import RandomizedSearchCV\n",
    "import matplotlib.font_manager as fm"
   ],
   "metadata": {
    "collapsed": false,
    "pycharm": {
     "name": "#%%\n"
    }
   }
  },
  {
   "cell_type": "code",
   "execution_count": 2,
   "outputs": [],
   "source": [
    "\n",
    "plt.rc('font', family='NanumBarunGothic')\n",
    "font_location = 'C:/Windows/Fonts/MALGUNSL.TTF'  # for windows\n",
    "font_name = fm.FontProperties(fname=font_location).get_name()\n",
    "plt.rc('font', family=font_name)"
   ],
   "metadata": {
    "collapsed": false,
    "pycharm": {
     "name": "#%%\n"
    }
   }
  },
  {
   "cell_type": "code",
   "execution_count": 3,
   "outputs": [],
   "source": [
    "company_info = pd.read_csv(r'C:\\Users\\yoon9\\Documents\\GitHub\\numble_repo\\data\\company_info_with_days.csv',encoding='cp949')"
   ],
   "metadata": {
    "collapsed": false,
    "pycharm": {
     "name": "#%%\n"
    }
   }
  },
  {
   "cell_type": "code",
   "execution_count": 4,
   "outputs": [
    {
     "data": {
      "text/plain": "0                 한일가스산업\n1                   엠피아이\n2                   도영운수\n3                   중원산업\n4                  카타나골프\n              ...       \n35716            게방식당팩토리\n35717           우진푸드중부지점\n35718    윤월드푸드코리아다크써클브로스\n35719               기린테크\n35720               우리로봇\nName: 기업명, Length: 35721, dtype: object"
     },
     "execution_count": 4,
     "metadata": {},
     "output_type": "execute_result"
    }
   ],
   "source": [
    "company_info['기업명']"
   ],
   "metadata": {
    "collapsed": false,
    "pycharm": {
     "name": "#%%\n"
    }
   }
  },
  {
   "cell_type": "markdown",
   "source": [
    "# Feature Engineering"
   ],
   "metadata": {
    "collapsed": false
   }
  },
  {
   "cell_type": "code",
   "execution_count": 5,
   "outputs": [],
   "source": [
    "df = company_info.drop(columns=['사업자등록번호','기업명','업종','설립일자','주요사업내용','산업코드1','공기업구분'])"
   ],
   "metadata": {
    "collapsed": false,
    "pycharm": {
     "name": "#%%\n"
    }
   }
  },
  {
   "cell_type": "code",
   "execution_count": 6,
   "outputs": [
    {
     "data": {
      "text/plain": "Index(['개인법인구분', '본점지점구분', '국외투자법인여부', '벤처기업여부', '상장코드', '공공기관유형', '중견기업보호여부',\n       '본점기업코드', '설립구분', '국가명', '직원수', '폐업여부', '산업코드 대분류', '회사설립일'],\n      dtype='object')"
     },
     "execution_count": 6,
     "metadata": {},
     "output_type": "execute_result"
    }
   ],
   "source": [
    "df.columns"
   ],
   "metadata": {
    "collapsed": false,
    "pycharm": {
     "name": "#%%\n"
    }
   }
  },
  {
   "cell_type": "markdown",
   "source": [
    "## StandardScaler + LabelEncoder"
   ],
   "metadata": {
    "collapsed": false
   }
  },
  {
   "cell_type": "code",
   "execution_count": 10,
   "outputs": [],
   "source": [
    "from sklearn.preprocessing import StandardScaler # 스케일링 라이브러리\n",
    "from sklearn.preprocessing import LabelEncoder"
   ],
   "metadata": {
    "collapsed": false,
    "pycharm": {
     "name": "#%%\n"
    }
   }
  },
  {
   "cell_type": "code",
   "execution_count": 11,
   "outputs": [
    {
     "data": {
      "text/plain": "          사업자등록번호              기업명 업종  공기업구분  개인법인구분  본점지점구분  국외투자법인여부  \\\n0      1138111739           한일가스산업  M      2       1       1         0   \n1      2078132193             엠피아이  M      2       1       1         0   \n2      1318167565             도영운수  M      2       1       1         0   \n3      5048128251             중원산업  M      2       1       1         0   \n4      1098164260            카타나골프  M      2       1       1         0   \n...           ...              ... ..    ...     ...     ...       ...   \n35716  4808501629          게방식당팩토리  M      2       1       2         0   \n35717  8018501578         우진푸드중부지점  M      2       1       2         0   \n35718  4118523419  윤월드푸드코리아다크써클브로스  M      2       1       2         0   \n35719  1738102533             기린테크  M      2       1       1         0   \n35720  3138135248             우리로봇  M      2       1       1         0   \n\n       벤처기업여부  상장코드  산업코드1  ...  중견기업보호여부  본점기업코드                 설립일자 설립구분  \\\n0           0     0     47  ...         0       0  1966-04-19 00:00:00    1   \n1           0     0     15  ...         0       0  1991-08-06 00:00:00    1   \n2           0     0     49  ...         0       0  2001-10-30 00:00:00    1   \n3           0     0     30  ...         0       0  1999-01-12 00:00:00    1   \n4           0     0     46  ...         0       0  2000-05-31 00:00:00    1   \n...       ...   ...    ...  ...       ...     ...                  ...  ...   \n35716       0     0     10  ...         0       1  2018-01-26 00:00:00    1   \n35717       0     0     10  ...         0       1  2020-07-27 00:00:00    1   \n35718       0     0     56  ...         0       1  2019-09-26 00:00:00    1   \n35719       0     0     58  ...         0       0  2021-10-25 00:00:00    1   \n35720       1     0     29  ...         0       0  2020-06-29 00:00:00    1   \n\n                         주요사업내용 국가명    직원수  폐업여부   산업코드 대분류  회사설립일  \n0               LP Gas 충전 및 판매업   0   43.0     0   도매 및 소매업  20650  \n1               가죽 및 대용가죽제품 제조업   0   35.0     0        제조업  11410  \n2                         시내버스업   0  149.0     0   운수 및 창고업   7672  \n3                     자동차 부품 제조   0   75.0     0        제조업   8694  \n4             골프용품 전반의 제조 및 수출업   0    3.0     0   도매 및 소매업   8189  \n...                         ...  ..    ...   ...        ...    ...  \n35716                  간장게장(장류)   0    0.0     1        제조업   1740  \n35717            돈가스, 탕수육, 꿔바로우   0   22.0     1        제조업    827  \n35718                    한식, 중식   0    0.0     1  숙박 및 음식점업   1132  \n35719  1.인공지능(AI) 솔루션 구축 및 관련사업   0    0.0     1      정보통신업    372  \n35720                       NaN   0    0.0     1        제조업    855  \n\n[35721 rows x 21 columns]",
      "text/html": "<div>\n<style scoped>\n    .dataframe tbody tr th:only-of-type {\n        vertical-align: middle;\n    }\n\n    .dataframe tbody tr th {\n        vertical-align: top;\n    }\n\n    .dataframe thead th {\n        text-align: right;\n    }\n</style>\n<table border=\"1\" class=\"dataframe\">\n  <thead>\n    <tr style=\"text-align: right;\">\n      <th></th>\n      <th>사업자등록번호</th>\n      <th>기업명</th>\n      <th>업종</th>\n      <th>공기업구분</th>\n      <th>개인법인구분</th>\n      <th>본점지점구분</th>\n      <th>국외투자법인여부</th>\n      <th>벤처기업여부</th>\n      <th>상장코드</th>\n      <th>산업코드1</th>\n      <th>...</th>\n      <th>중견기업보호여부</th>\n      <th>본점기업코드</th>\n      <th>설립일자</th>\n      <th>설립구분</th>\n      <th>주요사업내용</th>\n      <th>국가명</th>\n      <th>직원수</th>\n      <th>폐업여부</th>\n      <th>산업코드 대분류</th>\n      <th>회사설립일</th>\n    </tr>\n  </thead>\n  <tbody>\n    <tr>\n      <th>0</th>\n      <td>1138111739</td>\n      <td>한일가스산업</td>\n      <td>M</td>\n      <td>2</td>\n      <td>1</td>\n      <td>1</td>\n      <td>0</td>\n      <td>0</td>\n      <td>0</td>\n      <td>47</td>\n      <td>...</td>\n      <td>0</td>\n      <td>0</td>\n      <td>1966-04-19 00:00:00</td>\n      <td>1</td>\n      <td>LP Gas 충전 및 판매업</td>\n      <td>0</td>\n      <td>43.0</td>\n      <td>0</td>\n      <td>도매 및 소매업</td>\n      <td>20650</td>\n    </tr>\n    <tr>\n      <th>1</th>\n      <td>2078132193</td>\n      <td>엠피아이</td>\n      <td>M</td>\n      <td>2</td>\n      <td>1</td>\n      <td>1</td>\n      <td>0</td>\n      <td>0</td>\n      <td>0</td>\n      <td>15</td>\n      <td>...</td>\n      <td>0</td>\n      <td>0</td>\n      <td>1991-08-06 00:00:00</td>\n      <td>1</td>\n      <td>가죽 및 대용가죽제품 제조업</td>\n      <td>0</td>\n      <td>35.0</td>\n      <td>0</td>\n      <td>제조업</td>\n      <td>11410</td>\n    </tr>\n    <tr>\n      <th>2</th>\n      <td>1318167565</td>\n      <td>도영운수</td>\n      <td>M</td>\n      <td>2</td>\n      <td>1</td>\n      <td>1</td>\n      <td>0</td>\n      <td>0</td>\n      <td>0</td>\n      <td>49</td>\n      <td>...</td>\n      <td>0</td>\n      <td>0</td>\n      <td>2001-10-30 00:00:00</td>\n      <td>1</td>\n      <td>시내버스업</td>\n      <td>0</td>\n      <td>149.0</td>\n      <td>0</td>\n      <td>운수 및 창고업</td>\n      <td>7672</td>\n    </tr>\n    <tr>\n      <th>3</th>\n      <td>5048128251</td>\n      <td>중원산업</td>\n      <td>M</td>\n      <td>2</td>\n      <td>1</td>\n      <td>1</td>\n      <td>0</td>\n      <td>0</td>\n      <td>0</td>\n      <td>30</td>\n      <td>...</td>\n      <td>0</td>\n      <td>0</td>\n      <td>1999-01-12 00:00:00</td>\n      <td>1</td>\n      <td>자동차 부품 제조</td>\n      <td>0</td>\n      <td>75.0</td>\n      <td>0</td>\n      <td>제조업</td>\n      <td>8694</td>\n    </tr>\n    <tr>\n      <th>4</th>\n      <td>1098164260</td>\n      <td>카타나골프</td>\n      <td>M</td>\n      <td>2</td>\n      <td>1</td>\n      <td>1</td>\n      <td>0</td>\n      <td>0</td>\n      <td>0</td>\n      <td>46</td>\n      <td>...</td>\n      <td>0</td>\n      <td>0</td>\n      <td>2000-05-31 00:00:00</td>\n      <td>1</td>\n      <td>골프용품 전반의 제조 및 수출업</td>\n      <td>0</td>\n      <td>3.0</td>\n      <td>0</td>\n      <td>도매 및 소매업</td>\n      <td>8189</td>\n    </tr>\n    <tr>\n      <th>...</th>\n      <td>...</td>\n      <td>...</td>\n      <td>...</td>\n      <td>...</td>\n      <td>...</td>\n      <td>...</td>\n      <td>...</td>\n      <td>...</td>\n      <td>...</td>\n      <td>...</td>\n      <td>...</td>\n      <td>...</td>\n      <td>...</td>\n      <td>...</td>\n      <td>...</td>\n      <td>...</td>\n      <td>...</td>\n      <td>...</td>\n      <td>...</td>\n      <td>...</td>\n      <td>...</td>\n    </tr>\n    <tr>\n      <th>35716</th>\n      <td>4808501629</td>\n      <td>게방식당팩토리</td>\n      <td>M</td>\n      <td>2</td>\n      <td>1</td>\n      <td>2</td>\n      <td>0</td>\n      <td>0</td>\n      <td>0</td>\n      <td>10</td>\n      <td>...</td>\n      <td>0</td>\n      <td>1</td>\n      <td>2018-01-26 00:00:00</td>\n      <td>1</td>\n      <td>간장게장(장류)</td>\n      <td>0</td>\n      <td>0.0</td>\n      <td>1</td>\n      <td>제조업</td>\n      <td>1740</td>\n    </tr>\n    <tr>\n      <th>35717</th>\n      <td>8018501578</td>\n      <td>우진푸드중부지점</td>\n      <td>M</td>\n      <td>2</td>\n      <td>1</td>\n      <td>2</td>\n      <td>0</td>\n      <td>0</td>\n      <td>0</td>\n      <td>10</td>\n      <td>...</td>\n      <td>0</td>\n      <td>1</td>\n      <td>2020-07-27 00:00:00</td>\n      <td>1</td>\n      <td>돈가스, 탕수육, 꿔바로우</td>\n      <td>0</td>\n      <td>22.0</td>\n      <td>1</td>\n      <td>제조업</td>\n      <td>827</td>\n    </tr>\n    <tr>\n      <th>35718</th>\n      <td>4118523419</td>\n      <td>윤월드푸드코리아다크써클브로스</td>\n      <td>M</td>\n      <td>2</td>\n      <td>1</td>\n      <td>2</td>\n      <td>0</td>\n      <td>0</td>\n      <td>0</td>\n      <td>56</td>\n      <td>...</td>\n      <td>0</td>\n      <td>1</td>\n      <td>2019-09-26 00:00:00</td>\n      <td>1</td>\n      <td>한식, 중식</td>\n      <td>0</td>\n      <td>0.0</td>\n      <td>1</td>\n      <td>숙박 및 음식점업</td>\n      <td>1132</td>\n    </tr>\n    <tr>\n      <th>35719</th>\n      <td>1738102533</td>\n      <td>기린테크</td>\n      <td>M</td>\n      <td>2</td>\n      <td>1</td>\n      <td>1</td>\n      <td>0</td>\n      <td>0</td>\n      <td>0</td>\n      <td>58</td>\n      <td>...</td>\n      <td>0</td>\n      <td>0</td>\n      <td>2021-10-25 00:00:00</td>\n      <td>1</td>\n      <td>1.인공지능(AI) 솔루션 구축 및 관련사업</td>\n      <td>0</td>\n      <td>0.0</td>\n      <td>1</td>\n      <td>정보통신업</td>\n      <td>372</td>\n    </tr>\n    <tr>\n      <th>35720</th>\n      <td>3138135248</td>\n      <td>우리로봇</td>\n      <td>M</td>\n      <td>2</td>\n      <td>1</td>\n      <td>1</td>\n      <td>0</td>\n      <td>1</td>\n      <td>0</td>\n      <td>29</td>\n      <td>...</td>\n      <td>0</td>\n      <td>0</td>\n      <td>2020-06-29 00:00:00</td>\n      <td>1</td>\n      <td>NaN</td>\n      <td>0</td>\n      <td>0.0</td>\n      <td>1</td>\n      <td>제조업</td>\n      <td>855</td>\n    </tr>\n  </tbody>\n</table>\n<p>35721 rows × 21 columns</p>\n</div>"
     },
     "execution_count": 11,
     "metadata": {},
     "output_type": "execute_result"
    }
   ],
   "source": [
    "company_info"
   ],
   "metadata": {
    "collapsed": false,
    "pycharm": {
     "name": "#%%\n"
    }
   }
  },
  {
   "cell_type": "code",
   "execution_count": 18,
   "outputs": [],
   "source": [
    "num_attribss = df[['직원수','회사설립일']]\n",
    "y = company_info[['폐업여부']]\n",
    "\n",
    "cat_all = df[['산업코드 대분류','상장코드','벤처기업여부','공공기관유형', '중견기업보호여부','국가명','국외투자법인여부','본점지점구분','본점기업코드','설립구분']]\n",
    "# 변수별 타입 나누기"
   ],
   "metadata": {
    "collapsed": false,
    "pycharm": {
     "name": "#%%\n"
    }
   }
  },
  {
   "cell_type": "code",
   "execution_count": 13,
   "outputs": [
    {
     "data": {
      "text/plain": "산업코드 대분류    object\n상장코드         int64\n벤처기업여부       int64\n공공기관유형       int64\n중견기업보호여부     int64\n국가명          int64\n국외투자법인여부     int64\n본점지점구분       int64\n본점기업코드       int64\n설립구분         int64\ndtype: object"
     },
     "execution_count": 13,
     "metadata": {},
     "output_type": "execute_result"
    }
   ],
   "source": [
    "cat_all.dtypes"
   ],
   "metadata": {
    "collapsed": false,
    "pycharm": {
     "name": "#%%\n"
    }
   }
  },
  {
   "cell_type": "markdown",
   "source": [
    "## 스케일링"
   ],
   "metadata": {
    "collapsed": false
   }
  },
  {
   "cell_type": "markdown",
   "source": [
    "### StandardScaler"
   ],
   "metadata": {
    "collapsed": false
   }
  },
  {
   "cell_type": "code",
   "execution_count": 14,
   "outputs": [
    {
     "data": {
      "text/plain": "            직원수     회사설립일\n0     -0.071824  3.515949\n1     -0.123865  1.242839\n2      0.617721  0.323263\n3      0.136341  0.574683\n4     -0.332029  0.450449\n...         ...       ...\n35716 -0.351545 -1.136054\n35717 -0.208432 -1.360659\n35718 -0.351545 -1.285626\n35719 -0.351545 -1.472592\n35720 -0.351545 -1.353770\n\n[35721 rows x 2 columns]",
      "text/html": "<div>\n<style scoped>\n    .dataframe tbody tr th:only-of-type {\n        vertical-align: middle;\n    }\n\n    .dataframe tbody tr th {\n        vertical-align: top;\n    }\n\n    .dataframe thead th {\n        text-align: right;\n    }\n</style>\n<table border=\"1\" class=\"dataframe\">\n  <thead>\n    <tr style=\"text-align: right;\">\n      <th></th>\n      <th>직원수</th>\n      <th>회사설립일</th>\n    </tr>\n  </thead>\n  <tbody>\n    <tr>\n      <th>0</th>\n      <td>-0.071824</td>\n      <td>3.515949</td>\n    </tr>\n    <tr>\n      <th>1</th>\n      <td>-0.123865</td>\n      <td>1.242839</td>\n    </tr>\n    <tr>\n      <th>2</th>\n      <td>0.617721</td>\n      <td>0.323263</td>\n    </tr>\n    <tr>\n      <th>3</th>\n      <td>0.136341</td>\n      <td>0.574683</td>\n    </tr>\n    <tr>\n      <th>4</th>\n      <td>-0.332029</td>\n      <td>0.450449</td>\n    </tr>\n    <tr>\n      <th>...</th>\n      <td>...</td>\n      <td>...</td>\n    </tr>\n    <tr>\n      <th>35716</th>\n      <td>-0.351545</td>\n      <td>-1.136054</td>\n    </tr>\n    <tr>\n      <th>35717</th>\n      <td>-0.208432</td>\n      <td>-1.360659</td>\n    </tr>\n    <tr>\n      <th>35718</th>\n      <td>-0.351545</td>\n      <td>-1.285626</td>\n    </tr>\n    <tr>\n      <th>35719</th>\n      <td>-0.351545</td>\n      <td>-1.472592</td>\n    </tr>\n    <tr>\n      <th>35720</th>\n      <td>-0.351545</td>\n      <td>-1.353770</td>\n    </tr>\n  </tbody>\n</table>\n<p>35721 rows × 2 columns</p>\n</div>"
     },
     "execution_count": 14,
     "metadata": {},
     "output_type": "execute_result"
    }
   ],
   "source": [
    "# 수치형 변수 스케일링\n",
    "sta_scaler = StandardScaler()\n",
    "sta_X_scale = sta_scaler.fit_transform(num_attribss)\n",
    "sta_X_scale = pd.DataFrame(sta_X_scale, columns=num_attribss.columns)\n",
    "sta_X_scale  # 스케일링 데이터 프레임화"
   ],
   "metadata": {
    "collapsed": false,
    "pycharm": {
     "name": "#%%\n"
    }
   }
  },
  {
   "cell_type": "markdown",
   "source": [
    "## Label Encoding"
   ],
   "metadata": {
    "collapsed": false
   }
  },
  {
   "cell_type": "code",
   "execution_count": 19,
   "outputs": [],
   "source": [
    "X_label = cat_all.copy()"
   ],
   "metadata": {
    "collapsed": false,
    "pycharm": {
     "name": "#%%\n"
    }
   }
  },
  {
   "cell_type": "code",
   "execution_count": 20,
   "outputs": [],
   "source": [
    "lab_encoder = LabelEncoder()  #순서가 있는 카테고리형"
   ],
   "metadata": {
    "collapsed": false,
    "pycharm": {
     "name": "#%%\n"
    }
   }
  },
  {
   "cell_type": "code",
   "execution_count": 22,
   "outputs": [],
   "source": [
    "for name in cat_all.columns:\n",
    "    X_label[name] = lab_encoder.fit_transform(cat_all[name])"
   ],
   "metadata": {
    "collapsed": false,
    "pycharm": {
     "name": "#%%\n"
    }
   }
  },
  {
   "cell_type": "code",
   "execution_count": 25,
   "outputs": [
    {
     "data": {
      "text/plain": "산업코드 대분류    int32\n상장코드        int64\n벤처기업여부      int64\n공공기관유형      int64\n중견기업보호여부    int64\n국가명         int64\n국외투자법인여부    int64\n본점지점구분      int64\n본점기업코드      int64\n설립구분        int64\ndtype: object"
     },
     "execution_count": 25,
     "metadata": {},
     "output_type": "execute_result"
    }
   ],
   "source": [
    "X_label.dtypes"
   ],
   "metadata": {
    "collapsed": false,
    "pycharm": {
     "name": "#%%\n"
    }
   }
  },
  {
   "cell_type": "code",
   "execution_count": 26,
   "outputs": [
    {
     "data": {
      "text/plain": "            직원수     회사설립일  산업코드 대분류  상장코드  벤처기업여부  공공기관유형  중견기업보호여부  국가명  \\\n0     -0.071824  3.515949         6     0       0       0         0    0   \n1     -0.123865  1.242839        17     0       0       0         0    0   \n2      0.617721  0.323263        13     0       0       0         0    0   \n3      0.136341  0.574683        17     0       0       0         0    0   \n4     -0.332029  0.450449         6     0       0       0         0    0   \n...         ...       ...       ...   ...     ...     ...       ...  ...   \n35716 -0.351545 -1.136054        17     0       0       0         0    0   \n35717 -0.208432 -1.360659        17     0       0       0         0    0   \n35718 -0.351545 -1.285626        11     0       0       0         0    0   \n35719 -0.351545 -1.472592        16     0       0       0         0    0   \n35720 -0.351545 -1.353770        17     0       1       0         0    0   \n\n       국외투자법인여부  본점지점구분  본점기업코드  설립구분  \n0             0       0       0     0  \n1             0       0       0     0  \n2             0       0       0     0  \n3             0       0       0     0  \n4             0       0       0     0  \n...         ...     ...     ...   ...  \n35716         0       1       1     0  \n35717         0       1       1     0  \n35718         0       1       1     0  \n35719         0       0       0     0  \n35720         0       0       0     0  \n\n[35721 rows x 12 columns]",
      "text/html": "<div>\n<style scoped>\n    .dataframe tbody tr th:only-of-type {\n        vertical-align: middle;\n    }\n\n    .dataframe tbody tr th {\n        vertical-align: top;\n    }\n\n    .dataframe thead th {\n        text-align: right;\n    }\n</style>\n<table border=\"1\" class=\"dataframe\">\n  <thead>\n    <tr style=\"text-align: right;\">\n      <th></th>\n      <th>직원수</th>\n      <th>회사설립일</th>\n      <th>산업코드 대분류</th>\n      <th>상장코드</th>\n      <th>벤처기업여부</th>\n      <th>공공기관유형</th>\n      <th>중견기업보호여부</th>\n      <th>국가명</th>\n      <th>국외투자법인여부</th>\n      <th>본점지점구분</th>\n      <th>본점기업코드</th>\n      <th>설립구분</th>\n    </tr>\n  </thead>\n  <tbody>\n    <tr>\n      <th>0</th>\n      <td>-0.071824</td>\n      <td>3.515949</td>\n      <td>6</td>\n      <td>0</td>\n      <td>0</td>\n      <td>0</td>\n      <td>0</td>\n      <td>0</td>\n      <td>0</td>\n      <td>0</td>\n      <td>0</td>\n      <td>0</td>\n    </tr>\n    <tr>\n      <th>1</th>\n      <td>-0.123865</td>\n      <td>1.242839</td>\n      <td>17</td>\n      <td>0</td>\n      <td>0</td>\n      <td>0</td>\n      <td>0</td>\n      <td>0</td>\n      <td>0</td>\n      <td>0</td>\n      <td>0</td>\n      <td>0</td>\n    </tr>\n    <tr>\n      <th>2</th>\n      <td>0.617721</td>\n      <td>0.323263</td>\n      <td>13</td>\n      <td>0</td>\n      <td>0</td>\n      <td>0</td>\n      <td>0</td>\n      <td>0</td>\n      <td>0</td>\n      <td>0</td>\n      <td>0</td>\n      <td>0</td>\n    </tr>\n    <tr>\n      <th>3</th>\n      <td>0.136341</td>\n      <td>0.574683</td>\n      <td>17</td>\n      <td>0</td>\n      <td>0</td>\n      <td>0</td>\n      <td>0</td>\n      <td>0</td>\n      <td>0</td>\n      <td>0</td>\n      <td>0</td>\n      <td>0</td>\n    </tr>\n    <tr>\n      <th>4</th>\n      <td>-0.332029</td>\n      <td>0.450449</td>\n      <td>6</td>\n      <td>0</td>\n      <td>0</td>\n      <td>0</td>\n      <td>0</td>\n      <td>0</td>\n      <td>0</td>\n      <td>0</td>\n      <td>0</td>\n      <td>0</td>\n    </tr>\n    <tr>\n      <th>...</th>\n      <td>...</td>\n      <td>...</td>\n      <td>...</td>\n      <td>...</td>\n      <td>...</td>\n      <td>...</td>\n      <td>...</td>\n      <td>...</td>\n      <td>...</td>\n      <td>...</td>\n      <td>...</td>\n      <td>...</td>\n    </tr>\n    <tr>\n      <th>35716</th>\n      <td>-0.351545</td>\n      <td>-1.136054</td>\n      <td>17</td>\n      <td>0</td>\n      <td>0</td>\n      <td>0</td>\n      <td>0</td>\n      <td>0</td>\n      <td>0</td>\n      <td>1</td>\n      <td>1</td>\n      <td>0</td>\n    </tr>\n    <tr>\n      <th>35717</th>\n      <td>-0.208432</td>\n      <td>-1.360659</td>\n      <td>17</td>\n      <td>0</td>\n      <td>0</td>\n      <td>0</td>\n      <td>0</td>\n      <td>0</td>\n      <td>0</td>\n      <td>1</td>\n      <td>1</td>\n      <td>0</td>\n    </tr>\n    <tr>\n      <th>35718</th>\n      <td>-0.351545</td>\n      <td>-1.285626</td>\n      <td>11</td>\n      <td>0</td>\n      <td>0</td>\n      <td>0</td>\n      <td>0</td>\n      <td>0</td>\n      <td>0</td>\n      <td>1</td>\n      <td>1</td>\n      <td>0</td>\n    </tr>\n    <tr>\n      <th>35719</th>\n      <td>-0.351545</td>\n      <td>-1.472592</td>\n      <td>16</td>\n      <td>0</td>\n      <td>0</td>\n      <td>0</td>\n      <td>0</td>\n      <td>0</td>\n      <td>0</td>\n      <td>0</td>\n      <td>0</td>\n      <td>0</td>\n    </tr>\n    <tr>\n      <th>35720</th>\n      <td>-0.351545</td>\n      <td>-1.353770</td>\n      <td>17</td>\n      <td>0</td>\n      <td>1</td>\n      <td>0</td>\n      <td>0</td>\n      <td>0</td>\n      <td>0</td>\n      <td>0</td>\n      <td>0</td>\n      <td>0</td>\n    </tr>\n  </tbody>\n</table>\n<p>35721 rows × 12 columns</p>\n</div>"
     },
     "execution_count": 26,
     "metadata": {},
     "output_type": "execute_result"
    }
   ],
   "source": [
    "df_preprdcessed = pd.concat([sta_X_scale, X_label], axis = 1)\n",
    "df_preprdcessed\n",
    "# Standard Scaler + label encoder"
   ],
   "metadata": {
    "collapsed": false,
    "pycharm": {
     "name": "#%%\n"
    }
   }
  },
  {
   "cell_type": "markdown",
   "source": [
    "# LightGBM"
   ],
   "metadata": {
    "collapsed": false
   }
  },
  {
   "cell_type": "code",
   "execution_count": 28,
   "outputs": [],
   "source": [
    "import lightgbm as lgb\n",
    "from sklearn.model_selection import train_test_split"
   ],
   "metadata": {
    "collapsed": false,
    "pycharm": {
     "name": "#%%\n"
    }
   }
  },
  {
   "cell_type": "code",
   "execution_count": 30,
   "outputs": [
    {
     "data": {
      "text/plain": "((28576, 12), (7145, 12), (28576, 1), (7145, 1))"
     },
     "execution_count": 30,
     "metadata": {},
     "output_type": "execute_result"
    }
   ],
   "source": [
    "X_train, X_val, y_train, y_val = train_test_split(df_preprdcessed, y, test_size=0.2, shuffle=True, stratify=y, random_state=42)\n",
    "X_train.shape, X_val.shape, y_train.shape, y_val.shape"
   ],
   "metadata": {
    "collapsed": false,
    "pycharm": {
     "name": "#%%\n"
    }
   }
  },
  {
   "cell_type": "code",
   "execution_count": 31,
   "outputs": [],
   "source": [
    "train_data = lgb.Dataset(X_train, label=y_train)\n",
    "test_data = lgb.Dataset(X_val, label=y_val)"
   ],
   "metadata": {
    "collapsed": false,
    "pycharm": {
     "name": "#%%\n"
    }
   }
  },
  {
   "cell_type": "code",
   "execution_count": 32,
   "outputs": [
    {
     "data": {
      "text/plain": "<lightgbm.basic.Dataset at 0x1b70730ad40>"
     },
     "execution_count": 32,
     "metadata": {},
     "output_type": "execute_result"
    }
   ],
   "source": [
    "train_data"
   ],
   "metadata": {
    "collapsed": false,
    "pycharm": {
     "name": "#%%\n"
    }
   }
  },
  {
   "cell_type": "code",
   "execution_count": 34,
   "outputs": [],
   "source": [
    "param = {'num_leaves': 31, 'objective': 'binary'}\n",
    "\n",
    "param['metric'] = ['auc', 'binary_logloss']"
   ],
   "metadata": {
    "collapsed": false,
    "pycharm": {
     "name": "#%%\n"
    }
   }
  },
  {
   "cell_type": "code",
   "execution_count": 35,
   "outputs": [
    {
     "name": "stdout",
     "output_type": "stream",
     "text": [
      "[LightGBM] [Warning] Found whitespace in feature_names, replace with underlines\n",
      "[LightGBM] [Info] Number of positive: 5391, number of negative: 23185\n",
      "[LightGBM] [Warning] Auto-choosing row-wise multi-threading, the overhead of testing was 0.000959 seconds.\n",
      "You can set `force_row_wise=true` to remove the overhead.\n",
      "And if memory is not enough, you can set `force_col_wise=true`.\n",
      "[LightGBM] [Info] Total Bins 554\n",
      "[LightGBM] [Info] Number of data points in the train set: 28576, number of used features: 12\n",
      "[LightGBM] [Warning] Found whitespace in feature_names, replace with underlines\n",
      "[LightGBM] [Info] [binary:BoostFromScore]: pavg=0.188655 -> initscore=-1.458775\n",
      "[LightGBM] [Info] Start training from score -1.458775\n",
      "[1]\tvalid_0's auc: 0.813031\tvalid_0's binary_logloss: 0.45868\n",
      "[2]\tvalid_0's auc: 0.825885\tvalid_0's binary_logloss: 0.440044\n",
      "[3]\tvalid_0's auc: 0.830367\tvalid_0's binary_logloss: 0.425652\n",
      "[4]\tvalid_0's auc: 0.832578\tvalid_0's binary_logloss: 0.413986\n",
      "[5]\tvalid_0's auc: 0.833388\tvalid_0's binary_logloss: 0.404387\n",
      "[6]\tvalid_0's auc: 0.835736\tvalid_0's binary_logloss: 0.396646\n",
      "[7]\tvalid_0's auc: 0.83674\tvalid_0's binary_logloss: 0.39023\n",
      "[8]\tvalid_0's auc: 0.838172\tvalid_0's binary_logloss: 0.384573\n",
      "[9]\tvalid_0's auc: 0.839666\tvalid_0's binary_logloss: 0.379509\n",
      "[10]\tvalid_0's auc: 0.840413\tvalid_0's binary_logloss: 0.375501\n"
     ]
    }
   ],
   "source": [
    "num_round = 10\n",
    "\n",
    "bst = lgb.train(param, train_data, num_round, valid_sets=[test_data])"
   ],
   "metadata": {
    "collapsed": false,
    "pycharm": {
     "name": "#%%\n"
    }
   }
  },
  {
   "cell_type": "code",
   "execution_count": 36,
   "outputs": [
    {
     "name": "stdout",
     "output_type": "stream",
     "text": [
      "[LightGBM] [Info] Number of positive: 4312, number of negative: 18548\n",
      "[LightGBM] [Warning] Auto-choosing row-wise multi-threading, the overhead of testing was 0.000671 seconds.\n",
      "You can set `force_row_wise=true` to remove the overhead.\n",
      "And if memory is not enough, you can set `force_col_wise=true`.\n",
      "[LightGBM] [Info] Total Bins 554\n",
      "[LightGBM] [Info] Number of data points in the train set: 22860, number of used features: 12\n",
      "[LightGBM] [Info] Number of positive: 4313, number of negative: 18548\n",
      "[LightGBM] [Warning] Auto-choosing row-wise multi-threading, the overhead of testing was 0.000634 seconds.\n",
      "You can set `force_row_wise=true` to remove the overhead.\n",
      "And if memory is not enough, you can set `force_col_wise=true`.\n",
      "[LightGBM] [Info] Total Bins 554\n",
      "[LightGBM] [Info] Number of data points in the train set: 22861, number of used features: 12\n",
      "[LightGBM] [Info] Number of positive: 4313, number of negative: 18548\n",
      "[LightGBM] [Warning] Auto-choosing row-wise multi-threading, the overhead of testing was 0.001234 seconds.\n",
      "You can set `force_row_wise=true` to remove the overhead.\n",
      "And if memory is not enough, you can set `force_col_wise=true`.\n",
      "[LightGBM] [Info] Total Bins 554\n",
      "[LightGBM] [Info] Number of data points in the train set: 22861, number of used features: 12\n",
      "[LightGBM] [Info] Number of positive: 4313, number of negative: 18548\n",
      "[LightGBM] [Warning] Auto-choosing col-wise multi-threading, the overhead of testing was 0.001128 seconds.\n",
      "You can set `force_col_wise=true` to remove the overhead.\n",
      "[LightGBM] [Info] Total Bins 554\n",
      "[LightGBM] [Info] Number of data points in the train set: 22861, number of used features: 12\n",
      "[LightGBM] [Info] Number of positive: 4313, number of negative: 18548\n",
      "[LightGBM] [Warning] Auto-choosing row-wise multi-threading, the overhead of testing was 0.000647 seconds.\n",
      "You can set `force_row_wise=true` to remove the overhead.\n",
      "And if memory is not enough, you can set `force_col_wise=true`.\n",
      "[LightGBM] [Info] Total Bins 554\n",
      "[LightGBM] [Info] Number of data points in the train set: 22861, number of used features: 12\n",
      "[LightGBM] [Info] [binary:BoostFromScore]: pavg=0.188626 -> initscore=-1.458960\n",
      "[LightGBM] [Info] Start training from score -1.458960\n",
      "[LightGBM] [Info] [binary:BoostFromScore]: pavg=0.188662 -> initscore=-1.458728\n",
      "[LightGBM] [Info] Start training from score -1.458728\n",
      "[LightGBM] [Info] [binary:BoostFromScore]: pavg=0.188662 -> initscore=-1.458728\n",
      "[LightGBM] [Info] Start training from score -1.458728\n",
      "[LightGBM] [Info] [binary:BoostFromScore]: pavg=0.188662 -> initscore=-1.458728\n",
      "[LightGBM] [Info] Start training from score -1.458728\n",
      "[LightGBM] [Info] [binary:BoostFromScore]: pavg=0.188662 -> initscore=-1.458728\n",
      "[LightGBM] [Info] Start training from score -1.458728\n"
     ]
    },
    {
     "data": {
      "text/plain": "{'auc-mean': [0.8234489728071065,\n  0.8285315021380761,\n  0.8326851919854139,\n  0.8351235068431407,\n  0.8371086242317121,\n  0.839066869090157,\n  0.8403207652869227,\n  0.8411199623038506,\n  0.8420734020985978,\n  0.8423902436221962],\n 'auc-stdv': [0.00814738286372699,\n  0.008290689641289706,\n  0.007282572128099334,\n  0.005857440137060031,\n  0.007108487502057501,\n  0.007677293869856035,\n  0.00747823171935442,\n  0.007490787480381792,\n  0.007755445207715312,\n  0.00775309581228763],\n 'binary_logloss-mean': [0.4583207157176689,\n  0.4396740753815518,\n  0.42529384136747483,\n  0.41367439366011804,\n  0.4040758371882898,\n  0.3962209096430025,\n  0.38950905776468037,\n  0.3838337785132298,\n  0.3788158165124798,\n  0.374742857666442],\n 'binary_logloss-stdv': [0.0006077487839693386,\n  0.0011185477895825327,\n  0.0014779274711127013,\n  0.0017909961625382656,\n  0.0022368901075745856,\n  0.0025100310868876674,\n  0.0027380095355426163,\n  0.0030122792584232664,\n  0.0032544465003102653,\n  0.003358628166436108]}"
     },
     "execution_count": 36,
     "metadata": {},
     "output_type": "execute_result"
    }
   ],
   "source": [
    "lgb.cv(param, train_data, num_round, nfold=5)"
   ],
   "metadata": {
    "collapsed": false,
    "pycharm": {
     "name": "#%%\n"
    }
   }
  },
  {
   "cell_type": "code",
   "execution_count": null,
   "outputs": [],
   "source": [],
   "metadata": {
    "collapsed": false,
    "pycharm": {
     "name": "#%%\n"
    }
   }
  }
 ],
 "metadata": {
  "kernelspec": {
   "display_name": "Python 3",
   "language": "python",
   "name": "python3"
  },
  "language_info": {
   "codemirror_mode": {
    "name": "ipython",
    "version": 2
   },
   "file_extension": ".py",
   "mimetype": "text/x-python",
   "name": "python",
   "nbconvert_exporter": "python",
   "pygments_lexer": "ipython2",
   "version": "2.7.6"
  }
 },
 "nbformat": 4,
 "nbformat_minor": 0
}