{
 "cells": [
  {
   "cell_type": "code",
   "execution_count": 2,
   "outputs": [
    {
     "name": "stderr",
     "output_type": "stream",
     "text": [
      "<frozen importlib._bootstrap>:219: RuntimeWarning: scipy._lib.messagestream.MessageStream size changed, may indicate binary incompatibility. Expected 56 from C header, got 64 from PyObject\n"
     ]
    }
   ],
   "source": [
    "import pandas as pd\n",
    "import numpy as np\n",
    "import seaborn as sns\n",
    "import matplotlib.pyplot as plt\n",
    "\n",
    "import matplotlib.font_manager as fm"
   ],
   "metadata": {
    "collapsed": false,
    "pycharm": {
     "name": "#%%\n"
    }
   }
  },
  {
   "cell_type": "code",
   "execution_count": 3,
   "outputs": [],
   "source": [
    "\n",
    "plt.rc('font', family='NanumBarunGothic')\n",
    "font_location = 'C:/Windows/Fonts/MALGUNSL.TTF'  # for windows\n",
    "font_name = fm.FontProperties(fname=font_location).get_name()\n",
    "plt.rc('font', family=font_name)\n"
   ],
   "metadata": {
    "collapsed": false,
    "pycharm": {
     "name": "#%%\n"
    }
   }
  },
  {
   "cell_type": "code",
   "execution_count": 4,
   "outputs": [
    {
     "name": "stderr",
     "output_type": "stream",
     "text": [
      "UsageError: unrecognized arguments: # 그래프 label 설정\n"
     ]
    }
   ],
   "source": [
    "%matplotlib inline\n",
    "import matplotlib as mpl\n",
    "mpl.rc('axes',labelsize = 20)\n",
    "mpl.rc('xtick',labelsize = 20)\n",
    "mpl.rc('ytick',labelsize = 20)"
   ],
   "metadata": {
    "collapsed": false,
    "pycharm": {
     "name": "#%%\n"
    }
   }
  },
  {
   "cell_type": "markdown",
   "source": [
    "# 데이터 불러오기 및 저장 코드"
   ],
   "metadata": {
    "collapsed": false,
    "pycharm": {
     "name": "#%% md\n"
    }
   }
  },
  {
   "cell_type": "code",
   "execution_count": 5,
   "outputs": [
    {
     "data": {
      "text/plain": "          사업자등록번호              기업명  공기업구분  개인법인구분  본점지점구분  국외투자법인여부  벤처기업여부  \\\n0      1138111739           한일가스산업      2       1       1         0       0   \n1      2078132193             엠피아이      2       1       1         0       0   \n2      1318167565             도영운수      2       1       1         0       0   \n3      5048128251             중원산업      2       1       1         0       0   \n4      1098164260            카타나골프      2       1       1         0       0   \n...           ...              ...    ...     ...     ...       ...     ...   \n35716  4808501629          게방식당팩토리      2       1       2         0       0   \n35717  8018501578         우진푸드중부지점      2       1       2         0       0   \n35718  4118523419  윤월드푸드코리아다크써클브로스      2       1       2         0       0   \n35719  1738102533             기린테크      2       1       1         0       0   \n35720  3138135248             우리로봇      2       1       1         0       1   \n\n       상장코드  산업코드1  공공기관유형  중견기업보호여부  본점기업코드        설립일자  설립구분  국가명    직원수  \\\n0         0     47       0         0       0  1966-04-19     1    0   43.0   \n1         0     15       0         0       0  1991-08-06     1    0   35.0   \n2         0     49       0         0       0  2001-10-30     1    0  149.0   \n3         0     30       0         0       0  1999-01-12     1    0   75.0   \n4         0     46       0         0       0  2000-05-31     1    0    3.0   \n...     ...    ...     ...       ...     ...         ...   ...  ...    ...   \n35716     0     10       0         0       1  2018-01-26     1    0    0.0   \n35717     0     10       0         0       1  2020-07-27     1    0   22.0   \n35718     0     56       0         0       1  2019-09-26     1    0    0.0   \n35719     0     58       0         0       0  2021-10-25     1    0    0.0   \n35720     0     29       0         0       0  2020-06-29     1    0    0.0   \n\n       폐업여부   산업코드 대분류  \n0         0   도매 및 소매업  \n1         0        제조업  \n2         0   운수 및 창고업  \n3         0        제조업  \n4         0   도매 및 소매업  \n...     ...        ...  \n35716     1        제조업  \n35717     1        제조업  \n35718     1  숙박 및 음식점업  \n35719     1      정보통신업  \n35720     1        제조업  \n\n[35721 rows x 18 columns]",
      "text/html": "<div>\n<style scoped>\n    .dataframe tbody tr th:only-of-type {\n        vertical-align: middle;\n    }\n\n    .dataframe tbody tr th {\n        vertical-align: top;\n    }\n\n    .dataframe thead th {\n        text-align: right;\n    }\n</style>\n<table border=\"1\" class=\"dataframe\">\n  <thead>\n    <tr style=\"text-align: right;\">\n      <th></th>\n      <th>사업자등록번호</th>\n      <th>기업명</th>\n      <th>공기업구분</th>\n      <th>개인법인구분</th>\n      <th>본점지점구분</th>\n      <th>국외투자법인여부</th>\n      <th>벤처기업여부</th>\n      <th>상장코드</th>\n      <th>산업코드1</th>\n      <th>공공기관유형</th>\n      <th>중견기업보호여부</th>\n      <th>본점기업코드</th>\n      <th>설립일자</th>\n      <th>설립구분</th>\n      <th>국가명</th>\n      <th>직원수</th>\n      <th>폐업여부</th>\n      <th>산업코드 대분류</th>\n    </tr>\n  </thead>\n  <tbody>\n    <tr>\n      <th>0</th>\n      <td>1138111739</td>\n      <td>한일가스산업</td>\n      <td>2</td>\n      <td>1</td>\n      <td>1</td>\n      <td>0</td>\n      <td>0</td>\n      <td>0</td>\n      <td>47</td>\n      <td>0</td>\n      <td>0</td>\n      <td>0</td>\n      <td>1966-04-19</td>\n      <td>1</td>\n      <td>0</td>\n      <td>43.0</td>\n      <td>0</td>\n      <td>도매 및 소매업</td>\n    </tr>\n    <tr>\n      <th>1</th>\n      <td>2078132193</td>\n      <td>엠피아이</td>\n      <td>2</td>\n      <td>1</td>\n      <td>1</td>\n      <td>0</td>\n      <td>0</td>\n      <td>0</td>\n      <td>15</td>\n      <td>0</td>\n      <td>0</td>\n      <td>0</td>\n      <td>1991-08-06</td>\n      <td>1</td>\n      <td>0</td>\n      <td>35.0</td>\n      <td>0</td>\n      <td>제조업</td>\n    </tr>\n    <tr>\n      <th>2</th>\n      <td>1318167565</td>\n      <td>도영운수</td>\n      <td>2</td>\n      <td>1</td>\n      <td>1</td>\n      <td>0</td>\n      <td>0</td>\n      <td>0</td>\n      <td>49</td>\n      <td>0</td>\n      <td>0</td>\n      <td>0</td>\n      <td>2001-10-30</td>\n      <td>1</td>\n      <td>0</td>\n      <td>149.0</td>\n      <td>0</td>\n      <td>운수 및 창고업</td>\n    </tr>\n    <tr>\n      <th>3</th>\n      <td>5048128251</td>\n      <td>중원산업</td>\n      <td>2</td>\n      <td>1</td>\n      <td>1</td>\n      <td>0</td>\n      <td>0</td>\n      <td>0</td>\n      <td>30</td>\n      <td>0</td>\n      <td>0</td>\n      <td>0</td>\n      <td>1999-01-12</td>\n      <td>1</td>\n      <td>0</td>\n      <td>75.0</td>\n      <td>0</td>\n      <td>제조업</td>\n    </tr>\n    <tr>\n      <th>4</th>\n      <td>1098164260</td>\n      <td>카타나골프</td>\n      <td>2</td>\n      <td>1</td>\n      <td>1</td>\n      <td>0</td>\n      <td>0</td>\n      <td>0</td>\n      <td>46</td>\n      <td>0</td>\n      <td>0</td>\n      <td>0</td>\n      <td>2000-05-31</td>\n      <td>1</td>\n      <td>0</td>\n      <td>3.0</td>\n      <td>0</td>\n      <td>도매 및 소매업</td>\n    </tr>\n    <tr>\n      <th>...</th>\n      <td>...</td>\n      <td>...</td>\n      <td>...</td>\n      <td>...</td>\n      <td>...</td>\n      <td>...</td>\n      <td>...</td>\n      <td>...</td>\n      <td>...</td>\n      <td>...</td>\n      <td>...</td>\n      <td>...</td>\n      <td>...</td>\n      <td>...</td>\n      <td>...</td>\n      <td>...</td>\n      <td>...</td>\n      <td>...</td>\n    </tr>\n    <tr>\n      <th>35716</th>\n      <td>4808501629</td>\n      <td>게방식당팩토리</td>\n      <td>2</td>\n      <td>1</td>\n      <td>2</td>\n      <td>0</td>\n      <td>0</td>\n      <td>0</td>\n      <td>10</td>\n      <td>0</td>\n      <td>0</td>\n      <td>1</td>\n      <td>2018-01-26</td>\n      <td>1</td>\n      <td>0</td>\n      <td>0.0</td>\n      <td>1</td>\n      <td>제조업</td>\n    </tr>\n    <tr>\n      <th>35717</th>\n      <td>8018501578</td>\n      <td>우진푸드중부지점</td>\n      <td>2</td>\n      <td>1</td>\n      <td>2</td>\n      <td>0</td>\n      <td>0</td>\n      <td>0</td>\n      <td>10</td>\n      <td>0</td>\n      <td>0</td>\n      <td>1</td>\n      <td>2020-07-27</td>\n      <td>1</td>\n      <td>0</td>\n      <td>22.0</td>\n      <td>1</td>\n      <td>제조업</td>\n    </tr>\n    <tr>\n      <th>35718</th>\n      <td>4118523419</td>\n      <td>윤월드푸드코리아다크써클브로스</td>\n      <td>2</td>\n      <td>1</td>\n      <td>2</td>\n      <td>0</td>\n      <td>0</td>\n      <td>0</td>\n      <td>56</td>\n      <td>0</td>\n      <td>0</td>\n      <td>1</td>\n      <td>2019-09-26</td>\n      <td>1</td>\n      <td>0</td>\n      <td>0.0</td>\n      <td>1</td>\n      <td>숙박 및 음식점업</td>\n    </tr>\n    <tr>\n      <th>35719</th>\n      <td>1738102533</td>\n      <td>기린테크</td>\n      <td>2</td>\n      <td>1</td>\n      <td>1</td>\n      <td>0</td>\n      <td>0</td>\n      <td>0</td>\n      <td>58</td>\n      <td>0</td>\n      <td>0</td>\n      <td>0</td>\n      <td>2021-10-25</td>\n      <td>1</td>\n      <td>0</td>\n      <td>0.0</td>\n      <td>1</td>\n      <td>정보통신업</td>\n    </tr>\n    <tr>\n      <th>35720</th>\n      <td>3138135248</td>\n      <td>우리로봇</td>\n      <td>2</td>\n      <td>1</td>\n      <td>1</td>\n      <td>0</td>\n      <td>1</td>\n      <td>0</td>\n      <td>29</td>\n      <td>0</td>\n      <td>0</td>\n      <td>0</td>\n      <td>2020-06-29</td>\n      <td>1</td>\n      <td>0</td>\n      <td>0.0</td>\n      <td>1</td>\n      <td>제조업</td>\n    </tr>\n  </tbody>\n</table>\n<p>35721 rows × 18 columns</p>\n</div>"
     },
     "execution_count": 5,
     "metadata": {},
     "output_type": "execute_result"
    }
   ],
   "source": [
    "df = pd.read_csv(r'C:\\Users\\yoon9\\PycharmProjects\\Sejong_Project\\Numble\\data\\company_info(전체).csv')\n",
    "df"
   ],
   "metadata": {
    "collapsed": false,
    "pycharm": {
     "name": "#%%\n"
    }
   }
  },
  {
   "cell_type": "code",
   "execution_count": 8,
   "outputs": [],
   "source": [
    "import os\n",
    "\n",
    "# 그림을 저장할 위치\n",
    "PROJECT_ROOT_DIR = \".\"\n",
    "CHAPTER_ID = \"Numble\"\n",
    "IMAGES_PATH = os.path.join(PROJECT_ROOT_DIR, \"images\", CHAPTER_ID)\n",
    "os.makedirs(IMAGES_PATH, exist_ok=True)\n",
    "\n",
    "def save_fig(fig_id, tight_layout=True, fig_extension=\"png\", resolution=300):\n",
    "    path = os.path.join(IMAGES_PATH, fig_id + \".\" + fig_extension)\n",
    "    print(\"그림 저장:\", fig_id)\n",
    "    if tight_layout:\n",
    "        plt.tight_layout()\n",
    "    plt.savefig(path, format=fig_extension, dpi=resolution)"
   ],
   "metadata": {
    "collapsed": false,
    "pycharm": {
     "name": "#%%\n"
    }
   }
  },
  {
   "cell_type": "code",
   "execution_count": 9,
   "outputs": [],
   "source": [
    "import matplotlib.font_manager as fm\n",
    "\n",
    "plt.rc('font', family='NanumBarunGothic')\n",
    "font_location = 'C:/Windows/Fonts/MALGUNSL.TTF'  # for windows\n",
    "font_name = fm.FontProperties(fname=font_location).get_name()\n",
    "plt.rc('font', family=font_name)"
   ],
   "metadata": {
    "collapsed": false,
    "pycharm": {
     "name": "#%%\n"
    }
   }
  },
  {
   "cell_type": "markdown",
   "source": [
    "# 휴폐업 ,액티브 중소법인 재무 보유 데이터 비교 EDA"
   ],
   "metadata": {
    "collapsed": false,
    "pycharm": {
     "name": "#%% md\n"
    }
   }
  },
  {
   "cell_type": "code",
   "execution_count": 10,
   "outputs": [],
   "source": [
    "# EDA 전 columns name 변경해주도록 하겠습니다.\n",
    "\n",
    "df = df.rename(columns= {'BIZ_NO':'사업자등록번호', 'CMP_PFIX_NM':'기업접두명', 'CMP_NM1':'기업명', 'CMP_SFIX_NM':'기업접미명', 'CMP_ENM':'기업영문명', 'BZ_TYP':'업종','CMP_SCL':'기업규모', 'PBCO_GB':'공기업구분',\n",
    "                           'PSN_CORP_GB':'개인법인구분', 'HDOF_BR_GB':'본점지점구분', 'FR_IVST_CORP_YN':'국외투자법인여부', 'VENT_YN':'벤처기업여부', 'LIST_CD':'상장코드', 'IND_CD_ORDR':'산업코드차수', 'IND_CD1':'산업코드1', 'IND_CD2':'산업코드2', 'IND_CD3':'산업코드3','PB_ORG_TYP':'공공기관유형', 'MDSCO_PRTC_YN':'중견기업보호여부', 'HDOF_CMP_CD':'본점기업코드', 'ESTB_DATE':'설립일자', 'ESTB_GB':'설립구분', 'LIST_DATE':'상장일자', 'MN_BIZ_CONT':'주요사업내용', 'NATN_NM':'국가명', 'HOMEPAGE_URL':'홈페이지URL', 'CEO_NM':'대표자명','EMP_CNT':'직원수'})\n",
    "\n",
    "# ['BIZ_NO', 'CMP_PFIX_NM', 'CMP_NM1', 'CMP_SFIX_NM', 'CMP_ENM', 'BZ_TYP','CMP_SCL', 'PBCO_GB', 'PSN_CORP_GB', 'HDOF_BR_GB', 'FR_IVST_CORP_YN',\n",
    "# 'VENT_YN', 'LIST_CD', 'IND_CD_ORDR', 'IND_CD1', 'IND_CD2', 'IND_CD3','PB_ORG_TYP', 'MDSCO_PRTC_YN', 'HDOF_CMP_CD', 'ESTB_DATE', 'ESTB_GB',\n",
    "# 'LIST_DATE', 'MN_BIZ_CONT', 'NATN_NM', 'HOMEPAGE_URL', 'CEO_NM','EMP_CNT']\n",
    "#\n",
    "# '사업자등록번호','기업접두명', '기업명',/'기업접미명', /'기업영문명', /'업종',/ '기업규모',/ '공기업구분', '개인법인구분', '본점지점구분', '국외투자법인여부', '벤처기업여부', '상장코드', '산업코드차수', '산업코드1', '산업코드2', '산업코드3', '공공기관유형', '중견기업보호여부', '본점기업코드', '설립일자', '설립구분', '상장일자', '주요사업내용', '국가명', '홈페이지URL', '대표자명', '직원수'\n"
   ],
   "metadata": {
    "collapsed": false,
    "pycharm": {
     "name": "#%%\n"
    }
   }
  },
  {
   "cell_type": "markdown",
   "source": [
    "필요 X : 기업규모 , 개인법인 구분 산업코드차수 (전부 같은 값이다)"
   ],
   "metadata": {
    "collapsed": false,
    "pycharm": {
     "name": "#%% md\n"
    }
   }
  },
  {
   "cell_type": "markdown",
   "source": [
    "### 업종\n",
    "\n",
    "A : 신금(신용금고) -> 중소기업과 국민대중을 위한 자금을 융통하며 저축의 증대를 목적으로 하는 비영리적 조합조직에 의한 금융기관\n",
    "B : 은행\n",
    "C : 카드\n",
    "F : 생보(생명보험) -> 보험사고 발생 객체가 피보험자의 생명 혹은 신체\n",
    "I : 손보(손해보험) -> 보험사고 발생 객체가 피보험자의 재산\n",
    "M : 제조\n",
    "O : 기타금융\n",
    "S : 증권\n",
    "V : 창투(창업투자회사) -> 창의성과 사업성은 있으나 자금력이 부족한 창업자에게 투자 형태로 지원하는 벤처캐피털\n"
   ],
   "metadata": {
    "collapsed": false
   }
  },
  {
   "cell_type": "code",
   "execution_count": 6,
   "outputs": [],
   "source": [],
   "metadata": {
    "collapsed": false,
    "pycharm": {
     "name": "#%%\n"
    }
   }
  },
  {
   "cell_type": "code",
   "execution_count": 11,
   "outputs": [
    {
     "ename": "ValueError",
     "evalue": "Could not interpret input '업종'",
     "output_type": "error",
     "traceback": [
      "\u001B[1;31m---------------------------------------------------------------------------\u001B[0m",
      "\u001B[1;31mValueError\u001B[0m                                Traceback (most recent call last)",
      "\u001B[1;32m<ipython-input-11-25861152a897>\u001B[0m in \u001B[0;36m<module>\u001B[1;34m\u001B[0m\n\u001B[0;32m      1\u001B[0m \u001B[0mplt\u001B[0m\u001B[1;33m.\u001B[0m\u001B[0mfigure\u001B[0m\u001B[1;33m(\u001B[0m\u001B[0mfigsize\u001B[0m\u001B[1;33m=\u001B[0m\u001B[1;33m(\u001B[0m\u001B[1;36m15\u001B[0m\u001B[1;33m,\u001B[0m\u001B[1;36m12\u001B[0m\u001B[1;33m)\u001B[0m\u001B[1;33m)\u001B[0m\u001B[1;33m\u001B[0m\u001B[1;33m\u001B[0m\u001B[0m\n\u001B[1;32m----> 2\u001B[1;33m \u001B[0msns\u001B[0m\u001B[1;33m.\u001B[0m\u001B[0mcountplot\u001B[0m\u001B[1;33m(\u001B[0m\u001B[0mdata\u001B[0m \u001B[1;33m=\u001B[0m \u001B[0mdf\u001B[0m\u001B[1;33m,\u001B[0m\u001B[0mx\u001B[0m\u001B[1;33m=\u001B[0m\u001B[1;34m'업종'\u001B[0m\u001B[1;33m)\u001B[0m\u001B[1;33m\u001B[0m\u001B[1;33m\u001B[0m\u001B[0m\n\u001B[0m\u001B[0;32m      3\u001B[0m \u001B[0mplt\u001B[0m\u001B[1;33m.\u001B[0m\u001B[0mtitle\u001B[0m\u001B[1;33m(\u001B[0m\u001B[1;34m'업종 count'\u001B[0m\u001B[1;33m,\u001B[0m \u001B[0mfontsize\u001B[0m\u001B[1;33m=\u001B[0m\u001B[1;36m20\u001B[0m\u001B[1;33m)\u001B[0m\u001B[1;33m\u001B[0m\u001B[1;33m\u001B[0m\u001B[0m\n\u001B[0;32m      4\u001B[0m \u001B[0mplt\u001B[0m\u001B[1;33m.\u001B[0m\u001B[0mxlabel\u001B[0m\u001B[1;33m(\u001B[0m\u001B[1;34m'업종'\u001B[0m\u001B[1;33m,\u001B[0m \u001B[0mfontsize\u001B[0m\u001B[1;33m=\u001B[0m\u001B[1;36m16\u001B[0m\u001B[1;33m)\u001B[0m\u001B[1;33m\u001B[0m\u001B[1;33m\u001B[0m\u001B[0m\n\u001B[0;32m      5\u001B[0m \u001B[0mplt\u001B[0m\u001B[1;33m.\u001B[0m\u001B[0mylabel\u001B[0m\u001B[1;33m(\u001B[0m\u001B[1;34m'개수'\u001B[0m\u001B[1;33m,\u001B[0m \u001B[0mfontsize\u001B[0m\u001B[1;33m=\u001B[0m\u001B[1;36m16\u001B[0m\u001B[1;33m)\u001B[0m\u001B[1;33m\u001B[0m\u001B[1;33m\u001B[0m\u001B[0m\n",
      "\u001B[1;32m~\\anaconda3\\lib\\site-packages\\seaborn\\_decorators.py\u001B[0m in \u001B[0;36minner_f\u001B[1;34m(*args, **kwargs)\u001B[0m\n\u001B[0;32m     44\u001B[0m             )\n\u001B[0;32m     45\u001B[0m         \u001B[0mkwargs\u001B[0m\u001B[1;33m.\u001B[0m\u001B[0mupdate\u001B[0m\u001B[1;33m(\u001B[0m\u001B[1;33m{\u001B[0m\u001B[0mk\u001B[0m\u001B[1;33m:\u001B[0m \u001B[0marg\u001B[0m \u001B[1;32mfor\u001B[0m \u001B[0mk\u001B[0m\u001B[1;33m,\u001B[0m \u001B[0marg\u001B[0m \u001B[1;32min\u001B[0m \u001B[0mzip\u001B[0m\u001B[1;33m(\u001B[0m\u001B[0msig\u001B[0m\u001B[1;33m.\u001B[0m\u001B[0mparameters\u001B[0m\u001B[1;33m,\u001B[0m \u001B[0margs\u001B[0m\u001B[1;33m)\u001B[0m\u001B[1;33m}\u001B[0m\u001B[1;33m)\u001B[0m\u001B[1;33m\u001B[0m\u001B[1;33m\u001B[0m\u001B[0m\n\u001B[1;32m---> 46\u001B[1;33m         \u001B[1;32mreturn\u001B[0m \u001B[0mf\u001B[0m\u001B[1;33m(\u001B[0m\u001B[1;33m**\u001B[0m\u001B[0mkwargs\u001B[0m\u001B[1;33m)\u001B[0m\u001B[1;33m\u001B[0m\u001B[1;33m\u001B[0m\u001B[0m\n\u001B[0m\u001B[0;32m     47\u001B[0m     \u001B[1;32mreturn\u001B[0m \u001B[0minner_f\u001B[0m\u001B[1;33m\u001B[0m\u001B[1;33m\u001B[0m\u001B[0m\n\u001B[0;32m     48\u001B[0m \u001B[1;33m\u001B[0m\u001B[0m\n",
      "\u001B[1;32m~\\anaconda3\\lib\\site-packages\\seaborn\\categorical.py\u001B[0m in \u001B[0;36mcountplot\u001B[1;34m(x, y, hue, data, order, hue_order, orient, color, palette, saturation, dodge, ax, **kwargs)\u001B[0m\n\u001B[0;32m   3593\u001B[0m         \u001B[1;32mraise\u001B[0m \u001B[0mValueError\u001B[0m\u001B[1;33m(\u001B[0m\u001B[1;34m\"Cannot pass values for both `x` and `y`\"\u001B[0m\u001B[1;33m)\u001B[0m\u001B[1;33m\u001B[0m\u001B[1;33m\u001B[0m\u001B[0m\n\u001B[0;32m   3594\u001B[0m \u001B[1;33m\u001B[0m\u001B[0m\n\u001B[1;32m-> 3595\u001B[1;33m     plotter = _CountPlotter(\n\u001B[0m\u001B[0;32m   3596\u001B[0m         \u001B[0mx\u001B[0m\u001B[1;33m,\u001B[0m \u001B[0my\u001B[0m\u001B[1;33m,\u001B[0m \u001B[0mhue\u001B[0m\u001B[1;33m,\u001B[0m \u001B[0mdata\u001B[0m\u001B[1;33m,\u001B[0m \u001B[0morder\u001B[0m\u001B[1;33m,\u001B[0m \u001B[0mhue_order\u001B[0m\u001B[1;33m,\u001B[0m\u001B[1;33m\u001B[0m\u001B[1;33m\u001B[0m\u001B[0m\n\u001B[0;32m   3597\u001B[0m         \u001B[0mestimator\u001B[0m\u001B[1;33m,\u001B[0m \u001B[0mci\u001B[0m\u001B[1;33m,\u001B[0m \u001B[0mn_boot\u001B[0m\u001B[1;33m,\u001B[0m \u001B[0munits\u001B[0m\u001B[1;33m,\u001B[0m \u001B[0mseed\u001B[0m\u001B[1;33m,\u001B[0m\u001B[1;33m\u001B[0m\u001B[1;33m\u001B[0m\u001B[0m\n",
      "\u001B[1;32m~\\anaconda3\\lib\\site-packages\\seaborn\\categorical.py\u001B[0m in \u001B[0;36m__init__\u001B[1;34m(self, x, y, hue, data, order, hue_order, estimator, ci, n_boot, units, seed, orient, color, palette, saturation, errcolor, errwidth, capsize, dodge)\u001B[0m\n\u001B[0;32m   1582\u001B[0m                  errwidth, capsize, dodge):\n\u001B[0;32m   1583\u001B[0m         \u001B[1;34m\"\"\"Initialize the plotter.\"\"\"\u001B[0m\u001B[1;33m\u001B[0m\u001B[1;33m\u001B[0m\u001B[0m\n\u001B[1;32m-> 1584\u001B[1;33m         self.establish_variables(x, y, hue, data, orient,\n\u001B[0m\u001B[0;32m   1585\u001B[0m                                  order, hue_order, units)\n\u001B[0;32m   1586\u001B[0m         \u001B[0mself\u001B[0m\u001B[1;33m.\u001B[0m\u001B[0mestablish_colors\u001B[0m\u001B[1;33m(\u001B[0m\u001B[0mcolor\u001B[0m\u001B[1;33m,\u001B[0m \u001B[0mpalette\u001B[0m\u001B[1;33m,\u001B[0m \u001B[0msaturation\u001B[0m\u001B[1;33m)\u001B[0m\u001B[1;33m\u001B[0m\u001B[1;33m\u001B[0m\u001B[0m\n",
      "\u001B[1;32m~\\anaconda3\\lib\\site-packages\\seaborn\\categorical.py\u001B[0m in \u001B[0;36mestablish_variables\u001B[1;34m(self, x, y, hue, data, orient, order, hue_order, units)\u001B[0m\n\u001B[0;32m    151\u001B[0m                 \u001B[1;32mif\u001B[0m \u001B[0misinstance\u001B[0m\u001B[1;33m(\u001B[0m\u001B[0mvar\u001B[0m\u001B[1;33m,\u001B[0m \u001B[0mstr\u001B[0m\u001B[1;33m)\u001B[0m\u001B[1;33m:\u001B[0m\u001B[1;33m\u001B[0m\u001B[1;33m\u001B[0m\u001B[0m\n\u001B[0;32m    152\u001B[0m                     \u001B[0merr\u001B[0m \u001B[1;33m=\u001B[0m \u001B[1;34m\"Could not interpret input '{}'\"\u001B[0m\u001B[1;33m.\u001B[0m\u001B[0mformat\u001B[0m\u001B[1;33m(\u001B[0m\u001B[0mvar\u001B[0m\u001B[1;33m)\u001B[0m\u001B[1;33m\u001B[0m\u001B[1;33m\u001B[0m\u001B[0m\n\u001B[1;32m--> 153\u001B[1;33m                     \u001B[1;32mraise\u001B[0m \u001B[0mValueError\u001B[0m\u001B[1;33m(\u001B[0m\u001B[0merr\u001B[0m\u001B[1;33m)\u001B[0m\u001B[1;33m\u001B[0m\u001B[1;33m\u001B[0m\u001B[0m\n\u001B[0m\u001B[0;32m    154\u001B[0m \u001B[1;33m\u001B[0m\u001B[0m\n\u001B[0;32m    155\u001B[0m             \u001B[1;31m# Figure out the plotting orientation\u001B[0m\u001B[1;33m\u001B[0m\u001B[1;33m\u001B[0m\u001B[1;33m\u001B[0m\u001B[0m\n",
      "\u001B[1;31mValueError\u001B[0m: Could not interpret input '업종'"
     ]
    },
    {
     "data": {
      "text/plain": "<Figure size 1080x864 with 0 Axes>"
     },
     "metadata": {},
     "output_type": "display_data"
    }
   ],
   "source": [
    "plt.figure(figsize=(15,12))\n",
    "sns.countplot(data = df,x='업종')\n",
    "plt.title('업종 count', fontsize=20)\n",
    "plt.xlabel('업종', fontsize=16)\n",
    "plt.ylabel('개수', fontsize=16)\n",
    "save_fig(\"업종_countplot\")\n",
    "plt.show()"
   ],
   "metadata": {
    "collapsed": false,
    "pycharm": {
     "name": "#%%\n"
    }
   }
  },
  {
   "cell_type": "markdown",
   "source": [
    "대략 3만개의 기업이 전부 M 인 제조업을 하는 것을 볼 수 있다."
   ],
   "metadata": {
    "collapsed": false
   }
  },
  {
   "cell_type": "code",
   "execution_count": 9,
   "outputs": [
    {
     "data": {
      "text/plain": "<Figure size 1080x864 with 1 Axes>",
      "image/png": "[encoded data removed]"
     },
     "metadata": {
      "needs_background": "light"
     },
     "output_type": "display_data"
    }
   ],
   "source": [
    "plt.figure(figsize=(15,12))\n",
    "sns.countplot(data = df_active[df_active['업종'] != 'M'],x='업종')\n",
    "plt.title('업종 count(제조업 M 제외)', fontsize=20)\n",
    "plt.xlabel('업종', fontsize=16)\n",
    "plt.ylabel('개수', fontsize=16)\n",
    "#save_fig(\"업종_countplot_drop(M)\")\n",
    "plt.show()"
   ],
   "metadata": {
    "collapsed": false,
    "pycharm": {
     "name": "#%%\n"
    }
   }
  },
  {
   "cell_type": "code",
   "execution_count": 10,
   "outputs": [
    {
     "data": {
      "text/plain": "<Figure size 1080x864 with 1 Axes>",
      "image/png": "[encoded data removed]"
     },
     "metadata": {
      "needs_background": "light"
     },
     "output_type": "display_data"
    }
   ],
   "source": [
    "plt.figure(figsize=(15,12))\n",
    "sns.countplot(data = df_down,x='업종')\n",
    "plt.title('업종 count', fontsize=20)\n",
    "plt.xlabel('업종', fontsize=16)\n",
    "plt.ylabel('개수', fontsize=16)\n",
    "#save_fig(\"업종_countplot\")\n",
    "plt.show()"
   ],
   "metadata": {
    "collapsed": false,
    "pycharm": {
     "name": "#%%\n"
    }
   }
  },
  {
   "cell_type": "markdown",
   "source": [
    "액티브 데이터 와는 다르게 휴폐업의 데이터의 경우 거의 대부분 제조업이고 업종도 3가지 밖에 없다."
   ],
   "metadata": {
    "collapsed": false
   }
  },
  {
   "cell_type": "markdown",
   "source": [
    "### 기업규모\n",
    "\n",
    "전부 2여서 없애도 됌"
   ],
   "metadata": {
    "collapsed": false
   }
  },
  {
   "cell_type": "code",
   "execution_count": 10,
   "outputs": [
    {
     "data": {
      "text/plain": "2    28982\nName: 기업규모, dtype: int64"
     },
     "execution_count": 10,
     "metadata": {},
     "output_type": "execute_result"
    }
   ],
   "source": [
    "df_active['기업규모'].value_counts()\n",
    "\n",
    "# plt.figure(figsize=(15,12))\n",
    "# sns.histplot(data = df_active,x='기업규모')\n",
    "# plt.title('업종 count(제조업 M 제외)', fontsize=20)\n",
    "# plt.xlabel('업종', fontsize=16)\n",
    "# plt.ylabel('개수', fontsize=16)\n",
    "# #save_fig(\"업종_countplot_drop(M)\")\n",
    "# plt.show()"
   ],
   "metadata": {
    "collapsed": false,
    "pycharm": {
     "name": "#%%\n"
    }
   }
  },
  {
   "cell_type": "code",
   "execution_count": 11,
   "outputs": [
    {
     "data": {
      "text/plain": "2    6739\nName: 기업규모, dtype: int64"
     },
     "execution_count": 11,
     "metadata": {},
     "output_type": "execute_result"
    }
   ],
   "source": [
    "df_down['기업규모'].value_counts()"
   ],
   "metadata": {
    "collapsed": false,
    "pycharm": {
     "name": "#%%\n"
    }
   }
  },
  {
   "cell_type": "markdown",
   "source": [
    "마찬가지로 휴폐업 데이터도 전부 2이다."
   ],
   "metadata": {
    "collapsed": false
   }
  },
  {
   "cell_type": "markdown",
   "source": [
    "### 공기업 구분"
   ],
   "metadata": {
    "collapsed": false
   }
  },
  {
   "cell_type": "code",
   "execution_count": 13,
   "outputs": [
    {
     "data": {
      "text/plain": "2    35714\n1        7\nName: 공기업구분, dtype: int64"
     },
     "execution_count": 13,
     "metadata": {},
     "output_type": "execute_result"
    }
   ],
   "source": [
    "df['공기업구분'].value_counts() # 7개를 제외한 모든 기업이 사기업인듯\n",
    "\n",
    "\n",
    "# 1 : 공기업\n",
    "# 2 : 사기업\n",
    "\n",
    "# 7개 기업 제외하고 모두 공기업이다."
   ],
   "metadata": {
    "collapsed": false,
    "pycharm": {
     "name": "#%%\n"
    }
   }
  },
  {
   "cell_type": "code",
   "execution_count": 13,
   "outputs": [
    {
     "data": {
      "text/plain": "2    6739\nName: 공기업구분, dtype: int64"
     },
     "execution_count": 13,
     "metadata": {},
     "output_type": "execute_result"
    }
   ],
   "source": [
    "\n",
    "\n",
    "# 이와 대조적으로 휴폐업은 전부 2인 사기업이다. 공기업은 안망하겟짓.."
   ],
   "metadata": {
    "collapsed": false,
    "pycharm": {
     "name": "#%%\n"
    }
   }
  },
  {
   "cell_type": "code",
   "execution_count": 16,
   "outputs": [
    {
     "data": {
      "text/plain": "<Figure size 1080x864 with 1 Axes>",
      "image/png": "[encoded data removed]"
     },
     "metadata": {
      "needs_background": "light"
     },
     "output_type": "display_data"
    }
   ],
   "source": [
    "plt.figure(figsize=(15,12))\n",
    "sns.countplot(data = df,x='공기업구분',hue='폐업 여부')\n",
    "plt.title('공기업구분 count', fontsize=20)\n",
    "plt.xlabel('공기업구분', fontsize=16)\n",
    "plt.ylabel('개수', fontsize=16)\n",
    "#save_fig(\"업종_countplot\")\n",
    "plt.show()"
   ],
   "metadata": {
    "collapsed": false,
    "pycharm": {
     "name": "#%%\n"
    }
   }
  },
  {
   "cell_type": "markdown",
   "source": [
    "### 본점지점구분"
   ],
   "metadata": {
    "collapsed": false
   }
  },
  {
   "cell_type": "code",
   "execution_count": 18,
   "outputs": [
    {
     "data": {
      "text/plain": "1    31344\n2     4377\nName: 본점지점구분, dtype: int64"
     },
     "execution_count": 18,
     "metadata": {},
     "output_type": "execute_result"
    }
   ],
   "source": [
    "df['본점지점구분'].value_counts()\n",
    "\n",
    "# 1: 본점\n",
    "# 2: 분점\n"
   ],
   "metadata": {
    "collapsed": false,
    "pycharm": {
     "name": "#%%\n"
    }
   }
  },
  {
   "cell_type": "code",
   "execution_count": 15,
   "outputs": [
    {
     "data": {
      "text/plain": "1    5274\n2    1465\nName: 본점지점구분, dtype: int64"
     },
     "execution_count": 15,
     "metadata": {},
     "output_type": "execute_result"
    }
   ],
   "source": [
    "df_down['본점지점구분'].value_counts()\n",
    "\n",
    "# 1: 본점\n",
    "# 2: 분점\n",
    "\n",
    "\n",
    "# 휴폐업에서도 역시 5200으로 본점이 더 많긴했다.."
   ],
   "metadata": {
    "collapsed": false,
    "pycharm": {
     "name": "#%%\n"
    }
   }
  },
  {
   "cell_type": "code",
   "execution_count": 20,
   "outputs": [
    {
     "data": {
      "text/plain": "<Figure size 1080x864 with 1 Axes>",
      "image/png": "[encoded data removed]"
     },
     "metadata": {
      "needs_background": "light"
     },
     "output_type": "display_data"
    }
   ],
   "source": [
    "plt.figure(figsize=(15,12))\n",
    "sns.countplot(data = df,x='본점지점구분',hue='폐업여부')\n",
    "plt.title('본점지점구분 count', fontsize=20)\n",
    "plt.xlabel('본점지점구분', fontsize=16)\n",
    "plt.ylabel('개수', fontsize=16)\n",
    "#save_fig(\"업종_countplot\")\n",
    "plt.show()"
   ],
   "metadata": {
    "collapsed": false,
    "pycharm": {
     "name": "#%%\n"
    }
   }
  },
  {
   "cell_type": "markdown",
   "source": [
    "### 공기업구분, 본점지점구분, 국외투자법인여부, 벤처기업여부"
   ],
   "metadata": {
    "collapsed": false,
    "pycharm": {
     "name": "#%% md\n"
    }
   }
  },
  {
   "cell_type": "code",
   "execution_count": 16,
   "outputs": [
    {
     "name": "stdout",
     "output_type": "stream",
     "text": [
      "2    28975\n",
      "1        7\n",
      "Name: 공기업구분, dtype: int64\n",
      "\n",
      "\n",
      "1    26070\n",
      "2     2912\n",
      "Name: 본점지점구분, dtype: int64\n",
      "\n",
      "\n",
      "N    27347\n",
      "Y     1635\n",
      "Name: 국외투자법인여부, dtype: int64\n",
      "\n",
      "\n",
      "N    26170\n",
      "Y     2812\n",
      "Name: 벤처기업여부, dtype: int64\n"
     ]
    }
   ],
   "source": [
    "print(df_active['공기업구분'].value_counts())\n",
    "print('\\n')\n",
    "# 1 : 공기업\n",
    "# 2 : 사기업\n",
    "\n",
    "print(df_active['본점지점구분'].value_counts())\n",
    "print('\\n')\n",
    "# 1: 본점\n",
    "# 2: 분점\n",
    "\n",
    "print(df_active['국외투자법인여부'].value_counts())\n",
    "print('\\n')\n",
    "\n",
    "print(df_active['벤처기업여부'].value_counts())\n",
    "\n",
    "# Y : Yes\n",
    "# N : No"
   ],
   "metadata": {
    "collapsed": false,
    "pycharm": {
     "name": "#%%\n"
    }
   }
  },
  {
   "cell_type": "code",
   "execution_count": 17,
   "outputs": [
    {
     "name": "stdout",
     "output_type": "stream",
     "text": [
      "2    6739\n",
      "Name: 공기업구분, dtype: int64\n",
      "\n",
      "\n",
      "1    5274\n",
      "2    1465\n",
      "Name: 본점지점구분, dtype: int64\n",
      "\n",
      "\n",
      "N    6595\n",
      "Y     144\n",
      "Name: 국외투자법인여부, dtype: int64\n",
      "\n",
      "\n",
      "N    6507\n",
      "Y     232\n",
      "Name: 벤처기업여부, dtype: int64\n"
     ]
    }
   ],
   "source": [
    "print(df_down['공기업구분'].value_counts())\n",
    "print('\\n')\n",
    "# 1 : 공기업\n",
    "# 2 : 사기업\n",
    "\n",
    "print(df_down['본점지점구분'].value_counts())\n",
    "print('\\n')\n",
    "# 1: 본점\n",
    "# 2: 분점\n",
    "\n",
    "print(df_down['국외투자법인여부'].value_counts())\n",
    "print('\\n')\n",
    "\n",
    "print(df_down['벤처기업여부'].value_counts())\n",
    "\n",
    "# Y : Yes\n",
    "# N : No"
   ],
   "metadata": {
    "collapsed": false,
    "pycharm": {
     "name": "#%%\n"
    }
   }
  },
  {
   "cell_type": "code",
   "execution_count": 1,
   "outputs": [
    {
     "ename": "NameError",
     "evalue": "name 'plt' is not defined",
     "output_type": "error",
     "traceback": [
      "\u001B[1;31m---------------------------------------------------------------------------\u001B[0m",
      "\u001B[1;31mNameError\u001B[0m                                 Traceback (most recent call last)",
      "\u001B[1;32m<ipython-input-1-99544f3f268e>\u001B[0m in \u001B[0;36m<module>\u001B[1;34m\u001B[0m\n\u001B[1;32m----> 1\u001B[1;33m \u001B[0mplt\u001B[0m\u001B[1;33m.\u001B[0m\u001B[0msubplot\u001B[0m\u001B[1;33m(\u001B[0m\u001B[1;36m2\u001B[0m\u001B[1;33m,\u001B[0m\u001B[1;36m2\u001B[0m\u001B[1;33m,\u001B[0m\u001B[1;36m1\u001B[0m\u001B[1;33m)\u001B[0m\u001B[1;33m\u001B[0m\u001B[1;33m\u001B[0m\u001B[0m\n\u001B[0m\u001B[0;32m      2\u001B[0m \u001B[1;33m\u001B[0m\u001B[0m\n\u001B[0;32m      3\u001B[0m \u001B[0mplt\u001B[0m\u001B[1;33m.\u001B[0m\u001B[0mfigure\u001B[0m\u001B[1;33m(\u001B[0m\u001B[0mfigsize\u001B[0m\u001B[1;33m=\u001B[0m\u001B[1;33m(\u001B[0m\u001B[1;36m10\u001B[0m\u001B[1;33m,\u001B[0m\u001B[1;36m8\u001B[0m\u001B[1;33m)\u001B[0m\u001B[1;33m)\u001B[0m\u001B[1;33m\u001B[0m\u001B[1;33m\u001B[0m\u001B[0m\n\u001B[0;32m      4\u001B[0m \u001B[0msns\u001B[0m\u001B[1;33m.\u001B[0m\u001B[0mcountplot\u001B[0m\u001B[1;33m(\u001B[0m\u001B[0mdata\u001B[0m \u001B[1;33m=\u001B[0m \u001B[0mdf\u001B[0m\u001B[1;33m,\u001B[0m\u001B[0mx\u001B[0m\u001B[1;33m=\u001B[0m\u001B[1;34m'본점지점구분'\u001B[0m\u001B[1;33m,\u001B[0m\u001B[0mhue\u001B[0m\u001B[1;33m=\u001B[0m\u001B[1;34m'폐업여부'\u001B[0m\u001B[1;33m)\u001B[0m\u001B[1;33m\u001B[0m\u001B[1;33m\u001B[0m\u001B[0m\n\u001B[0;32m      5\u001B[0m \u001B[0mplt\u001B[0m\u001B[1;33m.\u001B[0m\u001B[0mtitle\u001B[0m\u001B[1;33m(\u001B[0m\u001B[1;34m'본점지점구분 count'\u001B[0m\u001B[1;33m,\u001B[0m \u001B[0mfontsize\u001B[0m\u001B[1;33m=\u001B[0m\u001B[1;36m20\u001B[0m\u001B[1;33m)\u001B[0m\u001B[1;33m\u001B[0m\u001B[1;33m\u001B[0m\u001B[0m\n",
      "\u001B[1;31mNameError\u001B[0m: name 'plt' is not defined"
     ]
    }
   ],
   "source": [
    "plt.subplot(2,2,1)\n",
    "\n",
    "plt.figure(figsize=(10,8))\n",
    "sns.countplot(data = df,x='본점지점구분',hue='폐업여부')\n",
    "plt.title('본점지점구분 count', fontsize=20)\n",
    "plt.xlabel('본점지점구분', fontsize=16)\n",
    "plt.ylabel('개수', fontsize=16)\n",
    "#save_fig(\"업종_countplot\")\n",
    "plt.show()"
   ],
   "metadata": {
    "collapsed": false,
    "pycharm": {
     "name": "#%%\n"
    }
   }
  },
  {
   "cell_type": "markdown",
   "source": [
    "### 상장코드\n",
    "\n",
    "상장할때 받는 코드로 다 각기 다름\n",
    "그리고 89개의 기업만 상장코드를 가지고 있어서 89개의 기업만 상장한듯"
   ],
   "metadata": {
    "collapsed": false,
    "pycharm": {
     "name": "#%% md\n"
    }
   }
  },
  {
   "cell_type": "code",
   "execution_count": 18,
   "outputs": [
    {
     "data": {
      "text/plain": "114570     1\nA327970    1\nA037340    1\nA221610    1\nA047730    1\n          ..\nA052510    1\nA245030    1\nA013340    1\nA087220    1\n001490     1\nName: 상장코드, Length: 89, dtype: int64"
     },
     "execution_count": 18,
     "metadata": {},
     "output_type": "execute_result"
    }
   ],
   "source": [
    "df_active['상장코드'].value_counts()"
   ],
   "metadata": {
    "collapsed": false,
    "pycharm": {
     "name": "#%%\n"
    }
   }
  },
  {
   "cell_type": "code",
   "execution_count": 19,
   "outputs": [
    {
     "data": {
      "text/plain": "45"
     },
     "execution_count": 19,
     "metadata": {},
     "output_type": "execute_result"
    }
   ],
   "source": [
    "len(df_down['상장코드'].value_counts())"
   ],
   "metadata": {
    "collapsed": false,
    "pycharm": {
     "name": "#%%\n"
    }
   }
  },
  {
   "cell_type": "markdown",
   "source": [
    "45 개의 회사만 상장한 것을 확인"
   ],
   "metadata": {
    "collapsed": false
   }
  },
  {
   "cell_type": "markdown",
   "source": [
    "### 산업코드\n",
    "\n",
    "산업 코드에 따른 산업을 표준분류코드표를 확인하여 맵핑 필요\n",
    "\n",
    "참고사이트 http://kssc.kostat.go.kr/ksscNew_web/kssc/common/ClassificationContent.do?gubun=1&strCategoryNameCode=001&categoryMenu=007&addGubun=no"
   ],
   "metadata": {
    "collapsed": false,
    "pycharm": {
     "name": "#%% md\n"
    }
   }
  },
  {
   "cell_type": "code",
   "execution_count": 20,
   "outputs": [
    {
     "name": "stdout",
     "output_type": "stream",
     "text": [
      "68129.0    1204\n",
      "68112.0     777\n",
      "68121.0     450\n",
      "30391.0     441\n",
      "68122.0     437\n",
      "           ... \n",
      "10212.0       1\n",
      "64130.0       1\n",
      "91100.0       1\n",
      "47840.0       1\n",
      "20322.0       1\n",
      "Name: 산업코드1, Length: 1360, dtype: int64\n",
      "/////////\n",
      "42310.0    44\n",
      "42132.0    41\n",
      "42320.0    30\n",
      "42420.0    30\n",
      "42209.0    26\n",
      "           ..\n",
      "52109.0     1\n",
      "10302.0     1\n",
      "22229.0     1\n",
      "74000.0     1\n",
      "10740.0     1\n",
      "Name: 산업코드2, Length: 418, dtype: int64\n",
      "/////////\n",
      "42204.0    14\n",
      "42320.0    14\n",
      "42310.0    10\n",
      "42134.0     7\n",
      "75310.0     7\n",
      "           ..\n",
      "28122.0     1\n",
      "74300.0     1\n",
      "74100.0     1\n",
      "49300.0     1\n",
      "42136.0     1\n",
      "Name: 산업코드3, Length: 133, dtype: int64\n",
      "/////////\n"
     ]
    }
   ],
   "source": [
    "code_list = ['산업코드1','산업코드2', '산업코드3']\n",
    "\n",
    "for i in code_list:\n",
    "    print(df_active[i].value_counts())\n",
    "    print('/////////')"
   ],
   "metadata": {
    "collapsed": false,
    "pycharm": {
     "name": "#%%\n"
    }
   }
  },
  {
   "cell_type": "markdown",
   "source": [
    "### 공공기관유형"
   ],
   "metadata": {
    "collapsed": false,
    "pycharm": {
     "name": "#%% md\n"
    }
   }
  },
  {
   "cell_type": "code",
   "execution_count": 21,
   "outputs": [
    {
     "data": {
      "text/plain": "0    28947\n3       29\n2        6\nName: 공공기관유형, dtype: int64"
     },
     "execution_count": 21,
     "metadata": {},
     "output_type": "execute_result"
    }
   ],
   "source": [
    "df_active['공공기관유형'].value_counts()\n",
    "\n",
    "#0 : 해당사항없음\n",
    "#1 : 정부기구\n",
    "#2 : 공기업/ 준정부기관\n",
    "#3 : 지자체공단/ 공사\n",
    "\n",
    "# 정부 기구는 없고 공기업이나 공단or공사가 조금 있는 것을 확인"
   ],
   "metadata": {
    "collapsed": false,
    "pycharm": {
     "name": "#%%\n"
    }
   }
  },
  {
   "cell_type": "code",
   "execution_count": 22,
   "outputs": [
    {
     "data": {
      "text/plain": "0    6739\nName: 공공기관유형, dtype: int64"
     },
     "execution_count": 22,
     "metadata": {},
     "output_type": "execute_result"
    }
   ],
   "source": [
    "df_down['공공기관유형'].value_counts()\n",
    "\n",
    "# 휴폐업 데이터는 다르게 공공기관 유형이 전부 0인 해당사항이 없었다."
   ],
   "metadata": {
    "collapsed": false,
    "pycharm": {
     "name": "#%%\n"
    }
   }
  },
  {
   "cell_type": "markdown",
   "source": [
    "### 중견기업보호여부"
   ],
   "metadata": {
    "collapsed": false,
    "pycharm": {
     "name": "#%% md\n"
    }
   }
  },
  {
   "cell_type": "code",
   "execution_count": 23,
   "outputs": [
    {
     "data": {
      "text/plain": "N    28884\nY       98\nName: 중견기업보호여부, dtype: int64"
     },
     "execution_count": 23,
     "metadata": {},
     "output_type": "execute_result"
    }
   ],
   "source": [
    "df_active['중견기업보호여부'].value_counts()\n",
    "\n",
    "# 대부분의 기업이 중견기업 보호를 받지 않지만\n",
    "# 단 98개의 기업만이 보호를 받는다."
   ],
   "metadata": {
    "collapsed": false,
    "pycharm": {
     "name": "#%%\n"
    }
   }
  },
  {
   "cell_type": "code",
   "source": [
    "df_down['중견기업보호여부'].value_counts()\n",
    "\n",
    "# 11개의 기업만이 중견기업의 보호를 받음"
   ],
   "metadata": {
    "collapsed": false,
    "pycharm": {
     "name": "#%%\n"
    }
   },
   "execution_count": 24,
   "outputs": [
    {
     "data": {
      "text/plain": "N    6728\nY      11\nName: 중견기업보호여부, dtype: int64"
     },
     "execution_count": 24,
     "metadata": {},
     "output_type": "execute_result"
    }
   ]
  },
  {
   "cell_type": "markdown",
   "source": [
    "### 설립일자"
   ],
   "metadata": {
    "collapsed": false,
    "pycharm": {
     "name": "#%% md\n"
    }
   }
  },
  {
   "cell_type": "code",
   "execution_count": 25,
   "outputs": [
    {
     "data": {
      "text/plain": "<Figure size 1080x864 with 1 Axes>",
      "image/png": "[encoded data removed]"
     },
     "metadata": {
      "needs_background": "light"
     },
     "output_type": "display_data"
    }
   ],
   "source": [
    "plt.figure(figsize=(15,12))\n",
    "sns.histplot(data = df_active,x='설립일자')\n",
    "plt.title('설립일자', fontsize=20)\n",
    "plt.xlabel('날짜', fontsize=16)\n",
    "plt.ylabel('개수', fontsize=16)\n",
    "plt.xlim(19600000)\n",
    "#save_fig(\"업종_countplot_drop(M)\")\n",
    "plt.show()"
   ],
   "metadata": {
    "collapsed": false,
    "pycharm": {
     "name": "#%%\n"
    }
   }
  },
  {
   "cell_type": "code",
   "execution_count": 26,
   "outputs": [
    {
     "data": {
      "text/plain": "<Figure size 1080x864 with 1 Axes>",
      "image/png": "[encoded data removed]"
     },
     "metadata": {
      "needs_background": "light"
     },
     "output_type": "display_data"
    }
   ],
   "source": [
    "plt.figure(figsize=(15,12))\n",
    "sns.histplot(data = df_down,x='설립일자')\n",
    "plt.title('설립일자', fontsize=20)\n",
    "plt.xlabel('날짜', fontsize=16)\n",
    "plt.ylabel('개수', fontsize=16)\n",
    "plt.xlim(19600000)\n",
    "#save_fig(\"업종_countplot_drop(M)\")\n",
    "plt.show()"
   ],
   "metadata": {
    "collapsed": false,
    "pycharm": {
     "name": "#%%\n"
    }
   }
  },
  {
   "cell_type": "markdown",
   "source": [
    "위의 두 그래프를 비교했을떄 비교적 최근에 생긴 기업들이 휴폐업이 많은 것을 확인"
   ],
   "metadata": {
    "collapsed": false
   }
  },
  {
   "cell_type": "markdown",
   "source": [
    "### 설립일자"
   ],
   "metadata": {
    "collapsed": false,
    "pycharm": {
     "name": "#%% md\n"
    }
   }
  },
  {
   "cell_type": "code",
   "execution_count": 27,
   "outputs": [
    {
     "data": {
      "text/plain": "<Figure size 1080x864 with 1 Axes>",
      "image/png": "[encoded data removed]"
     },
     "metadata": {
      "needs_background": "light"
     },
     "output_type": "display_data"
    }
   ],
   "source": [
    "plt.figure(figsize=(15,12))\n",
    "sns.histplot(data = df_active, x='직원수')\n",
    "plt.title('직원수', fontsize=20)\n",
    "plt.xlabel('직원수', fontsize=16)\n",
    "plt.ylabel('개수', fontsize=16)\n",
    "plt.xlim(0,200)\n",
    "#save_fig(\"업종_countplot_drop(M)\")\n",
    "plt.show()"
   ],
   "metadata": {
    "collapsed": false,
    "pycharm": {
     "name": "#%%\n"
    }
   }
  },
  {
   "cell_type": "code",
   "execution_count": 28,
   "outputs": [
    {
     "data": {
      "text/plain": "<Figure size 1080x864 with 1 Axes>",
      "image/png": "[encoded data removed]"
     },
     "metadata": {
      "needs_background": "light"
     },
     "output_type": "display_data"
    }
   ],
   "source": [
    "plt.figure(figsize=(15,12))\n",
    "sns.histplot(data = df_down, x='직원수')\n",
    "plt.title('직원수', fontsize=20)\n",
    "plt.xlabel('직원수', fontsize=16)\n",
    "plt.ylabel('개수', fontsize=16)\n",
    "plt.xlim(0,200)\n",
    "#save_fig(\"업종_countplot_drop(M)\")\n",
    "plt.show()"
   ],
   "metadata": {
    "collapsed": false,
    "pycharm": {
     "name": "#%%\n"
    }
   }
  },
  {
   "cell_type": "markdown",
   "source": [
    "확실히 직원수가 적은 기업이 많은 것을 확인할 수 있다."
   ],
   "metadata": {
    "collapsed": false,
    "pycharm": {
     "name": "#%% md\n"
    }
   }
  },
  {
   "cell_type": "code",
   "execution_count": 29,
   "outputs": [
    {
     "data": {
      "text/plain": "<Figure size 1080x864 with 1 Axes>",
      "image/png": "[encoded data removed]"
     },
     "metadata": {
      "needs_background": "light"
     },
     "output_type": "display_data"
    }
   ],
   "source": [
    "plt.figure(figsize=(15,12))\n",
    "sns.boxplot(data = df_active['직원수'])\n",
    "plt.title('직원수', fontsize=20)\n",
    "plt.xlabel('날짜', fontsize=16)\n",
    "plt.ylabel('개수', fontsize=16)\n",
    "#save_fig(\"업종_countplot_drop(M)\")\n",
    "plt.show()"
   ],
   "metadata": {
    "collapsed": false,
    "pycharm": {
     "name": "#%%\n"
    }
   }
  },
  {
   "cell_type": "code",
   "execution_count": 30,
   "outputs": [
    {
     "data": {
      "text/plain": "<Figure size 1080x864 with 1 Axes>",
      "image/png": "[encoded data removed]"
     },
     "metadata": {
      "needs_background": "light"
     },
     "output_type": "display_data"
    }
   ],
   "source": [
    "plt.figure(figsize=(15,12))\n",
    "sns.boxplot(data = df_down['직원수'])\n",
    "plt.title('직원수', fontsize=20)\n",
    "plt.xlabel('날짜', fontsize=16)\n",
    "plt.ylabel('개수', fontsize=16)\n",
    "#save_fig(\"업종_countplot_drop(M)\")\n",
    "plt.show()"
   ],
   "metadata": {
    "collapsed": false,
    "pycharm": {
     "name": "#%%\n"
    }
   }
  },
  {
   "cell_type": "markdown",
   "source": [
    "데이터에 이상치가 있는 듯"
   ],
   "metadata": {
    "collapsed": false,
    "pycharm": {
     "name": "#%% md\n"
    }
   }
  },
  {
   "cell_type": "code",
   "execution_count": 31,
   "outputs": [],
   "source": [
    "col_list = ['사업자등록번호', '기업접두명', '기업명', '기업접미명', '기업영문명', '업종', '공기업구분', '본점지점구분', '국외투자법인여부', '벤처기업여부', '상장코드', '산업코드1','산업코드2', '산업코드3' , '공공기관유형', '중견기업보호여부', '본점기업코드', '설립일자', '설립구분', '상장일자', '주요사업내용', '국가명', '홈페이지URL', '대표자명', '직원수']"
   ],
   "metadata": {
    "collapsed": false,
    "pycharm": {
     "name": "#%%\n"
    }
   }
  },
  {
   "cell_type": "code",
   "execution_count": 32,
   "outputs": [
    {
     "name": "stdout",
     "output_type": "stream",
     "text": [
      "8398700544    1\n",
      "1438102115    1\n",
      "1448131234    1\n",
      "1388159649    1\n",
      "1208658794    1\n",
      "             ..\n",
      "1438117239    1\n",
      "1018628789    1\n",
      "3068118386    1\n",
      "7128800625    1\n",
      "1138165759    1\n",
      "Name: 사업자등록번호, Length: 28982, dtype: int64\n",
      "/////////\n",
      "(주)    18458\n",
      "(유)      121\n",
      "(자)        1\n",
      "Name: 기업접두명, dtype: int64\n",
      "/////////\n",
      "주택관리공단         10\n",
      "소모에너지엔테크놀러지     9\n",
      "한국체인모터          7\n",
      "신흥              7\n",
      "메인텍             6\n",
      "               ..\n",
      "코웰정밀            1\n",
      "선승연             1\n",
      "코너스톤그룹          1\n",
      "썬폴리폼            1\n",
      "프리미엄원희캐슬        1\n",
      "Name: 기업명, Length: 27359, dtype: int64\n",
      "/////////\n",
      "(주)    8916\n",
      "(유)     253\n",
      "Name: 기업접미명, dtype: int64\n",
      "/////////\n",
      "Korea Housing Management Co.,Ltd.        167\n",
      "Samil Appraisal Corporation Co., Ltd.     11\n",
      "Dai Sung Oil Co, Ltd                       9\n",
      "SOMO ENERGY AND TECHNOLOGY Co., Ltd.       9\n",
      "Dongbang Oil Co, Ltd                       9\n",
      "                                        ... \n",
      "SUNG HO TECHNICAL SOLUTION Co., Ltd        1\n",
      "SC.Min Innovation Co., Ltd.                1\n",
      "KCC Co., Ltd.                              1\n",
      "Dongbang Pastec Co, Ltd Icheon Branch      1\n",
      "DAON INP Co.,Ltd.                          1\n",
      "Name: 기업영문명, Length: 28136, dtype: int64\n",
      "/////////\n",
      "M    28617\n",
      "O      267\n",
      "A       49\n",
      "V       37\n",
      "S        8\n",
      "F        2\n",
      "B        1\n",
      "I        1\n",
      "Name: 업종, dtype: int64\n",
      "/////////\n",
      "2    28975\n",
      "1        7\n",
      "Name: 공기업구분, dtype: int64\n",
      "/////////\n",
      "1    26070\n",
      "2     2912\n",
      "Name: 본점지점구분, dtype: int64\n",
      "/////////\n",
      "N    27347\n",
      "Y     1635\n",
      "Name: 국외투자법인여부, dtype: int64\n",
      "/////////\n",
      "N    26170\n",
      "Y     2812\n",
      "Name: 벤처기업여부, dtype: int64\n",
      "/////////\n",
      "114570     1\n",
      "A327970    1\n",
      "A037340    1\n",
      "A221610    1\n",
      "A047730    1\n",
      "          ..\n",
      "A052510    1\n",
      "A245030    1\n",
      "A013340    1\n",
      "A087220    1\n",
      "001490     1\n",
      "Name: 상장코드, Length: 89, dtype: int64\n",
      "/////////\n",
      "68129.0    1204\n",
      "68112.0     777\n",
      "68121.0     450\n",
      "30391.0     441\n",
      "68122.0     437\n",
      "           ... \n",
      "10212.0       1\n",
      "64130.0       1\n",
      "91100.0       1\n",
      "47840.0       1\n",
      "20322.0       1\n",
      "Name: 산업코드1, Length: 1360, dtype: int64\n",
      "/////////\n",
      "42310.0    44\n",
      "42132.0    41\n",
      "42320.0    30\n",
      "42420.0    30\n",
      "42209.0    26\n",
      "           ..\n",
      "52109.0     1\n",
      "10302.0     1\n",
      "22229.0     1\n",
      "74000.0     1\n",
      "10740.0     1\n",
      "Name: 산업코드2, Length: 418, dtype: int64\n",
      "/////////\n",
      "42204.0    14\n",
      "42320.0    14\n",
      "42310.0    10\n",
      "42134.0     7\n",
      "75310.0     7\n",
      "           ..\n",
      "28122.0     1\n",
      "74300.0     1\n",
      "74100.0     1\n",
      "49300.0     1\n",
      "42136.0     1\n",
      "Name: 산업코드3, Length: 133, dtype: int64\n",
      "/////////\n",
      "0    28947\n",
      "3       29\n",
      "2        6\n",
      "Name: 공공기관유형, dtype: int64\n",
      "/////////\n",
      "N    28884\n",
      "Y       98\n",
      "Name: 중견기업보호여부, dtype: int64\n",
      "/////////\n",
      "1308524.0    217\n",
      "1365262.0     41\n",
      "1857086.0     36\n",
      "1493057.0     28\n",
      "1713224.0     25\n",
      "            ... \n",
      "2610113.0      1\n",
      "1436010.0      1\n",
      "1630248.0      1\n",
      "1327679.0      1\n",
      "1262906.0      1\n",
      "Name: 본점기업코드, Length: 1616, dtype: int64\n",
      "/////////\n",
      "20000701.0    43\n",
      "20000101.0    41\n",
      "19990101.0    37\n",
      "19991001.0    34\n",
      "19970101.0    34\n",
      "              ..\n",
      "20100207.0     1\n",
      "19980226.0     1\n",
      "19790927.0     1\n",
      "19980426.0     1\n",
      "19940526.0     1\n",
      "Name: 설립일자, Length: 9566, dtype: int64\n",
      "/////////\n",
      "1     28463\n",
      "4       389\n",
      "99      122\n",
      "6         4\n",
      "2         1\n",
      "5         1\n",
      "7         1\n",
      "10        1\n",
      "Name: 설립구분, dtype: int64\n",
      "/////////\n",
      "20140825.0    8\n",
      "19940831.0    2\n",
      "20090925.0    2\n",
      "20190620.0    2\n",
      "20070522.0    2\n",
      "             ..\n",
      "20170523.0    1\n",
      "20200618.0    1\n",
      "19961223.0    1\n",
      "20180426.0    1\n",
      "20211028.0    1\n",
      "Name: 상장일자, Length: 145, dtype: int64\n",
      "/////////\n",
      "주택건설업                    242\n",
      "부동산 임대업                  229\n",
      "부동산 개발업                  208\n",
      "건축공사업                    154\n",
      "자동차부품 제조업                151\n",
      "                        ... \n",
      "알루미늄형재제조판매업,가공수입업          1\n",
      "자동차관련서비스업                  1\n",
      "마이크로 광학렌즈 및 부품 제조업         1\n",
      "우산 및 지팡이 제조업               1\n",
      "조명기구,램프,안정기 제조 및 도소매업      1\n",
      "Name: 주요사업내용, Length: 20005, dtype: int64\n",
      "/////////\n",
      "일본       379\n",
      "미국       276\n",
      "싱가포르     146\n",
      "네덜란드     104\n",
      "홍콩       103\n",
      "        ... \n",
      "라부안        1\n",
      "폴란드        1\n",
      "파키스탄       1\n",
      "그리스        1\n",
      "바베이도스      1\n",
      "Name: 국가명, Length: 63, dtype: int64\n",
      "/////////\n",
      "-                       613\n",
      "없음                       90\n",
      ".                        19\n",
      "www.himo.co.kr           15\n",
      "www.mapletree.com.sg     12\n",
      "                       ... \n",
      "www.conair.co.kr          1\n",
      "www.cntv.co.kr            1\n",
      "www.yujinltd.co.kr        1\n",
      "www.secutec.co.kr         1\n",
      "www.baosheng.com          1\n",
      "Name: 홈페이지URL, Length: 15775, dtype: int64\n",
      "/////////\n",
      "서종균        218\n",
      "권종열         40\n",
      "홍인표         35\n",
      "박윤구         28\n",
      "하응수         26\n",
      "          ... \n",
      "유영헌          1\n",
      "고인영          1\n",
      "김명찬          1\n",
      "김상곤외 1명      1\n",
      "정해경          1\n",
      "Name: 대표자명, Length: 19443, dtype: int64\n",
      "/////////\n",
      "1.0       1341\n",
      "3.0       1106\n",
      "4.0       1098\n",
      "2.0       1064\n",
      "5.0        836\n",
      "          ... \n",
      "1789.0       1\n",
      "950.0        1\n",
      "750.0        1\n",
      "1423.0       1\n",
      "1342.0       1\n",
      "Name: 직원수, Length: 746, dtype: int64\n",
      "/////////\n"
     ]
    }
   ],
   "source": [
    "for i in col_list:\n",
    "    print(df_active[i].value_counts())\n",
    "    print('/////////')"
   ],
   "metadata": {
    "collapsed": false,
    "pycharm": {
     "name": "#%%\n"
    }
   }
  },
  {
   "cell_type": "code",
   "execution_count": 33,
   "outputs": [],
   "source": [
    "col_list = ['업종', '공기업구분', '본점지점구분', '국외투자법인여부', '벤처기업여부', '상장코드', '산업코드1','산업코드2', '산업코드3', '공공기관유형', '중견기업보호여부', '본점기업코드', '설립일자', '설립구분', '상장일자', '주요사업내용', '국가명', '홈페이지URL', '대표자명', '직원수']\n"
   ],
   "metadata": {
    "collapsed": false,
    "pycharm": {
     "name": "#%%\n"
    }
   }
  },
  {
   "cell_type": "markdown",
   "source": [],
   "metadata": {
    "collapsed": false
   }
  },
  {
   "cell_type": "code",
   "execution_count": 34,
   "outputs": [],
   "source": [
    "df_down = pd.read_excel(r'C:\\Users\\yoon9\\Desktop\\3-2\\Numble\\넘블 챌린지 데이터\\휴폐업 중소법인 재무보유.xlsx')"
   ],
   "metadata": {
    "collapsed": false,
    "pycharm": {
     "name": "#%%\n"
    }
   }
  },
  {
   "cell_type": "code",
   "execution_count": 35,
   "outputs": [],
   "source": [
    "df_down = df_down.rename(columns= {'BIZ_NO':'사업자등록번호', 'CMP_PFIX_NM':'기업접두명', 'CMP_NM':'기업명', 'CMP_SFIX_NM':'기업접미명', 'CMP_ENM':'기업영문명', 'BZ_TYP':'업종','CMP_SCL':'기업규모', 'PBCO_GB':'공기업구분',\n",
    "                           'PSN_CORP_GB':'개인법인구분', 'HDOF_BR_GB':'본점지점구분', 'FR_IVST_CORP_YN':'국외투자법인여부', 'VENT_YN':'벤처기업여부', 'LIST_CD':'상장코드', 'IND_CD_ORDR':'산업코드차수', 'IND_CD1':'산업코드1', 'IND_CD2':'산업코드2', 'IND_CD3':'산업코드3','PB_ORG_TYP':'공공기관유형', 'MDSCO_PRTC_YN':'중견기업보호여부', 'HDOF_CMP_CD':'본점기업코드', 'ESTB_DATE':'설립일자', 'ESTB_GB':'설립구분', 'LIST_DATE':'상장일자', 'MN_BIZ_CONT':'주요사업내용', 'NATN_NM':'국가명', 'HOMEPAGE_URL':'홈페이지URL', 'CEO_NM':'대표자명','EMP_CNT':'직원수'})"
   ],
   "metadata": {
    "collapsed": false,
    "pycharm": {
     "name": "#%%\n"
    }
   }
  },
  {
   "cell_type": "markdown",
   "source": [
    "# 통합데이터 확인"
   ],
   "metadata": {
    "collapsed": false
   }
  },
  {
   "cell_type": "code",
   "execution_count": 12,
   "outputs": [
    {
     "data": {
      "text/plain": "          사업자등록번호              기업명  공기업구분  개인법인구분  본점지점구분  국외투자법인여부  벤처기업여부  \\\n0      1138111739           한일가스산업      2       1       1         0       0   \n1      2078132193             엠피아이      2       1       1         0       0   \n2      1318167565             도영운수      2       1       1         0       0   \n3      5048128251             중원산업      2       1       1         0       0   \n4      1098164260            카타나골프      2       1       1         0       0   \n...           ...              ...    ...     ...     ...       ...     ...   \n35716  4808501629          게방식당팩토리      2       1       2         0       0   \n35717  8018501578         우진푸드중부지점      2       1       2         0       0   \n35718  4118523419  윤월드푸드코리아다크써클브로스      2       1       2         0       0   \n35719  1738102533             기린테크      2       1       1         0       0   \n35720  3138135248             우리로봇      2       1       1         0       1   \n\n       상장코드  산업코드1  공공기관유형  중견기업보호여부  본점기업코드        설립일자  설립구분  국가명    직원수  \\\n0         0     47       0         0       0  1966-04-19     1    0   43.0   \n1         0     15       0         0       0  1991-08-06     1    0   35.0   \n2         0     49       0         0       0  2001-10-30     1    0  149.0   \n3         0     30       0         0       0  1999-01-12     1    0   75.0   \n4         0     46       0         0       0  2000-05-31     1    0    3.0   \n...     ...    ...     ...       ...     ...         ...   ...  ...    ...   \n35716     0     10       0         0       1  2018-01-26     1    0    0.0   \n35717     0     10       0         0       1  2020-07-27     1    0   22.0   \n35718     0     56       0         0       1  2019-09-26     1    0    0.0   \n35719     0     58       0         0       0  2021-10-25     1    0    0.0   \n35720     0     29       0         0       0  2020-06-29     1    0    0.0   \n\n       폐업여부   산업코드 대분류  \n0         0   도매 및 소매업  \n1         0        제조업  \n2         0   운수 및 창고업  \n3         0        제조업  \n4         0   도매 및 소매업  \n...     ...        ...  \n35716     1        제조업  \n35717     1        제조업  \n35718     1  숙박 및 음식점업  \n35719     1      정보통신업  \n35720     1        제조업  \n\n[35721 rows x 18 columns]",
      "text/html": "<div>\n<style scoped>\n    .dataframe tbody tr th:only-of-type {\n        vertical-align: middle;\n    }\n\n    .dataframe tbody tr th {\n        vertical-align: top;\n    }\n\n    .dataframe thead th {\n        text-align: right;\n    }\n</style>\n<table border=\"1\" class=\"dataframe\">\n  <thead>\n    <tr style=\"text-align: right;\">\n      <th></th>\n      <th>사업자등록번호</th>\n      <th>기업명</th>\n      <th>공기업구분</th>\n      <th>개인법인구분</th>\n      <th>본점지점구분</th>\n      <th>국외투자법인여부</th>\n      <th>벤처기업여부</th>\n      <th>상장코드</th>\n      <th>산업코드1</th>\n      <th>공공기관유형</th>\n      <th>중견기업보호여부</th>\n      <th>본점기업코드</th>\n      <th>설립일자</th>\n      <th>설립구분</th>\n      <th>국가명</th>\n      <th>직원수</th>\n      <th>폐업여부</th>\n      <th>산업코드 대분류</th>\n    </tr>\n  </thead>\n  <tbody>\n    <tr>\n      <th>0</th>\n      <td>1138111739</td>\n      <td>한일가스산업</td>\n      <td>2</td>\n      <td>1</td>\n      <td>1</td>\n      <td>0</td>\n      <td>0</td>\n      <td>0</td>\n      <td>47</td>\n      <td>0</td>\n      <td>0</td>\n      <td>0</td>\n      <td>1966-04-19</td>\n      <td>1</td>\n      <td>0</td>\n      <td>43.0</td>\n      <td>0</td>\n      <td>도매 및 소매업</td>\n    </tr>\n    <tr>\n      <th>1</th>\n      <td>2078132193</td>\n      <td>엠피아이</td>\n      <td>2</td>\n      <td>1</td>\n      <td>1</td>\n      <td>0</td>\n      <td>0</td>\n      <td>0</td>\n      <td>15</td>\n      <td>0</td>\n      <td>0</td>\n      <td>0</td>\n      <td>1991-08-06</td>\n      <td>1</td>\n      <td>0</td>\n      <td>35.0</td>\n      <td>0</td>\n      <td>제조업</td>\n    </tr>\n    <tr>\n      <th>2</th>\n      <td>1318167565</td>\n      <td>도영운수</td>\n      <td>2</td>\n      <td>1</td>\n      <td>1</td>\n      <td>0</td>\n      <td>0</td>\n      <td>0</td>\n      <td>49</td>\n      <td>0</td>\n      <td>0</td>\n      <td>0</td>\n      <td>2001-10-30</td>\n      <td>1</td>\n      <td>0</td>\n      <td>149.0</td>\n      <td>0</td>\n      <td>운수 및 창고업</td>\n    </tr>\n    <tr>\n      <th>3</th>\n      <td>5048128251</td>\n      <td>중원산업</td>\n      <td>2</td>\n      <td>1</td>\n      <td>1</td>\n      <td>0</td>\n      <td>0</td>\n      <td>0</td>\n      <td>30</td>\n      <td>0</td>\n      <td>0</td>\n      <td>0</td>\n      <td>1999-01-12</td>\n      <td>1</td>\n      <td>0</td>\n      <td>75.0</td>\n      <td>0</td>\n      <td>제조업</td>\n    </tr>\n    <tr>\n      <th>4</th>\n      <td>1098164260</td>\n      <td>카타나골프</td>\n      <td>2</td>\n      <td>1</td>\n      <td>1</td>\n      <td>0</td>\n      <td>0</td>\n      <td>0</td>\n      <td>46</td>\n      <td>0</td>\n      <td>0</td>\n      <td>0</td>\n      <td>2000-05-31</td>\n      <td>1</td>\n      <td>0</td>\n      <td>3.0</td>\n      <td>0</td>\n      <td>도매 및 소매업</td>\n    </tr>\n    <tr>\n      <th>...</th>\n      <td>...</td>\n      <td>...</td>\n      <td>...</td>\n      <td>...</td>\n      <td>...</td>\n      <td>...</td>\n      <td>...</td>\n      <td>...</td>\n      <td>...</td>\n      <td>...</td>\n      <td>...</td>\n      <td>...</td>\n      <td>...</td>\n      <td>...</td>\n      <td>...</td>\n      <td>...</td>\n      <td>...</td>\n      <td>...</td>\n    </tr>\n    <tr>\n      <th>35716</th>\n      <td>4808501629</td>\n      <td>게방식당팩토리</td>\n      <td>2</td>\n      <td>1</td>\n      <td>2</td>\n      <td>0</td>\n      <td>0</td>\n      <td>0</td>\n      <td>10</td>\n      <td>0</td>\n      <td>0</td>\n      <td>1</td>\n      <td>2018-01-26</td>\n      <td>1</td>\n      <td>0</td>\n      <td>0.0</td>\n      <td>1</td>\n      <td>제조업</td>\n    </tr>\n    <tr>\n      <th>35717</th>\n      <td>8018501578</td>\n      <td>우진푸드중부지점</td>\n      <td>2</td>\n      <td>1</td>\n      <td>2</td>\n      <td>0</td>\n      <td>0</td>\n      <td>0</td>\n      <td>10</td>\n      <td>0</td>\n      <td>0</td>\n      <td>1</td>\n      <td>2020-07-27</td>\n      <td>1</td>\n      <td>0</td>\n      <td>22.0</td>\n      <td>1</td>\n      <td>제조업</td>\n    </tr>\n    <tr>\n      <th>35718</th>\n      <td>4118523419</td>\n      <td>윤월드푸드코리아다크써클브로스</td>\n      <td>2</td>\n      <td>1</td>\n      <td>2</td>\n      <td>0</td>\n      <td>0</td>\n      <td>0</td>\n      <td>56</td>\n      <td>0</td>\n      <td>0</td>\n      <td>1</td>\n      <td>2019-09-26</td>\n      <td>1</td>\n      <td>0</td>\n      <td>0.0</td>\n      <td>1</td>\n      <td>숙박 및 음식점업</td>\n    </tr>\n    <tr>\n      <th>35719</th>\n      <td>1738102533</td>\n      <td>기린테크</td>\n      <td>2</td>\n      <td>1</td>\n      <td>1</td>\n      <td>0</td>\n      <td>0</td>\n      <td>0</td>\n      <td>58</td>\n      <td>0</td>\n      <td>0</td>\n      <td>0</td>\n      <td>2021-10-25</td>\n      <td>1</td>\n      <td>0</td>\n      <td>0.0</td>\n      <td>1</td>\n      <td>정보통신업</td>\n    </tr>\n    <tr>\n      <th>35720</th>\n      <td>3138135248</td>\n      <td>우리로봇</td>\n      <td>2</td>\n      <td>1</td>\n      <td>1</td>\n      <td>0</td>\n      <td>1</td>\n      <td>0</td>\n      <td>29</td>\n      <td>0</td>\n      <td>0</td>\n      <td>0</td>\n      <td>2020-06-29</td>\n      <td>1</td>\n      <td>0</td>\n      <td>0.0</td>\n      <td>1</td>\n      <td>제조업</td>\n    </tr>\n  </tbody>\n</table>\n<p>35721 rows × 18 columns</p>\n</div>"
     },
     "execution_count": 12,
     "metadata": {},
     "output_type": "execute_result"
    }
   ],
   "source": [
    "df"
   ],
   "metadata": {
    "collapsed": false,
    "pycharm": {
     "name": "#%%\n"
    }
   }
  },
  {
   "cell_type": "code",
   "execution_count": 15,
   "outputs": [
    {
     "data": {
      "text/plain": "            BIZ_NO CMP_PFIX_NM     CMP_NM    CMP_NM1 CMP_SFIX_NM  \\\n0       2218116923         NaN        NaN     신우종합건설         (주)   \n1       1138111739         NaN  한일가스산업(주)     한일가스산업         (주)   \n2       1108146490         (주)        NaN       랩솔루션         NaN   \n3       3128134737         (주)        NaN   고려인삼제품공사         NaN   \n4       2078132193         (주)    (주)엠피아이       엠피아이         NaN   \n...            ...         ...        ...        ...         ...   \n198646  6208701973         (주)        NaN      동화피앤피         NaN   \n198647  3688702720         NaN        NaN     중앙종합조경         (주)   \n198648  4868602701         (주)        NaN        세움웹         NaN   \n198649  2528101633         (주)        NaN   에프에이앤컴퍼니         NaN   \n198650  2208880488         NaN        NaN  주식회사 태승엔비         NaN   \n\n                                     CMP_ENM BZ_TYP  CMP_TYP  CMP_SCL  \\\n0       Shinu General Construction Co., Ltd.      M        4        2   \n1                    HANIL GAS IND. CO.,LTD.      M        3        2   \n2                               Lab Solution      M        4        2   \n3            KOREAN GINSENG PRODUCT CO., LTD      M        4        2   \n4                          EMPIALEE CO.,LTD.      M        3        2   \n...                                      ...    ...      ...      ...   \n198646                 Donghwa P&P Co., Ltd.      M        4        2   \n198647                                   NaN      M        4        2   \n198648                                   NaN      M        5        2   \n198649                    fa & company, inc.      M        4        2   \n198650                                   NaN      M        4        2   \n\n        PBCO_GB  ...  TAXN_TYP  HDOF_CMP_CD   ESTB_DATE ESTB_GB LIST_DATE  \\\n0             2  ...       3.0          NaN  20000807.0     1.0       NaN   \n1             2  ...       3.0          NaN  19660419.0     1.0       NaN   \n2             2  ...       3.0          NaN  20000612.0     1.0       NaN   \n3             2  ...       3.0          NaN  19920301.0     1.0       NaN   \n4             2  ...       3.0          NaN  19910806.0     1.0       NaN   \n...         ...  ...       ...          ...         ...     ...       ...   \n198646        2  ...       3.0          NaN  20200925.0     1.0       NaN   \n198647        2  ...       3.0          NaN  20220721.0     1.0       NaN   \n198648        2  ...       3.0          NaN  20220801.0     1.0       NaN   \n198649        2  ...       NaN          NaN  20200106.0     1.0       NaN   \n198650        2  ...       NaN          NaN  20140531.0     1.0       NaN   \n\n                        MN_BIZ_CONT  NATN_NM          HOMEPAGE_URL  \\\n0                             토목공사업      NaN                   NaN   \n1                   LP Gas 충전 및 판매업      NaN      www.hanilgas.com   \n2                           기체분석기 등      NaN  www.lab-solution.com   \n3       다류, 차, 인삼제품, 음료, 코코아가공품, 커피      NaN       www.kitea.co.kr   \n4                   가죽 및 대용가죽제품 제조업      NaN   www.mastercnd.co.kr   \n...                             ...      ...                   ...   \n198646              인쇄, 지함, 코팅, 디자인      NaN                   NaN   \n198647                   조경공사, 토목공사      NaN                   NaN   \n198648           소프트웨어 자문, 개발 및 공급업      NaN                   NaN   \n198649                UX디자인 및 프로그래밍      NaN                   NaN   \n198650                          NaN      NaN                   NaN   \n\n            CEO_NM  EMP_CNT  \n0          김주대외 1명     12.0  \n1          홍순철외 1명     43.0  \n2              김봉철      3.0  \n3              박경출     24.0  \n4       이스테판상수외 1명     35.0  \n...            ...      ...  \n198646         홍종오      NaN  \n198647         서영희     13.0  \n198648         이대홍      NaN  \n198649         이해성      NaN  \n198650         유태형      NaN  \n\n[198651 rows x 31 columns]",
      "text/html": "<div>\n<style scoped>\n    .dataframe tbody tr th:only-of-type {\n        vertical-align: middle;\n    }\n\n    .dataframe tbody tr th {\n        vertical-align: top;\n    }\n\n    .dataframe thead th {\n        text-align: right;\n    }\n</style>\n<table border=\"1\" class=\"dataframe\">\n  <thead>\n    <tr style=\"text-align: right;\">\n      <th></th>\n      <th>BIZ_NO</th>\n      <th>CMP_PFIX_NM</th>\n      <th>CMP_NM</th>\n      <th>CMP_NM1</th>\n      <th>CMP_SFIX_NM</th>\n      <th>CMP_ENM</th>\n      <th>BZ_TYP</th>\n      <th>CMP_TYP</th>\n      <th>CMP_SCL</th>\n      <th>PBCO_GB</th>\n      <th>...</th>\n      <th>TAXN_TYP</th>\n      <th>HDOF_CMP_CD</th>\n      <th>ESTB_DATE</th>\n      <th>ESTB_GB</th>\n      <th>LIST_DATE</th>\n      <th>MN_BIZ_CONT</th>\n      <th>NATN_NM</th>\n      <th>HOMEPAGE_URL</th>\n      <th>CEO_NM</th>\n      <th>EMP_CNT</th>\n    </tr>\n  </thead>\n  <tbody>\n    <tr>\n      <th>0</th>\n      <td>2218116923</td>\n      <td>NaN</td>\n      <td>NaN</td>\n      <td>신우종합건설</td>\n      <td>(주)</td>\n      <td>Shinu General Construction Co., Ltd.</td>\n      <td>M</td>\n      <td>4</td>\n      <td>2</td>\n      <td>2</td>\n      <td>...</td>\n      <td>3.0</td>\n      <td>NaN</td>\n      <td>20000807.0</td>\n      <td>1.0</td>\n      <td>NaN</td>\n      <td>토목공사업</td>\n      <td>NaN</td>\n      <td>NaN</td>\n      <td>김주대외 1명</td>\n      <td>12.0</td>\n    </tr>\n    <tr>\n      <th>1</th>\n      <td>1138111739</td>\n      <td>NaN</td>\n      <td>한일가스산업(주)</td>\n      <td>한일가스산업</td>\n      <td>(주)</td>\n      <td>HANIL GAS IND. CO.,LTD.</td>\n      <td>M</td>\n      <td>3</td>\n      <td>2</td>\n      <td>2</td>\n      <td>...</td>\n      <td>3.0</td>\n      <td>NaN</td>\n      <td>19660419.0</td>\n      <td>1.0</td>\n      <td>NaN</td>\n      <td>LP Gas 충전 및 판매업</td>\n      <td>NaN</td>\n      <td>www.hanilgas.com</td>\n      <td>홍순철외 1명</td>\n      <td>43.0</td>\n    </tr>\n    <tr>\n      <th>2</th>\n      <td>1108146490</td>\n      <td>(주)</td>\n      <td>NaN</td>\n      <td>랩솔루션</td>\n      <td>NaN</td>\n      <td>Lab Solution</td>\n      <td>M</td>\n      <td>4</td>\n      <td>2</td>\n      <td>2</td>\n      <td>...</td>\n      <td>3.0</td>\n      <td>NaN</td>\n      <td>20000612.0</td>\n      <td>1.0</td>\n      <td>NaN</td>\n      <td>기체분석기 등</td>\n      <td>NaN</td>\n      <td>www.lab-solution.com</td>\n      <td>김봉철</td>\n      <td>3.0</td>\n    </tr>\n    <tr>\n      <th>3</th>\n      <td>3128134737</td>\n      <td>(주)</td>\n      <td>NaN</td>\n      <td>고려인삼제품공사</td>\n      <td>NaN</td>\n      <td>KOREAN GINSENG PRODUCT CO., LTD</td>\n      <td>M</td>\n      <td>4</td>\n      <td>2</td>\n      <td>2</td>\n      <td>...</td>\n      <td>3.0</td>\n      <td>NaN</td>\n      <td>19920301.0</td>\n      <td>1.0</td>\n      <td>NaN</td>\n      <td>다류, 차, 인삼제품, 음료, 코코아가공품, 커피</td>\n      <td>NaN</td>\n      <td>www.kitea.co.kr</td>\n      <td>박경출</td>\n      <td>24.0</td>\n    </tr>\n    <tr>\n      <th>4</th>\n      <td>2078132193</td>\n      <td>(주)</td>\n      <td>(주)엠피아이</td>\n      <td>엠피아이</td>\n      <td>NaN</td>\n      <td>EMPIALEE CO.,LTD.</td>\n      <td>M</td>\n      <td>3</td>\n      <td>2</td>\n      <td>2</td>\n      <td>...</td>\n      <td>3.0</td>\n      <td>NaN</td>\n      <td>19910806.0</td>\n      <td>1.0</td>\n      <td>NaN</td>\n      <td>가죽 및 대용가죽제품 제조업</td>\n      <td>NaN</td>\n      <td>www.mastercnd.co.kr</td>\n      <td>이스테판상수외 1명</td>\n      <td>35.0</td>\n    </tr>\n    <tr>\n      <th>...</th>\n      <td>...</td>\n      <td>...</td>\n      <td>...</td>\n      <td>...</td>\n      <td>...</td>\n      <td>...</td>\n      <td>...</td>\n      <td>...</td>\n      <td>...</td>\n      <td>...</td>\n      <td>...</td>\n      <td>...</td>\n      <td>...</td>\n      <td>...</td>\n      <td>...</td>\n      <td>...</td>\n      <td>...</td>\n      <td>...</td>\n      <td>...</td>\n      <td>...</td>\n      <td>...</td>\n    </tr>\n    <tr>\n      <th>198646</th>\n      <td>6208701973</td>\n      <td>(주)</td>\n      <td>NaN</td>\n      <td>동화피앤피</td>\n      <td>NaN</td>\n      <td>Donghwa P&amp;P Co., Ltd.</td>\n      <td>M</td>\n      <td>4</td>\n      <td>2</td>\n      <td>2</td>\n      <td>...</td>\n      <td>3.0</td>\n      <td>NaN</td>\n      <td>20200925.0</td>\n      <td>1.0</td>\n      <td>NaN</td>\n      <td>인쇄, 지함, 코팅, 디자인</td>\n      <td>NaN</td>\n      <td>NaN</td>\n      <td>홍종오</td>\n      <td>NaN</td>\n    </tr>\n    <tr>\n      <th>198647</th>\n      <td>3688702720</td>\n      <td>NaN</td>\n      <td>NaN</td>\n      <td>중앙종합조경</td>\n      <td>(주)</td>\n      <td>NaN</td>\n      <td>M</td>\n      <td>4</td>\n      <td>2</td>\n      <td>2</td>\n      <td>...</td>\n      <td>3.0</td>\n      <td>NaN</td>\n      <td>20220721.0</td>\n      <td>1.0</td>\n      <td>NaN</td>\n      <td>조경공사, 토목공사</td>\n      <td>NaN</td>\n      <td>NaN</td>\n      <td>서영희</td>\n      <td>13.0</td>\n    </tr>\n    <tr>\n      <th>198648</th>\n      <td>4868602701</td>\n      <td>(주)</td>\n      <td>NaN</td>\n      <td>세움웹</td>\n      <td>NaN</td>\n      <td>NaN</td>\n      <td>M</td>\n      <td>5</td>\n      <td>2</td>\n      <td>2</td>\n      <td>...</td>\n      <td>3.0</td>\n      <td>NaN</td>\n      <td>20220801.0</td>\n      <td>1.0</td>\n      <td>NaN</td>\n      <td>소프트웨어 자문, 개발 및 공급업</td>\n      <td>NaN</td>\n      <td>NaN</td>\n      <td>이대홍</td>\n      <td>NaN</td>\n    </tr>\n    <tr>\n      <th>198649</th>\n      <td>2528101633</td>\n      <td>(주)</td>\n      <td>NaN</td>\n      <td>에프에이앤컴퍼니</td>\n      <td>NaN</td>\n      <td>fa &amp; company, inc.</td>\n      <td>M</td>\n      <td>4</td>\n      <td>2</td>\n      <td>2</td>\n      <td>...</td>\n      <td>NaN</td>\n      <td>NaN</td>\n      <td>20200106.0</td>\n      <td>1.0</td>\n      <td>NaN</td>\n      <td>UX디자인 및 프로그래밍</td>\n      <td>NaN</td>\n      <td>NaN</td>\n      <td>이해성</td>\n      <td>NaN</td>\n    </tr>\n    <tr>\n      <th>198650</th>\n      <td>2208880488</td>\n      <td>NaN</td>\n      <td>NaN</td>\n      <td>주식회사 태승엔비</td>\n      <td>NaN</td>\n      <td>NaN</td>\n      <td>M</td>\n      <td>4</td>\n      <td>2</td>\n      <td>2</td>\n      <td>...</td>\n      <td>NaN</td>\n      <td>NaN</td>\n      <td>20140531.0</td>\n      <td>1.0</td>\n      <td>NaN</td>\n      <td>NaN</td>\n      <td>NaN</td>\n      <td>NaN</td>\n      <td>유태형</td>\n      <td>NaN</td>\n    </tr>\n  </tbody>\n</table>\n<p>198651 rows × 31 columns</p>\n</div>"
     },
     "execution_count": 15,
     "metadata": {},
     "output_type": "execute_result"
    }
   ],
   "source": [],
   "metadata": {
    "collapsed": false,
    "pycharm": {
     "name": "#%%\n"
    }
   }
  },
  {
   "cell_type": "code",
   "execution_count": 11,
   "outputs": [
    {
     "data": {
      "text/plain": "            BIZ_NO CMP_PFIX_NM     CMP_NM    CMP_NM1 CMP_SFIX_NM  \\\n0       2218116923         NaN        NaN     신우종합건설         (주)   \n1       1138111739         NaN  한일가스산업(주)     한일가스산업         (주)   \n2       1108146490         (주)        NaN       랩솔루션         NaN   \n3       3128134737         (주)        NaN   고려인삼제품공사         NaN   \n4       2078132193         (주)    (주)엠피아이       엠피아이         NaN   \n...            ...         ...        ...        ...         ...   \n198646  6208701973         (주)        NaN      동화피앤피         NaN   \n198647  3688702720         NaN        NaN     중앙종합조경         (주)   \n198648  4868602701         (주)        NaN        세움웹         NaN   \n198649  2528101633         (주)        NaN   에프에이앤컴퍼니         NaN   \n198650  2208880488         NaN        NaN  주식회사 태승엔비         NaN   \n\n                                     CMP_ENM BZ_TYP  CMP_TYP  CMP_SCL  \\\n0       Shinu General Construction Co., Ltd.      M        4        2   \n1                    HANIL GAS IND. CO.,LTD.      M        3        2   \n2                               Lab Solution      M        4        2   \n3            KOREAN GINSENG PRODUCT CO., LTD      M        4        2   \n4                          EMPIALEE CO.,LTD.      M        3        2   \n...                                      ...    ...      ...      ...   \n198646                 Donghwa P&P Co., Ltd.      M        4        2   \n198647                                   NaN      M        4        2   \n198648                                   NaN      M        5        2   \n198649                    fa & company, inc.      M        4        2   \n198650                                   NaN      M        4        2   \n\n        PBCO_GB  ...  TAXN_TYP  HDOF_CMP_CD   ESTB_DATE ESTB_GB LIST_DATE  \\\n0             2  ...       3.0          NaN  20000807.0     1.0       NaN   \n1             2  ...       3.0          NaN  19660419.0     1.0       NaN   \n2             2  ...       3.0          NaN  20000612.0     1.0       NaN   \n3             2  ...       3.0          NaN  19920301.0     1.0       NaN   \n4             2  ...       3.0          NaN  19910806.0     1.0       NaN   \n...         ...  ...       ...          ...         ...     ...       ...   \n198646        2  ...       3.0          NaN  20200925.0     1.0       NaN   \n198647        2  ...       3.0          NaN  20220721.0     1.0       NaN   \n198648        2  ...       3.0          NaN  20220801.0     1.0       NaN   \n198649        2  ...       NaN          NaN  20200106.0     1.0       NaN   \n198650        2  ...       NaN          NaN  20140531.0     1.0       NaN   \n\n                        MN_BIZ_CONT  NATN_NM          HOMEPAGE_URL  \\\n0                             토목공사업      NaN                   NaN   \n1                   LP Gas 충전 및 판매업      NaN      www.hanilgas.com   \n2                           기체분석기 등      NaN  www.lab-solution.com   \n3       다류, 차, 인삼제품, 음료, 코코아가공품, 커피      NaN       www.kitea.co.kr   \n4                   가죽 및 대용가죽제품 제조업      NaN   www.mastercnd.co.kr   \n...                             ...      ...                   ...   \n198646              인쇄, 지함, 코팅, 디자인      NaN                   NaN   \n198647                   조경공사, 토목공사      NaN                   NaN   \n198648           소프트웨어 자문, 개발 및 공급업      NaN                   NaN   \n198649                UX디자인 및 프로그래밍      NaN                   NaN   \n198650                          NaN      NaN                   NaN   \n\n            CEO_NM  EMP_CNT  \n0          김주대외 1명     12.0  \n1          홍순철외 1명     43.0  \n2              김봉철      3.0  \n3              박경출     24.0  \n4       이스테판상수외 1명     35.0  \n...            ...      ...  \n198646         홍종오      NaN  \n198647         서영희     13.0  \n198648         이대홍      NaN  \n198649         이해성      NaN  \n198650         유태형      NaN  \n\n[198651 rows x 31 columns]",
      "text/html": "<div>\n<style scoped>\n    .dataframe tbody tr th:only-of-type {\n        vertical-align: middle;\n    }\n\n    .dataframe tbody tr th {\n        vertical-align: top;\n    }\n\n    .dataframe thead th {\n        text-align: right;\n    }\n</style>\n<table border=\"1\" class=\"dataframe\">\n  <thead>\n    <tr style=\"text-align: right;\">\n      <th></th>\n      <th>BIZ_NO</th>\n      <th>CMP_PFIX_NM</th>\n      <th>CMP_NM</th>\n      <th>CMP_NM1</th>\n      <th>CMP_SFIX_NM</th>\n      <th>CMP_ENM</th>\n      <th>BZ_TYP</th>\n      <th>CMP_TYP</th>\n      <th>CMP_SCL</th>\n      <th>PBCO_GB</th>\n      <th>...</th>\n      <th>TAXN_TYP</th>\n      <th>HDOF_CMP_CD</th>\n      <th>ESTB_DATE</th>\n      <th>ESTB_GB</th>\n      <th>LIST_DATE</th>\n      <th>MN_BIZ_CONT</th>\n      <th>NATN_NM</th>\n      <th>HOMEPAGE_URL</th>\n      <th>CEO_NM</th>\n      <th>EMP_CNT</th>\n    </tr>\n  </thead>\n  <tbody>\n    <tr>\n      <th>0</th>\n      <td>2218116923</td>\n      <td>NaN</td>\n      <td>NaN</td>\n      <td>신우종합건설</td>\n      <td>(주)</td>\n      <td>Shinu General Construction Co., Ltd.</td>\n      <td>M</td>\n      <td>4</td>\n      <td>2</td>\n      <td>2</td>\n      <td>...</td>\n      <td>3.0</td>\n      <td>NaN</td>\n      <td>20000807.0</td>\n      <td>1.0</td>\n      <td>NaN</td>\n      <td>토목공사업</td>\n      <td>NaN</td>\n      <td>NaN</td>\n      <td>김주대외 1명</td>\n      <td>12.0</td>\n    </tr>\n    <tr>\n      <th>1</th>\n      <td>1138111739</td>\n      <td>NaN</td>\n      <td>한일가스산업(주)</td>\n      <td>한일가스산업</td>\n      <td>(주)</td>\n      <td>HANIL GAS IND. CO.,LTD.</td>\n      <td>M</td>\n      <td>3</td>\n      <td>2</td>\n      <td>2</td>\n      <td>...</td>\n      <td>3.0</td>\n      <td>NaN</td>\n      <td>19660419.0</td>\n      <td>1.0</td>\n      <td>NaN</td>\n      <td>LP Gas 충전 및 판매업</td>\n      <td>NaN</td>\n      <td>www.hanilgas.com</td>\n      <td>홍순철외 1명</td>\n      <td>43.0</td>\n    </tr>\n    <tr>\n      <th>2</th>\n      <td>1108146490</td>\n      <td>(주)</td>\n      <td>NaN</td>\n      <td>랩솔루션</td>\n      <td>NaN</td>\n      <td>Lab Solution</td>\n      <td>M</td>\n      <td>4</td>\n      <td>2</td>\n      <td>2</td>\n      <td>...</td>\n      <td>3.0</td>\n      <td>NaN</td>\n      <td>20000612.0</td>\n      <td>1.0</td>\n      <td>NaN</td>\n      <td>기체분석기 등</td>\n      <td>NaN</td>\n      <td>www.lab-solution.com</td>\n      <td>김봉철</td>\n      <td>3.0</td>\n    </tr>\n    <tr>\n      <th>3</th>\n      <td>3128134737</td>\n      <td>(주)</td>\n      <td>NaN</td>\n      <td>고려인삼제품공사</td>\n      <td>NaN</td>\n      <td>KOREAN GINSENG PRODUCT CO., LTD</td>\n      <td>M</td>\n      <td>4</td>\n      <td>2</td>\n      <td>2</td>\n      <td>...</td>\n      <td>3.0</td>\n      <td>NaN</td>\n      <td>19920301.0</td>\n      <td>1.0</td>\n      <td>NaN</td>\n      <td>다류, 차, 인삼제품, 음료, 코코아가공품, 커피</td>\n      <td>NaN</td>\n      <td>www.kitea.co.kr</td>\n      <td>박경출</td>\n      <td>24.0</td>\n    </tr>\n    <tr>\n      <th>4</th>\n      <td>2078132193</td>\n      <td>(주)</td>\n      <td>(주)엠피아이</td>\n      <td>엠피아이</td>\n      <td>NaN</td>\n      <td>EMPIALEE CO.,LTD.</td>\n      <td>M</td>\n      <td>3</td>\n      <td>2</td>\n      <td>2</td>\n      <td>...</td>\n      <td>3.0</td>\n      <td>NaN</td>\n      <td>19910806.0</td>\n      <td>1.0</td>\n      <td>NaN</td>\n      <td>가죽 및 대용가죽제품 제조업</td>\n      <td>NaN</td>\n      <td>www.mastercnd.co.kr</td>\n      <td>이스테판상수외 1명</td>\n      <td>35.0</td>\n    </tr>\n    <tr>\n      <th>...</th>\n      <td>...</td>\n      <td>...</td>\n      <td>...</td>\n      <td>...</td>\n      <td>...</td>\n      <td>...</td>\n      <td>...</td>\n      <td>...</td>\n      <td>...</td>\n      <td>...</td>\n      <td>...</td>\n      <td>...</td>\n      <td>...</td>\n      <td>...</td>\n      <td>...</td>\n      <td>...</td>\n      <td>...</td>\n      <td>...</td>\n      <td>...</td>\n      <td>...</td>\n      <td>...</td>\n    </tr>\n    <tr>\n      <th>198646</th>\n      <td>6208701973</td>\n      <td>(주)</td>\n      <td>NaN</td>\n      <td>동화피앤피</td>\n      <td>NaN</td>\n      <td>Donghwa P&amp;P Co., Ltd.</td>\n      <td>M</td>\n      <td>4</td>\n      <td>2</td>\n      <td>2</td>\n      <td>...</td>\n      <td>3.0</td>\n      <td>NaN</td>\n      <td>20200925.0</td>\n      <td>1.0</td>\n      <td>NaN</td>\n      <td>인쇄, 지함, 코팅, 디자인</td>\n      <td>NaN</td>\n      <td>NaN</td>\n      <td>홍종오</td>\n      <td>NaN</td>\n    </tr>\n    <tr>\n      <th>198647</th>\n      <td>3688702720</td>\n      <td>NaN</td>\n      <td>NaN</td>\n      <td>중앙종합조경</td>\n      <td>(주)</td>\n      <td>NaN</td>\n      <td>M</td>\n      <td>4</td>\n      <td>2</td>\n      <td>2</td>\n      <td>...</td>\n      <td>3.0</td>\n      <td>NaN</td>\n      <td>20220721.0</td>\n      <td>1.0</td>\n      <td>NaN</td>\n      <td>조경공사, 토목공사</td>\n      <td>NaN</td>\n      <td>NaN</td>\n      <td>서영희</td>\n      <td>13.0</td>\n    </tr>\n    <tr>\n      <th>198648</th>\n      <td>4868602701</td>\n      <td>(주)</td>\n      <td>NaN</td>\n      <td>세움웹</td>\n      <td>NaN</td>\n      <td>NaN</td>\n      <td>M</td>\n      <td>5</td>\n      <td>2</td>\n      <td>2</td>\n      <td>...</td>\n      <td>3.0</td>\n      <td>NaN</td>\n      <td>20220801.0</td>\n      <td>1.0</td>\n      <td>NaN</td>\n      <td>소프트웨어 자문, 개발 및 공급업</td>\n      <td>NaN</td>\n      <td>NaN</td>\n      <td>이대홍</td>\n      <td>NaN</td>\n    </tr>\n    <tr>\n      <th>198649</th>\n      <td>2528101633</td>\n      <td>(주)</td>\n      <td>NaN</td>\n      <td>에프에이앤컴퍼니</td>\n      <td>NaN</td>\n      <td>fa &amp; company, inc.</td>\n      <td>M</td>\n      <td>4</td>\n      <td>2</td>\n      <td>2</td>\n      <td>...</td>\n      <td>NaN</td>\n      <td>NaN</td>\n      <td>20200106.0</td>\n      <td>1.0</td>\n      <td>NaN</td>\n      <td>UX디자인 및 프로그래밍</td>\n      <td>NaN</td>\n      <td>NaN</td>\n      <td>이해성</td>\n      <td>NaN</td>\n    </tr>\n    <tr>\n      <th>198650</th>\n      <td>2208880488</td>\n      <td>NaN</td>\n      <td>NaN</td>\n      <td>주식회사 태승엔비</td>\n      <td>NaN</td>\n      <td>NaN</td>\n      <td>M</td>\n      <td>4</td>\n      <td>2</td>\n      <td>2</td>\n      <td>...</td>\n      <td>NaN</td>\n      <td>NaN</td>\n      <td>20140531.0</td>\n      <td>1.0</td>\n      <td>NaN</td>\n      <td>NaN</td>\n      <td>NaN</td>\n      <td>NaN</td>\n      <td>유태형</td>\n      <td>NaN</td>\n    </tr>\n  </tbody>\n</table>\n<p>198651 rows × 31 columns</p>\n</div>"
     },
     "execution_count": 11,
     "metadata": {},
     "output_type": "execute_result"
    }
   ],
   "source": [
    "df_act_info"
   ],
   "metadata": {
    "collapsed": false,
    "pycharm": {
     "name": "#%%\n"
    }
   }
  },
  {
   "cell_type": "code",
   "execution_count": 57,
   "outputs": [
    {
     "data": {
      "text/plain": "['10',\n '11',\n '12',\n '13',\n '14',\n '15',\n '16',\n '17',\n '18',\n '19',\n '20',\n '21',\n '22',\n '23',\n '24',\n '25',\n '26',\n '27',\n '28',\n '29',\n '30',\n '31',\n '32',\n '33',\n '34']"
     },
     "execution_count": 57,
     "metadata": {},
     "output_type": "execute_result"
    }
   ],
   "source": [
    "df_manufacture_code = list(map(str,np.arange(10,35)))\n",
    "df_manufacture_code"
   ],
   "metadata": {
    "collapsed": false,
    "pycharm": {
     "name": "#%%\n"
    }
   }
  },
  {
   "cell_type": "code",
   "execution_count": 58,
   "outputs": [
    {
     "ename": "KeyError",
     "evalue": "\"None of [Float64Index([nan, nan, nan, nan, nan, nan, nan, nan, nan, nan,\\n              ...\\n              nan, nan, nan, nan, nan, nan, nan, nan, nan, nan],\\n             dtype='float64', length=28982)] are in the [columns]\"",
     "output_type": "error",
     "traceback": [
      "\u001B[1;31m---------------------------------------------------------------------------\u001B[0m",
      "\u001B[1;31mKeyError\u001B[0m                                  Traceback (most recent call last)",
      "\u001B[1;32m<ipython-input-58-a520376b4c93>\u001B[0m in \u001B[0;36m<module>\u001B[1;34m\u001B[0m\n\u001B[1;32m----> 1\u001B[1;33m \u001B[0mdf_manufacture\u001B[0m \u001B[1;33m=\u001B[0m \u001B[0mdf_active\u001B[0m\u001B[1;33m[\u001B[0m\u001B[0mdf_active\u001B[0m\u001B[1;33m[\u001B[0m\u001B[1;34m'산업코드1'\u001B[0m\u001B[1;33m]\u001B[0m\u001B[1;33m.\u001B[0m\u001B[0mstr\u001B[0m\u001B[1;33m.\u001B[0m\u001B[0mstartswith\u001B[0m\u001B[1;33m(\u001B[0m\u001B[0mdf_manufacture_code\u001B[0m\u001B[1;33m)\u001B[0m\u001B[1;33m]\u001B[0m\u001B[1;33m\u001B[0m\u001B[1;33m\u001B[0m\u001B[0m\n\u001B[0m",
      "\u001B[1;32m~\\anaconda3\\lib\\site-packages\\pandas\\core\\frame.py\u001B[0m in \u001B[0;36m__getitem__\u001B[1;34m(self, key)\u001B[0m\n\u001B[0;32m   3028\u001B[0m             \u001B[1;32mif\u001B[0m \u001B[0mis_iterator\u001B[0m\u001B[1;33m(\u001B[0m\u001B[0mkey\u001B[0m\u001B[1;33m)\u001B[0m\u001B[1;33m:\u001B[0m\u001B[1;33m\u001B[0m\u001B[1;33m\u001B[0m\u001B[0m\n\u001B[0;32m   3029\u001B[0m                 \u001B[0mkey\u001B[0m \u001B[1;33m=\u001B[0m \u001B[0mlist\u001B[0m\u001B[1;33m(\u001B[0m\u001B[0mkey\u001B[0m\u001B[1;33m)\u001B[0m\u001B[1;33m\u001B[0m\u001B[1;33m\u001B[0m\u001B[0m\n\u001B[1;32m-> 3030\u001B[1;33m             \u001B[0mindexer\u001B[0m \u001B[1;33m=\u001B[0m \u001B[0mself\u001B[0m\u001B[1;33m.\u001B[0m\u001B[0mloc\u001B[0m\u001B[1;33m.\u001B[0m\u001B[0m_get_listlike_indexer\u001B[0m\u001B[1;33m(\u001B[0m\u001B[0mkey\u001B[0m\u001B[1;33m,\u001B[0m \u001B[0maxis\u001B[0m\u001B[1;33m=\u001B[0m\u001B[1;36m1\u001B[0m\u001B[1;33m,\u001B[0m \u001B[0mraise_missing\u001B[0m\u001B[1;33m=\u001B[0m\u001B[1;32mTrue\u001B[0m\u001B[1;33m)\u001B[0m\u001B[1;33m[\u001B[0m\u001B[1;36m1\u001B[0m\u001B[1;33m]\u001B[0m\u001B[1;33m\u001B[0m\u001B[1;33m\u001B[0m\u001B[0m\n\u001B[0m\u001B[0;32m   3031\u001B[0m \u001B[1;33m\u001B[0m\u001B[0m\n\u001B[0;32m   3032\u001B[0m         \u001B[1;31m# take() does not accept boolean indexers\u001B[0m\u001B[1;33m\u001B[0m\u001B[1;33m\u001B[0m\u001B[1;33m\u001B[0m\u001B[0m\n",
      "\u001B[1;32m~\\anaconda3\\lib\\site-packages\\pandas\\core\\indexing.py\u001B[0m in \u001B[0;36m_get_listlike_indexer\u001B[1;34m(self, key, axis, raise_missing)\u001B[0m\n\u001B[0;32m   1264\u001B[0m             \u001B[0mkeyarr\u001B[0m\u001B[1;33m,\u001B[0m \u001B[0mindexer\u001B[0m\u001B[1;33m,\u001B[0m \u001B[0mnew_indexer\u001B[0m \u001B[1;33m=\u001B[0m \u001B[0max\u001B[0m\u001B[1;33m.\u001B[0m\u001B[0m_reindex_non_unique\u001B[0m\u001B[1;33m(\u001B[0m\u001B[0mkeyarr\u001B[0m\u001B[1;33m)\u001B[0m\u001B[1;33m\u001B[0m\u001B[1;33m\u001B[0m\u001B[0m\n\u001B[0;32m   1265\u001B[0m \u001B[1;33m\u001B[0m\u001B[0m\n\u001B[1;32m-> 1266\u001B[1;33m         \u001B[0mself\u001B[0m\u001B[1;33m.\u001B[0m\u001B[0m_validate_read_indexer\u001B[0m\u001B[1;33m(\u001B[0m\u001B[0mkeyarr\u001B[0m\u001B[1;33m,\u001B[0m \u001B[0mindexer\u001B[0m\u001B[1;33m,\u001B[0m \u001B[0maxis\u001B[0m\u001B[1;33m,\u001B[0m \u001B[0mraise_missing\u001B[0m\u001B[1;33m=\u001B[0m\u001B[0mraise_missing\u001B[0m\u001B[1;33m)\u001B[0m\u001B[1;33m\u001B[0m\u001B[1;33m\u001B[0m\u001B[0m\n\u001B[0m\u001B[0;32m   1267\u001B[0m         \u001B[1;32mreturn\u001B[0m \u001B[0mkeyarr\u001B[0m\u001B[1;33m,\u001B[0m \u001B[0mindexer\u001B[0m\u001B[1;33m\u001B[0m\u001B[1;33m\u001B[0m\u001B[0m\n\u001B[0;32m   1268\u001B[0m \u001B[1;33m\u001B[0m\u001B[0m\n",
      "\u001B[1;32m~\\anaconda3\\lib\\site-packages\\pandas\\core\\indexing.py\u001B[0m in \u001B[0;36m_validate_read_indexer\u001B[1;34m(self, key, indexer, axis, raise_missing)\u001B[0m\n\u001B[0;32m   1306\u001B[0m             \u001B[1;32mif\u001B[0m \u001B[0mmissing\u001B[0m \u001B[1;33m==\u001B[0m \u001B[0mlen\u001B[0m\u001B[1;33m(\u001B[0m\u001B[0mindexer\u001B[0m\u001B[1;33m)\u001B[0m\u001B[1;33m:\u001B[0m\u001B[1;33m\u001B[0m\u001B[1;33m\u001B[0m\u001B[0m\n\u001B[0;32m   1307\u001B[0m                 \u001B[0maxis_name\u001B[0m \u001B[1;33m=\u001B[0m \u001B[0mself\u001B[0m\u001B[1;33m.\u001B[0m\u001B[0mobj\u001B[0m\u001B[1;33m.\u001B[0m\u001B[0m_get_axis_name\u001B[0m\u001B[1;33m(\u001B[0m\u001B[0maxis\u001B[0m\u001B[1;33m)\u001B[0m\u001B[1;33m\u001B[0m\u001B[1;33m\u001B[0m\u001B[0m\n\u001B[1;32m-> 1308\u001B[1;33m                 \u001B[1;32mraise\u001B[0m \u001B[0mKeyError\u001B[0m\u001B[1;33m(\u001B[0m\u001B[1;34mf\"None of [{key}] are in the [{axis_name}]\"\u001B[0m\u001B[1;33m)\u001B[0m\u001B[1;33m\u001B[0m\u001B[1;33m\u001B[0m\u001B[0m\n\u001B[0m\u001B[0;32m   1309\u001B[0m \u001B[1;33m\u001B[0m\u001B[0m\n\u001B[0;32m   1310\u001B[0m             \u001B[0max\u001B[0m \u001B[1;33m=\u001B[0m \u001B[0mself\u001B[0m\u001B[1;33m.\u001B[0m\u001B[0mobj\u001B[0m\u001B[1;33m.\u001B[0m\u001B[0m_get_axis\u001B[0m\u001B[1;33m(\u001B[0m\u001B[0maxis\u001B[0m\u001B[1;33m)\u001B[0m\u001B[1;33m\u001B[0m\u001B[1;33m\u001B[0m\u001B[0m\n",
      "\u001B[1;31mKeyError\u001B[0m: \"None of [Float64Index([nan, nan, nan, nan, nan, nan, nan, nan, nan, nan,\\n              ...\\n              nan, nan, nan, nan, nan, nan, nan, nan, nan, nan],\\n             dtype='float64', length=28982)] are in the [columns]\""
     ]
    }
   ],
   "source": [
    "#df_manufacture = \\\n",
    "\n",
    "for code in df_manufacture_code:\n",
    "    df_active[df_active['산업코드1'].str.startswith('code')]"
   ],
   "metadata": {
    "collapsed": false,
    "pycharm": {
     "name": "#%%\n"
    }
   }
  },
  {
   "cell_type": "code",
   "execution_count": 11,
   "outputs": [
    {
     "data": {
      "text/plain": "          사업자등록번호 기업접두명            기업명 기업접미명  \\\n0      1138111739   NaN         한일가스산업   (주)   \n1      2078132193   (주)           엠피아이   NaN   \n2      1318167565   NaN           도영운수   (주)   \n3      5048128251   (주)           중원산업   NaN   \n4      1098164260   (주)          카타나골프   NaN   \n...           ...   ...            ...   ...   \n28977  8048101453   NaN      제이앤인베스트먼트   NaN   \n28978  8028701430   NaN          디앤엠개발   (주)   \n28979  4268501421   NaN      마스비 건축연구소   NaN   \n28980  6518502462   (주)     건설레미콘의정부공장   NaN   \n28981  6698502065   NaN  아이비텍 (주) 김해지점   NaN   \n\n                                                  기업영문명 업종  기업규모  공기업구분  \\\n0                               HANIL GAS IND. CO.,LTD.  M     2      2   \n1                                     EMPIALEE CO.,LTD.  M     2      2   \n2                       DOYOUNG TRANSPORTATION CO.,LTD.  M     2      2   \n3                          JOONGWON INDUSTRIAL CO.,LTD.  M     2      2   \n4                                  CATANA GOLF CO.,LTD.  M     2      2   \n...                                                 ... ..   ...    ...   \n28977                                      J&INVESTMENT  M     2      2   \n28978                         DNM Development Co., Ltd.  M     2      2   \n28979                                               NaN  M     2      2   \n28980  Construction Remicon Uijeongbu Factory Co., Ltd.  M     2      2   \n28981                                               NaN  M     2      2   \n\n       개인법인구분  본점지점구분  ... 중견기업보호여부     본점기업코드        설립일자  설립구분  상장일자  \\\n0           1       1  ...        N        NaN  19660419.0     1   NaN   \n1           1       1  ...        N        NaN  19910806.0     1   NaN   \n2           1       1  ...        N        NaN  20011030.0     1   NaN   \n3           1       1  ...        N        NaN  19990112.0     1   NaN   \n4           1       1  ...        N        NaN  20000531.0     1   NaN   \n...       ...     ...  ...      ...        ...         ...   ...   ...   \n28977       1       1  ...        N        NaN  20191206.0     1   NaN   \n28978       1       1  ...        N        NaN  20200402.0     1   NaN   \n28979       1       2  ...        N  1220726.0  19900108.0     1   NaN   \n28980       1       2  ...        N  1583116.0  20220615.0     1   NaN   \n28981       1       2  ...        N  3095826.0  20211209.0     1   NaN   \n\n                  주요사업내용  국가명              홈페이지URL        대표자명    직원수  \n0        LP Gas 충전 및 판매업  NaN     www.hanilgas.com     홍순철외 1명   43.0  \n1        가죽 및 대용가죽제품 제조업  NaN  www.mastercnd.co.kr  이스테판상수외 1명   35.0  \n2                  시내버스업  NaN  transport@naver.com         김명화  149.0  \n3              자동차 부품 제조  NaN      www.koreajw.com         김명구   75.0  \n4      골프용품 전반의 제조 및 수출업  NaN                  NaN         김홍득    3.0  \n...                  ...  ...                  ...         ...    ...  \n28977             경영컨설팅업  NaN                  NaN         정경태    0.0  \n28978        비주거용 건물 임대업  NaN                  NaN         송성현    1.0  \n28979    BIM용역, 엔지니어링컨설팅  NaN                  NaN         김태남   81.0  \n28980                레미콘  NaN                  NaN         이미성   26.0  \n28981             전자기기검사  NaN                  NaN         양재현    3.0  \n\n[28982 rows x 28 columns]",
      "text/html": "<div>\n<style scoped>\n    .dataframe tbody tr th:only-of-type {\n        vertical-align: middle;\n    }\n\n    .dataframe tbody tr th {\n        vertical-align: top;\n    }\n\n    .dataframe thead th {\n        text-align: right;\n    }\n</style>\n<table border=\"1\" class=\"dataframe\">\n  <thead>\n    <tr style=\"text-align: right;\">\n      <th></th>\n      <th>사업자등록번호</th>\n      <th>기업접두명</th>\n      <th>기업명</th>\n      <th>기업접미명</th>\n      <th>기업영문명</th>\n      <th>업종</th>\n      <th>기업규모</th>\n      <th>공기업구분</th>\n      <th>개인법인구분</th>\n      <th>본점지점구분</th>\n      <th>...</th>\n      <th>중견기업보호여부</th>\n      <th>본점기업코드</th>\n      <th>설립일자</th>\n      <th>설립구분</th>\n      <th>상장일자</th>\n      <th>주요사업내용</th>\n      <th>국가명</th>\n      <th>홈페이지URL</th>\n      <th>대표자명</th>\n      <th>직원수</th>\n    </tr>\n  </thead>\n  <tbody>\n    <tr>\n      <th>0</th>\n      <td>1138111739</td>\n      <td>NaN</td>\n      <td>한일가스산업</td>\n      <td>(주)</td>\n      <td>HANIL GAS IND. CO.,LTD.</td>\n      <td>M</td>\n      <td>2</td>\n      <td>2</td>\n      <td>1</td>\n      <td>1</td>\n      <td>...</td>\n      <td>N</td>\n      <td>NaN</td>\n      <td>19660419.0</td>\n      <td>1</td>\n      <td>NaN</td>\n      <td>LP Gas 충전 및 판매업</td>\n      <td>NaN</td>\n      <td>www.hanilgas.com</td>\n      <td>홍순철외 1명</td>\n      <td>43.0</td>\n    </tr>\n    <tr>\n      <th>1</th>\n      <td>2078132193</td>\n      <td>(주)</td>\n      <td>엠피아이</td>\n      <td>NaN</td>\n      <td>EMPIALEE CO.,LTD.</td>\n      <td>M</td>\n      <td>2</td>\n      <td>2</td>\n      <td>1</td>\n      <td>1</td>\n      <td>...</td>\n      <td>N</td>\n      <td>NaN</td>\n      <td>19910806.0</td>\n      <td>1</td>\n      <td>NaN</td>\n      <td>가죽 및 대용가죽제품 제조업</td>\n      <td>NaN</td>\n      <td>www.mastercnd.co.kr</td>\n      <td>이스테판상수외 1명</td>\n      <td>35.0</td>\n    </tr>\n    <tr>\n      <th>2</th>\n      <td>1318167565</td>\n      <td>NaN</td>\n      <td>도영운수</td>\n      <td>(주)</td>\n      <td>DOYOUNG TRANSPORTATION CO.,LTD.</td>\n      <td>M</td>\n      <td>2</td>\n      <td>2</td>\n      <td>1</td>\n      <td>1</td>\n      <td>...</td>\n      <td>N</td>\n      <td>NaN</td>\n      <td>20011030.0</td>\n      <td>1</td>\n      <td>NaN</td>\n      <td>시내버스업</td>\n      <td>NaN</td>\n      <td>transport@naver.com</td>\n      <td>김명화</td>\n      <td>149.0</td>\n    </tr>\n    <tr>\n      <th>3</th>\n      <td>5048128251</td>\n      <td>(주)</td>\n      <td>중원산업</td>\n      <td>NaN</td>\n      <td>JOONGWON INDUSTRIAL CO.,LTD.</td>\n      <td>M</td>\n      <td>2</td>\n      <td>2</td>\n      <td>1</td>\n      <td>1</td>\n      <td>...</td>\n      <td>N</td>\n      <td>NaN</td>\n      <td>19990112.0</td>\n      <td>1</td>\n      <td>NaN</td>\n      <td>자동차 부품 제조</td>\n      <td>NaN</td>\n      <td>www.koreajw.com</td>\n      <td>김명구</td>\n      <td>75.0</td>\n    </tr>\n    <tr>\n      <th>4</th>\n      <td>1098164260</td>\n      <td>(주)</td>\n      <td>카타나골프</td>\n      <td>NaN</td>\n      <td>CATANA GOLF CO.,LTD.</td>\n      <td>M</td>\n      <td>2</td>\n      <td>2</td>\n      <td>1</td>\n      <td>1</td>\n      <td>...</td>\n      <td>N</td>\n      <td>NaN</td>\n      <td>20000531.0</td>\n      <td>1</td>\n      <td>NaN</td>\n      <td>골프용품 전반의 제조 및 수출업</td>\n      <td>NaN</td>\n      <td>NaN</td>\n      <td>김홍득</td>\n      <td>3.0</td>\n    </tr>\n    <tr>\n      <th>...</th>\n      <td>...</td>\n      <td>...</td>\n      <td>...</td>\n      <td>...</td>\n      <td>...</td>\n      <td>...</td>\n      <td>...</td>\n      <td>...</td>\n      <td>...</td>\n      <td>...</td>\n      <td>...</td>\n      <td>...</td>\n      <td>...</td>\n      <td>...</td>\n      <td>...</td>\n      <td>...</td>\n      <td>...</td>\n      <td>...</td>\n      <td>...</td>\n      <td>...</td>\n      <td>...</td>\n    </tr>\n    <tr>\n      <th>28977</th>\n      <td>8048101453</td>\n      <td>NaN</td>\n      <td>제이앤인베스트먼트</td>\n      <td>NaN</td>\n      <td>J&amp;INVESTMENT</td>\n      <td>M</td>\n      <td>2</td>\n      <td>2</td>\n      <td>1</td>\n      <td>1</td>\n      <td>...</td>\n      <td>N</td>\n      <td>NaN</td>\n      <td>20191206.0</td>\n      <td>1</td>\n      <td>NaN</td>\n      <td>경영컨설팅업</td>\n      <td>NaN</td>\n      <td>NaN</td>\n      <td>정경태</td>\n      <td>0.0</td>\n    </tr>\n    <tr>\n      <th>28978</th>\n      <td>8028701430</td>\n      <td>NaN</td>\n      <td>디앤엠개발</td>\n      <td>(주)</td>\n      <td>DNM Development Co., Ltd.</td>\n      <td>M</td>\n      <td>2</td>\n      <td>2</td>\n      <td>1</td>\n      <td>1</td>\n      <td>...</td>\n      <td>N</td>\n      <td>NaN</td>\n      <td>20200402.0</td>\n      <td>1</td>\n      <td>NaN</td>\n      <td>비주거용 건물 임대업</td>\n      <td>NaN</td>\n      <td>NaN</td>\n      <td>송성현</td>\n      <td>1.0</td>\n    </tr>\n    <tr>\n      <th>28979</th>\n      <td>4268501421</td>\n      <td>NaN</td>\n      <td>마스비 건축연구소</td>\n      <td>NaN</td>\n      <td>NaN</td>\n      <td>M</td>\n      <td>2</td>\n      <td>2</td>\n      <td>1</td>\n      <td>2</td>\n      <td>...</td>\n      <td>N</td>\n      <td>1220726.0</td>\n      <td>19900108.0</td>\n      <td>1</td>\n      <td>NaN</td>\n      <td>BIM용역, 엔지니어링컨설팅</td>\n      <td>NaN</td>\n      <td>NaN</td>\n      <td>김태남</td>\n      <td>81.0</td>\n    </tr>\n    <tr>\n      <th>28980</th>\n      <td>6518502462</td>\n      <td>(주)</td>\n      <td>건설레미콘의정부공장</td>\n      <td>NaN</td>\n      <td>Construction Remicon Uijeongbu Factory Co., Ltd.</td>\n      <td>M</td>\n      <td>2</td>\n      <td>2</td>\n      <td>1</td>\n      <td>2</td>\n      <td>...</td>\n      <td>N</td>\n      <td>1583116.0</td>\n      <td>20220615.0</td>\n      <td>1</td>\n      <td>NaN</td>\n      <td>레미콘</td>\n      <td>NaN</td>\n      <td>NaN</td>\n      <td>이미성</td>\n      <td>26.0</td>\n    </tr>\n    <tr>\n      <th>28981</th>\n      <td>6698502065</td>\n      <td>NaN</td>\n      <td>아이비텍 (주) 김해지점</td>\n      <td>NaN</td>\n      <td>NaN</td>\n      <td>M</td>\n      <td>2</td>\n      <td>2</td>\n      <td>1</td>\n      <td>2</td>\n      <td>...</td>\n      <td>N</td>\n      <td>3095826.0</td>\n      <td>20211209.0</td>\n      <td>1</td>\n      <td>NaN</td>\n      <td>전자기기검사</td>\n      <td>NaN</td>\n      <td>NaN</td>\n      <td>양재현</td>\n      <td>3.0</td>\n    </tr>\n  </tbody>\n</table>\n<p>28982 rows × 28 columns</p>\n</div>"
     },
     "execution_count": 11,
     "metadata": {},
     "output_type": "execute_result"
    }
   ],
   "source": [
    "df_active"
   ],
   "metadata": {
    "collapsed": false,
    "pycharm": {
     "name": "#%%\n"
    }
   }
  },
  {
   "cell_type": "code",
   "execution_count": 12,
   "outputs": [
    {
     "name": "stderr",
     "output_type": "stream",
     "text": [
      "C:\\Users\\yoon9\\anaconda3\\lib\\site-packages\\IPython\\core\\interactiveshell.py:3165: DtypeWarning: Columns (13) have mixed types.Specify dtype option on import or set low_memory=False.\n",
      "  has_raised = await self.run_ast_nodes(code_ast.body, cell_name,\n"
     ]
    }
   ],
   "source": [
    "test = pd.read_csv(r'C:\\Users\\yoon9\\PycharmProjects\\Sejong_Project\\Numble\\data\\넘블 챌린지 데이터 (1)\\통합데이터\\act_corp_finance_merge.csv',encoding = 'cp949')"
   ],
   "metadata": {
    "collapsed": false,
    "pycharm": {
     "name": "#%%\n"
    }
   }
  },
  {
   "cell_type": "code",
   "execution_count": 11,
   "outputs": [
    {
     "data": {
      "text/plain": "<Figure size 1080x864 with 1 Axes>",
      "image/png": "[encoded data removed]"
     },
     "metadata": {
      "needs_background": "light"
     },
     "output_type": "display_data"
    }
   ],
   "source": [
    "plt.figure(figsize=(15,12))\n",
    "sns.histplot(data = df, x='직원수',hue='폐업여부')\n",
    "plt.title('직원수', fontsize=20)\n",
    "plt.xlabel('직원수', fontsize=16)\n",
    "plt.ylabel('개수', fontsize=16)\n",
    "plt.xlim(0,200)\n",
    "#save_fig(\"업종_countplot_drop(M)\")\n",
    "plt.show()"
   ],
   "metadata": {
    "collapsed": false,
    "pycharm": {
     "name": "#%%\n"
    }
   }
  },
  {
   "cell_type": "code",
   "execution_count": null,
   "outputs": [],
   "source": [],
   "metadata": {
    "collapsed": false,
    "pycharm": {
     "name": "#%%\n"
    }
   }
  }
 ],
 "metadata": {
  "kernelspec": {
   "display_name": "Python 3",
   "language": "python",
   "name": "python3"
  },
  "language_info": {
   "codemirror_mode": {
    "name": "ipython",
    "version": 2
   },
   "file_extension": ".py",
   "mimetype": "text/x-python",
   "name": "python",
   "nbconvert_exporter": "python",
   "pygments_lexer": "ipython2",
   "version": "2.7.6"
  }
 },
 "nbformat": 4,
 "nbformat_minor": 0
}