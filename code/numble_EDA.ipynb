{
 "cells": [
  {
   "cell_type": "markdown",
   "metadata": {
    "collapsed": false,
    "pycharm": {
     "name": "#%% md\n"
    }
   },
   "source": [
    "# 휴폐업 ,액티브 중소법인 재무 보유 데이터 비교 EDA"
   ]
  },
  {
   "cell_type": "code",
   "execution_count": 16,
   "metadata": {
    "collapsed": false,
    "pycharm": {
     "name": "#%%\n"
    }
   },
   "outputs": [],
   "source": [
    "import pandas as pd\n",
    "import numpy as np\n",
    "import seaborn as sns\n",
    "import matplotlib.pyplot as plt\n",
    "\n",
    "import matplotlib.font_manager as fm"
   ]
  },
  {
   "cell_type": "code",
   "execution_count": 8,
   "metadata": {
    "collapsed": false,
    "pycharm": {
     "name": "#%%\n"
    }
   },
   "outputs": [],
   "source": [
    "\n",
    "plt.rc('font', family='NanumBarunGothic')\n",
    "font_location = 'C:/Windows/Fonts/MALGUNSL.TTF'  # for windows\n",
    "font_name = fm.FontProperties(fname=font_location).get_name()\n",
    "plt.rc('font', family=font_name)\n"
   ]
  },
  {
   "cell_type": "code",
   "execution_count": 35,
   "metadata": {
    "collapsed": false,
    "pycharm": {
     "name": "#%%\n"
    }
   },
   "outputs": [],
   "source": [
    "%matplotlib inline\n",
    "import matplotlib as mpl\n",
    "mpl.rc('axes',labelsize = 8)\n",
    "mpl.rc('xtick',labelsize = 8)\n",
    "mpl.rc('ytick',labelsize = 8)"
   ]
  },
  {
   "cell_type": "code",
   "execution_count": 36,
   "metadata": {
    "collapsed": false,
    "pycharm": {
     "name": "#%%\n"
    }
   },
   "outputs": [],
   "source": [
    "act_info = pd.read_csv(r'C:\\Users\\yoon9\\Documents\\GitHub\\numble_repo\\data\\넘블 챌린지 데이터 (1)\\분해된데이터\\active_info_outside.csv')\n",
    "clo_info = pd.read_csv(r'C:\\Users\\yoon9\\Documents\\GitHub\\numble_repo\\data\\넘블 챌린지 데이터 (1)\\분해된데이터\\close_info.csv')"
   ]
  },
  {
   "cell_type": "code",
   "execution_count": 37,
   "metadata": {
    "collapsed": false,
    "pycharm": {
     "name": "#%%\n"
    }
   },
   "outputs": [],
   "source": [
    "# EDA 전 columns name 변경해주도록 하겠습니다.\n",
    "\n",
    "df_active = act_info.rename(columns= {'BIZ_NO':'사업자등록번호', 'CMP_PFIX_NM':'기업접두명', 'CMP_NM1':'기업명', 'CMP_SFIX_NM':'기업접미명', 'CMP_ENM':'기업영문명', 'BZ_TYP':'업종','CMP_SCL':'기업규모', 'PBCO_GB':'공기업구분',\n",
    "                           'PSN_CORP_GB':'개인법인구분', 'HDOF_BR_GB':'본점지점구분', 'FR_IVST_CORP_YN':'국외투자법인여부', 'VENT_YN':'벤처기업여부', 'LIST_CD':'상장코드', 'IND_CD_ORDR':'산업코드차수', 'IND_CD1':'산업코드1', 'IND_CD2':'산업코드2', 'IND_CD3':'산업코드3','PB_ORG_TYP':'공공기관유형', 'MDSCO_PRTC_YN':'중견기업보호여부', 'HDOF_CMP_CD':'본점기업코드', 'ESTB_DATE':'설립일자', 'ESTB_GB':'설립구분', 'LIST_DATE':'상장일자', 'MN_BIZ_CONT':'주요사업내용', 'NATN_NM':'국가명', 'HOMEPAGE_URL':'홈페이지URL', 'CEO_NM':'대표자명','EMP_CNT':'직원수'})\n",
    "\n",
    "df_down = clo_info.rename(columns= {'BIZ_NO':'사업자등록번호', 'CMP_PFIX_NM':'기업접두명', 'CMP_NM1':'기업명', 'CMP_SFIX_NM':'기업접미명', 'CMP_ENM':'기업영문명', 'BZ_TYP':'업종','CMP_SCL':'기업규모', 'PBCO_GB':'공기업구분',\n",
    "                           'PSN_CORP_GB':'개인법인구분', 'HDOF_BR_GB':'본점지점구분', 'FR_IVST_CORP_YN':'국외투자법인여부', 'VENT_YN':'벤처기업여부', 'LIST_CD':'상장코드', 'IND_CD_ORDR':'산업코드차수', 'IND_CD1':'산업코드1', 'IND_CD2':'산업코드2', 'IND_CD3':'산업코드3','PB_ORG_TYP':'공공기관유형', 'MDSCO_PRTC_YN':'중견기업보호여부', 'HDOF_CMP_CD':'본점기업코드', 'ESTB_DATE':'설립일자', 'ESTB_GB':'설립구분', 'LIST_DATE':'상장일자', 'MN_BIZ_CONT':'주요사업내용', 'NATN_NM':'국가명', 'HOMEPAGE_URL':'홈페이지URL', 'CEO_NM':'대표자명','EMP_CNT':'직원수'})\n",
    "\n",
    "# ['BIZ_NO', 'CMP_PFIX_NM', 'CMP_NM1', 'CMP_SFIX_NM', 'CMP_ENM', 'BZ_TYP','CMP_SCL', 'PBCO_GB', 'PSN_CORP_GB', 'HDOF_BR_GB', 'FR_IVST_CORP_YN',\n",
    "# 'VENT_YN', 'LIST_CD', 'IND_CD_ORDR', 'IND_CD1', 'IND_CD2', 'IND_CD3','PB_ORG_TYP', 'MDSCO_PRTC_YN', 'HDOF_CMP_CD', 'ESTB_DATE', 'ESTB_GB',\n",
    "# 'LIST_DATE', 'MN_BIZ_CONT', 'NATN_NM', 'HOMEPAGE_URL', 'CEO_NM','EMP_CNT']\n",
    "#\n",
    "# '사업자등록번호','기업접두명', '기업명',/'기업접미명', /'기업영문명', /'업종',/ '기업규모',/ '공기업구분', '개인법인구분', '본점지점구분', '국외투자법인여부', '벤처기업여부', '상장코드', '산업코드차수', '산업코드1', '산업코드2', '산업코드3', '공공기관유형', '중견기업보호여부', '본점기업코드', '설립일자', '설립구분', '상장일자', '주요사업내용', '국가명', '홈페이지URL', '대표자명', '직원수'\n"
   ]
  },
  {
   "cell_type": "markdown",
   "metadata": {
    "collapsed": false,
    "pycharm": {
     "name": "#%% md\n"
    }
   },
   "source": [
    "필요 X : 기업규모 , 개인법인 구분 산업코드차수 (전부 같은 값이다)"
   ]
  },
  {
   "cell_type": "markdown",
   "metadata": {
    "collapsed": false
   },
   "source": [
    "### 업종\n",
    "\n",
    "A : 신금(신용금고) -> 중소기업과 국민대중을 위한 자금을 융통하며 저축의 증대를 목적으로 하는 비영리적 조합조직에 의한 금융기관\n",
    "B : 은행\n",
    "C : 카드\n",
    "F : 생보(생명보험) -> 보험사고 발생 객체가 피보험자의 생명 혹은 신체\n",
    "I : 손보(손해보험) -> 보험사고 발생 객체가 피보험자의 재산\n",
    "M : 제조\n",
    "O : 기타금융\n",
    "S : 증권\n",
    "V : 창투(창업투자회사) -> 창의성과 사업성은 있으나 자금력이 부족한 창업자에게 투자 형태로 지원하는 벤처캐피털\n"
   ]
  },
  {
   "cell_type": "code",
   "execution_count": 38,
   "metadata": {
    "collapsed": false,
    "pycharm": {
     "name": "#%%\n"
    }
   },
   "outputs": [
    {
     "data": {
      "text/html": [
       "<div>\n",
       "<style scoped>\n",
       "    .dataframe tbody tr th:only-of-type {\n",
       "        vertical-align: middle;\n",
       "    }\n",
       "\n",
       "    .dataframe tbody tr th {\n",
       "        vertical-align: top;\n",
       "    }\n",
       "\n",
       "    .dataframe thead th {\n",
       "        text-align: right;\n",
       "    }\n",
       "</style>\n",
       "<table border=\"1\" class=\"dataframe\">\n",
       "  <thead>\n",
       "    <tr style=\"text-align: right;\">\n",
       "      <th></th>\n",
       "      <th>BIZ_NO</th>\n",
       "      <th>CMP_PFIX_NM</th>\n",
       "      <th>CMP_NM1</th>\n",
       "      <th>CMP_SFIX_NM</th>\n",
       "      <th>CMP_ENM</th>\n",
       "      <th>BZ_TYP</th>\n",
       "      <th>CMP_SCL</th>\n",
       "      <th>PBCO_GB</th>\n",
       "      <th>PSN_CORP_GB</th>\n",
       "      <th>HDOF_BR_GB</th>\n",
       "      <th>...</th>\n",
       "      <th>MDSCO_PRTC_YN</th>\n",
       "      <th>HDOF_CMP_CD</th>\n",
       "      <th>ESTB_DATE</th>\n",
       "      <th>ESTB_GB</th>\n",
       "      <th>LIST_DATE</th>\n",
       "      <th>MN_BIZ_CONT</th>\n",
       "      <th>NATN_NM</th>\n",
       "      <th>HOMEPAGE_URL</th>\n",
       "      <th>CEO_NM</th>\n",
       "      <th>EMP_CNT</th>\n",
       "    </tr>\n",
       "  </thead>\n",
       "  <tbody>\n",
       "    <tr>\n",
       "      <th>0</th>\n",
       "      <td>1138111739</td>\n",
       "      <td>NaN</td>\n",
       "      <td>한일가스산업</td>\n",
       "      <td>(주)</td>\n",
       "      <td>HANIL GAS IND. CO.,LTD.</td>\n",
       "      <td>M</td>\n",
       "      <td>2</td>\n",
       "      <td>2</td>\n",
       "      <td>1</td>\n",
       "      <td>1</td>\n",
       "      <td>...</td>\n",
       "      <td>N</td>\n",
       "      <td>NaN</td>\n",
       "      <td>19660419.0</td>\n",
       "      <td>1</td>\n",
       "      <td>NaN</td>\n",
       "      <td>LP Gas 충전 및 판매업</td>\n",
       "      <td>NaN</td>\n",
       "      <td>www.hanilgas.com</td>\n",
       "      <td>홍순철외 1명</td>\n",
       "      <td>43.0</td>\n",
       "    </tr>\n",
       "    <tr>\n",
       "      <th>1</th>\n",
       "      <td>2078132193</td>\n",
       "      <td>(주)</td>\n",
       "      <td>엠피아이</td>\n",
       "      <td>NaN</td>\n",
       "      <td>EMPIALEE CO.,LTD.</td>\n",
       "      <td>M</td>\n",
       "      <td>2</td>\n",
       "      <td>2</td>\n",
       "      <td>1</td>\n",
       "      <td>1</td>\n",
       "      <td>...</td>\n",
       "      <td>N</td>\n",
       "      <td>NaN</td>\n",
       "      <td>19910806.0</td>\n",
       "      <td>1</td>\n",
       "      <td>NaN</td>\n",
       "      <td>가죽 및 대용가죽제품 제조업</td>\n",
       "      <td>NaN</td>\n",
       "      <td>www.mastercnd.co.kr</td>\n",
       "      <td>이스테판상수외 1명</td>\n",
       "      <td>35.0</td>\n",
       "    </tr>\n",
       "    <tr>\n",
       "      <th>2</th>\n",
       "      <td>1318167565</td>\n",
       "      <td>NaN</td>\n",
       "      <td>도영운수</td>\n",
       "      <td>(주)</td>\n",
       "      <td>DOYOUNG TRANSPORTATION CO.,LTD.</td>\n",
       "      <td>M</td>\n",
       "      <td>2</td>\n",
       "      <td>2</td>\n",
       "      <td>1</td>\n",
       "      <td>1</td>\n",
       "      <td>...</td>\n",
       "      <td>N</td>\n",
       "      <td>NaN</td>\n",
       "      <td>20011030.0</td>\n",
       "      <td>1</td>\n",
       "      <td>NaN</td>\n",
       "      <td>시내버스업</td>\n",
       "      <td>NaN</td>\n",
       "      <td>transport@naver.com</td>\n",
       "      <td>김명화</td>\n",
       "      <td>149.0</td>\n",
       "    </tr>\n",
       "    <tr>\n",
       "      <th>3</th>\n",
       "      <td>5048128251</td>\n",
       "      <td>(주)</td>\n",
       "      <td>중원산업</td>\n",
       "      <td>NaN</td>\n",
       "      <td>JOONGWON INDUSTRIAL CO.,LTD.</td>\n",
       "      <td>M</td>\n",
       "      <td>2</td>\n",
       "      <td>2</td>\n",
       "      <td>1</td>\n",
       "      <td>1</td>\n",
       "      <td>...</td>\n",
       "      <td>N</td>\n",
       "      <td>NaN</td>\n",
       "      <td>19990112.0</td>\n",
       "      <td>1</td>\n",
       "      <td>NaN</td>\n",
       "      <td>자동차 부품 제조</td>\n",
       "      <td>NaN</td>\n",
       "      <td>www.koreajw.com</td>\n",
       "      <td>김명구</td>\n",
       "      <td>75.0</td>\n",
       "    </tr>\n",
       "    <tr>\n",
       "      <th>4</th>\n",
       "      <td>1098164260</td>\n",
       "      <td>(주)</td>\n",
       "      <td>카타나골프</td>\n",
       "      <td>NaN</td>\n",
       "      <td>CATANA GOLF CO.,LTD.</td>\n",
       "      <td>M</td>\n",
       "      <td>2</td>\n",
       "      <td>2</td>\n",
       "      <td>1</td>\n",
       "      <td>1</td>\n",
       "      <td>...</td>\n",
       "      <td>N</td>\n",
       "      <td>NaN</td>\n",
       "      <td>20000531.0</td>\n",
       "      <td>1</td>\n",
       "      <td>NaN</td>\n",
       "      <td>골프용품 전반의 제조 및 수출업</td>\n",
       "      <td>NaN</td>\n",
       "      <td>NaN</td>\n",
       "      <td>김홍득</td>\n",
       "      <td>3.0</td>\n",
       "    </tr>\n",
       "    <tr>\n",
       "      <th>...</th>\n",
       "      <td>...</td>\n",
       "      <td>...</td>\n",
       "      <td>...</td>\n",
       "      <td>...</td>\n",
       "      <td>...</td>\n",
       "      <td>...</td>\n",
       "      <td>...</td>\n",
       "      <td>...</td>\n",
       "      <td>...</td>\n",
       "      <td>...</td>\n",
       "      <td>...</td>\n",
       "      <td>...</td>\n",
       "      <td>...</td>\n",
       "      <td>...</td>\n",
       "      <td>...</td>\n",
       "      <td>...</td>\n",
       "      <td>...</td>\n",
       "      <td>...</td>\n",
       "      <td>...</td>\n",
       "      <td>...</td>\n",
       "      <td>...</td>\n",
       "    </tr>\n",
       "    <tr>\n",
       "      <th>28977</th>\n",
       "      <td>8048101453</td>\n",
       "      <td>NaN</td>\n",
       "      <td>제이앤인베스트먼트</td>\n",
       "      <td>NaN</td>\n",
       "      <td>J&amp;INVESTMENT</td>\n",
       "      <td>M</td>\n",
       "      <td>2</td>\n",
       "      <td>2</td>\n",
       "      <td>1</td>\n",
       "      <td>1</td>\n",
       "      <td>...</td>\n",
       "      <td>N</td>\n",
       "      <td>NaN</td>\n",
       "      <td>20191206.0</td>\n",
       "      <td>1</td>\n",
       "      <td>NaN</td>\n",
       "      <td>경영컨설팅업</td>\n",
       "      <td>NaN</td>\n",
       "      <td>NaN</td>\n",
       "      <td>정경태</td>\n",
       "      <td>0.0</td>\n",
       "    </tr>\n",
       "    <tr>\n",
       "      <th>28978</th>\n",
       "      <td>8028701430</td>\n",
       "      <td>NaN</td>\n",
       "      <td>디앤엠개발</td>\n",
       "      <td>(주)</td>\n",
       "      <td>DNM Development Co., Ltd.</td>\n",
       "      <td>M</td>\n",
       "      <td>2</td>\n",
       "      <td>2</td>\n",
       "      <td>1</td>\n",
       "      <td>1</td>\n",
       "      <td>...</td>\n",
       "      <td>N</td>\n",
       "      <td>NaN</td>\n",
       "      <td>20200402.0</td>\n",
       "      <td>1</td>\n",
       "      <td>NaN</td>\n",
       "      <td>비주거용 건물 임대업</td>\n",
       "      <td>NaN</td>\n",
       "      <td>NaN</td>\n",
       "      <td>송성현</td>\n",
       "      <td>1.0</td>\n",
       "    </tr>\n",
       "    <tr>\n",
       "      <th>28979</th>\n",
       "      <td>4268501421</td>\n",
       "      <td>NaN</td>\n",
       "      <td>마스비 건축연구소</td>\n",
       "      <td>NaN</td>\n",
       "      <td>NaN</td>\n",
       "      <td>M</td>\n",
       "      <td>2</td>\n",
       "      <td>2</td>\n",
       "      <td>1</td>\n",
       "      <td>2</td>\n",
       "      <td>...</td>\n",
       "      <td>N</td>\n",
       "      <td>1220726.0</td>\n",
       "      <td>19900108.0</td>\n",
       "      <td>1</td>\n",
       "      <td>NaN</td>\n",
       "      <td>BIM용역, 엔지니어링컨설팅</td>\n",
       "      <td>NaN</td>\n",
       "      <td>NaN</td>\n",
       "      <td>김태남</td>\n",
       "      <td>81.0</td>\n",
       "    </tr>\n",
       "    <tr>\n",
       "      <th>28980</th>\n",
       "      <td>6518502462</td>\n",
       "      <td>(주)</td>\n",
       "      <td>건설레미콘의정부공장</td>\n",
       "      <td>NaN</td>\n",
       "      <td>Construction Remicon Uijeongbu Factory Co., Ltd.</td>\n",
       "      <td>M</td>\n",
       "      <td>2</td>\n",
       "      <td>2</td>\n",
       "      <td>1</td>\n",
       "      <td>2</td>\n",
       "      <td>...</td>\n",
       "      <td>N</td>\n",
       "      <td>1583116.0</td>\n",
       "      <td>20220615.0</td>\n",
       "      <td>1</td>\n",
       "      <td>NaN</td>\n",
       "      <td>레미콘</td>\n",
       "      <td>NaN</td>\n",
       "      <td>NaN</td>\n",
       "      <td>이미성</td>\n",
       "      <td>26.0</td>\n",
       "    </tr>\n",
       "    <tr>\n",
       "      <th>28981</th>\n",
       "      <td>6698502065</td>\n",
       "      <td>NaN</td>\n",
       "      <td>아이비텍 (주) 김해지점</td>\n",
       "      <td>NaN</td>\n",
       "      <td>NaN</td>\n",
       "      <td>M</td>\n",
       "      <td>2</td>\n",
       "      <td>2</td>\n",
       "      <td>1</td>\n",
       "      <td>2</td>\n",
       "      <td>...</td>\n",
       "      <td>N</td>\n",
       "      <td>3095826.0</td>\n",
       "      <td>20211209.0</td>\n",
       "      <td>1</td>\n",
       "      <td>NaN</td>\n",
       "      <td>전자기기검사</td>\n",
       "      <td>NaN</td>\n",
       "      <td>NaN</td>\n",
       "      <td>양재현</td>\n",
       "      <td>3.0</td>\n",
       "    </tr>\n",
       "  </tbody>\n",
       "</table>\n",
       "<p>28982 rows × 28 columns</p>\n",
       "</div>"
      ],
      "text/plain": [
       "           BIZ_NO CMP_PFIX_NM        CMP_NM1 CMP_SFIX_NM  \\\n",
       "0      1138111739         NaN         한일가스산업         (주)   \n",
       "1      2078132193         (주)           엠피아이         NaN   \n",
       "2      1318167565         NaN           도영운수         (주)   \n",
       "3      5048128251         (주)           중원산업         NaN   \n",
       "4      1098164260         (주)          카타나골프         NaN   \n",
       "...           ...         ...            ...         ...   \n",
       "28977  8048101453         NaN      제이앤인베스트먼트         NaN   \n",
       "28978  8028701430         NaN          디앤엠개발         (주)   \n",
       "28979  4268501421         NaN      마스비 건축연구소         NaN   \n",
       "28980  6518502462         (주)     건설레미콘의정부공장         NaN   \n",
       "28981  6698502065         NaN  아이비텍 (주) 김해지점         NaN   \n",
       "\n",
       "                                                CMP_ENM BZ_TYP  CMP_SCL  \\\n",
       "0                               HANIL GAS IND. CO.,LTD.      M        2   \n",
       "1                                     EMPIALEE CO.,LTD.      M        2   \n",
       "2                       DOYOUNG TRANSPORTATION CO.,LTD.      M        2   \n",
       "3                          JOONGWON INDUSTRIAL CO.,LTD.      M        2   \n",
       "4                                  CATANA GOLF CO.,LTD.      M        2   \n",
       "...                                                 ...    ...      ...   \n",
       "28977                                      J&INVESTMENT      M        2   \n",
       "28978                         DNM Development Co., Ltd.      M        2   \n",
       "28979                                               NaN      M        2   \n",
       "28980  Construction Remicon Uijeongbu Factory Co., Ltd.      M        2   \n",
       "28981                                               NaN      M        2   \n",
       "\n",
       "       PBCO_GB  PSN_CORP_GB  HDOF_BR_GB  ... MDSCO_PRTC_YN HDOF_CMP_CD  \\\n",
       "0            2            1           1  ...             N         NaN   \n",
       "1            2            1           1  ...             N         NaN   \n",
       "2            2            1           1  ...             N         NaN   \n",
       "3            2            1           1  ...             N         NaN   \n",
       "4            2            1           1  ...             N         NaN   \n",
       "...        ...          ...         ...  ...           ...         ...   \n",
       "28977        2            1           1  ...             N         NaN   \n",
       "28978        2            1           1  ...             N         NaN   \n",
       "28979        2            1           2  ...             N   1220726.0   \n",
       "28980        2            1           2  ...             N   1583116.0   \n",
       "28981        2            1           2  ...             N   3095826.0   \n",
       "\n",
       "        ESTB_DATE  ESTB_GB  LIST_DATE        MN_BIZ_CONT  NATN_NM  \\\n",
       "0      19660419.0        1        NaN    LP Gas 충전 및 판매업      NaN   \n",
       "1      19910806.0        1        NaN    가죽 및 대용가죽제품 제조업      NaN   \n",
       "2      20011030.0        1        NaN              시내버스업      NaN   \n",
       "3      19990112.0        1        NaN          자동차 부품 제조      NaN   \n",
       "4      20000531.0        1        NaN  골프용품 전반의 제조 및 수출업      NaN   \n",
       "...           ...      ...        ...                ...      ...   \n",
       "28977  20191206.0        1        NaN             경영컨설팅업      NaN   \n",
       "28978  20200402.0        1        NaN        비주거용 건물 임대업      NaN   \n",
       "28979  19900108.0        1        NaN    BIM용역, 엔지니어링컨설팅      NaN   \n",
       "28980  20220615.0        1        NaN                레미콘      NaN   \n",
       "28981  20211209.0        1        NaN             전자기기검사      NaN   \n",
       "\n",
       "              HOMEPAGE_URL      CEO_NM  EMP_CNT  \n",
       "0         www.hanilgas.com     홍순철외 1명     43.0  \n",
       "1      www.mastercnd.co.kr  이스테판상수외 1명     35.0  \n",
       "2      transport@naver.com         김명화    149.0  \n",
       "3          www.koreajw.com         김명구     75.0  \n",
       "4                      NaN         김홍득      3.0  \n",
       "...                    ...         ...      ...  \n",
       "28977                  NaN         정경태      0.0  \n",
       "28978                  NaN         송성현      1.0  \n",
       "28979                  NaN         김태남     81.0  \n",
       "28980                  NaN         이미성     26.0  \n",
       "28981                  NaN         양재현      3.0  \n",
       "\n",
       "[28982 rows x 28 columns]"
      ]
     },
     "execution_count": 38,
     "metadata": {},
     "output_type": "execute_result"
    }
   ],
   "source": [
    "act_info"
   ]
  },
  {
   "cell_type": "code",
   "execution_count": 43,
   "metadata": {
    "collapsed": false,
    "pycharm": {
     "name": "#%%\n"
    }
   },
   "outputs": [
    {
     "data": {
      "image/png": "[encoded data removed]",
      "text/plain": [
       "<Figure size 400x400 with 1 Axes>"
      ]
     },
     "metadata": {},
     "output_type": "display_data"
    }
   ],
   "source": [
    "plt.figure(figsize=(4,4))\n",
    "sns.countplot(data = df_active,x='업종')\n",
    "plt.title('업종 count', fontsize=10)\n",
    "plt.xlabel('업종', fontsize=8)\n",
    "plt.ylabel('개수', fontsize=8)\n",
    "#save_fig(\"업종_countplot\")\n",
    "plt.show()"
   ]
  },
  {
   "cell_type": "markdown",
   "metadata": {
    "collapsed": false
   },
   "source": [
    "대략 3만개의 기업이 전부 M 인 제조업을 하는 것을 볼 수 있다."
   ]
  },
  {
   "cell_type": "code",
   "execution_count": 44,
   "metadata": {
    "collapsed": false,
    "pycharm": {
     "name": "#%%\n"
    }
   },
   "outputs": [
    {
     "data": {
      "image/png": "[encoded data removed]",
      "text/plain": [
       "<Figure size 400x400 with 1 Axes>"
      ]
     },
     "metadata": {},
     "output_type": "display_data"
    }
   ],
   "source": [
    "plt.figure(figsize=(4,4))\n",
    "sns.countplot(data = df_active[df_active['업종'] != 'M'],x='업종')\n",
    "plt.title('업종 count(제조업 M 제외)', fontsize=10)\n",
    "plt.xlabel('업종', fontsize=8)\n",
    "plt.ylabel('개수', fontsize=8)\n",
    "#save_fig(\"업종_countplot_drop(M)\")\n",
    "plt.show()"
   ]
  },
  {
   "cell_type": "code",
   "execution_count": 45,
   "metadata": {
    "collapsed": false,
    "pycharm": {
     "name": "#%%\n"
    }
   },
   "outputs": [
    {
     "data": {
      "image/png": "[encoded data removed]",
      "text/plain": [
       "<Figure size 800x600 with 1 Axes>"
      ]
     },
     "metadata": {},
     "output_type": "display_data"
    }
   ],
   "source": [
    "plt.figure(figsize=(8,6))\n",
    "sns.countplot(data = df_down,x='업종')\n",
    "plt.title('업종 count', fontsize=10)\n",
    "plt.xlabel('업종', fontsize=8)\n",
    "plt.ylabel('개수', fontsize=8)\n",
    "#save_fig(\"업종_countplot\")\n",
    "plt.show()"
   ]
  },
  {
   "cell_type": "markdown",
   "metadata": {
    "collapsed": false
   },
   "source": [
    "액티브 데이터 와는 다르게 휴폐업의 데이터의 경우 거의 대부분 제조업이고 업종도 3가지 밖에 없다."
   ]
  },
  {
   "cell_type": "markdown",
   "metadata": {
    "collapsed": false
   },
   "source": [
    "### 기업규모\n",
    "\n",
    "전부 2여서 없애도 됌"
   ]
  },
  {
   "cell_type": "code",
   "execution_count": 46,
   "metadata": {
    "collapsed": false,
    "pycharm": {
     "name": "#%%\n"
    }
   },
   "outputs": [
    {
     "data": {
      "text/plain": [
       "2    28982\n",
       "Name: 기업규모, dtype: int64"
      ]
     },
     "execution_count": 46,
     "metadata": {},
     "output_type": "execute_result"
    }
   ],
   "source": [
    "df_active['기업규모'].value_counts()\n",
    "\n",
    "# plt.figure(figsize=(15,12))\n",
    "# sns.countplot(data = df_active,x='기업규모')\n",
    "# plt.title('업종 count(제조업 M 제외)', fontsize=20)\n",
    "# plt.xlabel('업종', fontsize=16)\n",
    "# plt.ylabel('개수', fontsize=16)\n",
    "# #save_fig(\"업종_countplot_drop(M)\")\n",
    "# plt.show()"
   ]
  },
  {
   "cell_type": "code",
   "execution_count": null,
   "metadata": {
    "collapsed": false,
    "pycharm": {
     "name": "#%%\n"
    }
   },
   "outputs": [],
   "source": [
    "df_down['기업규모'].value_counts()"
   ]
  },
  {
   "cell_type": "markdown",
   "metadata": {
    "collapsed": false
   },
   "source": [
    "마찬가지로 휴폐업 데이터도 전부 2이다."
   ]
  },
  {
   "cell_type": "markdown",
   "metadata": {
    "collapsed": false
   },
   "source": [
    "### 공기업 구분"
   ]
  },
  {
   "cell_type": "code",
   "execution_count": null,
   "metadata": {
    "collapsed": false,
    "pycharm": {
     "name": "#%%\n"
    }
   },
   "outputs": [],
   "source": [
    "final['공기업구분'].value_counts() # 7개를 제외한 모든 기업이 사기업인듯\n",
    "\n",
    "\n",
    "# 1 : 공기업\n",
    "# 2 : 사기업\n",
    "\n",
    "# 7개 기업 제외하고 모두 공기업이다."
   ]
  },
  {
   "cell_type": "code",
   "execution_count": null,
   "metadata": {
    "collapsed": false,
    "pycharm": {
     "name": "#%%\n"
    }
   },
   "outputs": [],
   "source": [
    "\n",
    "\n",
    "# 이와 대조적으로 휴폐업은 전부 2인 사기업이다. 공기업은 안망하겟짓.."
   ]
  },
  {
   "cell_type": "code",
   "execution_count": null,
   "metadata": {
    "collapsed": false,
    "pycharm": {
     "name": "#%%\n"
    }
   },
   "outputs": [],
   "source": [
    "plt.figure(figsize=(15,12))\n",
    "sns.countplot(data = final,x='공기업구분',hue='폐업 여부')\n",
    "plt.title('공기업구분 count', fontsize=20)\n",
    "plt.xlabel('공기업구분', fontsize=16)\n",
    "plt.ylabel('개수', fontsize=16)\n",
    "#save_fig(\"업종_countplot\")\n",
    "plt.show()"
   ]
  },
  {
   "cell_type": "markdown",
   "metadata": {
    "collapsed": false
   },
   "source": [
    "### 본점지점구분"
   ]
  },
  {
   "cell_type": "code",
   "execution_count": null,
   "metadata": {
    "collapsed": false,
    "pycharm": {
     "name": "#%%\n"
    }
   },
   "outputs": [],
   "source": [
    "final['본점지점구분'].value_counts()\n",
    "\n",
    "# 1: 본점\n",
    "# 2: 분점\n"
   ]
  },
  {
   "cell_type": "code",
   "execution_count": null,
   "metadata": {
    "collapsed": false,
    "pycharm": {
     "name": "#%%\n"
    }
   },
   "outputs": [],
   "source": [
    "df_down['본점지점구분'].value_counts()\n",
    "\n",
    "# 1: 본점\n",
    "# 2: 분점\n",
    "\n",
    "\n",
    "# 휴폐업에서도 역시 5200으로 본점이 더 많긴했다.."
   ]
  },
  {
   "cell_type": "code",
   "execution_count": null,
   "metadata": {
    "collapsed": false,
    "pycharm": {
     "name": "#%%\n"
    }
   },
   "outputs": [],
   "source": [
    "plt.figure(figsize=(15,12))\n",
    "sns.countplot(data = final,x='본점지점구분',hue='폐업여부')\n",
    "plt.title('본점지점구분 count', fontsize=20)\n",
    "plt.xlabel('본점지점구분', fontsize=16)\n",
    "plt.ylabel('개수', fontsize=16)\n",
    "#save_fig(\"업종_countplot\")\n",
    "plt.show()"
   ]
  },
  {
   "cell_type": "markdown",
   "metadata": {
    "collapsed": false,
    "pycharm": {
     "name": "#%% md\n"
    }
   },
   "source": [
    "### 공기업구분, 본점지점구분, 국외투자법인여부, 벤처기업여부"
   ]
  },
  {
   "cell_type": "code",
   "execution_count": null,
   "metadata": {
    "collapsed": false,
    "pycharm": {
     "name": "#%%\n"
    }
   },
   "outputs": [],
   "source": [
    "print(df_active['공기업구분'].value_counts())\n",
    "print('\\n')\n",
    "# 1 : 공기업\n",
    "# 2 : 사기업\n",
    "\n",
    "print(df_active['본점지점구분'].value_counts())\n",
    "print('\\n')\n",
    "# 1: 본점\n",
    "# 2: 분점\n",
    "\n",
    "print(df_active['국외투자법인여부'].value_counts())\n",
    "print('\\n')\n",
    "\n",
    "print(df_active['벤처기업여부'].value_counts())\n",
    "\n",
    "# Y : Yes\n",
    "# N : No"
   ]
  },
  {
   "cell_type": "code",
   "execution_count": null,
   "metadata": {
    "collapsed": false,
    "pycharm": {
     "name": "#%%\n"
    }
   },
   "outputs": [],
   "source": [
    "print(df_down['공기업구분'].value_counts())\n",
    "print('\\n')\n",
    "# 1 : 공기업\n",
    "# 2 : 사기업\n",
    "\n",
    "print(df_down['본점지점구분'].value_counts())\n",
    "print('\\n')\n",
    "# 1: 본점\n",
    "# 2: 분점\n",
    "\n",
    "print(df_down['국외투자법인여부'].value_counts())\n",
    "print('\\n')\n",
    "\n",
    "print(df_down['벤처기업여부'].value_counts())\n",
    "\n",
    "# Y : Yes\n",
    "# N : No"
   ]
  },
  {
   "cell_type": "markdown",
   "metadata": {
    "collapsed": false,
    "pycharm": {
     "name": "#%% md\n"
    }
   },
   "source": [
    "### 상장코드\n",
    "\n",
    "상장할때 받는 코드로 다 각기 다름\n",
    "그리고 89개의 기업만 상장코드를 가지고 있어서 89개의 기업만 상장한듯"
   ]
  },
  {
   "cell_type": "code",
   "execution_count": null,
   "metadata": {
    "collapsed": false,
    "pycharm": {
     "name": "#%%\n"
    }
   },
   "outputs": [],
   "source": [
    "df_active['상장코드'].value_counts()"
   ]
  },
  {
   "cell_type": "code",
   "execution_count": null,
   "metadata": {
    "collapsed": false,
    "pycharm": {
     "name": "#%%\n"
    }
   },
   "outputs": [],
   "source": [
    "len(df_down['상장코드'].value_counts())"
   ]
  },
  {
   "cell_type": "markdown",
   "metadata": {
    "collapsed": false
   },
   "source": [
    "45 개의 회사만 상장한 것을 확인"
   ]
  },
  {
   "cell_type": "markdown",
   "metadata": {
    "collapsed": false,
    "pycharm": {
     "name": "#%% md\n"
    }
   },
   "source": [
    "### 산업코드\n",
    "\n",
    "산업 코드에 따른 산업을 표준분류코드표를 확인하여 맵핑 필요\n",
    "\n",
    "참고사이트 http://kssc.kostat.go.kr/ksscNew_web/kssc/common/ClassificationContent.do?gubun=1&strCategoryNameCode=001&categoryMenu=007&addGubun=no"
   ]
  },
  {
   "cell_type": "code",
   "execution_count": null,
   "metadata": {
    "collapsed": false,
    "pycharm": {
     "name": "#%%\n"
    }
   },
   "outputs": [],
   "source": [
    "code_list = ['산업코드1','산업코드2', '산업코드3']\n",
    "\n",
    "for i in code_list:\n",
    "    print(df_active[i].value_counts())\n",
    "    print('/////////')"
   ]
  },
  {
   "cell_type": "markdown",
   "metadata": {
    "collapsed": false,
    "pycharm": {
     "name": "#%% md\n"
    }
   },
   "source": [
    "### 공공기관유형"
   ]
  },
  {
   "cell_type": "code",
   "execution_count": null,
   "metadata": {
    "collapsed": false,
    "pycharm": {
     "name": "#%%\n"
    }
   },
   "outputs": [],
   "source": [
    "df_active['공공기관유형'].value_counts()\n",
    "\n",
    "#0 : 해당사항없음\n",
    "#1 : 정부기구\n",
    "#2 : 공기업/ 준정부기관\n",
    "#3 : 지자체공단/ 공사\n",
    "\n",
    "# 정부 기구는 없고 공기업이나 공단or공사가 조금 있는 것을 확인"
   ]
  },
  {
   "cell_type": "code",
   "execution_count": null,
   "metadata": {
    "collapsed": false,
    "pycharm": {
     "name": "#%%\n"
    }
   },
   "outputs": [],
   "source": [
    "df_down['공공기관유형'].value_counts()\n",
    "\n",
    "# 휴폐업 데이터는 다르게 공공기관 유형이 전부 0인 해당사항이 없었다."
   ]
  },
  {
   "cell_type": "markdown",
   "metadata": {
    "collapsed": false,
    "pycharm": {
     "name": "#%% md\n"
    }
   },
   "source": [
    "### 중견기업보호여부"
   ]
  },
  {
   "cell_type": "code",
   "execution_count": null,
   "metadata": {
    "collapsed": false,
    "pycharm": {
     "name": "#%%\n"
    }
   },
   "outputs": [],
   "source": [
    "df_active['중견기업보호여부'].value_counts()\n",
    "\n",
    "# 대부분의 기업이 중견기업 보호를 받지 않지만\n",
    "# 단 98개의 기업만이 보호를 받는다."
   ]
  },
  {
   "cell_type": "code",
   "execution_count": null,
   "metadata": {
    "collapsed": false,
    "pycharm": {
     "name": "#%%\n"
    }
   },
   "outputs": [],
   "source": [
    "df_down['중견기업보호여부'].value_counts()\n",
    "\n",
    "# 11개의 기업만이 중견기업의 보호를 받음"
   ]
  },
  {
   "cell_type": "markdown",
   "metadata": {
    "collapsed": false,
    "pycharm": {
     "name": "#%% md\n"
    }
   },
   "source": [
    "### 설립일자"
   ]
  },
  {
   "cell_type": "code",
   "execution_count": null,
   "metadata": {
    "collapsed": false,
    "pycharm": {
     "name": "#%%\n"
    }
   },
   "outputs": [],
   "source": [
    "plt.figure(figsize=(15,12))\n",
    "sns.countplot(data = df_active,x='설립일자')\n",
    "plt.title('설립일자', fontsize=20)\n",
    "plt.xlabel('날짜', fontsize=16)\n",
    "plt.ylabel('개수', fontsize=16)\n",
    "plt.xlim(19600000)\n",
    "#save_fig(\"업종_countplot_drop(M)\")\n",
    "plt.show()"
   ]
  },
  {
   "cell_type": "code",
   "execution_count": null,
   "metadata": {
    "collapsed": false,
    "pycharm": {
     "name": "#%%\n"
    }
   },
   "outputs": [],
   "source": [
    "plt.figure(figsize=(15,12))\n",
    "sns.countplot(data = df_down,x='설립일자')\n",
    "plt.title('설립일자', fontsize=20)\n",
    "plt.xlabel('날짜', fontsize=16)\n",
    "plt.ylabel('개수', fontsize=16)\n",
    "plt.xlim(19600000)\n",
    "#save_fig(\"업종_countplot_drop(M)\")\n",
    "plt.show()"
   ]
  },
  {
   "cell_type": "markdown",
   "metadata": {
    "collapsed": false
   },
   "source": [
    "위의 두 그래프를 비교했을떄 비교적 최근에 생긴 기업들이 휴폐업이 많은 것을 확인"
   ]
  },
  {
   "cell_type": "markdown",
   "metadata": {
    "collapsed": false,
    "pycharm": {
     "name": "#%% md\n"
    }
   },
   "source": [
    "### 설립일자"
   ]
  },
  {
   "cell_type": "code",
   "execution_count": 52,
   "metadata": {
    "collapsed": false,
    "pycharm": {
     "name": "#%%\n"
    }
   },
   "outputs": [
    {
     "data": {
      "image/png": "[encoded data removed]",
      "text/plain": [
       "<Figure size 1200x800 with 1 Axes>"
      ]
     },
     "metadata": {},
     "output_type": "display_data"
    }
   ],
   "source": [
    "plt.figure(figsize=(12,8))\n",
    "sns.countplot(data = df_active, x='직원수')\n",
    "plt.title('직원수', fontsize=8)\n",
    "plt.xlabel('직원수', fontsize=8)\n",
    "plt.ylabel('개수', fontsize=8)\n",
    "plt.xlim(0,200)\n",
    "#save_fig(\"업종_countplot_drop(M)\")\n",
    "plt.show()"
   ]
  },
  {
   "cell_type": "code",
   "execution_count": 53,
   "metadata": {
    "collapsed": false,
    "pycharm": {
     "name": "#%%\n"
    }
   },
   "outputs": [
    {
     "data": {
      "image/png": "[encoded data removed]",
      "text/plain": [
       "<Figure size 1200x800 with 1 Axes>"
      ]
     },
     "metadata": {},
     "output_type": "display_data"
    }
   ],
   "source": [
    "plt.figure(figsize=(12,8))\n",
    "sns.countplot(data = df_down, x='직원수')\n",
    "plt.title('직원수', fontsize=8)\n",
    "plt.xlabel('직원수', fontsize=8)\n",
    "plt.ylabel('개수', fontsize=8)\n",
    "plt.xlim(0,200)\n",
    "#save_fig(\"업종_countplot_drop(M)\")\n",
    "plt.show()"
   ]
  },
  {
   "cell_type": "markdown",
   "metadata": {
    "collapsed": false,
    "pycharm": {
     "name": "#%% md\n"
    }
   },
   "source": [
    "확실히 직원수가 적은 기업이 많은 것을 확인할 수 있다."
   ]
  },
  {
   "cell_type": "markdown",
   "metadata": {
    "collapsed": false,
    "pycharm": {
     "name": "#%% md\n"
    }
   },
   "source": [
    "데이터에 이상치가 있는 듯"
   ]
  },
  {
   "cell_type": "code",
   "execution_count": null,
   "metadata": {
    "collapsed": false,
    "pycharm": {
     "name": "#%%\n"
    }
   },
   "outputs": [],
   "source": [
    "col_list = ['사업자등록번호', '기업접두명', '기업명', '기업접미명', '기업영문명', '업종', '공기업구분', '본점지점구분', '국외투자법인여부', '벤처기업여부', '상장코드', '산업코드1','산업코드2', '산업코드3' , '공공기관유형', '중견기업보호여부', '본점기업코드', '설립일자', '설립구분', '상장일자', '주요사업내용', '국가명', '홈페이지URL', '대표자명', '직원수']"
   ]
  },
  {
   "cell_type": "code",
   "execution_count": null,
   "metadata": {
    "collapsed": false,
    "pycharm": {
     "name": "#%%\n"
    }
   },
   "outputs": [],
   "source": [
    "for i in col_list:\n",
    "    print(df_active[i].value_counts())\n",
    "    print('/////////')"
   ]
  },
  {
   "cell_type": "code",
   "execution_count": null,
   "metadata": {
    "collapsed": false,
    "pycharm": {
     "name": "#%%\n"
    }
   },
   "outputs": [],
   "source": [
    "col_list = ['업종', '공기업구분', '본점지점구분', '국외투자법인여부', '벤처기업여부', '상장코드', '산업코드1','산업코드2', '산업코드3', '공공기관유형', '중견기업보호여부', '본점기업코드', '설립일자', '설립구분', '상장일자', '주요사업내용', '국가명', '홈페이지URL', '대표자명', '직원수']\n"
   ]
  },
  {
   "cell_type": "markdown",
   "metadata": {
    "collapsed": false
   },
   "source": []
  },
  {
   "cell_type": "markdown",
   "metadata": {
    "collapsed": false
   },
   "source": [
    "# 최종 데이터 EDA"
   ]
  },
  {
   "cell_type": "code",
   "execution_count": 55,
   "metadata": {
    "collapsed": false,
    "pycharm": {
     "name": "#%%\n"
    }
   },
   "outputs": [],
   "source": [
    "final = pd.read_csv(r'C:\\Users\\yoon9\\Documents\\GitHub\\numble_repo\\data\\company_info_final.csv',encoding = 'cp949')"
   ]
  },
  {
   "cell_type": "code",
   "execution_count": 58,
   "metadata": {
    "collapsed": false,
    "pycharm": {
     "name": "#%%\n"
    }
   },
   "outputs": [],
   "source": [
    "final = final.drop(columns=['사업자등록번호','기업명','설립일자'])"
   ]
  },
  {
   "cell_type": "code",
   "execution_count": 61,
   "metadata": {
    "collapsed": false,
    "pycharm": {
     "name": "#%%\n"
    }
   },
   "outputs": [
    {
     "data": {
      "text/plain": [
       "Index(['공기업구분', '개인법인구분', '본점지점구분', '국외투자법인여부', '벤처기업여부', '상장코드', '산업코드1',\n",
       "       '공공기관유형', '중견기업보호여부', '본점기업코드', '설립구분', '국가명', '직원수', '폐업여부',\n",
       "       '산업코드 대분류', '구글 검색량', '설립일자(day)'],\n",
       "      dtype='object')"
      ]
     },
     "execution_count": 61,
     "metadata": {},
     "output_type": "execute_result"
    }
   ],
   "source": [
    "final.columns"
   ]
  },
  {
   "cell_type": "code",
   "execution_count": 72,
   "metadata": {
    "collapsed": false,
    "pycharm": {
     "name": "#%%\n"
    }
   },
   "outputs": [
    {
     "data": {
      "text/plain": [
       "<AxesSubplot: xlabel='국가명', ylabel='count'>"
      ]
     },
     "execution_count": 72,
     "metadata": {},
     "output_type": "execute_result"
    },
    {
     "data": {
      "image/png": "[encoded data removed]",
      "text/plain": [
       "<Figure size 2500x1500 with 8 Axes>"
      ]
     },
     "metadata": {},
     "output_type": "display_data"
    }
   ],
   "source": [
    "fig = plt.figure(figsize=(25, 15))\n",
    "plt.subplot(2, 4, 1)\n",
    "sns.countplot(data=final, x=final.columns[2])\n",
    "plt.subplot(2, 4, 2)\n",
    "sns.countplot(data=final, x=final.columns[3])\n",
    "plt.subplot(2, 4, 3)\n",
    "sns.countplot(data=final, x=final.columns[4])\n",
    "plt.subplot(2, 4, 4)\n",
    "sns.countplot(data=final, x=final.columns[5])\n",
    "plt.subplot(2, 4, 5)\n",
    "sns.countplot(data=final, x=final.columns[7])\n",
    "plt.subplot(2, 4, 6)\n",
    "sns.countplot(data=final, x=final.columns[8])\n",
    "plt.subplot(2, 4, 7)\n",
    "sns.countplot(data=final, x=final.columns[10])\n",
    "plt.subplot(2, 4, 8)\n",
    "sns.countplot(data=final, x=final.columns[11])"
   ]
  },
  {
   "cell_type": "code",
   "execution_count": 74,
   "metadata": {
    "collapsed": false,
    "pycharm": {
     "name": "#%%\n"
    }
   },
   "outputs": [
    {
     "data": {
      "text/plain": [
       "<AxesSubplot: xlabel='국가명', ylabel='count'>"
      ]
     },
     "execution_count": 74,
     "metadata": {},
     "output_type": "execute_result"
    },
    {
     "data": {
      "image/png": "[encoded data removed]",
      "text/plain": [
       "<Figure size 2500x1500 with 8 Axes>"
      ]
     },
     "metadata": {},
     "output_type": "display_data"
    }
   ],
   "source": [
    "fig = plt.figure(figsize=(25, 15))\n",
    "plt.subplot(2, 4, 1)\n",
    "sns.countplot(data=final, x=final.columns[2],hue = '폐업여부')\n",
    "plt.subplot(2, 4, 2)\n",
    "sns.countplot(data=final, x=final.columns[3],hue = '폐업여부')\n",
    "plt.subplot(2, 4, 3)\n",
    "sns.countplot(data=final, x=final.columns[4],hue = '폐업여부')\n",
    "plt.subplot(2, 4, 4)\n",
    "sns.countplot(data=final, x=final.columns[5],hue = '폐업여부')\n",
    "plt.subplot(2, 4, 5)\n",
    "sns.countplot(data=final, x=final.columns[7],hue = '폐업여부')\n",
    "plt.subplot(2, 4, 6)\n",
    "sns.countplot(data=final, x=final.columns[8],hue = '폐업여부')\n",
    "plt.subplot(2, 4, 7)\n",
    "sns.countplot(data=final, x=final.columns[10],hue = '폐업여부')\n",
    "plt.subplot(2, 4, 8)\n",
    "sns.countplot(data=final, x=final.columns[11],hue = '폐업여부')"
   ]
  },
  {
   "cell_type": "code",
   "execution_count": 1,
   "metadata": {
    "collapsed": false,
    "pycharm": {
     "name": "#%%\n"
    }
   },
   "outputs": [
    {
     "ename": "NameError",
     "evalue": "name 'plt' is not defined",
     "output_type": "error",
     "traceback": [
      "\u001b[1;31m---------------------------------------------------------------------------\u001b[0m",
      "\u001b[1;31mNameError\u001b[0m                                 Traceback (most recent call last)",
      "Cell \u001b[1;32mIn [1], line 1\u001b[0m\n\u001b[1;32m----> 1\u001b[0m fig \u001b[38;5;241m=\u001b[39m \u001b[43mplt\u001b[49m\u001b[38;5;241m.\u001b[39mfigure(figsize\u001b[38;5;241m=\u001b[39m(\u001b[38;5;241m25\u001b[39m, \u001b[38;5;241m8\u001b[39m))\n\u001b[0;32m      2\u001b[0m plt\u001b[38;5;241m.\u001b[39msubplot(\u001b[38;5;241m2\u001b[39m, \u001b[38;5;241m4\u001b[39m, \u001b[38;5;241m1\u001b[39m)\n\u001b[0;32m      3\u001b[0m sns\u001b[38;5;241m.\u001b[39mhistplot(data\u001b[38;5;241m=\u001b[39mfinal, x\u001b[38;5;241m=\u001b[39m\u001b[38;5;124m'\u001b[39m\u001b[38;5;124m직원수\u001b[39m\u001b[38;5;124m'\u001b[39m)\n",
      "\u001b[1;31mNameError\u001b[0m: name 'plt' is not defined"
     ]
    }
   ],
   "source": [
    "fig = plt.figure(figsize=(25, 8))\n",
    "plt.subplot(2, 4, 1)\n",
    "sns.histplot(data=final, x='직원수')\n",
    "plt.subplot(2, 4, 2)\n",
    "sns.histplot(data=final, x='구글 검색량')\n",
    "plt.subplot(2, 4, 3)\n",
    "sns.histplot(data=final, x='설립일자(day)')"
   ]
  },
  {
   "cell_type": "code",
   "execution_count": null,
   "metadata": {
    "collapsed": false,
    "pycharm": {
     "name": "#%%\n"
    }
   },
   "outputs": [],
   "source": [
    "fig = plt.figure(figsize=(25, 8))\n",
    "plt.subplot(2, 4, 1)\n",
    "sns.histplot(data=final, x='직원수',hue = '폐업여부')\n",
    "plt.subplot(2, 4, 2)\n",
    "sns.histplot(data=final, x='구글 검색량',hue = '폐업여부')\n",
    "plt.subplot(2, 4, 3)\n",
    "sns.histplot(data=final, x='설립일자(day)',hue = '폐업여부')"
   ]
  }
 ],
 "metadata": {
  "kernelspec": {
   "display_name": "Python 3",
   "language": "python",
   "name": "python3"
  },
  "language_info": {
   "codemirror_mode": {
    "name": "ipython",
    "version": 3
   },
   "file_extension": ".py",
   "mimetype": "text/x-python",
   "name": "python",
   "nbconvert_exporter": "python",
   "pygments_lexer": "ipython3",
   "version": "3.10.8"
  }
 },
 "nbformat": 4,
 "nbformat_minor": 0
}
