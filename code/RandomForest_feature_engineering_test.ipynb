{
 "cells": [
  {
   "cell_type": "code",
   "execution_count": 12,
   "metadata": {
    "collapsed": true
   },
   "outputs": [],
   "source": []
  },
  {
   "cell_type": "code",
   "execution_count": 2,
   "outputs": [],
   "source": [
    "import pandas as pd\n",
    "import numpy as np\n",
    "import seaborn as sns\n",
    "import matplotlib.pyplot as plt\n",
    "from sklearn.model_selection import RandomizedSearchCV\n",
    "import matplotlib.font_manager as fm"
   ],
   "metadata": {
    "collapsed": false,
    "pycharm": {
     "name": "#%%\n"
    }
   }
  },
  {
   "cell_type": "code",
   "execution_count": 3,
   "outputs": [],
   "source": [
    "\n",
    "plt.rc('font', family='NanumBarunGothic')\n",
    "font_location = 'C:/Windows/Fonts/MALGUNSL.TTF'  # for windows\n",
    "font_name = fm.FontProperties(fname=font_location).get_name()\n",
    "plt.rc('font', family=font_name)"
   ],
   "metadata": {
    "collapsed": false,
    "pycharm": {
     "name": "#%%\n"
    }
   }
  },
  {
   "cell_type": "code",
   "execution_count": 4,
   "outputs": [],
   "source": [
    "company_info = pd.read_csv(r'C:\\Users\\yoon9\\Documents\\GitHub\\numble_repo\\data\\company_info_with_days.csv',encoding='cp949')"
   ],
   "metadata": {
    "collapsed": false,
    "pycharm": {
     "name": "#%%\n"
    }
   }
  },
  {
   "cell_type": "code",
   "execution_count": 5,
   "outputs": [
    {
     "data": {
      "text/plain": "0                 한일가스산업\n1                   엠피아이\n2                   도영운수\n3                   중원산업\n4                  카타나골프\n              ...       \n35716            게방식당팩토리\n35717           우진푸드중부지점\n35718    윤월드푸드코리아다크써클브로스\n35719               기린테크\n35720               우리로봇\nName: 기업명, Length: 35721, dtype: object"
     },
     "execution_count": 5,
     "metadata": {},
     "output_type": "execute_result"
    }
   ],
   "source": [
    "company_info['기업명']"
   ],
   "metadata": {
    "collapsed": false,
    "pycharm": {
     "name": "#%%\n"
    }
   }
  },
  {
   "cell_type": "markdown",
   "source": [
    "# Feature Engineering"
   ],
   "metadata": {
    "collapsed": false,
    "pycharm": {
     "name": "#%% md\n"
    }
   }
  },
  {
   "cell_type": "code",
   "execution_count": 6,
   "outputs": [],
   "source": [
    "df = company_info.drop(columns=['사업자등록번호','기업명','업종','설립일자','주요사업내용','산업코드1','공기업구분'])"
   ],
   "metadata": {
    "collapsed": false,
    "pycharm": {
     "name": "#%%\n"
    }
   }
  },
  {
   "cell_type": "code",
   "execution_count": 7,
   "outputs": [
    {
     "data": {
      "text/plain": "Index(['개인법인구분', '본점지점구분', '국외투자법인여부', '벤처기업여부', '상장코드', '공공기관유형', '중견기업보호여부',\n       '본점기업코드', '설립구분', '국가명', '직원수', '폐업여부', '산업코드 대분류', '회사설립일'],\n      dtype='object')"
     },
     "execution_count": 7,
     "metadata": {},
     "output_type": "execute_result"
    }
   ],
   "source": [
    "df.columns"
   ],
   "metadata": {
    "collapsed": false,
    "pycharm": {
     "name": "#%%\n"
    }
   }
  },
  {
   "cell_type": "markdown",
   "source": [
    "## 스케일링 인코딩 진행"
   ],
   "metadata": {
    "collapsed": false
   }
  },
  {
   "cell_type": "code",
   "execution_count": 2,
   "outputs": [
    {
     "ename": "ModuleNotFoundError",
     "evalue": "No module named 'sklearn.preprocessing'",
     "output_type": "error",
     "traceback": [
      "\u001B[1;31m---------------------------------------------------------------------------\u001B[0m",
      "\u001B[1;31mModuleNotFoundError\u001B[0m                       Traceback (most recent call last)",
      "Cell \u001B[1;32mIn [2], line 1\u001B[0m\n\u001B[1;32m----> 1\u001B[0m \u001B[38;5;28;01mfrom\u001B[39;00m \u001B[38;5;21;01msklearn\u001B[39;00m\u001B[38;5;21;01m.\u001B[39;00m\u001B[38;5;21;01mpreprocessing\u001B[39;00m \u001B[38;5;28;01mimport\u001B[39;00m StandardScaler \u001B[38;5;66;03m# 스케일링 라이브러리\u001B[39;00m\n\u001B[0;32m      2\u001B[0m \u001B[38;5;28;01mfrom\u001B[39;00m \u001B[38;5;21;01msklearn\u001B[39;00m\u001B[38;5;21;01m.\u001B[39;00m\u001B[38;5;21;01mpreprocessing\u001B[39;00m \u001B[38;5;28;01mimport\u001B[39;00m OneHotEncoder\n\u001B[0;32m      3\u001B[0m \u001B[38;5;28;01mfrom\u001B[39;00m \u001B[38;5;21;01msklearn\u001B[39;00m\u001B[38;5;21;01m.\u001B[39;00m\u001B[38;5;21;01mpreprocessing\u001B[39;00m \u001B[38;5;28;01mimport\u001B[39;00m OrdinalEncoder\n",
      "\u001B[1;31mModuleNotFoundError\u001B[0m: No module named 'sklearn.preprocessing'"
     ]
    }
   ],
   "source": [
    "from sklearn.preprocessing import StandardScaler # 스케일링 라이브러리\n",
    "from sklearn.preprocessing import OneHotEncoder\n",
    "from sklearn.preprocessing import OrdinalEncoder\n",
    "from sklearn.preprocessing import MinMaxScaler\n",
    "from sklearn.preprocessing import LabelEncoder"
   ],
   "metadata": {
    "collapsed": false,
    "pycharm": {
     "name": "#%%\n"
    }
   }
  },
  {
   "cell_type": "code",
   "execution_count": 9,
   "outputs": [
    {
     "data": {
      "text/plain": "          사업자등록번호              기업명 업종  공기업구분  개인법인구분  본점지점구분  국외투자법인여부  \\\n0      1138111739           한일가스산업  M      2       1       1         0   \n1      2078132193             엠피아이  M      2       1       1         0   \n2      1318167565             도영운수  M      2       1       1         0   \n3      5048128251             중원산업  M      2       1       1         0   \n4      1098164260            카타나골프  M      2       1       1         0   \n...           ...              ... ..    ...     ...     ...       ...   \n35716  4808501629          게방식당팩토리  M      2       1       2         0   \n35717  8018501578         우진푸드중부지점  M      2       1       2         0   \n35718  4118523419  윤월드푸드코리아다크써클브로스  M      2       1       2         0   \n35719  1738102533             기린테크  M      2       1       1         0   \n35720  3138135248             우리로봇  M      2       1       1         0   \n\n       벤처기업여부  상장코드  산업코드1  ...  중견기업보호여부  본점기업코드                 설립일자 설립구분  \\\n0           0     0     47  ...         0       0  1966-04-19 00:00:00    1   \n1           0     0     15  ...         0       0  1991-08-06 00:00:00    1   \n2           0     0     49  ...         0       0  2001-10-30 00:00:00    1   \n3           0     0     30  ...         0       0  1999-01-12 00:00:00    1   \n4           0     0     46  ...         0       0  2000-05-31 00:00:00    1   \n...       ...   ...    ...  ...       ...     ...                  ...  ...   \n35716       0     0     10  ...         0       1  2018-01-26 00:00:00    1   \n35717       0     0     10  ...         0       1  2020-07-27 00:00:00    1   \n35718       0     0     56  ...         0       1  2019-09-26 00:00:00    1   \n35719       0     0     58  ...         0       0  2021-10-25 00:00:00    1   \n35720       1     0     29  ...         0       0  2020-06-29 00:00:00    1   \n\n                         주요사업내용 국가명    직원수  폐업여부   산업코드 대분류  회사설립일  \n0               LP Gas 충전 및 판매업   0   43.0     0   도매 및 소매업  20650  \n1               가죽 및 대용가죽제품 제조업   0   35.0     0        제조업  11410  \n2                         시내버스업   0  149.0     0   운수 및 창고업   7672  \n3                     자동차 부품 제조   0   75.0     0        제조업   8694  \n4             골프용품 전반의 제조 및 수출업   0    3.0     0   도매 및 소매업   8189  \n...                         ...  ..    ...   ...        ...    ...  \n35716                  간장게장(장류)   0    0.0     1        제조업   1740  \n35717            돈가스, 탕수육, 꿔바로우   0   22.0     1        제조업    827  \n35718                    한식, 중식   0    0.0     1  숙박 및 음식점업   1132  \n35719  1.인공지능(AI) 솔루션 구축 및 관련사업   0    0.0     1      정보통신업    372  \n35720                       NaN   0    0.0     1        제조업    855  \n\n[35721 rows x 21 columns]",
      "text/html": "<div>\n<style scoped>\n    .dataframe tbody tr th:only-of-type {\n        vertical-align: middle;\n    }\n\n    .dataframe tbody tr th {\n        vertical-align: top;\n    }\n\n    .dataframe thead th {\n        text-align: right;\n    }\n</style>\n<table border=\"1\" class=\"dataframe\">\n  <thead>\n    <tr style=\"text-align: right;\">\n      <th></th>\n      <th>사업자등록번호</th>\n      <th>기업명</th>\n      <th>업종</th>\n      <th>공기업구분</th>\n      <th>개인법인구분</th>\n      <th>본점지점구분</th>\n      <th>국외투자법인여부</th>\n      <th>벤처기업여부</th>\n      <th>상장코드</th>\n      <th>산업코드1</th>\n      <th>...</th>\n      <th>중견기업보호여부</th>\n      <th>본점기업코드</th>\n      <th>설립일자</th>\n      <th>설립구분</th>\n      <th>주요사업내용</th>\n      <th>국가명</th>\n      <th>직원수</th>\n      <th>폐업여부</th>\n      <th>산업코드 대분류</th>\n      <th>회사설립일</th>\n    </tr>\n  </thead>\n  <tbody>\n    <tr>\n      <th>0</th>\n      <td>1138111739</td>\n      <td>한일가스산업</td>\n      <td>M</td>\n      <td>2</td>\n      <td>1</td>\n      <td>1</td>\n      <td>0</td>\n      <td>0</td>\n      <td>0</td>\n      <td>47</td>\n      <td>...</td>\n      <td>0</td>\n      <td>0</td>\n      <td>1966-04-19 00:00:00</td>\n      <td>1</td>\n      <td>LP Gas 충전 및 판매업</td>\n      <td>0</td>\n      <td>43.0</td>\n      <td>0</td>\n      <td>도매 및 소매업</td>\n      <td>20650</td>\n    </tr>\n    <tr>\n      <th>1</th>\n      <td>2078132193</td>\n      <td>엠피아이</td>\n      <td>M</td>\n      <td>2</td>\n      <td>1</td>\n      <td>1</td>\n      <td>0</td>\n      <td>0</td>\n      <td>0</td>\n      <td>15</td>\n      <td>...</td>\n      <td>0</td>\n      <td>0</td>\n      <td>1991-08-06 00:00:00</td>\n      <td>1</td>\n      <td>가죽 및 대용가죽제품 제조업</td>\n      <td>0</td>\n      <td>35.0</td>\n      <td>0</td>\n      <td>제조업</td>\n      <td>11410</td>\n    </tr>\n    <tr>\n      <th>2</th>\n      <td>1318167565</td>\n      <td>도영운수</td>\n      <td>M</td>\n      <td>2</td>\n      <td>1</td>\n      <td>1</td>\n      <td>0</td>\n      <td>0</td>\n      <td>0</td>\n      <td>49</td>\n      <td>...</td>\n      <td>0</td>\n      <td>0</td>\n      <td>2001-10-30 00:00:00</td>\n      <td>1</td>\n      <td>시내버스업</td>\n      <td>0</td>\n      <td>149.0</td>\n      <td>0</td>\n      <td>운수 및 창고업</td>\n      <td>7672</td>\n    </tr>\n    <tr>\n      <th>3</th>\n      <td>5048128251</td>\n      <td>중원산업</td>\n      <td>M</td>\n      <td>2</td>\n      <td>1</td>\n      <td>1</td>\n      <td>0</td>\n      <td>0</td>\n      <td>0</td>\n      <td>30</td>\n      <td>...</td>\n      <td>0</td>\n      <td>0</td>\n      <td>1999-01-12 00:00:00</td>\n      <td>1</td>\n      <td>자동차 부품 제조</td>\n      <td>0</td>\n      <td>75.0</td>\n      <td>0</td>\n      <td>제조업</td>\n      <td>8694</td>\n    </tr>\n    <tr>\n      <th>4</th>\n      <td>1098164260</td>\n      <td>카타나골프</td>\n      <td>M</td>\n      <td>2</td>\n      <td>1</td>\n      <td>1</td>\n      <td>0</td>\n      <td>0</td>\n      <td>0</td>\n      <td>46</td>\n      <td>...</td>\n      <td>0</td>\n      <td>0</td>\n      <td>2000-05-31 00:00:00</td>\n      <td>1</td>\n      <td>골프용품 전반의 제조 및 수출업</td>\n      <td>0</td>\n      <td>3.0</td>\n      <td>0</td>\n      <td>도매 및 소매업</td>\n      <td>8189</td>\n    </tr>\n    <tr>\n      <th>...</th>\n      <td>...</td>\n      <td>...</td>\n      <td>...</td>\n      <td>...</td>\n      <td>...</td>\n      <td>...</td>\n      <td>...</td>\n      <td>...</td>\n      <td>...</td>\n      <td>...</td>\n      <td>...</td>\n      <td>...</td>\n      <td>...</td>\n      <td>...</td>\n      <td>...</td>\n      <td>...</td>\n      <td>...</td>\n      <td>...</td>\n      <td>...</td>\n      <td>...</td>\n      <td>...</td>\n    </tr>\n    <tr>\n      <th>35716</th>\n      <td>4808501629</td>\n      <td>게방식당팩토리</td>\n      <td>M</td>\n      <td>2</td>\n      <td>1</td>\n      <td>2</td>\n      <td>0</td>\n      <td>0</td>\n      <td>0</td>\n      <td>10</td>\n      <td>...</td>\n      <td>0</td>\n      <td>1</td>\n      <td>2018-01-26 00:00:00</td>\n      <td>1</td>\n      <td>간장게장(장류)</td>\n      <td>0</td>\n      <td>0.0</td>\n      <td>1</td>\n      <td>제조업</td>\n      <td>1740</td>\n    </tr>\n    <tr>\n      <th>35717</th>\n      <td>8018501578</td>\n      <td>우진푸드중부지점</td>\n      <td>M</td>\n      <td>2</td>\n      <td>1</td>\n      <td>2</td>\n      <td>0</td>\n      <td>0</td>\n      <td>0</td>\n      <td>10</td>\n      <td>...</td>\n      <td>0</td>\n      <td>1</td>\n      <td>2020-07-27 00:00:00</td>\n      <td>1</td>\n      <td>돈가스, 탕수육, 꿔바로우</td>\n      <td>0</td>\n      <td>22.0</td>\n      <td>1</td>\n      <td>제조업</td>\n      <td>827</td>\n    </tr>\n    <tr>\n      <th>35718</th>\n      <td>4118523419</td>\n      <td>윤월드푸드코리아다크써클브로스</td>\n      <td>M</td>\n      <td>2</td>\n      <td>1</td>\n      <td>2</td>\n      <td>0</td>\n      <td>0</td>\n      <td>0</td>\n      <td>56</td>\n      <td>...</td>\n      <td>0</td>\n      <td>1</td>\n      <td>2019-09-26 00:00:00</td>\n      <td>1</td>\n      <td>한식, 중식</td>\n      <td>0</td>\n      <td>0.0</td>\n      <td>1</td>\n      <td>숙박 및 음식점업</td>\n      <td>1132</td>\n    </tr>\n    <tr>\n      <th>35719</th>\n      <td>1738102533</td>\n      <td>기린테크</td>\n      <td>M</td>\n      <td>2</td>\n      <td>1</td>\n      <td>1</td>\n      <td>0</td>\n      <td>0</td>\n      <td>0</td>\n      <td>58</td>\n      <td>...</td>\n      <td>0</td>\n      <td>0</td>\n      <td>2021-10-25 00:00:00</td>\n      <td>1</td>\n      <td>1.인공지능(AI) 솔루션 구축 및 관련사업</td>\n      <td>0</td>\n      <td>0.0</td>\n      <td>1</td>\n      <td>정보통신업</td>\n      <td>372</td>\n    </tr>\n    <tr>\n      <th>35720</th>\n      <td>3138135248</td>\n      <td>우리로봇</td>\n      <td>M</td>\n      <td>2</td>\n      <td>1</td>\n      <td>1</td>\n      <td>0</td>\n      <td>1</td>\n      <td>0</td>\n      <td>29</td>\n      <td>...</td>\n      <td>0</td>\n      <td>0</td>\n      <td>2020-06-29 00:00:00</td>\n      <td>1</td>\n      <td>NaN</td>\n      <td>0</td>\n      <td>0.0</td>\n      <td>1</td>\n      <td>제조업</td>\n      <td>855</td>\n    </tr>\n  </tbody>\n</table>\n<p>35721 rows × 21 columns</p>\n</div>"
     },
     "execution_count": 9,
     "metadata": {},
     "output_type": "execute_result"
    }
   ],
   "source": [
    "company_info"
   ],
   "metadata": {
    "collapsed": false,
    "pycharm": {
     "name": "#%%\n"
    }
   }
  },
  {
   "cell_type": "code",
   "execution_count": 39,
   "outputs": [],
   "source": [
    "num_attribss = df[['직원수','회사설립일']]\n",
    "cat_1hot_attribs = df[['산업코드 대분류']]\n",
    "cat_ord_attribs = df[['상장코드','벤처기업여부','공공기관유형', '중견기업보호여부','국가명','국외투자법인여부','개인법인구분','본점지점구분','본점기업코드','설립구분']]\n",
    "y = company_info[['폐업여부']]\n",
    "\n",
    "cat_all = df[['산업코드 대분류','상장코드','벤처기업여부','공공기관유형', '중견기업보호여부','국가명','국외투자법인여부','본점지점구분','본점기업코드','설립구분']]\n",
    "# 변수별 타입 나누기"
   ],
   "metadata": {
    "collapsed": false,
    "pycharm": {
     "name": "#%%\n"
    }
   }
  },
  {
   "cell_type": "code",
   "execution_count": 33,
   "outputs": [
    {
     "data": {
      "text/plain": "산업코드 대분류    object\n상장코드         int64\n벤처기업여부       int64\n공공기관유형       int64\n중견기업보호여부     int64\n국가명          int64\n국외투자법인여부     int64\n개인법인구분       int64\n본점지점구분       int64\n본점기업코드       int64\n설립구분         int64\ndtype: object"
     },
     "execution_count": 33,
     "metadata": {},
     "output_type": "execute_result"
    }
   ],
   "source": [
    "cat_all.dtypes"
   ],
   "metadata": {
    "collapsed": false,
    "pycharm": {
     "name": "#%%\n"
    }
   }
  },
  {
   "cell_type": "markdown",
   "source": [
    "## 스케일링"
   ],
   "metadata": {
    "collapsed": false
   }
  },
  {
   "cell_type": "markdown",
   "source": [
    "### StandardScaler"
   ],
   "metadata": {
    "collapsed": false
   }
  },
  {
   "cell_type": "code",
   "execution_count": 13,
   "outputs": [
    {
     "data": {
      "text/plain": "            직원수     회사설립일\n0     -0.071824  3.515949\n1     -0.123865  1.242839\n2      0.617721  0.323263\n3      0.136341  0.574683\n4     -0.332029  0.450449\n...         ...       ...\n35716 -0.351545 -1.136054\n35717 -0.208432 -1.360659\n35718 -0.351545 -1.285626\n35719 -0.351545 -1.472592\n35720 -0.351545 -1.353770\n\n[35721 rows x 2 columns]",
      "text/html": "<div>\n<style scoped>\n    .dataframe tbody tr th:only-of-type {\n        vertical-align: middle;\n    }\n\n    .dataframe tbody tr th {\n        vertical-align: top;\n    }\n\n    .dataframe thead th {\n        text-align: right;\n    }\n</style>\n<table border=\"1\" class=\"dataframe\">\n  <thead>\n    <tr style=\"text-align: right;\">\n      <th></th>\n      <th>직원수</th>\n      <th>회사설립일</th>\n    </tr>\n  </thead>\n  <tbody>\n    <tr>\n      <th>0</th>\n      <td>-0.071824</td>\n      <td>3.515949</td>\n    </tr>\n    <tr>\n      <th>1</th>\n      <td>-0.123865</td>\n      <td>1.242839</td>\n    </tr>\n    <tr>\n      <th>2</th>\n      <td>0.617721</td>\n      <td>0.323263</td>\n    </tr>\n    <tr>\n      <th>3</th>\n      <td>0.136341</td>\n      <td>0.574683</td>\n    </tr>\n    <tr>\n      <th>4</th>\n      <td>-0.332029</td>\n      <td>0.450449</td>\n    </tr>\n    <tr>\n      <th>...</th>\n      <td>...</td>\n      <td>...</td>\n    </tr>\n    <tr>\n      <th>35716</th>\n      <td>-0.351545</td>\n      <td>-1.136054</td>\n    </tr>\n    <tr>\n      <th>35717</th>\n      <td>-0.208432</td>\n      <td>-1.360659</td>\n    </tr>\n    <tr>\n      <th>35718</th>\n      <td>-0.351545</td>\n      <td>-1.285626</td>\n    </tr>\n    <tr>\n      <th>35719</th>\n      <td>-0.351545</td>\n      <td>-1.472592</td>\n    </tr>\n    <tr>\n      <th>35720</th>\n      <td>-0.351545</td>\n      <td>-1.353770</td>\n    </tr>\n  </tbody>\n</table>\n<p>35721 rows × 2 columns</p>\n</div>"
     },
     "execution_count": 13,
     "metadata": {},
     "output_type": "execute_result"
    }
   ],
   "source": [
    "# 수치형 변수 스케일링\n",
    "sta_scaler = StandardScaler()\n",
    "sta_X_scale = sta_scaler.fit_transform(num_attribss)\n",
    "sta_X_scale = pd.DataFrame(sta_X_scale, columns=num_attribss.columns)\n",
    "sta_X_scale  # 스케일링 데이터 프레임화"
   ],
   "metadata": {
    "collapsed": false,
    "pycharm": {
     "name": "#%%\n"
    }
   }
  },
  {
   "cell_type": "markdown",
   "source": [
    "# MinMaxScaler"
   ],
   "metadata": {
    "collapsed": false
   }
  },
  {
   "cell_type": "code",
   "execution_count": 14,
   "outputs": [
    {
     "data": {
      "text/plain": "            직원수     회사설립일\n0      0.002636  0.414897\n1      0.002146  0.228227\n2      0.009135  0.152710\n3      0.004598  0.173357\n4      0.000184  0.163155\n...         ...       ...\n35716  0.000000  0.032869\n35717  0.001349  0.014425\n35718  0.000000  0.020586\n35719  0.000000  0.005232\n35720  0.000000  0.014990\n\n[35721 rows x 2 columns]",
      "text/html": "<div>\n<style scoped>\n    .dataframe tbody tr th:only-of-type {\n        vertical-align: middle;\n    }\n\n    .dataframe tbody tr th {\n        vertical-align: top;\n    }\n\n    .dataframe thead th {\n        text-align: right;\n    }\n</style>\n<table border=\"1\" class=\"dataframe\">\n  <thead>\n    <tr style=\"text-align: right;\">\n      <th></th>\n      <th>직원수</th>\n      <th>회사설립일</th>\n    </tr>\n  </thead>\n  <tbody>\n    <tr>\n      <th>0</th>\n      <td>0.002636</td>\n      <td>0.414897</td>\n    </tr>\n    <tr>\n      <th>1</th>\n      <td>0.002146</td>\n      <td>0.228227</td>\n    </tr>\n    <tr>\n      <th>2</th>\n      <td>0.009135</td>\n      <td>0.152710</td>\n    </tr>\n    <tr>\n      <th>3</th>\n      <td>0.004598</td>\n      <td>0.173357</td>\n    </tr>\n    <tr>\n      <th>4</th>\n      <td>0.000184</td>\n      <td>0.163155</td>\n    </tr>\n    <tr>\n      <th>...</th>\n      <td>...</td>\n      <td>...</td>\n    </tr>\n    <tr>\n      <th>35716</th>\n      <td>0.000000</td>\n      <td>0.032869</td>\n    </tr>\n    <tr>\n      <th>35717</th>\n      <td>0.001349</td>\n      <td>0.014425</td>\n    </tr>\n    <tr>\n      <th>35718</th>\n      <td>0.000000</td>\n      <td>0.020586</td>\n    </tr>\n    <tr>\n      <th>35719</th>\n      <td>0.000000</td>\n      <td>0.005232</td>\n    </tr>\n    <tr>\n      <th>35720</th>\n      <td>0.000000</td>\n      <td>0.014990</td>\n    </tr>\n  </tbody>\n</table>\n<p>35721 rows × 2 columns</p>\n</div>"
     },
     "execution_count": 14,
     "metadata": {},
     "output_type": "execute_result"
    }
   ],
   "source": [
    "MM_scaler = MinMaxScaler()\n",
    "MM_X_scale = MM_scaler.fit_transform(num_attribss)\n",
    "MM_X_scale = pd.DataFrame(MM_X_scale, columns=num_attribss.columns)\n",
    "MM_X_scale  # 스케일링 데이터 프레임화"
   ],
   "metadata": {
    "collapsed": false,
    "pycharm": {
     "name": "#%%\n"
    }
   }
  },
  {
   "cell_type": "markdown",
   "source": [
    "## 원핫인코딩"
   ],
   "metadata": {
    "collapsed": false
   }
  },
  {
   "cell_type": "code",
   "execution_count": 15,
   "outputs": [
    {
     "data": {
      "text/plain": "array([[0., 0., 0., ..., 0., 0., 0.],\n       [0., 0., 0., ..., 0., 1., 0.],\n       [0., 0., 0., ..., 0., 0., 0.],\n       ...,\n       [0., 0., 0., ..., 0., 0., 0.],\n       [0., 0., 0., ..., 1., 0., 0.],\n       [0., 0., 0., ..., 0., 1., 0.]])"
     },
     "execution_count": 15,
     "metadata": {},
     "output_type": "execute_result"
    }
   ],
   "source": [
    "# 원핫인코딩 함수 적용\n",
    "hot1_encoder = OneHotEncoder(sparse=False,drop='if_binary')\n",
    "X_1hot = hot1_encoder.fit_transform(cat_1hot_attribs)\n",
    "X_1hot"
   ],
   "metadata": {
    "collapsed": false,
    "pycharm": {
     "name": "#%%\n"
    }
   }
  },
  {
   "cell_type": "markdown",
   "source": [],
   "metadata": {
    "collapsed": false
   }
  },
  {
   "cell_type": "code",
   "execution_count": 16,
   "outputs": [
    {
     "name": "stderr",
     "output_type": "stream",
     "text": [
      "C:\\Users\\yoon9\\anaconda3\\envs\\numble_repo\\lib\\site-packages\\sklearn\\utils\\deprecation.py:87: FutureWarning: Function get_feature_names is deprecated; get_feature_names is deprecated in 1.0 and will be removed in 1.2. Please use get_feature_names_out instead.\n",
      "  warnings.warn(msg, category=FutureWarning)\n"
     ]
    }
   ],
   "source": [
    "X_1hot = pd.DataFrame(X_1hot, columns=hot1_encoder.get_feature_names()) #순서가 없는 카테고리형\n",
    "# 데이터 프레임화"
   ],
   "metadata": {
    "collapsed": false,
    "pycharm": {
     "name": "#%%\n"
    }
   }
  },
  {
   "cell_type": "code",
   "execution_count": 17,
   "outputs": [
    {
     "data": {
      "text/plain": "       x0_건설업  x0_공공 행정, 국방 및 사회보장 행정  x0_광업  x0_교육 서비스업  x0_금융 및 보험업  \\\n0         0.0                     0.0    0.0         0.0          0.0   \n1         0.0                     0.0    0.0         0.0          0.0   \n2         0.0                     0.0    0.0         0.0          0.0   \n3         0.0                     0.0    0.0         0.0          0.0   \n4         0.0                     0.0    0.0         0.0          0.0   \n...       ...                     ...    ...         ...          ...   \n35716     0.0                     0.0    0.0         0.0          0.0   \n35717     0.0                     0.0    0.0         0.0          0.0   \n35718     0.0                     0.0    0.0         0.0          0.0   \n35719     0.0                     0.0    0.0         0.0          0.0   \n35720     0.0                     0.0    0.0         0.0          0.0   \n\n       x0_농업,임업 및 어업  x0_도매 및 소매업  x0_보건업 및 사회복지 서비스업  x0_부동산업  \\\n0                0.0          1.0                 0.0      0.0   \n1                0.0          0.0                 0.0      0.0   \n2                0.0          0.0                 0.0      0.0   \n3                0.0          0.0                 0.0      0.0   \n4                0.0          1.0                 0.0      0.0   \n...              ...          ...                 ...      ...   \n35716            0.0          0.0                 0.0      0.0   \n35717            0.0          0.0                 0.0      0.0   \n35718            0.0          0.0                 0.0      0.0   \n35719            0.0          0.0                 0.0      0.0   \n35720            0.0          0.0                 0.0      0.0   \n\n       x0_사업시설 관리, 사업 지원 및 임대 서비스업  x0_수도, 하수 및 폐기물 처리, 원료 재생업  x0_숙박 및 음식점업  \\\n0                              0.0                         0.0           0.0   \n1                              0.0                         0.0           0.0   \n2                              0.0                         0.0           0.0   \n3                              0.0                         0.0           0.0   \n4                              0.0                         0.0           0.0   \n...                            ...                         ...           ...   \n35716                          0.0                         0.0           0.0   \n35717                          0.0                         0.0           0.0   \n35718                          0.0                         0.0           1.0   \n35719                          0.0                         0.0           0.0   \n35720                          0.0                         0.0           0.0   \n\n       x0_예술, 스포츠 및 여가관련 서비스업  x0_운수 및 창고업  x0_전기,가스,증기 및 공기 조절 공급업  \\\n0                         0.0          0.0                      0.0   \n1                         0.0          0.0                      0.0   \n2                         0.0          1.0                      0.0   \n3                         0.0          0.0                      0.0   \n4                         0.0          0.0                      0.0   \n...                       ...          ...                      ...   \n35716                     0.0          0.0                      0.0   \n35717                     0.0          0.0                      0.0   \n35718                     0.0          0.0                      0.0   \n35719                     0.0          0.0                      0.0   \n35720                     0.0          0.0                      0.0   \n\n       x0_전문, 과학 및 기술 서비스업  x0_정보통신업  x0_제조업  x0_협회 및 단체  \n0                      0.0       0.0     0.0         0.0  \n1                      0.0       0.0     1.0         0.0  \n2                      0.0       0.0     0.0         0.0  \n3                      0.0       0.0     1.0         0.0  \n4                      0.0       0.0     0.0         0.0  \n...                    ...       ...     ...         ...  \n35716                  0.0       0.0     1.0         0.0  \n35717                  0.0       0.0     1.0         0.0  \n35718                  0.0       0.0     0.0         0.0  \n35719                  0.0       1.0     0.0         0.0  \n35720                  0.0       0.0     1.0         0.0  \n\n[35721 rows x 19 columns]",
      "text/html": "<div>\n<style scoped>\n    .dataframe tbody tr th:only-of-type {\n        vertical-align: middle;\n    }\n\n    .dataframe tbody tr th {\n        vertical-align: top;\n    }\n\n    .dataframe thead th {\n        text-align: right;\n    }\n</style>\n<table border=\"1\" class=\"dataframe\">\n  <thead>\n    <tr style=\"text-align: right;\">\n      <th></th>\n      <th>x0_건설업</th>\n      <th>x0_공공 행정, 국방 및 사회보장 행정</th>\n      <th>x0_광업</th>\n      <th>x0_교육 서비스업</th>\n      <th>x0_금융 및 보험업</th>\n      <th>x0_농업,임업 및 어업</th>\n      <th>x0_도매 및 소매업</th>\n      <th>x0_보건업 및 사회복지 서비스업</th>\n      <th>x0_부동산업</th>\n      <th>x0_사업시설 관리, 사업 지원 및 임대 서비스업</th>\n      <th>x0_수도, 하수 및 폐기물 처리, 원료 재생업</th>\n      <th>x0_숙박 및 음식점업</th>\n      <th>x0_예술, 스포츠 및 여가관련 서비스업</th>\n      <th>x0_운수 및 창고업</th>\n      <th>x0_전기,가스,증기 및 공기 조절 공급업</th>\n      <th>x0_전문, 과학 및 기술 서비스업</th>\n      <th>x0_정보통신업</th>\n      <th>x0_제조업</th>\n      <th>x0_협회 및 단체</th>\n    </tr>\n  </thead>\n  <tbody>\n    <tr>\n      <th>0</th>\n      <td>0.0</td>\n      <td>0.0</td>\n      <td>0.0</td>\n      <td>0.0</td>\n      <td>0.0</td>\n      <td>0.0</td>\n      <td>1.0</td>\n      <td>0.0</td>\n      <td>0.0</td>\n      <td>0.0</td>\n      <td>0.0</td>\n      <td>0.0</td>\n      <td>0.0</td>\n      <td>0.0</td>\n      <td>0.0</td>\n      <td>0.0</td>\n      <td>0.0</td>\n      <td>0.0</td>\n      <td>0.0</td>\n    </tr>\n    <tr>\n      <th>1</th>\n      <td>0.0</td>\n      <td>0.0</td>\n      <td>0.0</td>\n      <td>0.0</td>\n      <td>0.0</td>\n      <td>0.0</td>\n      <td>0.0</td>\n      <td>0.0</td>\n      <td>0.0</td>\n      <td>0.0</td>\n      <td>0.0</td>\n      <td>0.0</td>\n      <td>0.0</td>\n      <td>0.0</td>\n      <td>0.0</td>\n      <td>0.0</td>\n      <td>0.0</td>\n      <td>1.0</td>\n      <td>0.0</td>\n    </tr>\n    <tr>\n      <th>2</th>\n      <td>0.0</td>\n      <td>0.0</td>\n      <td>0.0</td>\n      <td>0.0</td>\n      <td>0.0</td>\n      <td>0.0</td>\n      <td>0.0</td>\n      <td>0.0</td>\n      <td>0.0</td>\n      <td>0.0</td>\n      <td>0.0</td>\n      <td>0.0</td>\n      <td>0.0</td>\n      <td>1.0</td>\n      <td>0.0</td>\n      <td>0.0</td>\n      <td>0.0</td>\n      <td>0.0</td>\n      <td>0.0</td>\n    </tr>\n    <tr>\n      <th>3</th>\n      <td>0.0</td>\n      <td>0.0</td>\n      <td>0.0</td>\n      <td>0.0</td>\n      <td>0.0</td>\n      <td>0.0</td>\n      <td>0.0</td>\n      <td>0.0</td>\n      <td>0.0</td>\n      <td>0.0</td>\n      <td>0.0</td>\n      <td>0.0</td>\n      <td>0.0</td>\n      <td>0.0</td>\n      <td>0.0</td>\n      <td>0.0</td>\n      <td>0.0</td>\n      <td>1.0</td>\n      <td>0.0</td>\n    </tr>\n    <tr>\n      <th>4</th>\n      <td>0.0</td>\n      <td>0.0</td>\n      <td>0.0</td>\n      <td>0.0</td>\n      <td>0.0</td>\n      <td>0.0</td>\n      <td>1.0</td>\n      <td>0.0</td>\n      <td>0.0</td>\n      <td>0.0</td>\n      <td>0.0</td>\n      <td>0.0</td>\n      <td>0.0</td>\n      <td>0.0</td>\n      <td>0.0</td>\n      <td>0.0</td>\n      <td>0.0</td>\n      <td>0.0</td>\n      <td>0.0</td>\n    </tr>\n    <tr>\n      <th>...</th>\n      <td>...</td>\n      <td>...</td>\n      <td>...</td>\n      <td>...</td>\n      <td>...</td>\n      <td>...</td>\n      <td>...</td>\n      <td>...</td>\n      <td>...</td>\n      <td>...</td>\n      <td>...</td>\n      <td>...</td>\n      <td>...</td>\n      <td>...</td>\n      <td>...</td>\n      <td>...</td>\n      <td>...</td>\n      <td>...</td>\n      <td>...</td>\n    </tr>\n    <tr>\n      <th>35716</th>\n      <td>0.0</td>\n      <td>0.0</td>\n      <td>0.0</td>\n      <td>0.0</td>\n      <td>0.0</td>\n      <td>0.0</td>\n      <td>0.0</td>\n      <td>0.0</td>\n      <td>0.0</td>\n      <td>0.0</td>\n      <td>0.0</td>\n      <td>0.0</td>\n      <td>0.0</td>\n      <td>0.0</td>\n      <td>0.0</td>\n      <td>0.0</td>\n      <td>0.0</td>\n      <td>1.0</td>\n      <td>0.0</td>\n    </tr>\n    <tr>\n      <th>35717</th>\n      <td>0.0</td>\n      <td>0.0</td>\n      <td>0.0</td>\n      <td>0.0</td>\n      <td>0.0</td>\n      <td>0.0</td>\n      <td>0.0</td>\n      <td>0.0</td>\n      <td>0.0</td>\n      <td>0.0</td>\n      <td>0.0</td>\n      <td>0.0</td>\n      <td>0.0</td>\n      <td>0.0</td>\n      <td>0.0</td>\n      <td>0.0</td>\n      <td>0.0</td>\n      <td>1.0</td>\n      <td>0.0</td>\n    </tr>\n    <tr>\n      <th>35718</th>\n      <td>0.0</td>\n      <td>0.0</td>\n      <td>0.0</td>\n      <td>0.0</td>\n      <td>0.0</td>\n      <td>0.0</td>\n      <td>0.0</td>\n      <td>0.0</td>\n      <td>0.0</td>\n      <td>0.0</td>\n      <td>0.0</td>\n      <td>1.0</td>\n      <td>0.0</td>\n      <td>0.0</td>\n      <td>0.0</td>\n      <td>0.0</td>\n      <td>0.0</td>\n      <td>0.0</td>\n      <td>0.0</td>\n    </tr>\n    <tr>\n      <th>35719</th>\n      <td>0.0</td>\n      <td>0.0</td>\n      <td>0.0</td>\n      <td>0.0</td>\n      <td>0.0</td>\n      <td>0.0</td>\n      <td>0.0</td>\n      <td>0.0</td>\n      <td>0.0</td>\n      <td>0.0</td>\n      <td>0.0</td>\n      <td>0.0</td>\n      <td>0.0</td>\n      <td>0.0</td>\n      <td>0.0</td>\n      <td>0.0</td>\n      <td>1.0</td>\n      <td>0.0</td>\n      <td>0.0</td>\n    </tr>\n    <tr>\n      <th>35720</th>\n      <td>0.0</td>\n      <td>0.0</td>\n      <td>0.0</td>\n      <td>0.0</td>\n      <td>0.0</td>\n      <td>0.0</td>\n      <td>0.0</td>\n      <td>0.0</td>\n      <td>0.0</td>\n      <td>0.0</td>\n      <td>0.0</td>\n      <td>0.0</td>\n      <td>0.0</td>\n      <td>0.0</td>\n      <td>0.0</td>\n      <td>0.0</td>\n      <td>0.0</td>\n      <td>1.0</td>\n      <td>0.0</td>\n    </tr>\n  </tbody>\n</table>\n<p>35721 rows × 19 columns</p>\n</div>"
     },
     "execution_count": 17,
     "metadata": {},
     "output_type": "execute_result"
    }
   ],
   "source": [
    "X_1hot"
   ],
   "metadata": {
    "collapsed": false,
    "pycharm": {
     "name": "#%%\n"
    }
   }
  },
  {
   "cell_type": "markdown",
   "source": [
    "## Oridinal Encoding"
   ],
   "metadata": {
    "collapsed": false
   }
  },
  {
   "cell_type": "code",
   "execution_count": 27,
   "outputs": [
    {
     "data": {
      "text/plain": "       벤처기업여부\n0         0.0\n1         0.0\n2         0.0\n3         0.0\n4         0.0\n...       ...\n35716     0.0\n35717     0.0\n35718     0.0\n35719     0.0\n35720     1.0\n\n[35721 rows x 1 columns]",
      "text/html": "<div>\n<style scoped>\n    .dataframe tbody tr th:only-of-type {\n        vertical-align: middle;\n    }\n\n    .dataframe tbody tr th {\n        vertical-align: top;\n    }\n\n    .dataframe thead th {\n        text-align: right;\n    }\n</style>\n<table border=\"1\" class=\"dataframe\">\n  <thead>\n    <tr style=\"text-align: right;\">\n      <th></th>\n      <th>벤처기업여부</th>\n    </tr>\n  </thead>\n  <tbody>\n    <tr>\n      <th>0</th>\n      <td>0.0</td>\n    </tr>\n    <tr>\n      <th>1</th>\n      <td>0.0</td>\n    </tr>\n    <tr>\n      <th>2</th>\n      <td>0.0</td>\n    </tr>\n    <tr>\n      <th>3</th>\n      <td>0.0</td>\n    </tr>\n    <tr>\n      <th>4</th>\n      <td>0.0</td>\n    </tr>\n    <tr>\n      <th>...</th>\n      <td>...</td>\n    </tr>\n    <tr>\n      <th>35716</th>\n      <td>0.0</td>\n    </tr>\n    <tr>\n      <th>35717</th>\n      <td>0.0</td>\n    </tr>\n    <tr>\n      <th>35718</th>\n      <td>0.0</td>\n    </tr>\n    <tr>\n      <th>35719</th>\n      <td>0.0</td>\n    </tr>\n    <tr>\n      <th>35720</th>\n      <td>1.0</td>\n    </tr>\n  </tbody>\n</table>\n<p>35721 rows × 1 columns</p>\n</div>"
     },
     "execution_count": 27,
     "metadata": {},
     "output_type": "execute_result"
    }
   ],
   "source": [
    "ord_encoder = OrdinalEncoder() #순서가 있는 카테고리형\n",
    "X_ord = ord_encoder.fit_transform(cat_ord_attribs['벤처기업여부'].values.reshape(-1,1))\n",
    "X_ord = pd.DataFrame(X_ord, columns= ['벤처기업여부'])\n",
    "X_ord"
   ],
   "metadata": {
    "collapsed": false,
    "pycharm": {
     "name": "#%%\n"
    }
   }
  },
  {
   "cell_type": "markdown",
   "source": [
    "## Label Encoding"
   ],
   "metadata": {
    "collapsed": false
   }
  },
  {
   "cell_type": "code",
   "execution_count": 40,
   "outputs": [
    {
     "data": {
      "text/plain": "        산업코드 대분류  상장코드  벤처기업여부  공공기관유형  중견기업보호여부  국가명  국외투자법인여부  본점지점구분  \\\n0       도매 및 소매업     0       0       0         0    0         0       1   \n1            제조업     0       0       0         0    0         0       1   \n2       운수 및 창고업     0       0       0         0    0         0       1   \n3            제조업     0       0       0         0    0         0       1   \n4       도매 및 소매업     0       0       0         0    0         0       1   \n...          ...   ...     ...     ...       ...  ...       ...     ...   \n35716        제조업     0       0       0         0    0         0       2   \n35717        제조업     0       0       0         0    0         0       2   \n35718  숙박 및 음식점업     0       0       0         0    0         0       2   \n35719      정보통신업     0       0       0         0    0         0       1   \n35720        제조업     0       1       0         0    0         0       1   \n\n       본점기업코드  설립구분  \n0           0     1  \n1           0     1  \n2           0     1  \n3           0     1  \n4           0     1  \n...       ...   ...  \n35716       1     1  \n35717       1     1  \n35718       1     1  \n35719       0     1  \n35720       0     1  \n\n[35721 rows x 10 columns]",
      "text/html": "<div>\n<style scoped>\n    .dataframe tbody tr th:only-of-type {\n        vertical-align: middle;\n    }\n\n    .dataframe tbody tr th {\n        vertical-align: top;\n    }\n\n    .dataframe thead th {\n        text-align: right;\n    }\n</style>\n<table border=\"1\" class=\"dataframe\">\n  <thead>\n    <tr style=\"text-align: right;\">\n      <th></th>\n      <th>산업코드 대분류</th>\n      <th>상장코드</th>\n      <th>벤처기업여부</th>\n      <th>공공기관유형</th>\n      <th>중견기업보호여부</th>\n      <th>국가명</th>\n      <th>국외투자법인여부</th>\n      <th>본점지점구분</th>\n      <th>본점기업코드</th>\n      <th>설립구분</th>\n    </tr>\n  </thead>\n  <tbody>\n    <tr>\n      <th>0</th>\n      <td>도매 및 소매업</td>\n      <td>0</td>\n      <td>0</td>\n      <td>0</td>\n      <td>0</td>\n      <td>0</td>\n      <td>0</td>\n      <td>1</td>\n      <td>0</td>\n      <td>1</td>\n    </tr>\n    <tr>\n      <th>1</th>\n      <td>제조업</td>\n      <td>0</td>\n      <td>0</td>\n      <td>0</td>\n      <td>0</td>\n      <td>0</td>\n      <td>0</td>\n      <td>1</td>\n      <td>0</td>\n      <td>1</td>\n    </tr>\n    <tr>\n      <th>2</th>\n      <td>운수 및 창고업</td>\n      <td>0</td>\n      <td>0</td>\n      <td>0</td>\n      <td>0</td>\n      <td>0</td>\n      <td>0</td>\n      <td>1</td>\n      <td>0</td>\n      <td>1</td>\n    </tr>\n    <tr>\n      <th>3</th>\n      <td>제조업</td>\n      <td>0</td>\n      <td>0</td>\n      <td>0</td>\n      <td>0</td>\n      <td>0</td>\n      <td>0</td>\n      <td>1</td>\n      <td>0</td>\n      <td>1</td>\n    </tr>\n    <tr>\n      <th>4</th>\n      <td>도매 및 소매업</td>\n      <td>0</td>\n      <td>0</td>\n      <td>0</td>\n      <td>0</td>\n      <td>0</td>\n      <td>0</td>\n      <td>1</td>\n      <td>0</td>\n      <td>1</td>\n    </tr>\n    <tr>\n      <th>...</th>\n      <td>...</td>\n      <td>...</td>\n      <td>...</td>\n      <td>...</td>\n      <td>...</td>\n      <td>...</td>\n      <td>...</td>\n      <td>...</td>\n      <td>...</td>\n      <td>...</td>\n    </tr>\n    <tr>\n      <th>35716</th>\n      <td>제조업</td>\n      <td>0</td>\n      <td>0</td>\n      <td>0</td>\n      <td>0</td>\n      <td>0</td>\n      <td>0</td>\n      <td>2</td>\n      <td>1</td>\n      <td>1</td>\n    </tr>\n    <tr>\n      <th>35717</th>\n      <td>제조업</td>\n      <td>0</td>\n      <td>0</td>\n      <td>0</td>\n      <td>0</td>\n      <td>0</td>\n      <td>0</td>\n      <td>2</td>\n      <td>1</td>\n      <td>1</td>\n    </tr>\n    <tr>\n      <th>35718</th>\n      <td>숙박 및 음식점업</td>\n      <td>0</td>\n      <td>0</td>\n      <td>0</td>\n      <td>0</td>\n      <td>0</td>\n      <td>0</td>\n      <td>2</td>\n      <td>1</td>\n      <td>1</td>\n    </tr>\n    <tr>\n      <th>35719</th>\n      <td>정보통신업</td>\n      <td>0</td>\n      <td>0</td>\n      <td>0</td>\n      <td>0</td>\n      <td>0</td>\n      <td>0</td>\n      <td>1</td>\n      <td>0</td>\n      <td>1</td>\n    </tr>\n    <tr>\n      <th>35720</th>\n      <td>제조업</td>\n      <td>0</td>\n      <td>1</td>\n      <td>0</td>\n      <td>0</td>\n      <td>0</td>\n      <td>0</td>\n      <td>1</td>\n      <td>0</td>\n      <td>1</td>\n    </tr>\n  </tbody>\n</table>\n<p>35721 rows × 10 columns</p>\n</div>"
     },
     "execution_count": 40,
     "metadata": {},
     "output_type": "execute_result"
    }
   ],
   "source": [
    "cat_all['산업코드 대분류']"
   ],
   "metadata": {
    "collapsed": false,
    "pycharm": {
     "name": "#%%\n"
    }
   }
  },
  {
   "cell_type": "code",
   "execution_count": 42,
   "outputs": [
    {
     "name": "stderr",
     "output_type": "stream",
     "text": [
      "C:\\Users\\yoon9\\AppData\\Local\\Temp\\ipykernel_17544\\3556145079.py:2: SettingWithCopyWarning: \n",
      "A value is trying to be set on a copy of a slice from a DataFrame.\n",
      "Try using .loc[row_indexer,col_indexer] = value instead\n",
      "\n",
      "See the caveats in the documentation: https://pandas.pydata.org/pandas-docs/stable/user_guide/indexing.html#returning-a-view-versus-a-copy\n",
      "  cat_all['산업코드 대분류'] = lab_encoder.fit_transform(cat_all['산업코드 대분류'])\n"
     ]
    }
   ],
   "source": [
    "lab_encoder = LabelEncoder()  #순서가 있는 카테고리형\n",
    "cat_all['산업코드 대분류'] = lab_encoder.fit_transform(cat_all['산업코드 대분류'])"
   ],
   "metadata": {
    "collapsed": false,
    "pycharm": {
     "name": "#%%\n"
    }
   }
  },
  {
   "cell_type": "code",
   "execution_count": 45,
   "outputs": [
    {
     "name": "stderr",
     "output_type": "stream",
     "text": [
      "C:\\Users\\yoon9\\AppData\\Local\\Temp\\ipykernel_17544\\2116850998.py:1: SettingWithCopyWarning: \n",
      "A value is trying to be set on a copy of a slice from a DataFrame.\n",
      "Try using .loc[row_indexer,col_indexer] = value instead\n",
      "\n",
      "See the caveats in the documentation: https://pandas.pydata.org/pandas-docs/stable/user_guide/indexing.html#returning-a-view-versus-a-copy\n",
      "  cat_all['설립구분'] = lab_encoder.fit_transform(cat_all['설립구분'])\n"
     ]
    }
   ],
   "source": [
    "cat_all['설립구분'] = lab_encoder.fit_transform(cat_all['설립구분'])\n"
   ],
   "metadata": {
    "collapsed": false,
    "pycharm": {
     "name": "#%%\n"
    }
   }
  },
  {
   "cell_type": "code",
   "execution_count": 47,
   "outputs": [
    {
     "data": {
      "text/plain": "       산업코드 대분류  상장코드  벤처기업여부  공공기관유형  중견기업보호여부  국가명  국외투자법인여부  본점지점구분  \\\n0             6     0       0       0         0    0         0       1   \n1            17     0       0       0         0    0         0       1   \n2            13     0       0       0         0    0         0       1   \n3            17     0       0       0         0    0         0       1   \n4             6     0       0       0         0    0         0       1   \n...         ...   ...     ...     ...       ...  ...       ...     ...   \n35716        17     0       0       0         0    0         0       2   \n35717        17     0       0       0         0    0         0       2   \n35718        11     0       0       0         0    0         0       2   \n35719        16     0       0       0         0    0         0       1   \n35720        17     0       1       0         0    0         0       1   \n\n       본점기업코드  설립구분  \n0           0     0  \n1           0     0  \n2           0     0  \n3           0     0  \n4           0     0  \n...       ...   ...  \n35716       1     0  \n35717       1     0  \n35718       1     0  \n35719       0     0  \n35720       0     0  \n\n[35721 rows x 10 columns]",
      "text/html": "<div>\n<style scoped>\n    .dataframe tbody tr th:only-of-type {\n        vertical-align: middle;\n    }\n\n    .dataframe tbody tr th {\n        vertical-align: top;\n    }\n\n    .dataframe thead th {\n        text-align: right;\n    }\n</style>\n<table border=\"1\" class=\"dataframe\">\n  <thead>\n    <tr style=\"text-align: right;\">\n      <th></th>\n      <th>산업코드 대분류</th>\n      <th>상장코드</th>\n      <th>벤처기업여부</th>\n      <th>공공기관유형</th>\n      <th>중견기업보호여부</th>\n      <th>국가명</th>\n      <th>국외투자법인여부</th>\n      <th>본점지점구분</th>\n      <th>본점기업코드</th>\n      <th>설립구분</th>\n    </tr>\n  </thead>\n  <tbody>\n    <tr>\n      <th>0</th>\n      <td>6</td>\n      <td>0</td>\n      <td>0</td>\n      <td>0</td>\n      <td>0</td>\n      <td>0</td>\n      <td>0</td>\n      <td>1</td>\n      <td>0</td>\n      <td>0</td>\n    </tr>\n    <tr>\n      <th>1</th>\n      <td>17</td>\n      <td>0</td>\n      <td>0</td>\n      <td>0</td>\n      <td>0</td>\n      <td>0</td>\n      <td>0</td>\n      <td>1</td>\n      <td>0</td>\n      <td>0</td>\n    </tr>\n    <tr>\n      <th>2</th>\n      <td>13</td>\n      <td>0</td>\n      <td>0</td>\n      <td>0</td>\n      <td>0</td>\n      <td>0</td>\n      <td>0</td>\n      <td>1</td>\n      <td>0</td>\n      <td>0</td>\n    </tr>\n    <tr>\n      <th>3</th>\n      <td>17</td>\n      <td>0</td>\n      <td>0</td>\n      <td>0</td>\n      <td>0</td>\n      <td>0</td>\n      <td>0</td>\n      <td>1</td>\n      <td>0</td>\n      <td>0</td>\n    </tr>\n    <tr>\n      <th>4</th>\n      <td>6</td>\n      <td>0</td>\n      <td>0</td>\n      <td>0</td>\n      <td>0</td>\n      <td>0</td>\n      <td>0</td>\n      <td>1</td>\n      <td>0</td>\n      <td>0</td>\n    </tr>\n    <tr>\n      <th>...</th>\n      <td>...</td>\n      <td>...</td>\n      <td>...</td>\n      <td>...</td>\n      <td>...</td>\n      <td>...</td>\n      <td>...</td>\n      <td>...</td>\n      <td>...</td>\n      <td>...</td>\n    </tr>\n    <tr>\n      <th>35716</th>\n      <td>17</td>\n      <td>0</td>\n      <td>0</td>\n      <td>0</td>\n      <td>0</td>\n      <td>0</td>\n      <td>0</td>\n      <td>2</td>\n      <td>1</td>\n      <td>0</td>\n    </tr>\n    <tr>\n      <th>35717</th>\n      <td>17</td>\n      <td>0</td>\n      <td>0</td>\n      <td>0</td>\n      <td>0</td>\n      <td>0</td>\n      <td>0</td>\n      <td>2</td>\n      <td>1</td>\n      <td>0</td>\n    </tr>\n    <tr>\n      <th>35718</th>\n      <td>11</td>\n      <td>0</td>\n      <td>0</td>\n      <td>0</td>\n      <td>0</td>\n      <td>0</td>\n      <td>0</td>\n      <td>2</td>\n      <td>1</td>\n      <td>0</td>\n    </tr>\n    <tr>\n      <th>35719</th>\n      <td>16</td>\n      <td>0</td>\n      <td>0</td>\n      <td>0</td>\n      <td>0</td>\n      <td>0</td>\n      <td>0</td>\n      <td>1</td>\n      <td>0</td>\n      <td>0</td>\n    </tr>\n    <tr>\n      <th>35720</th>\n      <td>17</td>\n      <td>0</td>\n      <td>1</td>\n      <td>0</td>\n      <td>0</td>\n      <td>0</td>\n      <td>0</td>\n      <td>1</td>\n      <td>0</td>\n      <td>0</td>\n    </tr>\n  </tbody>\n</table>\n<p>35721 rows × 10 columns</p>\n</div>"
     },
     "execution_count": 47,
     "metadata": {},
     "output_type": "execute_result"
    }
   ],
   "source": [
    "cat_all"
   ],
   "metadata": {
    "collapsed": false,
    "pycharm": {
     "name": "#%%\n"
    }
   }
  },
  {
   "cell_type": "code",
   "execution_count": 48,
   "outputs": [
    {
     "data": {
      "text/plain": "            직원수     회사설립일  x0_건설업  x0_공공 행정, 국방 및 사회보장 행정  x0_광업  x0_교육 서비스업  \\\n0     -0.071824  3.515949     0.0                     0.0    0.0         0.0   \n1     -0.123865  1.242839     0.0                     0.0    0.0         0.0   \n2      0.617721  0.323263     0.0                     0.0    0.0         0.0   \n3      0.136341  0.574683     0.0                     0.0    0.0         0.0   \n4     -0.332029  0.450449     0.0                     0.0    0.0         0.0   \n...         ...       ...     ...                     ...    ...         ...   \n35716 -0.351545 -1.136054     0.0                     0.0    0.0         0.0   \n35717 -0.208432 -1.360659     0.0                     0.0    0.0         0.0   \n35718 -0.351545 -1.285626     0.0                     0.0    0.0         0.0   \n35719 -0.351545 -1.472592     0.0                     0.0    0.0         0.0   \n35720 -0.351545 -1.353770     0.0                     0.0    0.0         0.0   \n\n       x0_금융 및 보험업  x0_농업,임업 및 어업  x0_도매 및 소매업  x0_보건업 및 사회복지 서비스업  ...  \\\n0              0.0            0.0          1.0                 0.0  ...   \n1              0.0            0.0          0.0                 0.0  ...   \n2              0.0            0.0          0.0                 0.0  ...   \n3              0.0            0.0          0.0                 0.0  ...   \n4              0.0            0.0          1.0                 0.0  ...   \n...            ...            ...          ...                 ...  ...   \n35716          0.0            0.0          0.0                 0.0  ...   \n35717          0.0            0.0          0.0                 0.0  ...   \n35718          0.0            0.0          0.0                 0.0  ...   \n35719          0.0            0.0          0.0                 0.0  ...   \n35720          0.0            0.0          0.0                 0.0  ...   \n\n       x0_수도, 하수 및 폐기물 처리, 원료 재생업  x0_숙박 및 음식점업  x0_예술, 스포츠 및 여가관련 서비스업  \\\n0                             0.0           0.0                     0.0   \n1                             0.0           0.0                     0.0   \n2                             0.0           0.0                     0.0   \n3                             0.0           0.0                     0.0   \n4                             0.0           0.0                     0.0   \n...                           ...           ...                     ...   \n35716                         0.0           0.0                     0.0   \n35717                         0.0           0.0                     0.0   \n35718                         0.0           1.0                     0.0   \n35719                         0.0           0.0                     0.0   \n35720                         0.0           0.0                     0.0   \n\n       x0_운수 및 창고업  x0_전기,가스,증기 및 공기 조절 공급업  x0_전문, 과학 및 기술 서비스업  x0_정보통신업  \\\n0              0.0                      0.0                  0.0       0.0   \n1              0.0                      0.0                  0.0       0.0   \n2              1.0                      0.0                  0.0       0.0   \n3              0.0                      0.0                  0.0       0.0   \n4              0.0                      0.0                  0.0       0.0   \n...            ...                      ...                  ...       ...   \n35716          0.0                      0.0                  0.0       0.0   \n35717          0.0                      0.0                  0.0       0.0   \n35718          0.0                      0.0                  0.0       0.0   \n35719          0.0                      0.0                  0.0       1.0   \n35720          0.0                      0.0                  0.0       0.0   \n\n       x0_제조업  x0_협회 및 단체  벤처기업여부  \n0         0.0         0.0     0.0  \n1         1.0         0.0     0.0  \n2         0.0         0.0     0.0  \n3         1.0         0.0     0.0  \n4         0.0         0.0     0.0  \n...       ...         ...     ...  \n35716     1.0         0.0     0.0  \n35717     1.0         0.0     0.0  \n35718     0.0         0.0     0.0  \n35719     0.0         0.0     0.0  \n35720     1.0         0.0     1.0  \n\n[35721 rows x 22 columns]",
      "text/html": "<div>\n<style scoped>\n    .dataframe tbody tr th:only-of-type {\n        vertical-align: middle;\n    }\n\n    .dataframe tbody tr th {\n        vertical-align: top;\n    }\n\n    .dataframe thead th {\n        text-align: right;\n    }\n</style>\n<table border=\"1\" class=\"dataframe\">\n  <thead>\n    <tr style=\"text-align: right;\">\n      <th></th>\n      <th>직원수</th>\n      <th>회사설립일</th>\n      <th>x0_건설업</th>\n      <th>x0_공공 행정, 국방 및 사회보장 행정</th>\n      <th>x0_광업</th>\n      <th>x0_교육 서비스업</th>\n      <th>x0_금융 및 보험업</th>\n      <th>x0_농업,임업 및 어업</th>\n      <th>x0_도매 및 소매업</th>\n      <th>x0_보건업 및 사회복지 서비스업</th>\n      <th>...</th>\n      <th>x0_수도, 하수 및 폐기물 처리, 원료 재생업</th>\n      <th>x0_숙박 및 음식점업</th>\n      <th>x0_예술, 스포츠 및 여가관련 서비스업</th>\n      <th>x0_운수 및 창고업</th>\n      <th>x0_전기,가스,증기 및 공기 조절 공급업</th>\n      <th>x0_전문, 과학 및 기술 서비스업</th>\n      <th>x0_정보통신업</th>\n      <th>x0_제조업</th>\n      <th>x0_협회 및 단체</th>\n      <th>벤처기업여부</th>\n    </tr>\n  </thead>\n  <tbody>\n    <tr>\n      <th>0</th>\n      <td>-0.071824</td>\n      <td>3.515949</td>\n      <td>0.0</td>\n      <td>0.0</td>\n      <td>0.0</td>\n      <td>0.0</td>\n      <td>0.0</td>\n      <td>0.0</td>\n      <td>1.0</td>\n      <td>0.0</td>\n      <td>...</td>\n      <td>0.0</td>\n      <td>0.0</td>\n      <td>0.0</td>\n      <td>0.0</td>\n      <td>0.0</td>\n      <td>0.0</td>\n      <td>0.0</td>\n      <td>0.0</td>\n      <td>0.0</td>\n      <td>0.0</td>\n    </tr>\n    <tr>\n      <th>1</th>\n      <td>-0.123865</td>\n      <td>1.242839</td>\n      <td>0.0</td>\n      <td>0.0</td>\n      <td>0.0</td>\n      <td>0.0</td>\n      <td>0.0</td>\n      <td>0.0</td>\n      <td>0.0</td>\n      <td>0.0</td>\n      <td>...</td>\n      <td>0.0</td>\n      <td>0.0</td>\n      <td>0.0</td>\n      <td>0.0</td>\n      <td>0.0</td>\n      <td>0.0</td>\n      <td>0.0</td>\n      <td>1.0</td>\n      <td>0.0</td>\n      <td>0.0</td>\n    </tr>\n    <tr>\n      <th>2</th>\n      <td>0.617721</td>\n      <td>0.323263</td>\n      <td>0.0</td>\n      <td>0.0</td>\n      <td>0.0</td>\n      <td>0.0</td>\n      <td>0.0</td>\n      <td>0.0</td>\n      <td>0.0</td>\n      <td>0.0</td>\n      <td>...</td>\n      <td>0.0</td>\n      <td>0.0</td>\n      <td>0.0</td>\n      <td>1.0</td>\n      <td>0.0</td>\n      <td>0.0</td>\n      <td>0.0</td>\n      <td>0.0</td>\n      <td>0.0</td>\n      <td>0.0</td>\n    </tr>\n    <tr>\n      <th>3</th>\n      <td>0.136341</td>\n      <td>0.574683</td>\n      <td>0.0</td>\n      <td>0.0</td>\n      <td>0.0</td>\n      <td>0.0</td>\n      <td>0.0</td>\n      <td>0.0</td>\n      <td>0.0</td>\n      <td>0.0</td>\n      <td>...</td>\n      <td>0.0</td>\n      <td>0.0</td>\n      <td>0.0</td>\n      <td>0.0</td>\n      <td>0.0</td>\n      <td>0.0</td>\n      <td>0.0</td>\n      <td>1.0</td>\n      <td>0.0</td>\n      <td>0.0</td>\n    </tr>\n    <tr>\n      <th>4</th>\n      <td>-0.332029</td>\n      <td>0.450449</td>\n      <td>0.0</td>\n      <td>0.0</td>\n      <td>0.0</td>\n      <td>0.0</td>\n      <td>0.0</td>\n      <td>0.0</td>\n      <td>1.0</td>\n      <td>0.0</td>\n      <td>...</td>\n      <td>0.0</td>\n      <td>0.0</td>\n      <td>0.0</td>\n      <td>0.0</td>\n      <td>0.0</td>\n      <td>0.0</td>\n      <td>0.0</td>\n      <td>0.0</td>\n      <td>0.0</td>\n      <td>0.0</td>\n    </tr>\n    <tr>\n      <th>...</th>\n      <td>...</td>\n      <td>...</td>\n      <td>...</td>\n      <td>...</td>\n      <td>...</td>\n      <td>...</td>\n      <td>...</td>\n      <td>...</td>\n      <td>...</td>\n      <td>...</td>\n      <td>...</td>\n      <td>...</td>\n      <td>...</td>\n      <td>...</td>\n      <td>...</td>\n      <td>...</td>\n      <td>...</td>\n      <td>...</td>\n      <td>...</td>\n      <td>...</td>\n      <td>...</td>\n    </tr>\n    <tr>\n      <th>35716</th>\n      <td>-0.351545</td>\n      <td>-1.136054</td>\n      <td>0.0</td>\n      <td>0.0</td>\n      <td>0.0</td>\n      <td>0.0</td>\n      <td>0.0</td>\n      <td>0.0</td>\n      <td>0.0</td>\n      <td>0.0</td>\n      <td>...</td>\n      <td>0.0</td>\n      <td>0.0</td>\n      <td>0.0</td>\n      <td>0.0</td>\n      <td>0.0</td>\n      <td>0.0</td>\n      <td>0.0</td>\n      <td>1.0</td>\n      <td>0.0</td>\n      <td>0.0</td>\n    </tr>\n    <tr>\n      <th>35717</th>\n      <td>-0.208432</td>\n      <td>-1.360659</td>\n      <td>0.0</td>\n      <td>0.0</td>\n      <td>0.0</td>\n      <td>0.0</td>\n      <td>0.0</td>\n      <td>0.0</td>\n      <td>0.0</td>\n      <td>0.0</td>\n      <td>...</td>\n      <td>0.0</td>\n      <td>0.0</td>\n      <td>0.0</td>\n      <td>0.0</td>\n      <td>0.0</td>\n      <td>0.0</td>\n      <td>0.0</td>\n      <td>1.0</td>\n      <td>0.0</td>\n      <td>0.0</td>\n    </tr>\n    <tr>\n      <th>35718</th>\n      <td>-0.351545</td>\n      <td>-1.285626</td>\n      <td>0.0</td>\n      <td>0.0</td>\n      <td>0.0</td>\n      <td>0.0</td>\n      <td>0.0</td>\n      <td>0.0</td>\n      <td>0.0</td>\n      <td>0.0</td>\n      <td>...</td>\n      <td>0.0</td>\n      <td>1.0</td>\n      <td>0.0</td>\n      <td>0.0</td>\n      <td>0.0</td>\n      <td>0.0</td>\n      <td>0.0</td>\n      <td>0.0</td>\n      <td>0.0</td>\n      <td>0.0</td>\n    </tr>\n    <tr>\n      <th>35719</th>\n      <td>-0.351545</td>\n      <td>-1.472592</td>\n      <td>0.0</td>\n      <td>0.0</td>\n      <td>0.0</td>\n      <td>0.0</td>\n      <td>0.0</td>\n      <td>0.0</td>\n      <td>0.0</td>\n      <td>0.0</td>\n      <td>...</td>\n      <td>0.0</td>\n      <td>0.0</td>\n      <td>0.0</td>\n      <td>0.0</td>\n      <td>0.0</td>\n      <td>0.0</td>\n      <td>1.0</td>\n      <td>0.0</td>\n      <td>0.0</td>\n      <td>0.0</td>\n    </tr>\n    <tr>\n      <th>35720</th>\n      <td>-0.351545</td>\n      <td>-1.353770</td>\n      <td>0.0</td>\n      <td>0.0</td>\n      <td>0.0</td>\n      <td>0.0</td>\n      <td>0.0</td>\n      <td>0.0</td>\n      <td>0.0</td>\n      <td>0.0</td>\n      <td>...</td>\n      <td>0.0</td>\n      <td>0.0</td>\n      <td>0.0</td>\n      <td>0.0</td>\n      <td>0.0</td>\n      <td>0.0</td>\n      <td>0.0</td>\n      <td>1.0</td>\n      <td>0.0</td>\n      <td>1.0</td>\n    </tr>\n  </tbody>\n</table>\n<p>35721 rows × 22 columns</p>\n</div>"
     },
     "execution_count": 48,
     "metadata": {},
     "output_type": "execute_result"
    }
   ],
   "source": [
    "df_preprdcessed_sta = pd.concat([sta_X_scale, X_1hot, X_ord], axis = 1)\n",
    "df_preprdcessed_sta\n",
    "# Standard Scaler + One Hot + Ordinal"
   ],
   "metadata": {
    "collapsed": false,
    "pycharm": {
     "name": "#%%\n"
    }
   }
  },
  {
   "cell_type": "code",
   "execution_count": 24,
   "outputs": [
    {
     "data": {
      "text/plain": "            직원수     회사설립일  x0_건설업  x0_공공 행정, 국방 및 사회보장 행정  x0_광업  x0_교육 서비스업  \\\n0      0.002636  0.414897     0.0                     0.0    0.0         0.0   \n1      0.002146  0.228227     0.0                     0.0    0.0         0.0   \n2      0.009135  0.152710     0.0                     0.0    0.0         0.0   \n3      0.004598  0.173357     0.0                     0.0    0.0         0.0   \n4      0.000184  0.163155     0.0                     0.0    0.0         0.0   \n...         ...       ...     ...                     ...    ...         ...   \n35716  0.000000  0.032869     0.0                     0.0    0.0         0.0   \n35717  0.001349  0.014425     0.0                     0.0    0.0         0.0   \n35718  0.000000  0.020586     0.0                     0.0    0.0         0.0   \n35719  0.000000  0.005232     0.0                     0.0    0.0         0.0   \n35720  0.000000  0.014990     0.0                     0.0    0.0         0.0   \n\n       x0_금융 및 보험업  x0_농업,임업 및 어업  x0_도매 및 소매업  x0_보건업 및 사회복지 서비스업  ...  x5_5  \\\n0              0.0            0.0          1.0                 0.0  ...   0.0   \n1              0.0            0.0          0.0                 0.0  ...   0.0   \n2              0.0            0.0          0.0                 0.0  ...   0.0   \n3              0.0            0.0          0.0                 0.0  ...   0.0   \n4              0.0            0.0          1.0                 0.0  ...   0.0   \n...            ...            ...          ...                 ...  ...   ...   \n35716          0.0            0.0          0.0                 0.0  ...   0.0   \n35717          0.0            0.0          0.0                 0.0  ...   0.0   \n35718          0.0            0.0          0.0                 0.0  ...   0.0   \n35719          0.0            0.0          0.0                 0.0  ...   0.0   \n35720          0.0            0.0          0.0                 0.0  ...   0.0   \n\n       x5_6  x5_7  x5_10  x5_99  상장코드  벤처기업여부  공공기관유형  중견기업보호여부  국가명  \n0       0.0   0.0    0.0    0.0   0.0     0.0     0.0       0.0  0.0  \n1       0.0   0.0    0.0    0.0   0.0     0.0     0.0       0.0  0.0  \n2       0.0   0.0    0.0    0.0   0.0     0.0     0.0       0.0  0.0  \n3       0.0   0.0    0.0    0.0   0.0     0.0     0.0       0.0  0.0  \n4       0.0   0.0    0.0    0.0   0.0     0.0     0.0       0.0  0.0  \n...     ...   ...    ...    ...   ...     ...     ...       ...  ...  \n35716   0.0   0.0    0.0    0.0   0.0     0.0     0.0       0.0  0.0  \n35717   0.0   0.0    0.0    0.0   0.0     0.0     0.0       0.0  0.0  \n35718   0.0   0.0    0.0    0.0   0.0     0.0     0.0       0.0  0.0  \n35719   0.0   0.0    0.0    0.0   0.0     0.0     0.0       0.0  0.0  \n35720   0.0   0.0    0.0    0.0   0.0     1.0     0.0       0.0  0.0  \n\n[35721 rows x 38 columns]",
      "text/html": "<div>\n<style scoped>\n    .dataframe tbody tr th:only-of-type {\n        vertical-align: middle;\n    }\n\n    .dataframe tbody tr th {\n        vertical-align: top;\n    }\n\n    .dataframe thead th {\n        text-align: right;\n    }\n</style>\n<table border=\"1\" class=\"dataframe\">\n  <thead>\n    <tr style=\"text-align: right;\">\n      <th></th>\n      <th>직원수</th>\n      <th>회사설립일</th>\n      <th>x0_건설업</th>\n      <th>x0_공공 행정, 국방 및 사회보장 행정</th>\n      <th>x0_광업</th>\n      <th>x0_교육 서비스업</th>\n      <th>x0_금융 및 보험업</th>\n      <th>x0_농업,임업 및 어업</th>\n      <th>x0_도매 및 소매업</th>\n      <th>x0_보건업 및 사회복지 서비스업</th>\n      <th>...</th>\n      <th>x5_5</th>\n      <th>x5_6</th>\n      <th>x5_7</th>\n      <th>x5_10</th>\n      <th>x5_99</th>\n      <th>상장코드</th>\n      <th>벤처기업여부</th>\n      <th>공공기관유형</th>\n      <th>중견기업보호여부</th>\n      <th>국가명</th>\n    </tr>\n  </thead>\n  <tbody>\n    <tr>\n      <th>0</th>\n      <td>0.002636</td>\n      <td>0.414897</td>\n      <td>0.0</td>\n      <td>0.0</td>\n      <td>0.0</td>\n      <td>0.0</td>\n      <td>0.0</td>\n      <td>0.0</td>\n      <td>1.0</td>\n      <td>0.0</td>\n      <td>...</td>\n      <td>0.0</td>\n      <td>0.0</td>\n      <td>0.0</td>\n      <td>0.0</td>\n      <td>0.0</td>\n      <td>0.0</td>\n      <td>0.0</td>\n      <td>0.0</td>\n      <td>0.0</td>\n      <td>0.0</td>\n    </tr>\n    <tr>\n      <th>1</th>\n      <td>0.002146</td>\n      <td>0.228227</td>\n      <td>0.0</td>\n      <td>0.0</td>\n      <td>0.0</td>\n      <td>0.0</td>\n      <td>0.0</td>\n      <td>0.0</td>\n      <td>0.0</td>\n      <td>0.0</td>\n      <td>...</td>\n      <td>0.0</td>\n      <td>0.0</td>\n      <td>0.0</td>\n      <td>0.0</td>\n      <td>0.0</td>\n      <td>0.0</td>\n      <td>0.0</td>\n      <td>0.0</td>\n      <td>0.0</td>\n      <td>0.0</td>\n    </tr>\n    <tr>\n      <th>2</th>\n      <td>0.009135</td>\n      <td>0.152710</td>\n      <td>0.0</td>\n      <td>0.0</td>\n      <td>0.0</td>\n      <td>0.0</td>\n      <td>0.0</td>\n      <td>0.0</td>\n      <td>0.0</td>\n      <td>0.0</td>\n      <td>...</td>\n      <td>0.0</td>\n      <td>0.0</td>\n      <td>0.0</td>\n      <td>0.0</td>\n      <td>0.0</td>\n      <td>0.0</td>\n      <td>0.0</td>\n      <td>0.0</td>\n      <td>0.0</td>\n      <td>0.0</td>\n    </tr>\n    <tr>\n      <th>3</th>\n      <td>0.004598</td>\n      <td>0.173357</td>\n      <td>0.0</td>\n      <td>0.0</td>\n      <td>0.0</td>\n      <td>0.0</td>\n      <td>0.0</td>\n      <td>0.0</td>\n      <td>0.0</td>\n      <td>0.0</td>\n      <td>...</td>\n      <td>0.0</td>\n      <td>0.0</td>\n      <td>0.0</td>\n      <td>0.0</td>\n      <td>0.0</td>\n      <td>0.0</td>\n      <td>0.0</td>\n      <td>0.0</td>\n      <td>0.0</td>\n      <td>0.0</td>\n    </tr>\n    <tr>\n      <th>4</th>\n      <td>0.000184</td>\n      <td>0.163155</td>\n      <td>0.0</td>\n      <td>0.0</td>\n      <td>0.0</td>\n      <td>0.0</td>\n      <td>0.0</td>\n      <td>0.0</td>\n      <td>1.0</td>\n      <td>0.0</td>\n      <td>...</td>\n      <td>0.0</td>\n      <td>0.0</td>\n      <td>0.0</td>\n      <td>0.0</td>\n      <td>0.0</td>\n      <td>0.0</td>\n      <td>0.0</td>\n      <td>0.0</td>\n      <td>0.0</td>\n      <td>0.0</td>\n    </tr>\n    <tr>\n      <th>...</th>\n      <td>...</td>\n      <td>...</td>\n      <td>...</td>\n      <td>...</td>\n      <td>...</td>\n      <td>...</td>\n      <td>...</td>\n      <td>...</td>\n      <td>...</td>\n      <td>...</td>\n      <td>...</td>\n      <td>...</td>\n      <td>...</td>\n      <td>...</td>\n      <td>...</td>\n      <td>...</td>\n      <td>...</td>\n      <td>...</td>\n      <td>...</td>\n      <td>...</td>\n      <td>...</td>\n    </tr>\n    <tr>\n      <th>35716</th>\n      <td>0.000000</td>\n      <td>0.032869</td>\n      <td>0.0</td>\n      <td>0.0</td>\n      <td>0.0</td>\n      <td>0.0</td>\n      <td>0.0</td>\n      <td>0.0</td>\n      <td>0.0</td>\n      <td>0.0</td>\n      <td>...</td>\n      <td>0.0</td>\n      <td>0.0</td>\n      <td>0.0</td>\n      <td>0.0</td>\n      <td>0.0</td>\n      <td>0.0</td>\n      <td>0.0</td>\n      <td>0.0</td>\n      <td>0.0</td>\n      <td>0.0</td>\n    </tr>\n    <tr>\n      <th>35717</th>\n      <td>0.001349</td>\n      <td>0.014425</td>\n      <td>0.0</td>\n      <td>0.0</td>\n      <td>0.0</td>\n      <td>0.0</td>\n      <td>0.0</td>\n      <td>0.0</td>\n      <td>0.0</td>\n      <td>0.0</td>\n      <td>...</td>\n      <td>0.0</td>\n      <td>0.0</td>\n      <td>0.0</td>\n      <td>0.0</td>\n      <td>0.0</td>\n      <td>0.0</td>\n      <td>0.0</td>\n      <td>0.0</td>\n      <td>0.0</td>\n      <td>0.0</td>\n    </tr>\n    <tr>\n      <th>35718</th>\n      <td>0.000000</td>\n      <td>0.020586</td>\n      <td>0.0</td>\n      <td>0.0</td>\n      <td>0.0</td>\n      <td>0.0</td>\n      <td>0.0</td>\n      <td>0.0</td>\n      <td>0.0</td>\n      <td>0.0</td>\n      <td>...</td>\n      <td>0.0</td>\n      <td>0.0</td>\n      <td>0.0</td>\n      <td>0.0</td>\n      <td>0.0</td>\n      <td>0.0</td>\n      <td>0.0</td>\n      <td>0.0</td>\n      <td>0.0</td>\n      <td>0.0</td>\n    </tr>\n    <tr>\n      <th>35719</th>\n      <td>0.000000</td>\n      <td>0.005232</td>\n      <td>0.0</td>\n      <td>0.0</td>\n      <td>0.0</td>\n      <td>0.0</td>\n      <td>0.0</td>\n      <td>0.0</td>\n      <td>0.0</td>\n      <td>0.0</td>\n      <td>...</td>\n      <td>0.0</td>\n      <td>0.0</td>\n      <td>0.0</td>\n      <td>0.0</td>\n      <td>0.0</td>\n      <td>0.0</td>\n      <td>0.0</td>\n      <td>0.0</td>\n      <td>0.0</td>\n      <td>0.0</td>\n    </tr>\n    <tr>\n      <th>35720</th>\n      <td>0.000000</td>\n      <td>0.014990</td>\n      <td>0.0</td>\n      <td>0.0</td>\n      <td>0.0</td>\n      <td>0.0</td>\n      <td>0.0</td>\n      <td>0.0</td>\n      <td>0.0</td>\n      <td>0.0</td>\n      <td>...</td>\n      <td>0.0</td>\n      <td>0.0</td>\n      <td>0.0</td>\n      <td>0.0</td>\n      <td>0.0</td>\n      <td>0.0</td>\n      <td>1.0</td>\n      <td>0.0</td>\n      <td>0.0</td>\n      <td>0.0</td>\n    </tr>\n  </tbody>\n</table>\n<p>35721 rows × 38 columns</p>\n</div>"
     },
     "execution_count": 24,
     "metadata": {},
     "output_type": "execute_result"
    }
   ],
   "source": [
    "df_preprdcessed_MM = pd.concat([MM_X_scale, X_1hot, X_ord], axis = 1)\n",
    "df_preprdcessed_MM\n",
    "#Min Max Scaler + One Hot + Ordinal"
   ],
   "metadata": {
    "collapsed": false,
    "pycharm": {
     "name": "#%%\n"
    }
   }
  },
  {
   "cell_type": "code",
   "execution_count": 49,
   "outputs": [
    {
     "data": {
      "text/plain": "            직원수     회사설립일  산업코드 대분류  상장코드  벤처기업여부  공공기관유형  중견기업보호여부  국가명  \\\n0     -0.071824  3.515949         6     0       0       0         0    0   \n1     -0.123865  1.242839        17     0       0       0         0    0   \n2      0.617721  0.323263        13     0       0       0         0    0   \n3      0.136341  0.574683        17     0       0       0         0    0   \n4     -0.332029  0.450449         6     0       0       0         0    0   \n...         ...       ...       ...   ...     ...     ...       ...  ...   \n35716 -0.351545 -1.136054        17     0       0       0         0    0   \n35717 -0.208432 -1.360659        17     0       0       0         0    0   \n35718 -0.351545 -1.285626        11     0       0       0         0    0   \n35719 -0.351545 -1.472592        16     0       0       0         0    0   \n35720 -0.351545 -1.353770        17     0       1       0         0    0   \n\n       국외투자법인여부  본점지점구분  본점기업코드  설립구분  \n0             0       1       0     0  \n1             0       1       0     0  \n2             0       1       0     0  \n3             0       1       0     0  \n4             0       1       0     0  \n...         ...     ...     ...   ...  \n35716         0       2       1     0  \n35717         0       2       1     0  \n35718         0       2       1     0  \n35719         0       1       0     0  \n35720         0       1       0     0  \n\n[35721 rows x 12 columns]",
      "text/html": "<div>\n<style scoped>\n    .dataframe tbody tr th:only-of-type {\n        vertical-align: middle;\n    }\n\n    .dataframe tbody tr th {\n        vertical-align: top;\n    }\n\n    .dataframe thead th {\n        text-align: right;\n    }\n</style>\n<table border=\"1\" class=\"dataframe\">\n  <thead>\n    <tr style=\"text-align: right;\">\n      <th></th>\n      <th>직원수</th>\n      <th>회사설립일</th>\n      <th>산업코드 대분류</th>\n      <th>상장코드</th>\n      <th>벤처기업여부</th>\n      <th>공공기관유형</th>\n      <th>중견기업보호여부</th>\n      <th>국가명</th>\n      <th>국외투자법인여부</th>\n      <th>본점지점구분</th>\n      <th>본점기업코드</th>\n      <th>설립구분</th>\n    </tr>\n  </thead>\n  <tbody>\n    <tr>\n      <th>0</th>\n      <td>-0.071824</td>\n      <td>3.515949</td>\n      <td>6</td>\n      <td>0</td>\n      <td>0</td>\n      <td>0</td>\n      <td>0</td>\n      <td>0</td>\n      <td>0</td>\n      <td>1</td>\n      <td>0</td>\n      <td>0</td>\n    </tr>\n    <tr>\n      <th>1</th>\n      <td>-0.123865</td>\n      <td>1.242839</td>\n      <td>17</td>\n      <td>0</td>\n      <td>0</td>\n      <td>0</td>\n      <td>0</td>\n      <td>0</td>\n      <td>0</td>\n      <td>1</td>\n      <td>0</td>\n      <td>0</td>\n    </tr>\n    <tr>\n      <th>2</th>\n      <td>0.617721</td>\n      <td>0.323263</td>\n      <td>13</td>\n      <td>0</td>\n      <td>0</td>\n      <td>0</td>\n      <td>0</td>\n      <td>0</td>\n      <td>0</td>\n      <td>1</td>\n      <td>0</td>\n      <td>0</td>\n    </tr>\n    <tr>\n      <th>3</th>\n      <td>0.136341</td>\n      <td>0.574683</td>\n      <td>17</td>\n      <td>0</td>\n      <td>0</td>\n      <td>0</td>\n      <td>0</td>\n      <td>0</td>\n      <td>0</td>\n      <td>1</td>\n      <td>0</td>\n      <td>0</td>\n    </tr>\n    <tr>\n      <th>4</th>\n      <td>-0.332029</td>\n      <td>0.450449</td>\n      <td>6</td>\n      <td>0</td>\n      <td>0</td>\n      <td>0</td>\n      <td>0</td>\n      <td>0</td>\n      <td>0</td>\n      <td>1</td>\n      <td>0</td>\n      <td>0</td>\n    </tr>\n    <tr>\n      <th>...</th>\n      <td>...</td>\n      <td>...</td>\n      <td>...</td>\n      <td>...</td>\n      <td>...</td>\n      <td>...</td>\n      <td>...</td>\n      <td>...</td>\n      <td>...</td>\n      <td>...</td>\n      <td>...</td>\n      <td>...</td>\n    </tr>\n    <tr>\n      <th>35716</th>\n      <td>-0.351545</td>\n      <td>-1.136054</td>\n      <td>17</td>\n      <td>0</td>\n      <td>0</td>\n      <td>0</td>\n      <td>0</td>\n      <td>0</td>\n      <td>0</td>\n      <td>2</td>\n      <td>1</td>\n      <td>0</td>\n    </tr>\n    <tr>\n      <th>35717</th>\n      <td>-0.208432</td>\n      <td>-1.360659</td>\n      <td>17</td>\n      <td>0</td>\n      <td>0</td>\n      <td>0</td>\n      <td>0</td>\n      <td>0</td>\n      <td>0</td>\n      <td>2</td>\n      <td>1</td>\n      <td>0</td>\n    </tr>\n    <tr>\n      <th>35718</th>\n      <td>-0.351545</td>\n      <td>-1.285626</td>\n      <td>11</td>\n      <td>0</td>\n      <td>0</td>\n      <td>0</td>\n      <td>0</td>\n      <td>0</td>\n      <td>0</td>\n      <td>2</td>\n      <td>1</td>\n      <td>0</td>\n    </tr>\n    <tr>\n      <th>35719</th>\n      <td>-0.351545</td>\n      <td>-1.472592</td>\n      <td>16</td>\n      <td>0</td>\n      <td>0</td>\n      <td>0</td>\n      <td>0</td>\n      <td>0</td>\n      <td>0</td>\n      <td>1</td>\n      <td>0</td>\n      <td>0</td>\n    </tr>\n    <tr>\n      <th>35720</th>\n      <td>-0.351545</td>\n      <td>-1.353770</td>\n      <td>17</td>\n      <td>0</td>\n      <td>1</td>\n      <td>0</td>\n      <td>0</td>\n      <td>0</td>\n      <td>0</td>\n      <td>1</td>\n      <td>0</td>\n      <td>0</td>\n    </tr>\n  </tbody>\n</table>\n<p>35721 rows × 12 columns</p>\n</div>"
     },
     "execution_count": 49,
     "metadata": {},
     "output_type": "execute_result"
    }
   ],
   "source": [
    "df_preprdcessed_sta_label = pd.concat([sta_X_scale, cat_all], axis = 1)\n",
    "df_preprdcessed_sta_label\n",
    "\n",
    "# Standard scaler + Label encoding"
   ],
   "metadata": {
    "collapsed": false,
    "pycharm": {
     "name": "#%%\n"
    }
   }
  },
  {
   "cell_type": "code",
   "execution_count": 28,
   "outputs": [],
   "source": [
    "X = df_preprdcessed_sta"
   ],
   "metadata": {
    "collapsed": false,
    "pycharm": {
     "name": "#%%\n"
    }
   }
  },
  {
   "cell_type": "code",
   "execution_count": 30,
   "outputs": [
    {
     "data": {
      "text/plain": "((35721, 38), (35721, 1))"
     },
     "execution_count": 30,
     "metadata": {},
     "output_type": "execute_result"
    }
   ],
   "source": [
    "X.shape, y.shape"
   ],
   "metadata": {
    "collapsed": false,
    "pycharm": {
     "name": "#%%\n"
    }
   }
  },
  {
   "cell_type": "markdown",
   "source": [
    "# Standard Scaler + One Hot + Ordinal Random Forest"
   ],
   "metadata": {
    "collapsed": false
   }
  },
  {
   "cell_type": "code",
   "execution_count": 57,
   "outputs": [],
   "source": [
    "from sklearn.model_selection import train_test_split"
   ],
   "metadata": {
    "collapsed": false,
    "pycharm": {
     "name": "#%%\n"
    }
   }
  },
  {
   "cell_type": "code",
   "execution_count": 56,
   "outputs": [
    {
     "ename": "NameError",
     "evalue": "name 'X' is not defined",
     "output_type": "error",
     "traceback": [
      "\u001B[1;31m---------------------------------------------------------------------------\u001B[0m",
      "\u001B[1;31mNameError\u001B[0m                                 Traceback (most recent call last)",
      "Cell \u001B[1;32mIn [56], line 3\u001B[0m\n\u001B[0;32m      1\u001B[0m \u001B[38;5;28;01mfrom\u001B[39;00m \u001B[38;5;21;01msklearn\u001B[39;00m\u001B[38;5;21;01m.\u001B[39;00m\u001B[38;5;21;01mmodel_selection\u001B[39;00m \u001B[38;5;28;01mimport\u001B[39;00m train_test_split\n\u001B[1;32m----> 3\u001B[0m X_train, X_val, y_train, y_val \u001B[38;5;241m=\u001B[39m train_test_split(\u001B[43mX\u001B[49m, y, test_size\u001B[38;5;241m=\u001B[39m\u001B[38;5;241m0.2\u001B[39m, shuffle\u001B[38;5;241m=\u001B[39m\u001B[38;5;28;01mTrue\u001B[39;00m, stratify\u001B[38;5;241m=\u001B[39my, random_state\u001B[38;5;241m=\u001B[39m\u001B[38;5;241m42\u001B[39m)\n\u001B[0;32m      4\u001B[0m X_train\u001B[38;5;241m.\u001B[39mshape, X_val\u001B[38;5;241m.\u001B[39mshape, y_train\u001B[38;5;241m.\u001B[39mshape, y_val\u001B[38;5;241m.\u001B[39mshape\n",
      "\u001B[1;31mNameError\u001B[0m: name 'X' is not defined"
     ]
    }
   ],
   "source": [
    "X_train, X_val, y_train, y_val = train_test_split(X, y, test_size=0.2, shuffle=True, stratify=y, random_state=42)\n",
    "X_train.shape, X_val.shape, y_train.shape, y_val.shape"
   ],
   "metadata": {
    "collapsed": false,
    "pycharm": {
     "name": "#%%\n"
    }
   }
  },
  {
   "cell_type": "code",
   "execution_count": 34,
   "outputs": [
    {
     "data": {
      "text/plain": "폐업여부\n0       28982\n1        6739\ndtype: int64"
     },
     "execution_count": 34,
     "metadata": {},
     "output_type": "execute_result"
    }
   ],
   "source": [
    "y.value_counts()"
   ],
   "metadata": {
    "collapsed": false,
    "pycharm": {
     "name": "#%%\n"
    }
   }
  },
  {
   "cell_type": "markdown",
   "source": [
    "## 모델 평가 함수"
   ],
   "metadata": {
    "collapsed": false
   }
  },
  {
   "cell_type": "code",
   "execution_count": 68,
   "outputs": [],
   "source": [
    "from sklearn.metrics import precision_score, recall_score\n",
    "from sklearn.metrics import f1_score\n",
    "from sklearn.metrics import confusion_matrix\n",
    "from sklearn.metrics import accuracy_score"
   ],
   "metadata": {
    "collapsed": false,
    "pycharm": {
     "name": "#%%\n"
    }
   }
  },
  {
   "cell_type": "code",
   "execution_count": 69,
   "outputs": [],
   "source": [
    "def model_eval(pred, answer):\n",
    "    print(f'accuracy_score : {accuracy_score(pred,answer)}')\n",
    "    print(f'recall_score : {recall_score(pred,answer)}')\n",
    "    print(f'precision_score : {precision_score(pred,answer)}')\n",
    "    print(f'f1_score : {f1_score(pred,answer)}')\n",
    "    print(f'coufusion_matrix : ')\n",
    "    print(confusion_matrix(pred,answer))"
   ],
   "metadata": {
    "collapsed": false,
    "pycharm": {
     "name": "#%%\n"
    }
   }
  },
  {
   "cell_type": "markdown",
   "source": [
    "## 랜덤포레스트 모델 학습"
   ],
   "metadata": {
    "collapsed": false
   }
  },
  {
   "cell_type": "code",
   "execution_count": 61,
   "outputs": [],
   "source": [
    "from sklearn.ensemble import RandomForestClassifier"
   ],
   "metadata": {
    "collapsed": false,
    "pycharm": {
     "name": "#%%\n"
    }
   }
  },
  {
   "cell_type": "code",
   "execution_count": 56,
   "outputs": [],
   "source": [
    "RFC_sta = RandomForestClassifier(max_depth=10,n_estimators=100)"
   ],
   "metadata": {
    "collapsed": false,
    "pycharm": {
     "name": "#%%\n"
    }
   }
  },
  {
   "cell_type": "code",
   "execution_count": 57,
   "outputs": [
    {
     "name": "stderr",
     "output_type": "stream",
     "text": [
      "C:\\Users\\yoon9\\AppData\\Local\\Temp\\ipykernel_13960\\1307098183.py:1: DataConversionWarning: A column-vector y was passed when a 1d array was expected. Please change the shape of y to (n_samples,), for example using ravel().\n",
      "  RFC_sta.fit(X_train,y_train)\n"
     ]
    },
    {
     "data": {
      "text/plain": "RandomForestClassifier(max_depth=10)"
     },
     "execution_count": 57,
     "metadata": {},
     "output_type": "execute_result"
    }
   ],
   "source": [
    "RFC_sta.fit(X_train,y_train)"
   ],
   "metadata": {
    "collapsed": false,
    "pycharm": {
     "name": "#%%\n"
    }
   }
  },
  {
   "cell_type": "code",
   "execution_count": 58,
   "outputs": [],
   "source": [
    "X_train_predicted = RFC_sta.predict(X_train)"
   ],
   "metadata": {
    "collapsed": false,
    "pycharm": {
     "name": "#%%\n"
    }
   }
  },
  {
   "cell_type": "code",
   "execution_count": 59,
   "outputs": [],
   "source": [
    "X_val_predicted = RFC_sta.predict(X_val)"
   ],
   "metadata": {
    "collapsed": false,
    "pycharm": {
     "name": "#%%\n"
    }
   }
  },
  {
   "cell_type": "code",
   "execution_count": 60,
   "outputs": [
    {
     "name": "stdout",
     "output_type": "stream",
     "text": [
      "accuracy_score : 0.8606872900335947\n",
      "recall_score : 0.8344402277039848\n",
      "precision_score : 0.3262845483212762\n",
      "f1_score : 0.4691292172289638\n",
      "coufusion_matrix : \n",
      "[[22836  3632]\n",
      " [  349  1759]]\n"
     ]
    }
   ],
   "source": [
    "model_eval(X_train_predicted,y_train)"
   ],
   "metadata": {
    "collapsed": false,
    "pycharm": {
     "name": "#%%\n"
    }
   }
  },
  {
   "cell_type": "code",
   "execution_count": 61,
   "outputs": [
    {
     "name": "stdout",
     "output_type": "stream",
     "text": [
      "accuracy_score : 0.8531840447865641\n",
      "recall_score : 0.793713163064833\n",
      "precision_score : 0.2997032640949555\n",
      "f1_score : 0.43511039310716215\n",
      "coufusion_matrix : \n",
      "[[5692  944]\n",
      " [ 105  404]]\n"
     ]
    }
   ],
   "source": [
    "model_eval(X_val_predicted,y_val)"
   ],
   "metadata": {
    "collapsed": false,
    "pycharm": {
     "name": "#%%\n"
    }
   }
  },
  {
   "cell_type": "markdown",
   "source": [
    "# Minmax Scaler + One Hot + Ordinal Random Forest"
   ],
   "metadata": {
    "collapsed": false,
    "pycharm": {
     "name": "#%% md\n"
    }
   }
  },
  {
   "cell_type": "code",
   "execution_count": 50,
   "outputs": [],
   "source": [
    "X_MM = df_preprdcessed_sta_label"
   ],
   "metadata": {
    "collapsed": false,
    "pycharm": {
     "name": "#%%\n"
    }
   }
  },
  {
   "cell_type": "code",
   "execution_count": 51,
   "outputs": [
    {
     "data": {
      "text/plain": "       폐업여부\n0         0\n1         0\n2         0\n3         0\n4         0\n...     ...\n35716     1\n35717     1\n35718     1\n35719     1\n35720     1\n\n[35721 rows x 1 columns]",
      "text/html": "<div>\n<style scoped>\n    .dataframe tbody tr th:only-of-type {\n        vertical-align: middle;\n    }\n\n    .dataframe tbody tr th {\n        vertical-align: top;\n    }\n\n    .dataframe thead th {\n        text-align: right;\n    }\n</style>\n<table border=\"1\" class=\"dataframe\">\n  <thead>\n    <tr style=\"text-align: right;\">\n      <th></th>\n      <th>폐업여부</th>\n    </tr>\n  </thead>\n  <tbody>\n    <tr>\n      <th>0</th>\n      <td>0</td>\n    </tr>\n    <tr>\n      <th>1</th>\n      <td>0</td>\n    </tr>\n    <tr>\n      <th>2</th>\n      <td>0</td>\n    </tr>\n    <tr>\n      <th>3</th>\n      <td>0</td>\n    </tr>\n    <tr>\n      <th>4</th>\n      <td>0</td>\n    </tr>\n    <tr>\n      <th>...</th>\n      <td>...</td>\n    </tr>\n    <tr>\n      <th>35716</th>\n      <td>1</td>\n    </tr>\n    <tr>\n      <th>35717</th>\n      <td>1</td>\n    </tr>\n    <tr>\n      <th>35718</th>\n      <td>1</td>\n    </tr>\n    <tr>\n      <th>35719</th>\n      <td>1</td>\n    </tr>\n    <tr>\n      <th>35720</th>\n      <td>1</td>\n    </tr>\n  </tbody>\n</table>\n<p>35721 rows × 1 columns</p>\n</div>"
     },
     "execution_count": 51,
     "metadata": {},
     "output_type": "execute_result"
    }
   ],
   "source": [
    "y"
   ],
   "metadata": {
    "collapsed": false,
    "pycharm": {
     "name": "#%%\n"
    }
   }
  },
  {
   "cell_type": "code",
   "execution_count": 68,
   "outputs": [
    {
     "data": {
      "text/plain": "((28576, 38), (7145, 38), (28576, 1), (7145, 1))"
     },
     "execution_count": 68,
     "metadata": {},
     "output_type": "execute_result"
    }
   ],
   "source": [
    "X_train_MM, X_val_MM, y_train_MM, y_val_MM = train_test_split(X_MM, y, test_size=0.2, shuffle=True, stratify=y, random_state=42)\n",
    "X_train_MM.shape, X_val_MM.shape, y_train_MM.shape, y_val_MM.shape"
   ],
   "metadata": {
    "collapsed": false,
    "pycharm": {
     "name": "#%%\n"
    }
   }
  },
  {
   "cell_type": "code",
   "execution_count": 75,
   "outputs": [],
   "source": [
    "RFC_MM = RandomForestClassifier()"
   ],
   "metadata": {
    "collapsed": false,
    "pycharm": {
     "name": "#%%\n"
    }
   }
  },
  {
   "cell_type": "code",
   "execution_count": 76,
   "outputs": [
    {
     "name": "stderr",
     "output_type": "stream",
     "text": [
      "C:\\Users\\yoon9\\AppData\\Local\\Temp\\ipykernel_13960\\3340015268.py:1: DataConversionWarning: A column-vector y was passed when a 1d array was expected. Please change the shape of y to (n_samples,), for example using ravel().\n",
      "  RFC_MM.fit(X_train_MM,y_train_MM)\n"
     ]
    },
    {
     "data": {
      "text/plain": "RandomForestClassifier()"
     },
     "execution_count": 76,
     "metadata": {},
     "output_type": "execute_result"
    }
   ],
   "source": [
    "RFC_MM.fit(X_train_MM,y_train_MM)"
   ],
   "metadata": {
    "collapsed": false,
    "pycharm": {
     "name": "#%%\n"
    }
   }
  },
  {
   "cell_type": "code",
   "execution_count": 77,
   "outputs": [],
   "source": [
    "X_train_predicted_MM = RFC_MM.predict(X_train_MM)"
   ],
   "metadata": {
    "collapsed": false,
    "pycharm": {
     "name": "#%%\n"
    }
   }
  },
  {
   "cell_type": "code",
   "execution_count": 78,
   "outputs": [],
   "source": [
    "X_val_predicted_MM = RFC_MM.predict(X_val_MM)"
   ],
   "metadata": {
    "collapsed": false,
    "pycharm": {
     "name": "#%%\n"
    }
   }
  },
  {
   "cell_type": "code",
   "execution_count": 79,
   "outputs": [
    {
     "name": "stdout",
     "output_type": "stream",
     "text": [
      "accuracy_score : 0.9896416573348265\n",
      "recall_score : 0.9875598086124402\n",
      "precision_score : 0.9571508069003896\n",
      "f1_score : 0.9721175584024114\n",
      "coufusion_matrix : \n",
      "[[23120   231]\n",
      " [   65  5160]]\n"
     ]
    }
   ],
   "source": [
    "model_eval(X_train_predicted_MM,y_train_MM)"
   ],
   "metadata": {
    "collapsed": false,
    "pycharm": {
     "name": "#%%\n"
    }
   }
  },
  {
   "cell_type": "code",
   "execution_count": 80,
   "outputs": [
    {
     "name": "stdout",
     "output_type": "stream",
     "text": [
      "accuracy_score : 0.8219734079776068\n",
      "recall_score : 0.5355140186915888\n",
      "precision_score : 0.4250741839762611\n",
      "f1_score : 0.47394540942928043\n",
      "coufusion_matrix : \n",
      "[[5300  775]\n",
      " [ 497  573]]\n"
     ]
    }
   ],
   "source": [
    "model_eval(X_val_predicted_MM,y_val_MM)"
   ],
   "metadata": {
    "collapsed": false,
    "pycharm": {
     "name": "#%%\n"
    }
   }
  },
  {
   "cell_type": "markdown",
   "source": [
    "MinMax 를 사용하자 오버피팅 현상이 발생하였다."
   ],
   "metadata": {
    "collapsed": false
   }
  },
  {
   "cell_type": "markdown",
   "source": [
    "## Standard Scaler + Label encoding Random Forest"
   ],
   "metadata": {
    "collapsed": false
   }
  },
  {
   "cell_type": "code",
   "execution_count": 52,
   "outputs": [],
   "source": [
    "X_sl = df_preprdcessed_sta_label"
   ],
   "metadata": {
    "collapsed": false,
    "pycharm": {
     "name": "#%%\n"
    }
   }
  },
  {
   "cell_type": "code",
   "execution_count": 53,
   "outputs": [
    {
     "data": {
      "text/plain": "       폐업여부\n0         0\n1         0\n2         0\n3         0\n4         0\n...     ...\n35716     1\n35717     1\n35718     1\n35719     1\n35720     1\n\n[35721 rows x 1 columns]",
      "text/html": "<div>\n<style scoped>\n    .dataframe tbody tr th:only-of-type {\n        vertical-align: middle;\n    }\n\n    .dataframe tbody tr th {\n        vertical-align: top;\n    }\n\n    .dataframe thead th {\n        text-align: right;\n    }\n</style>\n<table border=\"1\" class=\"dataframe\">\n  <thead>\n    <tr style=\"text-align: right;\">\n      <th></th>\n      <th>폐업여부</th>\n    </tr>\n  </thead>\n  <tbody>\n    <tr>\n      <th>0</th>\n      <td>0</td>\n    </tr>\n    <tr>\n      <th>1</th>\n      <td>0</td>\n    </tr>\n    <tr>\n      <th>2</th>\n      <td>0</td>\n    </tr>\n    <tr>\n      <th>3</th>\n      <td>0</td>\n    </tr>\n    <tr>\n      <th>4</th>\n      <td>0</td>\n    </tr>\n    <tr>\n      <th>...</th>\n      <td>...</td>\n    </tr>\n    <tr>\n      <th>35716</th>\n      <td>1</td>\n    </tr>\n    <tr>\n      <th>35717</th>\n      <td>1</td>\n    </tr>\n    <tr>\n      <th>35718</th>\n      <td>1</td>\n    </tr>\n    <tr>\n      <th>35719</th>\n      <td>1</td>\n    </tr>\n    <tr>\n      <th>35720</th>\n      <td>1</td>\n    </tr>\n  </tbody>\n</table>\n<p>35721 rows × 1 columns</p>\n</div>"
     },
     "execution_count": 53,
     "metadata": {},
     "output_type": "execute_result"
    }
   ],
   "source": [
    "y"
   ],
   "metadata": {
    "collapsed": false,
    "pycharm": {
     "name": "#%%\n"
    }
   }
  },
  {
   "cell_type": "code",
   "execution_count": 58,
   "outputs": [
    {
     "data": {
      "text/plain": "((28576, 12), (7145, 12), (28576, 1), (7145, 1))"
     },
     "execution_count": 58,
     "metadata": {},
     "output_type": "execute_result"
    }
   ],
   "source": [
    "X_train_sl, X_val_sl, y_train_sl, y_val_sl = train_test_split(X_sl, y, test_size=0.2, shuffle=True, stratify=y, random_state=42)\n",
    "X_train_sl.shape, X_val_sl.shape, y_train_sl.shape, y_val_sl.shape"
   ],
   "metadata": {
    "collapsed": false,
    "pycharm": {
     "name": "#%%\n"
    }
   }
  },
  {
   "cell_type": "code",
   "execution_count": 62,
   "outputs": [],
   "source": [
    "RFC_sl = RandomForestClassifier()"
   ],
   "metadata": {
    "collapsed": false,
    "pycharm": {
     "name": "#%%\n"
    }
   }
  },
  {
   "cell_type": "code",
   "execution_count": 63,
   "outputs": [
    {
     "name": "stderr",
     "output_type": "stream",
     "text": [
      "C:\\Users\\yoon9\\AppData\\Local\\Temp\\ipykernel_17544\\1300462302.py:1: DataConversionWarning: A column-vector y was passed when a 1d array was expected. Please change the shape of y to (n_samples,), for example using ravel().\n",
      "  RFC_sl.fit(X_train_sl,y_train_sl)\n"
     ]
    },
    {
     "data": {
      "text/plain": "RandomForestClassifier()",
      "text/html": "<style>#sk-container-id-1 {color: black;background-color: white;}#sk-container-id-1 pre{padding: 0;}#sk-container-id-1 div.sk-toggleable {background-color: white;}#sk-container-id-1 label.sk-toggleable__label {cursor: pointer;display: block;width: 100%;margin-bottom: 0;padding: 0.3em;box-sizing: border-box;text-align: center;}#sk-container-id-1 label.sk-toggleable__label-arrow:before {content: \"▸\";float: left;margin-right: 0.25em;color: #696969;}#sk-container-id-1 label.sk-toggleable__label-arrow:hover:before {color: black;}#sk-container-id-1 div.sk-estimator:hover label.sk-toggleable__label-arrow:before {color: black;}#sk-container-id-1 div.sk-toggleable__content {max-height: 0;max-width: 0;overflow: hidden;text-align: left;background-color: #f0f8ff;}#sk-container-id-1 div.sk-toggleable__content pre {margin: 0.2em;color: black;border-radius: 0.25em;background-color: #f0f8ff;}#sk-container-id-1 input.sk-toggleable__control:checked~div.sk-toggleable__content {max-height: 200px;max-width: 100%;overflow: auto;}#sk-container-id-1 input.sk-toggleable__control:checked~label.sk-toggleable__label-arrow:before {content: \"▾\";}#sk-container-id-1 div.sk-estimator input.sk-toggleable__control:checked~label.sk-toggleable__label {background-color: #d4ebff;}#sk-container-id-1 div.sk-label input.sk-toggleable__control:checked~label.sk-toggleable__label {background-color: #d4ebff;}#sk-container-id-1 input.sk-hidden--visually {border: 0;clip: rect(1px 1px 1px 1px);clip: rect(1px, 1px, 1px, 1px);height: 1px;margin: -1px;overflow: hidden;padding: 0;position: absolute;width: 1px;}#sk-container-id-1 div.sk-estimator {font-family: monospace;background-color: #f0f8ff;border: 1px dotted black;border-radius: 0.25em;box-sizing: border-box;margin-bottom: 0.5em;}#sk-container-id-1 div.sk-estimator:hover {background-color: #d4ebff;}#sk-container-id-1 div.sk-parallel-item::after {content: \"\";width: 100%;border-bottom: 1px solid gray;flex-grow: 1;}#sk-container-id-1 div.sk-label:hover label.sk-toggleable__label {background-color: #d4ebff;}#sk-container-id-1 div.sk-serial::before {content: \"\";position: absolute;border-left: 1px solid gray;box-sizing: border-box;top: 0;bottom: 0;left: 50%;z-index: 0;}#sk-container-id-1 div.sk-serial {display: flex;flex-direction: column;align-items: center;background-color: white;padding-right: 0.2em;padding-left: 0.2em;position: relative;}#sk-container-id-1 div.sk-item {position: relative;z-index: 1;}#sk-container-id-1 div.sk-parallel {display: flex;align-items: stretch;justify-content: center;background-color: white;position: relative;}#sk-container-id-1 div.sk-item::before, #sk-container-id-1 div.sk-parallel-item::before {content: \"\";position: absolute;border-left: 1px solid gray;box-sizing: border-box;top: 0;bottom: 0;left: 50%;z-index: -1;}#sk-container-id-1 div.sk-parallel-item {display: flex;flex-direction: column;z-index: 1;position: relative;background-color: white;}#sk-container-id-1 div.sk-parallel-item:first-child::after {align-self: flex-end;width: 50%;}#sk-container-id-1 div.sk-parallel-item:last-child::after {align-self: flex-start;width: 50%;}#sk-container-id-1 div.sk-parallel-item:only-child::after {width: 0;}#sk-container-id-1 div.sk-dashed-wrapped {border: 1px dashed gray;margin: 0 0.4em 0.5em 0.4em;box-sizing: border-box;padding-bottom: 0.4em;background-color: white;}#sk-container-id-1 div.sk-label label {font-family: monospace;font-weight: bold;display: inline-block;line-height: 1.2em;}#sk-container-id-1 div.sk-label-container {text-align: center;}#sk-container-id-1 div.sk-container {/* jupyter's `normalize.less` sets `[hidden] { display: none; }` but bootstrap.min.css set `[hidden] { display: none !important; }` so we also need the `!important` here to be able to override the default hidden behavior on the sphinx rendered scikit-learn.org. See: https://github.com/scikit-learn/scikit-learn/issues/21755 */display: inline-block !important;position: relative;}#sk-container-id-1 div.sk-text-repr-fallback {display: none;}</style><div id=\"sk-container-id-1\" class=\"sk-top-container\"><div class=\"sk-text-repr-fallback\"><pre>RandomForestClassifier()</pre><b>In a Jupyter environment, please rerun this cell to show the HTML representation or trust the notebook. <br />On GitHub, the HTML representation is unable to render, please try loading this page with nbviewer.org.</b></div><div class=\"sk-container\" hidden><div class=\"sk-item\"><div class=\"sk-estimator sk-toggleable\"><input class=\"sk-toggleable__control sk-hidden--visually\" id=\"sk-estimator-id-1\" type=\"checkbox\" checked><label for=\"sk-estimator-id-1\" class=\"sk-toggleable__label sk-toggleable__label-arrow\">RandomForestClassifier</label><div class=\"sk-toggleable__content\"><pre>RandomForestClassifier()</pre></div></div></div></div></div>"
     },
     "execution_count": 63,
     "metadata": {},
     "output_type": "execute_result"
    }
   ],
   "source": [
    "RFC_sl.fit(X_train_sl,y_train_sl)"
   ],
   "metadata": {
    "collapsed": false,
    "pycharm": {
     "name": "#%%\n"
    }
   }
  },
  {
   "cell_type": "code",
   "execution_count": 64,
   "outputs": [],
   "source": [
    "X_train_predicted_sl = RFC_sl.predict(X_train_sl)"
   ],
   "metadata": {
    "collapsed": false,
    "pycharm": {
     "name": "#%%\n"
    }
   }
  },
  {
   "cell_type": "code",
   "execution_count": 65,
   "outputs": [],
   "source": [
    "X_val_predicted_sl = RFC_sl.predict(X_val_sl)"
   ],
   "metadata": {
    "collapsed": false,
    "pycharm": {
     "name": "#%%\n"
    }
   }
  },
  {
   "cell_type": "code",
   "execution_count": 70,
   "outputs": [
    {
     "name": "stdout",
     "output_type": "stream",
     "text": [
      "accuracy_score : 0.9895716685330347\n",
      "recall_score : 0.9873684210526316\n",
      "precision_score : 0.956965312557967\n",
      "f1_score : 0.9719291635267521\n",
      "coufusion_matrix : \n",
      "[[23119   232]\n",
      " [   66  5159]]\n"
     ]
    }
   ],
   "source": [
    "model_eval(X_train_predicted_sl,y_train_sl)"
   ],
   "metadata": {
    "collapsed": false,
    "pycharm": {
     "name": "#%%\n"
    }
   }
  },
  {
   "cell_type": "code",
   "execution_count": 71,
   "outputs": [
    {
     "name": "stdout",
     "output_type": "stream",
     "text": [
      "accuracy_score : 0.8229531140657803\n",
      "recall_score : 0.5405669599217986\n",
      "precision_score : 0.4102373887240356\n",
      "f1_score : 0.46646984394770136\n",
      "coufusion_matrix : \n",
      "[[5327  795]\n",
      " [ 470  553]]\n"
     ]
    }
   ],
   "source": [
    "model_eval(X_val_predicted_sl,y_val_sl)"
   ],
   "metadata": {
    "collapsed": false,
    "pycharm": {
     "name": "#%%\n"
    }
   }
  },
  {
   "cell_type": "markdown",
   "source": [
    "# LightGBM"
   ],
   "metadata": {
    "collapsed": false
   }
  },
  {
   "cell_type": "code",
   "execution_count": 1,
   "outputs": [
    {
     "ename": "ModuleNotFoundError",
     "evalue": "No module named 'lightgbm'",
     "output_type": "error",
     "traceback": [
      "\u001B[1;31m---------------------------------------------------------------------------\u001B[0m",
      "\u001B[1;31mModuleNotFoundError\u001B[0m                       Traceback (most recent call last)",
      "Cell \u001B[1;32mIn [1], line 1\u001B[0m\n\u001B[1;32m----> 1\u001B[0m \u001B[38;5;28;01mimport\u001B[39;00m \u001B[38;5;21;01mlightgbm\u001B[39;00m \u001B[38;5;28;01mas\u001B[39;00m \u001B[38;5;21;01mlgb\u001B[39;00m\n",
      "\u001B[1;31mModuleNotFoundError\u001B[0m: No module named 'lightgbm'"
     ]
    }
   ],
   "source": [
    "import lightgbm as lgby"
   ],
   "metadata": {
    "collapsed": false,
    "pycharm": {
     "name": "#%%\n"
    }
   }
  },
  {
   "cell_type": "code",
   "execution_count": 100,
   "outputs": [
    {
     "ename": "NameError",
     "evalue": "name 'lgb' is not defined",
     "output_type": "error",
     "traceback": [
      "\u001B[1;31m---------------------------------------------------------------------------\u001B[0m",
      "\u001B[1;31mNameError\u001B[0m                                 Traceback (most recent call last)",
      "\u001B[1;32m~\\AppData\\Local\\Temp\\ipykernel_13960\\3049151924.py\u001B[0m in \u001B[0;36m<module>\u001B[1;34m\u001B[0m\n\u001B[0;32m      1\u001B[0m \u001B[1;31m# LightGBM 전용 데이터셋 생성\u001B[0m\u001B[1;33m\u001B[0m\u001B[1;33m\u001B[0m\u001B[0m\n\u001B[1;32m----> 2\u001B[1;33m \u001B[0mdtrain\u001B[0m \u001B[1;33m=\u001B[0m \u001B[0mlgb\u001B[0m\u001B[1;33m.\u001B[0m\u001B[0mDataset\u001B[0m\u001B[1;33m(\u001B[0m\u001B[0mX_train\u001B[0m\u001B[1;33m,\u001B[0m \u001B[0my_train\u001B[0m\u001B[1;33m)\u001B[0m \u001B[1;31m# LightGBM 전용 훈련 데이터셋\u001B[0m\u001B[1;33m\u001B[0m\u001B[1;33m\u001B[0m\u001B[0m\n\u001B[0m\u001B[0;32m      3\u001B[0m \u001B[0mdvalid\u001B[0m \u001B[1;33m=\u001B[0m \u001B[0mlgb\u001B[0m\u001B[1;33m.\u001B[0m\u001B[0mDataset\u001B[0m\u001B[1;33m(\u001B[0m\u001B[0mX_valid\u001B[0m\u001B[1;33m,\u001B[0m \u001B[0my_valid\u001B[0m\u001B[1;33m)\u001B[0m \u001B[1;31m# LightGBM 전용 검증 데이터셋\u001B[0m\u001B[1;33m\u001B[0m\u001B[1;33m\u001B[0m\u001B[0m\n\u001B[0;32m      4\u001B[0m \u001B[1;31m# LightGBM 모델 훈련\u001B[0m\u001B[1;33m\u001B[0m\u001B[1;33m\u001B[0m\u001B[0m\n\u001B[0;32m      5\u001B[0m lgb_model = lgb.train(params=max_params, # 최적 하이퍼파라미터 1\n",
      "\u001B[1;31mNameError\u001B[0m: name 'lgb' is not defined"
     ]
    }
   ],
   "source": [
    "# LightGBM 전용 데이터셋 생성\n",
    "dtrain = lgb.Dataset(X_train, y_train) # LightGBM 전용 훈련 데이터셋\n",
    "dvalid = lgb.Dataset(X_valid, y_valid) # LightGBM 전용 검증 데이터셋\n",
    "# LightGBM 모델 훈련\n",
    "lgb_model = lgb.train(params=max_params, # 최적 하이퍼파라미터 1\n",
    "                        train_set=dtrain, # 훈련 데이터셋\n",
    "                        num_boost_round=2500, # 부스팅 반복 횟수\n",
    "                        valid_sets=dvalid, # 성능 평가용 검증 데이터셋\n",
    "                        feval=gini, # 검증용 평가지표\n",
    "                        early_stopping_rounds=300, # 조기종료 조건\n",
    "                        verbose_eval=100) # 100번째마다 점수 출력\n",
    "\n",
    "# 테스트 데이터를 활용해 OOF 예측\n",
    "oof_test_preds += lgb_model.predict(X_test)/folds.n_splits\n",
    "# 모델 성능 평가를 위한 검증 데이터 타깃값 예측\n",
    "oof_val_preds[valid_idx] += lgb_model.predict(X_valid)\n",
    "# 검증 데이터 예측 확률에 대한 정규화 지니계수\n",
    "gini_score = eval_gini(y_valid, oof_val_preds[valid_idx])\n",
    "print(f'폴드 {idx+1} 지니계수 : {gini_score}\\n')"
   ],
   "metadata": {
    "collapsed": false,
    "pycharm": {
     "name": "#%%\n"
    }
   }
  },
  {
   "cell_type": "code",
   "execution_count": null,
   "outputs": [],
   "source": [],
   "metadata": {
    "collapsed": false,
    "pycharm": {
     "name": "#%%\n"
    }
   }
  }
 ],
 "metadata": {
  "kernelspec": {
   "display_name": "Python 3",
   "language": "python",
   "name": "python3"
  },
  "language_info": {
   "codemirror_mode": {
    "name": "ipython",
    "version": 2
   },
   "file_extension": ".py",
   "mimetype": "text/x-python",
   "name": "python",
   "nbconvert_exporter": "python",
   "pygments_lexer": "ipython2",
   "version": "2.7.6"
  }
 },
 "nbformat": 4,
 "nbformat_minor": 0
}